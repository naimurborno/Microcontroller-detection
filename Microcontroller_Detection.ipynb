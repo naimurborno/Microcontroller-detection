{
  "nbformat": 4,
  "nbformat_minor": 0,
  "metadata": {
    "colab": {
      "provenance": [],
      "gpuType": "T4",
      "include_colab_link": true
    },
    "kernelspec": {
      "name": "python3",
      "display_name": "Python 3"
    },
    "language_info": {
      "name": "python"
    },
    "accelerator": "GPU"
  },
  "cells": [
    {
      "cell_type": "markdown",
      "metadata": {
        "id": "view-in-github",
        "colab_type": "text"
      },
      "source": [
        "<a href=\"https://colab.research.google.com/github/naimurborno/Microcontroller-detection/blob/testing/Microcontroller_Detection.ipynb\" target=\"_parent\"><img src=\"https://colab.research.google.com/assets/colab-badge.svg\" alt=\"Open In Colab\"/></a>"
      ]
    },
    {
      "cell_type": "code",
      "execution_count": 1,
      "metadata": {
        "id": "RrWracRC4rkq"
      },
      "outputs": [],
      "source": [
        "from google.colab import files"
      ]
    },
    {
      "cell_type": "code",
      "source": [
        "files.upload()"
      ],
      "metadata": {
        "colab": {
          "base_uri": "https://localhost:8080/",
          "height": 90
        },
        "id": "8h4vrZzd6O5K",
        "outputId": "90f91ddc-fea2-46cb-ef18-793b7d9513b7"
      },
      "execution_count": 2,
      "outputs": [
        {
          "output_type": "display_data",
          "data": {
            "text/plain": [
              "<IPython.core.display.HTML object>"
            ],
            "text/html": [
              "\n",
              "     <input type=\"file\" id=\"files-62102d89-098b-496c-92a4-4c93bfce72a7\" name=\"files[]\" multiple disabled\n",
              "        style=\"border:none\" />\n",
              "     <output id=\"result-62102d89-098b-496c-92a4-4c93bfce72a7\">\n",
              "      Upload widget is only available when the cell has been executed in the\n",
              "      current browser session. Please rerun this cell to enable.\n",
              "      </output>\n",
              "      <script>// Copyright 2017 Google LLC\n",
              "//\n",
              "// Licensed under the Apache License, Version 2.0 (the \"License\");\n",
              "// you may not use this file except in compliance with the License.\n",
              "// You may obtain a copy of the License at\n",
              "//\n",
              "//      http://www.apache.org/licenses/LICENSE-2.0\n",
              "//\n",
              "// Unless required by applicable law or agreed to in writing, software\n",
              "// distributed under the License is distributed on an \"AS IS\" BASIS,\n",
              "// WITHOUT WARRANTIES OR CONDITIONS OF ANY KIND, either express or implied.\n",
              "// See the License for the specific language governing permissions and\n",
              "// limitations under the License.\n",
              "\n",
              "/**\n",
              " * @fileoverview Helpers for google.colab Python module.\n",
              " */\n",
              "(function(scope) {\n",
              "function span(text, styleAttributes = {}) {\n",
              "  const element = document.createElement('span');\n",
              "  element.textContent = text;\n",
              "  for (const key of Object.keys(styleAttributes)) {\n",
              "    element.style[key] = styleAttributes[key];\n",
              "  }\n",
              "  return element;\n",
              "}\n",
              "\n",
              "// Max number of bytes which will be uploaded at a time.\n",
              "const MAX_PAYLOAD_SIZE = 100 * 1024;\n",
              "\n",
              "function _uploadFiles(inputId, outputId) {\n",
              "  const steps = uploadFilesStep(inputId, outputId);\n",
              "  const outputElement = document.getElementById(outputId);\n",
              "  // Cache steps on the outputElement to make it available for the next call\n",
              "  // to uploadFilesContinue from Python.\n",
              "  outputElement.steps = steps;\n",
              "\n",
              "  return _uploadFilesContinue(outputId);\n",
              "}\n",
              "\n",
              "// This is roughly an async generator (not supported in the browser yet),\n",
              "// where there are multiple asynchronous steps and the Python side is going\n",
              "// to poll for completion of each step.\n",
              "// This uses a Promise to block the python side on completion of each step,\n",
              "// then passes the result of the previous step as the input to the next step.\n",
              "function _uploadFilesContinue(outputId) {\n",
              "  const outputElement = document.getElementById(outputId);\n",
              "  const steps = outputElement.steps;\n",
              "\n",
              "  const next = steps.next(outputElement.lastPromiseValue);\n",
              "  return Promise.resolve(next.value.promise).then((value) => {\n",
              "    // Cache the last promise value to make it available to the next\n",
              "    // step of the generator.\n",
              "    outputElement.lastPromiseValue = value;\n",
              "    return next.value.response;\n",
              "  });\n",
              "}\n",
              "\n",
              "/**\n",
              " * Generator function which is called between each async step of the upload\n",
              " * process.\n",
              " * @param {string} inputId Element ID of the input file picker element.\n",
              " * @param {string} outputId Element ID of the output display.\n",
              " * @return {!Iterable<!Object>} Iterable of next steps.\n",
              " */\n",
              "function* uploadFilesStep(inputId, outputId) {\n",
              "  const inputElement = document.getElementById(inputId);\n",
              "  inputElement.disabled = false;\n",
              "\n",
              "  const outputElement = document.getElementById(outputId);\n",
              "  outputElement.innerHTML = '';\n",
              "\n",
              "  const pickedPromise = new Promise((resolve) => {\n",
              "    inputElement.addEventListener('change', (e) => {\n",
              "      resolve(e.target.files);\n",
              "    });\n",
              "  });\n",
              "\n",
              "  const cancel = document.createElement('button');\n",
              "  inputElement.parentElement.appendChild(cancel);\n",
              "  cancel.textContent = 'Cancel upload';\n",
              "  const cancelPromise = new Promise((resolve) => {\n",
              "    cancel.onclick = () => {\n",
              "      resolve(null);\n",
              "    };\n",
              "  });\n",
              "\n",
              "  // Wait for the user to pick the files.\n",
              "  const files = yield {\n",
              "    promise: Promise.race([pickedPromise, cancelPromise]),\n",
              "    response: {\n",
              "      action: 'starting',\n",
              "    }\n",
              "  };\n",
              "\n",
              "  cancel.remove();\n",
              "\n",
              "  // Disable the input element since further picks are not allowed.\n",
              "  inputElement.disabled = true;\n",
              "\n",
              "  if (!files) {\n",
              "    return {\n",
              "      response: {\n",
              "        action: 'complete',\n",
              "      }\n",
              "    };\n",
              "  }\n",
              "\n",
              "  for (const file of files) {\n",
              "    const li = document.createElement('li');\n",
              "    li.append(span(file.name, {fontWeight: 'bold'}));\n",
              "    li.append(span(\n",
              "        `(${file.type || 'n/a'}) - ${file.size} bytes, ` +\n",
              "        `last modified: ${\n",
              "            file.lastModifiedDate ? file.lastModifiedDate.toLocaleDateString() :\n",
              "                                    'n/a'} - `));\n",
              "    const percent = span('0% done');\n",
              "    li.appendChild(percent);\n",
              "\n",
              "    outputElement.appendChild(li);\n",
              "\n",
              "    const fileDataPromise = new Promise((resolve) => {\n",
              "      const reader = new FileReader();\n",
              "      reader.onload = (e) => {\n",
              "        resolve(e.target.result);\n",
              "      };\n",
              "      reader.readAsArrayBuffer(file);\n",
              "    });\n",
              "    // Wait for the data to be ready.\n",
              "    let fileData = yield {\n",
              "      promise: fileDataPromise,\n",
              "      response: {\n",
              "        action: 'continue',\n",
              "      }\n",
              "    };\n",
              "\n",
              "    // Use a chunked sending to avoid message size limits. See b/62115660.\n",
              "    let position = 0;\n",
              "    do {\n",
              "      const length = Math.min(fileData.byteLength - position, MAX_PAYLOAD_SIZE);\n",
              "      const chunk = new Uint8Array(fileData, position, length);\n",
              "      position += length;\n",
              "\n",
              "      const base64 = btoa(String.fromCharCode.apply(null, chunk));\n",
              "      yield {\n",
              "        response: {\n",
              "          action: 'append',\n",
              "          file: file.name,\n",
              "          data: base64,\n",
              "        },\n",
              "      };\n",
              "\n",
              "      let percentDone = fileData.byteLength === 0 ?\n",
              "          100 :\n",
              "          Math.round((position / fileData.byteLength) * 100);\n",
              "      percent.textContent = `${percentDone}% done`;\n",
              "\n",
              "    } while (position < fileData.byteLength);\n",
              "  }\n",
              "\n",
              "  // All done.\n",
              "  yield {\n",
              "    response: {\n",
              "      action: 'complete',\n",
              "    }\n",
              "  };\n",
              "}\n",
              "\n",
              "scope.google = scope.google || {};\n",
              "scope.google.colab = scope.google.colab || {};\n",
              "scope.google.colab._files = {\n",
              "  _uploadFiles,\n",
              "  _uploadFilesContinue,\n",
              "};\n",
              "})(self);\n",
              "</script> "
            ]
          },
          "metadata": {}
        },
        {
          "output_type": "stream",
          "name": "stdout",
          "text": [
            "Saving kaggle.json to kaggle.json\n"
          ]
        },
        {
          "output_type": "execute_result",
          "data": {
            "text/plain": [
              "{'kaggle.json': b'{\"username\":\"naimurborno\",\"key\":\"23e5db83d73f578cfeb8e9b31f47105c\"}'}"
            ]
          },
          "metadata": {},
          "execution_count": 2
        }
      ]
    },
    {
      "cell_type": "code",
      "source": [
        "!mkdir -p ~/.kaggle\n",
        "!cp kaggle.json ~/.kaggle/\n",
        "!chmod 600 ~/.kaggle/kaggle.json"
      ],
      "metadata": {
        "id": "k2ddLlut6QqR"
      },
      "execution_count": 3,
      "outputs": []
    },
    {
      "cell_type": "code",
      "source": [
        "!pip install kaggle"
      ],
      "metadata": {
        "colab": {
          "base_uri": "https://localhost:8080/"
        },
        "id": "I6Y3jX_g6jV6",
        "outputId": "eae28224-0c2f-453a-ce23-f17fb90f8cdf"
      },
      "execution_count": 4,
      "outputs": [
        {
          "output_type": "stream",
          "name": "stdout",
          "text": [
            "Requirement already satisfied: kaggle in /usr/local/lib/python3.10/dist-packages (1.5.16)\n",
            "Requirement already satisfied: six>=1.10 in /usr/local/lib/python3.10/dist-packages (from kaggle) (1.16.0)\n",
            "Requirement already satisfied: certifi in /usr/local/lib/python3.10/dist-packages (from kaggle) (2024.2.2)\n",
            "Requirement already satisfied: python-dateutil in /usr/local/lib/python3.10/dist-packages (from kaggle) (2.8.2)\n",
            "Requirement already satisfied: requests in /usr/local/lib/python3.10/dist-packages (from kaggle) (2.31.0)\n",
            "Requirement already satisfied: tqdm in /usr/local/lib/python3.10/dist-packages (from kaggle) (4.66.2)\n",
            "Requirement already satisfied: python-slugify in /usr/local/lib/python3.10/dist-packages (from kaggle) (8.0.4)\n",
            "Requirement already satisfied: urllib3 in /usr/local/lib/python3.10/dist-packages (from kaggle) (2.0.7)\n",
            "Requirement already satisfied: bleach in /usr/local/lib/python3.10/dist-packages (from kaggle) (6.1.0)\n",
            "Requirement already satisfied: webencodings in /usr/local/lib/python3.10/dist-packages (from bleach->kaggle) (0.5.1)\n",
            "Requirement already satisfied: text-unidecode>=1.3 in /usr/local/lib/python3.10/dist-packages (from python-slugify->kaggle) (1.3)\n",
            "Requirement already satisfied: charset-normalizer<4,>=2 in /usr/local/lib/python3.10/dist-packages (from requests->kaggle) (3.3.2)\n",
            "Requirement already satisfied: idna<4,>=2.5 in /usr/local/lib/python3.10/dist-packages (from requests->kaggle) (3.6)\n"
          ]
        }
      ]
    },
    {
      "cell_type": "code",
      "source": [
        "!kaggle datasets download -d tannergi/microcontroller-detection"
      ],
      "metadata": {
        "colab": {
          "base_uri": "https://localhost:8080/"
        },
        "id": "DbBD9jBW6nVZ",
        "outputId": "e8a6a4bb-b963-428d-d6e6-d4c3e9a68e44"
      },
      "execution_count": 5,
      "outputs": [
        {
          "output_type": "stream",
          "name": "stdout",
          "text": [
            "Downloading microcontroller-detection.zip to /content\n",
            "\r  0% 0.00/8.34M [00:00<?, ?B/s]\r 96% 8.00M/8.34M [00:00<00:00, 83.5MB/s]\n",
            "\r100% 8.34M/8.34M [00:00<00:00, 86.0MB/s]\n"
          ]
        }
      ]
    },
    {
      "cell_type": "code",
      "source": [
        "import os\n",
        "import pandas as pd\n",
        "import numpy as np\n",
        "import seaborn as sns\n",
        "import matplotlib.pyplot as plt\n",
        "import tensorflow as tf\n",
        "import tensorflow_hub\n",
        "import cv2"
      ],
      "metadata": {
        "id": "bJWnwQ1R7RPb"
      },
      "execution_count": 6,
      "outputs": []
    },
    {
      "cell_type": "code",
      "source": [
        "import zipfile\n",
        "with zipfile.ZipFile(\"/content/microcontroller-detection.zip\") as z:\n",
        "  z.extractall()\n",
        ""
      ],
      "metadata": {
        "id": "HegeZNrm6snh"
      },
      "execution_count": 7,
      "outputs": []
    },
    {
      "cell_type": "code",
      "source": [
        "dataset_path=\"/content/Microcontroller Detection\""
      ],
      "metadata": {
        "id": "nRJFAG8O7CTq"
      },
      "execution_count": 8,
      "outputs": []
    },
    {
      "cell_type": "code",
      "source": [
        "train_dataset=os.path.join(dataset_path,\"train\")\n",
        "test_dataset=os.path.join(dataset_path,\"test\")\n",
        "train_labels=os.path.join(dataset_path,\"train_labels.csv\")\n",
        "test_labels=os.path.join(dataset_path,\"test_labels.csv\")"
      ],
      "metadata": {
        "id": "QLEdsp657LmB"
      },
      "execution_count": 9,
      "outputs": []
    },
    {
      "cell_type": "code",
      "source": [
        "train_labels_dataset=pd.read_csv(train_labels)"
      ],
      "metadata": {
        "id": "fl4qYPod7S-h"
      },
      "execution_count": 10,
      "outputs": []
    },
    {
      "cell_type": "code",
      "source": [
        "import tensorflow\n",
        "from tensorflow import keras"
      ],
      "metadata": {
        "id": "ozoWmjG97yUq"
      },
      "execution_count": 11,
      "outputs": []
    },
    {
      "cell_type": "code",
      "source": [
        "model=tensorflow_hub.KerasLayer(\"https://www.kaggle.com/models/google/mobilenet-v2/frameworks/TensorFlow2/variations/035-128-classification/versions/2\",input_shape=(128,128,3))"
      ],
      "metadata": {
        "id": "q0oQchbv-Ynl"
      },
      "execution_count": 12,
      "outputs": []
    },
    {
      "cell_type": "code",
      "source": [
        "input=tf.keras.layers.Input(shape=(128,128,3))\n",
        "x=model(input)\n",
        "x=tf.keras.layers.Flatten()(x)\n",
        "x=tf.keras.layers.Dense(100,activation='relu')(x)\n",
        "x=tf.keras.layers.Dense(128,activation='relu')(x)\n",
        "cls=tf.keras.layers.Dense(4,activation='softmax',name=\"classification\")(x)\n",
        "x=tf.keras.layers.Dense(100,activation='relu')(x)\n",
        "cor=tf.keras.layers.Dense(4,name='Regression')(x)\n",
        "model1=tf.keras.Model(inputs=input,outputs=[cls,cor])"
      ],
      "metadata": {
        "id": "D8Mog0TB-2Ut"
      },
      "execution_count": 14,
      "outputs": []
    },
    {
      "cell_type": "code",
      "source": [
        "tf.keras.utils.plot_model(model1)"
      ],
      "metadata": {
        "colab": {
          "base_uri": "https://localhost:8080/",
          "height": 661
        },
        "id": "V2VJJ4sGVzM6",
        "outputId": "b22cded6-6a60-4de4-f7c0-b90436138280"
      },
      "execution_count": 15,
      "outputs": [
        {
          "output_type": "execute_result",
          "data": {
            "image/png": "[encoded data removed]",
            "text/plain": [
              "<IPython.core.display.Image object>"
            ]
          },
          "metadata": {},
          "execution_count": 15
        }
      ]
    },
    {
      "cell_type": "code",
      "source": [
        "model1.summary()"
      ],
      "metadata": {
        "colab": {
          "base_uri": "https://localhost:8080/"
        },
        "id": "5bueVKr4_H4c",
        "outputId": "5755f509-6289-49f2-f81c-ca26b4bfdea1"
      },
      "execution_count": 16,
      "outputs": [
        {
          "output_type": "stream",
          "name": "stdout",
          "text": [
            "Model: \"model_1\"\n",
            "__________________________________________________________________________________________________\n",
            " Layer (type)                Output Shape                 Param #   Connected to                  \n",
            "==================================================================================================\n",
            " input_2 (InputLayer)        [(None, 128, 128, 3)]        0         []                            \n",
            "                                                                                                  \n",
            " keras_layer (KerasLayer)    (None, 1001)                 1692489   ['input_2[0][0]']             \n",
            "                                                                                                  \n",
            " flatten_1 (Flatten)         (None, 1001)                 0         ['keras_layer[1][0]']         \n",
            "                                                                                                  \n",
            " dense_3 (Dense)             (None, 100)                  100200    ['flatten_1[0][0]']           \n",
            "                                                                                                  \n",
            " dense_4 (Dense)             (None, 128)                  12928     ['dense_3[0][0]']             \n",
            "                                                                                                  \n",
            " dense_5 (Dense)             (None, 100)                  12900     ['dense_4[0][0]']             \n",
            "                                                                                                  \n",
            " classification (Dense)      (None, 4)                    516       ['dense_4[0][0]']             \n",
            "                                                                                                  \n",
            " Regression (Dense)          (None, 4)                    404       ['dense_5[0][0]']             \n",
            "                                                                                                  \n",
            "==================================================================================================\n",
            "Total params: 1819437 (6.94 MB)\n",
            "Trainable params: 126948 (495.89 KB)\n",
            "Non-trainable params: 1692489 (6.46 MB)\n",
            "__________________________________________________________________________________________________\n"
          ]
        }
      ]
    },
    {
      "cell_type": "code",
      "source": [
        "train_labels_dataset['class'].unique()"
      ],
      "metadata": {
        "colab": {
          "base_uri": "https://localhost:8080/"
        },
        "id": "8w2lZVQxAJ0e",
        "outputId": "c6306c41-299f-4cef-cbda-8c60b69029a0"
      },
      "execution_count": 17,
      "outputs": [
        {
          "output_type": "execute_result",
          "data": {
            "text/plain": [
              "array(['Arduino_Nano', 'Heltec_ESP32_Lora', 'ESP8266', 'Raspberry_Pi_3'],\n",
              "      dtype=object)"
            ]
          },
          "metadata": {},
          "execution_count": 17
        }
      ]
    },
    {
      "cell_type": "code",
      "source": [
        "class_dict={'Arduino_Nano':0, 'Heltec_ESP32_Lora':1, 'ESP8266':2, 'Raspberry_Pi_3':3}\n",
        "reverse_class_dict={value:key for key,value in class_dict.items()}"
      ],
      "metadata": {
        "id": "6r9YIyuIA71y"
      },
      "execution_count": 18,
      "outputs": []
    },
    {
      "cell_type": "code",
      "source": [
        "reverse_class_dict"
      ],
      "metadata": {
        "colab": {
          "base_uri": "https://localhost:8080/"
        },
        "id": "fSnPJmUpSuGD",
        "outputId": "f974f406-af5c-4da9-c7b9-fac494756192"
      },
      "execution_count": 19,
      "outputs": [
        {
          "output_type": "execute_result",
          "data": {
            "text/plain": [
              "{0: 'Arduino_Nano', 1: 'Heltec_ESP32_Lora', 2: 'ESP8266', 3: 'Raspberry_Pi_3'}"
            ]
          },
          "metadata": {},
          "execution_count": 19
        }
      ]
    },
    {
      "cell_type": "code",
      "source": [
        "class_dict[\"Arduino_Nano\"]"
      ],
      "metadata": {
        "colab": {
          "base_uri": "https://localhost:8080/"
        },
        "id": "HkNbg9RuBdhg",
        "outputId": "34f3ebda-9109-4af5-e12f-6295859da615"
      },
      "execution_count": 20,
      "outputs": [
        {
          "output_type": "execute_result",
          "data": {
            "text/plain": [
              "0"
            ]
          },
          "metadata": {},
          "execution_count": 20
        }
      ]
    },
    {
      "cell_type": "code",
      "source": [
        "train_labels_dataset.loc[train_labels_dataset['class']==\"Arduino_Nano\",'class']=0"
      ],
      "metadata": {
        "id": "nYEz67tiBgZi"
      },
      "execution_count": 21,
      "outputs": []
    },
    {
      "cell_type": "code",
      "source": [
        "train_labels_dataset.loc[train_labels_dataset['class']=='Heltec_ESP32_Lora','class']=1"
      ],
      "metadata": {
        "id": "jN_YVjjsBsXe"
      },
      "execution_count": 22,
      "outputs": []
    },
    {
      "cell_type": "code",
      "source": [
        "train_labels_dataset.loc[train_labels_dataset['class']=='ESP8266','class']=2"
      ],
      "metadata": {
        "id": "Px1X8NpwB596"
      },
      "execution_count": 23,
      "outputs": []
    },
    {
      "cell_type": "code",
      "source": [
        "train_labels_dataset.loc[train_labels_dataset['class']=='Raspberry_Pi_3','class']=3"
      ],
      "metadata": {
        "id": "tfxZGtGRCDy5"
      },
      "execution_count": 24,
      "outputs": []
    },
    {
      "cell_type": "code",
      "source": [
        "128/600"
      ],
      "metadata": {
        "colab": {
          "base_uri": "https://localhost:8080/"
        },
        "id": "TZUOWwxGOJCL",
        "outputId": "fce0471a-2abc-4c28-8a49-5343fe88939a"
      },
      "execution_count": null,
      "outputs": [
        {
          "output_type": "execute_result",
          "data": {
            "text/plain": [
              "0.21333333333333335"
            ]
          },
          "metadata": {},
          "execution_count": 67
        }
      ]
    },
    {
      "cell_type": "code",
      "source": [
        "train_labels_dataset['xmin']=train_labels_dataset['xmin']*.16"
      ],
      "metadata": {
        "id": "XR6u8oQH4yO-"
      },
      "execution_count": 25,
      "outputs": []
    },
    {
      "cell_type": "code",
      "source": [
        "train_labels_dataset['ymin']=train_labels_dataset['ymin']*.21\n",
        "train_labels_dataset['xmax']=train_labels_dataset['xmax']*.16\n",
        "train_labels_dataset['ymax']=train_labels_dataset['ymax']*.21"
      ],
      "metadata": {
        "id": "oym7rTXjDCa6"
      },
      "execution_count": 26,
      "outputs": []
    },
    {
      "cell_type": "code",
      "source": [
        "train_labels_dataset['xmin']=train_labels_dataset['xmin'].astype(np.int64)\n",
        "train_labels_dataset['ymin']=train_labels_dataset['ymin'].astype(np.int64)\n",
        "train_labels_dataset['xmax']=train_labels_dataset['xmax'].astype(np.int64)\n",
        "train_labels_dataset['ymax']=train_labels_dataset['ymax'].astype(np.int64)"
      ],
      "metadata": {
        "id": "N6iWvQVHROQ-"
      },
      "execution_count": 27,
      "outputs": []
    },
    {
      "cell_type": "code",
      "source": [
        "train_labels_dataset.head()"
      ],
      "metadata": {
        "colab": {
          "base_uri": "https://localhost:8080/",
          "height": 206
        },
        "id": "TDvGp7dFDFOj",
        "outputId": "a9d3c959-5465-4d60-9176-9a2bba68ff3b"
      },
      "execution_count": 28,
      "outputs": [
        {
          "output_type": "execute_result",
          "data": {
            "text/plain": [
              "                  filename  width  height class  xmin  ymin  xmax  ymax\n",
              "0  IMG_20181228_101826.jpg    800     600     0    50    55    88    71\n",
              "1  IMG_20181228_101855.jpg    800     600     1    63    51    94    80\n",
              "2  IMG_20181228_101903.jpg    800     600     2    46    50    82    81\n",
              "3  IMG_20181228_101915.jpg    800     600     3    31    42   107   111\n",
              "4  IMG_20181228_102013.jpg    800     600     0    61    70    94    93"
            ],
            "text/html": [
              "\n",
              "  <div id=\"df-8d924a25-0ed2-4ee9-995b-157f50e47ed2\" class=\"colab-df-container\">\n",
              "    <div>\n",
              "<style scoped>\n",
              "    .dataframe tbody tr th:only-of-type {\n",
              "        vertical-align: middle;\n",
              "    }\n",
              "\n",
              "    .dataframe tbody tr th {\n",
              "        vertical-align: top;\n",
              "    }\n",
              "\n",
              "    .dataframe thead th {\n",
              "        text-align: right;\n",
              "    }\n",
              "</style>\n",
              "<table border=\"1\" class=\"dataframe\">\n",
              "  <thead>\n",
              "    <tr style=\"text-align: right;\">\n",
              "      <th></th>\n",
              "      <th>filename</th>\n",
              "      <th>width</th>\n",
              "      <th>height</th>\n",
              "      <th>class</th>\n",
              "      <th>xmin</th>\n",
              "      <th>ymin</th>\n",
              "      <th>xmax</th>\n",
              "      <th>ymax</th>\n",
              "    </tr>\n",
              "  </thead>\n",
              "  <tbody>\n",
              "    <tr>\n",
              "      <th>0</th>\n",
              "      <td>IMG_20181228_101826.jpg</td>\n",
              "      <td>800</td>\n",
              "      <td>600</td>\n",
              "      <td>0</td>\n",
              "      <td>50</td>\n",
              "      <td>55</td>\n",
              "      <td>88</td>\n",
              "      <td>71</td>\n",
              "    </tr>\n",
              "    <tr>\n",
              "      <th>1</th>\n",
              "      <td>IMG_20181228_101855.jpg</td>\n",
              "      <td>800</td>\n",
              "      <td>600</td>\n",
              "      <td>1</td>\n",
              "      <td>63</td>\n",
              "      <td>51</td>\n",
              "      <td>94</td>\n",
              "      <td>80</td>\n",
              "    </tr>\n",
              "    <tr>\n",
              "      <th>2</th>\n",
              "      <td>IMG_20181228_101903.jpg</td>\n",
              "      <td>800</td>\n",
              "      <td>600</td>\n",
              "      <td>2</td>\n",
              "      <td>46</td>\n",
              "      <td>50</td>\n",
              "      <td>82</td>\n",
              "      <td>81</td>\n",
              "    </tr>\n",
              "    <tr>\n",
              "      <th>3</th>\n",
              "      <td>IMG_20181228_101915.jpg</td>\n",
              "      <td>800</td>\n",
              "      <td>600</td>\n",
              "      <td>3</td>\n",
              "      <td>31</td>\n",
              "      <td>42</td>\n",
              "      <td>107</td>\n",
              "      <td>111</td>\n",
              "    </tr>\n",
              "    <tr>\n",
              "      <th>4</th>\n",
              "      <td>IMG_20181228_102013.jpg</td>\n",
              "      <td>800</td>\n",
              "      <td>600</td>\n",
              "      <td>0</td>\n",
              "      <td>61</td>\n",
              "      <td>70</td>\n",
              "      <td>94</td>\n",
              "      <td>93</td>\n",
              "    </tr>\n",
              "  </tbody>\n",
              "</table>\n",
              "</div>\n",
              "    <div class=\"colab-df-buttons\">\n",
              "\n",
              "  <div class=\"colab-df-container\">\n",
              "    <button class=\"colab-df-convert\" onclick=\"convertToInteractive('df-8d924a25-0ed2-4ee9-995b-157f50e47ed2')\"\n",
              "            title=\"Convert this dataframe to an interactive table.\"\n",
              "            style=\"display:none;\">\n",
              "\n",
              "  <svg xmlns=\"http://www.w3.org/2000/svg\" height=\"24px\" viewBox=\"0 -960 960 960\">\n",
              "    <path d=\"M120-120v-720h720v720H120Zm60-500h600v-160H180v160Zm220 220h160v-160H400v160Zm0 220h160v-160H400v160ZM180-400h160v-160H180v160Zm440 0h160v-160H620v160ZM180-180h160v-160H180v160Zm440 0h160v-160H620v160Z\"/>\n",
              "  </svg>\n",
              "    </button>\n",
              "\n",
              "  <style>\n",
              "    .colab-df-container {\n",
              "      display:flex;\n",
              "      gap: 12px;\n",
              "    }\n",
              "\n",
              "    .colab-df-convert {\n",
              "      background-color: #E8F0FE;\n",
              "      border: none;\n",
              "      border-radius: 50%;\n",
              "      cursor: pointer;\n",
              "      display: none;\n",
              "      fill: #1967D2;\n",
              "      height: 32px;\n",
              "      padding: 0 0 0 0;\n",
              "      width: 32px;\n",
              "    }\n",
              "\n",
              "    .colab-df-convert:hover {\n",
              "      background-color: #E2EBFA;\n",
              "      box-shadow: 0px 1px 2px rgba(60, 64, 67, 0.3), 0px 1px 3px 1px rgba(60, 64, 67, 0.15);\n",
              "      fill: #174EA6;\n",
              "    }\n",
              "\n",
              "    .colab-df-buttons div {\n",
              "      margin-bottom: 4px;\n",
              "    }\n",
              "\n",
              "    [theme=dark] .colab-df-convert {\n",
              "      background-color: #3B4455;\n",
              "      fill: #D2E3FC;\n",
              "    }\n",
              "\n",
              "    [theme=dark] .colab-df-convert:hover {\n",
              "      background-color: #434B5C;\n",
              "      box-shadow: 0px 1px 3px 1px rgba(0, 0, 0, 0.15);\n",
              "      filter: drop-shadow(0px 1px 2px rgba(0, 0, 0, 0.3));\n",
              "      fill: #FFFFFF;\n",
              "    }\n",
              "  </style>\n",
              "\n",
              "    <script>\n",
              "      const buttonEl =\n",
              "        document.querySelector('#df-8d924a25-0ed2-4ee9-995b-157f50e47ed2 button.colab-df-convert');\n",
              "      buttonEl.style.display =\n",
              "        google.colab.kernel.accessAllowed ? 'block' : 'none';\n",
              "\n",
              "      async function convertToInteractive(key) {\n",
              "        const element = document.querySelector('#df-8d924a25-0ed2-4ee9-995b-157f50e47ed2');\n",
              "        const dataTable =\n",
              "          await google.colab.kernel.invokeFunction('convertToInteractive',\n",
              "                                                    [key], {});\n",
              "        if (!dataTable) return;\n",
              "\n",
              "        const docLinkHtml = 'Like what you see? Visit the ' +\n",
              "          '<a target=\"_blank\" href=https://colab.research.google.com/notebooks/data_table.ipynb>data table notebook</a>'\n",
              "          + ' to learn more about interactive tables.';\n",
              "        element.innerHTML = '';\n",
              "        dataTable['output_type'] = 'display_data';\n",
              "        await google.colab.output.renderOutput(dataTable, element);\n",
              "        const docLink = document.createElement('div');\n",
              "        docLink.innerHTML = docLinkHtml;\n",
              "        element.appendChild(docLink);\n",
              "      }\n",
              "    </script>\n",
              "  </div>\n",
              "\n",
              "\n",
              "<div id=\"df-06739a9b-027e-44df-bfe7-4dce0fc7ce98\">\n",
              "  <button class=\"colab-df-quickchart\" onclick=\"quickchart('df-06739a9b-027e-44df-bfe7-4dce0fc7ce98')\"\n",
              "            title=\"Suggest charts\"\n",
              "            style=\"display:none;\">\n",
              "\n",
              "<svg xmlns=\"http://www.w3.org/2000/svg\" height=\"24px\"viewBox=\"0 0 24 24\"\n",
              "     width=\"24px\">\n",
              "    <g>\n",
              "        <path d=\"M19 3H5c-1.1 0-2 .9-2 2v14c0 1.1.9 2 2 2h14c1.1 0 2-.9 2-2V5c0-1.1-.9-2-2-2zM9 17H7v-7h2v7zm4 0h-2V7h2v10zm4 0h-2v-4h2v4z\"/>\n",
              "    </g>\n",
              "</svg>\n",
              "  </button>\n",
              "\n",
              "<style>\n",
              "  .colab-df-quickchart {\n",
              "      --bg-color: #E8F0FE;\n",
              "      --fill-color: #1967D2;\n",
              "      --hover-bg-color: #E2EBFA;\n",
              "      --hover-fill-color: #174EA6;\n",
              "      --disabled-fill-color: #AAA;\n",
              "      --disabled-bg-color: #DDD;\n",
              "  }\n",
              "\n",
              "  [theme=dark] .colab-df-quickchart {\n",
              "      --bg-color: #3B4455;\n",
              "      --fill-color: #D2E3FC;\n",
              "      --hover-bg-color: #434B5C;\n",
              "      --hover-fill-color: #FFFFFF;\n",
              "      --disabled-bg-color: #3B4455;\n",
              "      --disabled-fill-color: #666;\n",
              "  }\n",
              "\n",
              "  .colab-df-quickchart {\n",
              "    background-color: var(--bg-color);\n",
              "    border: none;\n",
              "    border-radius: 50%;\n",
              "    cursor: pointer;\n",
              "    display: none;\n",
              "    fill: var(--fill-color);\n",
              "    height: 32px;\n",
              "    padding: 0;\n",
              "    width: 32px;\n",
              "  }\n",
              "\n",
              "  .colab-df-quickchart:hover {\n",
              "    background-color: var(--hover-bg-color);\n",
              "    box-shadow: 0 1px 2px rgba(60, 64, 67, 0.3), 0 1px 3px 1px rgba(60, 64, 67, 0.15);\n",
              "    fill: var(--button-hover-fill-color);\n",
              "  }\n",
              "\n",
              "  .colab-df-quickchart-complete:disabled,\n",
              "  .colab-df-quickchart-complete:disabled:hover {\n",
              "    background-color: var(--disabled-bg-color);\n",
              "    fill: var(--disabled-fill-color);\n",
              "    box-shadow: none;\n",
              "  }\n",
              "\n",
              "  .colab-df-spinner {\n",
              "    border: 2px solid var(--fill-color);\n",
              "    border-color: transparent;\n",
              "    border-bottom-color: var(--fill-color);\n",
              "    animation:\n",
              "      spin 1s steps(1) infinite;\n",
              "  }\n",
              "\n",
              "  @keyframes spin {\n",
              "    0% {\n",
              "      border-color: transparent;\n",
              "      border-bottom-color: var(--fill-color);\n",
              "      border-left-color: var(--fill-color);\n",
              "    }\n",
              "    20% {\n",
              "      border-color: transparent;\n",
              "      border-left-color: var(--fill-color);\n",
              "      border-top-color: var(--fill-color);\n",
              "    }\n",
              "    30% {\n",
              "      border-color: transparent;\n",
              "      border-left-color: var(--fill-color);\n",
              "      border-top-color: var(--fill-color);\n",
              "      border-right-color: var(--fill-color);\n",
              "    }\n",
              "    40% {\n",
              "      border-color: transparent;\n",
              "      border-right-color: var(--fill-color);\n",
              "      border-top-color: var(--fill-color);\n",
              "    }\n",
              "    60% {\n",
              "      border-color: transparent;\n",
              "      border-right-color: var(--fill-color);\n",
              "    }\n",
              "    80% {\n",
              "      border-color: transparent;\n",
              "      border-right-color: var(--fill-color);\n",
              "      border-bottom-color: var(--fill-color);\n",
              "    }\n",
              "    90% {\n",
              "      border-color: transparent;\n",
              "      border-bottom-color: var(--fill-color);\n",
              "    }\n",
              "  }\n",
              "</style>\n",
              "\n",
              "  <script>\n",
              "    async function quickchart(key) {\n",
              "      const quickchartButtonEl =\n",
              "        document.querySelector('#' + key + ' button');\n",
              "      quickchartButtonEl.disabled = true;  // To prevent multiple clicks.\n",
              "      quickchartButtonEl.classList.add('colab-df-spinner');\n",
              "      try {\n",
              "        const charts = await google.colab.kernel.invokeFunction(\n",
              "            'suggestCharts', [key], {});\n",
              "      } catch (error) {\n",
              "        console.error('Error during call to suggestCharts:', error);\n",
              "      }\n",
              "      quickchartButtonEl.classList.remove('colab-df-spinner');\n",
              "      quickchartButtonEl.classList.add('colab-df-quickchart-complete');\n",
              "    }\n",
              "    (() => {\n",
              "      let quickchartButtonEl =\n",
              "        document.querySelector('#df-06739a9b-027e-44df-bfe7-4dce0fc7ce98 button');\n",
              "      quickchartButtonEl.style.display =\n",
              "        google.colab.kernel.accessAllowed ? 'block' : 'none';\n",
              "    })();\n",
              "  </script>\n",
              "</div>\n",
              "\n",
              "    </div>\n",
              "  </div>\n"
            ],
            "application/vnd.google.colaboratory.intrinsic+json": {
              "type": "dataframe",
              "variable_name": "train_labels_dataset",
              "summary": "{\n  \"name\": \"train_labels_dataset\",\n  \"rows\": 170,\n  \"fields\": [\n    {\n      \"column\": \"filename\",\n      \"properties\": {\n        \"dtype\": \"string\",\n        \"num_unique_values\": 142,\n        \"samples\": [\n          \"IMG_20190104_164622.jpg\",\n          \"IMG_20181228_102434.jpg\",\n          \"IMG_20190104_163815.jpg\"\n        ],\n        \"semantic_type\": \"\",\n        \"description\": \"\"\n      }\n    },\n    {\n      \"column\": \"width\",\n      \"properties\": {\n        \"dtype\": \"number\",\n        \"std\": 0,\n        \"min\": 800,\n        \"max\": 800,\n        \"num_unique_values\": 1,\n        \"samples\": [\n          800\n        ],\n        \"semantic_type\": \"\",\n        \"description\": \"\"\n      }\n    },\n    {\n      \"column\": \"height\",\n      \"properties\": {\n        \"dtype\": \"number\",\n        \"std\": 0,\n        \"min\": 600,\n        \"max\": 600,\n        \"num_unique_values\": 1,\n        \"samples\": [\n          600\n        ],\n        \"semantic_type\": \"\",\n        \"description\": \"\"\n      }\n    },\n    {\n      \"column\": \"class\",\n      \"properties\": {\n        \"dtype\": \"date\",\n        \"min\": 0,\n        \"max\": 3,\n        \"num_unique_values\": 4,\n        \"samples\": [\n          1\n        ],\n        \"semantic_type\": \"\",\n        \"description\": \"\"\n      }\n    },\n    {\n      \"column\": \"xmin\",\n      \"properties\": {\n        \"dtype\": \"number\",\n        \"std\": 19,\n        \"min\": 0,\n        \"max\": 101,\n        \"num_unique_values\": 69,\n        \"samples\": [\n          32\n        ],\n        \"semantic_type\": \"\",\n        \"description\": \"\"\n      }\n    },\n    {\n      \"column\": \"ymin\",\n      \"properties\": {\n        \"dtype\": \"number\",\n        \"std\": 19,\n        \"min\": 0,\n        \"max\": 103,\n        \"num_unique_values\": 66,\n        \"samples\": [\n          6\n        ],\n        \"semantic_type\": \"\",\n        \"description\": \"\"\n      }\n    },\n    {\n      \"column\": \"xmax\",\n      \"properties\": {\n        \"dtype\": \"number\",\n        \"std\": 17,\n        \"min\": 45,\n        \"max\": 125,\n        \"num_unique_values\": 62,\n        \"samples\": [\n          121\n        ],\n        \"semantic_type\": \"\",\n        \"description\": \"\"\n      }\n    },\n    {\n      \"column\": \"ymax\",\n      \"properties\": {\n        \"dtype\": \"number\",\n        \"std\": 19,\n        \"min\": 20,\n        \"max\": 125,\n        \"num_unique_values\": 69,\n        \"samples\": [\n          89\n        ],\n        \"semantic_type\": \"\",\n        \"description\": \"\"\n      }\n    }\n  ]\n}"
            }
          },
          "metadata": {},
          "execution_count": 28
        }
      ]
    },
    {
      "cell_type": "code",
      "source": [
        "from sklearn.preprocessing import LabelEncoder"
      ],
      "metadata": {
        "id": "i__xt7XCB2p0"
      },
      "execution_count": 29,
      "outputs": []
    },
    {
      "cell_type": "code",
      "source": [
        "encoder=LabelEncoder()"
      ],
      "metadata": {
        "id": "1Uk0TcjpO3r4"
      },
      "execution_count": 30,
      "outputs": []
    },
    {
      "cell_type": "code",
      "source": [
        "train_labels_dataset['class']=train_labels_dataset['class'].astype(np.int64)"
      ],
      "metadata": {
        "id": "2q_Qe4hGB7IR"
      },
      "execution_count": 31,
      "outputs": []
    },
    {
      "cell_type": "code",
      "source": [
        "train_labels_dataset.dtypes"
      ],
      "metadata": {
        "colab": {
          "base_uri": "https://localhost:8080/"
        },
        "id": "-WqiCRYmCHCz",
        "outputId": "639b9ace-9f72-48e2-c1c7-7208d6239767"
      },
      "execution_count": 32,
      "outputs": [
        {
          "output_type": "execute_result",
          "data": {
            "text/plain": [
              "filename    object\n",
              "width        int64\n",
              "height       int64\n",
              "class        int64\n",
              "xmin         int64\n",
              "ymin         int64\n",
              "xmax         int64\n",
              "ymax         int64\n",
              "dtype: object"
            ]
          },
          "metadata": {},
          "execution_count": 32
        }
      ]
    },
    {
      "cell_type": "code",
      "source": [
        "train_labels_dataset.head()"
      ],
      "metadata": {
        "colab": {
          "base_uri": "https://localhost:8080/",
          "height": 206
        },
        "id": "-VborenOCLEU",
        "outputId": "aac7903c-c912-4ad7-eb25-40e98f36ceae"
      },
      "execution_count": 33,
      "outputs": [
        {
          "output_type": "execute_result",
          "data": {
            "text/plain": [
              "                  filename  width  height  class  xmin  ymin  xmax  ymax\n",
              "0  IMG_20181228_101826.jpg    800     600      0    50    55    88    71\n",
              "1  IMG_20181228_101855.jpg    800     600      1    63    51    94    80\n",
              "2  IMG_20181228_101903.jpg    800     600      2    46    50    82    81\n",
              "3  IMG_20181228_101915.jpg    800     600      3    31    42   107   111\n",
              "4  IMG_20181228_102013.jpg    800     600      0    61    70    94    93"
            ],
            "text/html": [
              "\n",
              "  <div id=\"df-d3be40e0-ddd5-44ae-a6c9-cb9a6cd2a85b\" class=\"colab-df-container\">\n",
              "    <div>\n",
              "<style scoped>\n",
              "    .dataframe tbody tr th:only-of-type {\n",
              "        vertical-align: middle;\n",
              "    }\n",
              "\n",
              "    .dataframe tbody tr th {\n",
              "        vertical-align: top;\n",
              "    }\n",
              "\n",
              "    .dataframe thead th {\n",
              "        text-align: right;\n",
              "    }\n",
              "</style>\n",
              "<table border=\"1\" class=\"dataframe\">\n",
              "  <thead>\n",
              "    <tr style=\"text-align: right;\">\n",
              "      <th></th>\n",
              "      <th>filename</th>\n",
              "      <th>width</th>\n",
              "      <th>height</th>\n",
              "      <th>class</th>\n",
              "      <th>xmin</th>\n",
              "      <th>ymin</th>\n",
              "      <th>xmax</th>\n",
              "      <th>ymax</th>\n",
              "    </tr>\n",
              "  </thead>\n",
              "  <tbody>\n",
              "    <tr>\n",
              "      <th>0</th>\n",
              "      <td>IMG_20181228_101826.jpg</td>\n",
              "      <td>800</td>\n",
              "      <td>600</td>\n",
              "      <td>0</td>\n",
              "      <td>50</td>\n",
              "      <td>55</td>\n",
              "      <td>88</td>\n",
              "      <td>71</td>\n",
              "    </tr>\n",
              "    <tr>\n",
              "      <th>1</th>\n",
              "      <td>IMG_20181228_101855.jpg</td>\n",
              "      <td>800</td>\n",
              "      <td>600</td>\n",
              "      <td>1</td>\n",
              "      <td>63</td>\n",
              "      <td>51</td>\n",
              "      <td>94</td>\n",
              "      <td>80</td>\n",
              "    </tr>\n",
              "    <tr>\n",
              "      <th>2</th>\n",
              "      <td>IMG_20181228_101903.jpg</td>\n",
              "      <td>800</td>\n",
              "      <td>600</td>\n",
              "      <td>2</td>\n",
              "      <td>46</td>\n",
              "      <td>50</td>\n",
              "      <td>82</td>\n",
              "      <td>81</td>\n",
              "    </tr>\n",
              "    <tr>\n",
              "      <th>3</th>\n",
              "      <td>IMG_20181228_101915.jpg</td>\n",
              "      <td>800</td>\n",
              "      <td>600</td>\n",
              "      <td>3</td>\n",
              "      <td>31</td>\n",
              "      <td>42</td>\n",
              "      <td>107</td>\n",
              "      <td>111</td>\n",
              "    </tr>\n",
              "    <tr>\n",
              "      <th>4</th>\n",
              "      <td>IMG_20181228_102013.jpg</td>\n",
              "      <td>800</td>\n",
              "      <td>600</td>\n",
              "      <td>0</td>\n",
              "      <td>61</td>\n",
              "      <td>70</td>\n",
              "      <td>94</td>\n",
              "      <td>93</td>\n",
              "    </tr>\n",
              "  </tbody>\n",
              "</table>\n",
              "</div>\n",
              "    <div class=\"colab-df-buttons\">\n",
              "\n",
              "  <div class=\"colab-df-container\">\n",
              "    <button class=\"colab-df-convert\" onclick=\"convertToInteractive('df-d3be40e0-ddd5-44ae-a6c9-cb9a6cd2a85b')\"\n",
              "            title=\"Convert this dataframe to an interactive table.\"\n",
              "            style=\"display:none;\">\n",
              "\n",
              "  <svg xmlns=\"http://www.w3.org/2000/svg\" height=\"24px\" viewBox=\"0 -960 960 960\">\n",
              "    <path d=\"M120-120v-720h720v720H120Zm60-500h600v-160H180v160Zm220 220h160v-160H400v160Zm0 220h160v-160H400v160ZM180-400h160v-160H180v160Zm440 0h160v-160H620v160ZM180-180h160v-160H180v160Zm440 0h160v-160H620v160Z\"/>\n",
              "  </svg>\n",
              "    </button>\n",
              "\n",
              "  <style>\n",
              "    .colab-df-container {\n",
              "      display:flex;\n",
              "      gap: 12px;\n",
              "    }\n",
              "\n",
              "    .colab-df-convert {\n",
              "      background-color: #E8F0FE;\n",
              "      border: none;\n",
              "      border-radius: 50%;\n",
              "      cursor: pointer;\n",
              "      display: none;\n",
              "      fill: #1967D2;\n",
              "      height: 32px;\n",
              "      padding: 0 0 0 0;\n",
              "      width: 32px;\n",
              "    }\n",
              "\n",
              "    .colab-df-convert:hover {\n",
              "      background-color: #E2EBFA;\n",
              "      box-shadow: 0px 1px 2px rgba(60, 64, 67, 0.3), 0px 1px 3px 1px rgba(60, 64, 67, 0.15);\n",
              "      fill: #174EA6;\n",
              "    }\n",
              "\n",
              "    .colab-df-buttons div {\n",
              "      margin-bottom: 4px;\n",
              "    }\n",
              "\n",
              "    [theme=dark] .colab-df-convert {\n",
              "      background-color: #3B4455;\n",
              "      fill: #D2E3FC;\n",
              "    }\n",
              "\n",
              "    [theme=dark] .colab-df-convert:hover {\n",
              "      background-color: #434B5C;\n",
              "      box-shadow: 0px 1px 3px 1px rgba(0, 0, 0, 0.15);\n",
              "      filter: drop-shadow(0px 1px 2px rgba(0, 0, 0, 0.3));\n",
              "      fill: #FFFFFF;\n",
              "    }\n",
              "  </style>\n",
              "\n",
              "    <script>\n",
              "      const buttonEl =\n",
              "        document.querySelector('#df-d3be40e0-ddd5-44ae-a6c9-cb9a6cd2a85b button.colab-df-convert');\n",
              "      buttonEl.style.display =\n",
              "        google.colab.kernel.accessAllowed ? 'block' : 'none';\n",
              "\n",
              "      async function convertToInteractive(key) {\n",
              "        const element = document.querySelector('#df-d3be40e0-ddd5-44ae-a6c9-cb9a6cd2a85b');\n",
              "        const dataTable =\n",
              "          await google.colab.kernel.invokeFunction('convertToInteractive',\n",
              "                                                    [key], {});\n",
              "        if (!dataTable) return;\n",
              "\n",
              "        const docLinkHtml = 'Like what you see? Visit the ' +\n",
              "          '<a target=\"_blank\" href=https://colab.research.google.com/notebooks/data_table.ipynb>data table notebook</a>'\n",
              "          + ' to learn more about interactive tables.';\n",
              "        element.innerHTML = '';\n",
              "        dataTable['output_type'] = 'display_data';\n",
              "        await google.colab.output.renderOutput(dataTable, element);\n",
              "        const docLink = document.createElement('div');\n",
              "        docLink.innerHTML = docLinkHtml;\n",
              "        element.appendChild(docLink);\n",
              "      }\n",
              "    </script>\n",
              "  </div>\n",
              "\n",
              "\n",
              "<div id=\"df-1dbf8dc1-9fc0-43ff-900c-8d098005583b\">\n",
              "  <button class=\"colab-df-quickchart\" onclick=\"quickchart('df-1dbf8dc1-9fc0-43ff-900c-8d098005583b')\"\n",
              "            title=\"Suggest charts\"\n",
              "            style=\"display:none;\">\n",
              "\n",
              "<svg xmlns=\"http://www.w3.org/2000/svg\" height=\"24px\"viewBox=\"0 0 24 24\"\n",
              "     width=\"24px\">\n",
              "    <g>\n",
              "        <path d=\"M19 3H5c-1.1 0-2 .9-2 2v14c0 1.1.9 2 2 2h14c1.1 0 2-.9 2-2V5c0-1.1-.9-2-2-2zM9 17H7v-7h2v7zm4 0h-2V7h2v10zm4 0h-2v-4h2v4z\"/>\n",
              "    </g>\n",
              "</svg>\n",
              "  </button>\n",
              "\n",
              "<style>\n",
              "  .colab-df-quickchart {\n",
              "      --bg-color: #E8F0FE;\n",
              "      --fill-color: #1967D2;\n",
              "      --hover-bg-color: #E2EBFA;\n",
              "      --hover-fill-color: #174EA6;\n",
              "      --disabled-fill-color: #AAA;\n",
              "      --disabled-bg-color: #DDD;\n",
              "  }\n",
              "\n",
              "  [theme=dark] .colab-df-quickchart {\n",
              "      --bg-color: #3B4455;\n",
              "      --fill-color: #D2E3FC;\n",
              "      --hover-bg-color: #434B5C;\n",
              "      --hover-fill-color: #FFFFFF;\n",
              "      --disabled-bg-color: #3B4455;\n",
              "      --disabled-fill-color: #666;\n",
              "  }\n",
              "\n",
              "  .colab-df-quickchart {\n",
              "    background-color: var(--bg-color);\n",
              "    border: none;\n",
              "    border-radius: 50%;\n",
              "    cursor: pointer;\n",
              "    display: none;\n",
              "    fill: var(--fill-color);\n",
              "    height: 32px;\n",
              "    padding: 0;\n",
              "    width: 32px;\n",
              "  }\n",
              "\n",
              "  .colab-df-quickchart:hover {\n",
              "    background-color: var(--hover-bg-color);\n",
              "    box-shadow: 0 1px 2px rgba(60, 64, 67, 0.3), 0 1px 3px 1px rgba(60, 64, 67, 0.15);\n",
              "    fill: var(--button-hover-fill-color);\n",
              "  }\n",
              "\n",
              "  .colab-df-quickchart-complete:disabled,\n",
              "  .colab-df-quickchart-complete:disabled:hover {\n",
              "    background-color: var(--disabled-bg-color);\n",
              "    fill: var(--disabled-fill-color);\n",
              "    box-shadow: none;\n",
              "  }\n",
              "\n",
              "  .colab-df-spinner {\n",
              "    border: 2px solid var(--fill-color);\n",
              "    border-color: transparent;\n",
              "    border-bottom-color: var(--fill-color);\n",
              "    animation:\n",
              "      spin 1s steps(1) infinite;\n",
              "  }\n",
              "\n",
              "  @keyframes spin {\n",
              "    0% {\n",
              "      border-color: transparent;\n",
              "      border-bottom-color: var(--fill-color);\n",
              "      border-left-color: var(--fill-color);\n",
              "    }\n",
              "    20% {\n",
              "      border-color: transparent;\n",
              "      border-left-color: var(--fill-color);\n",
              "      border-top-color: var(--fill-color);\n",
              "    }\n",
              "    30% {\n",
              "      border-color: transparent;\n",
              "      border-left-color: var(--fill-color);\n",
              "      border-top-color: var(--fill-color);\n",
              "      border-right-color: var(--fill-color);\n",
              "    }\n",
              "    40% {\n",
              "      border-color: transparent;\n",
              "      border-right-color: var(--fill-color);\n",
              "      border-top-color: var(--fill-color);\n",
              "    }\n",
              "    60% {\n",
              "      border-color: transparent;\n",
              "      border-right-color: var(--fill-color);\n",
              "    }\n",
              "    80% {\n",
              "      border-color: transparent;\n",
              "      border-right-color: var(--fill-color);\n",
              "      border-bottom-color: var(--fill-color);\n",
              "    }\n",
              "    90% {\n",
              "      border-color: transparent;\n",
              "      border-bottom-color: var(--fill-color);\n",
              "    }\n",
              "  }\n",
              "</style>\n",
              "\n",
              "  <script>\n",
              "    async function quickchart(key) {\n",
              "      const quickchartButtonEl =\n",
              "        document.querySelector('#' + key + ' button');\n",
              "      quickchartButtonEl.disabled = true;  // To prevent multiple clicks.\n",
              "      quickchartButtonEl.classList.add('colab-df-spinner');\n",
              "      try {\n",
              "        const charts = await google.colab.kernel.invokeFunction(\n",
              "            'suggestCharts', [key], {});\n",
              "      } catch (error) {\n",
              "        console.error('Error during call to suggestCharts:', error);\n",
              "      }\n",
              "      quickchartButtonEl.classList.remove('colab-df-spinner');\n",
              "      quickchartButtonEl.classList.add('colab-df-quickchart-complete');\n",
              "    }\n",
              "    (() => {\n",
              "      let quickchartButtonEl =\n",
              "        document.querySelector('#df-1dbf8dc1-9fc0-43ff-900c-8d098005583b button');\n",
              "      quickchartButtonEl.style.display =\n",
              "        google.colab.kernel.accessAllowed ? 'block' : 'none';\n",
              "    })();\n",
              "  </script>\n",
              "</div>\n",
              "\n",
              "    </div>\n",
              "  </div>\n"
            ],
            "application/vnd.google.colaboratory.intrinsic+json": {
              "type": "dataframe",
              "variable_name": "train_labels_dataset",
              "summary": "{\n  \"name\": \"train_labels_dataset\",\n  \"rows\": 170,\n  \"fields\": [\n    {\n      \"column\": \"filename\",\n      \"properties\": {\n        \"dtype\": \"string\",\n        \"num_unique_values\": 142,\n        \"samples\": [\n          \"IMG_20190104_164622.jpg\",\n          \"IMG_20181228_102434.jpg\",\n          \"IMG_20190104_163815.jpg\"\n        ],\n        \"semantic_type\": \"\",\n        \"description\": \"\"\n      }\n    },\n    {\n      \"column\": \"width\",\n      \"properties\": {\n        \"dtype\": \"number\",\n        \"std\": 0,\n        \"min\": 800,\n        \"max\": 800,\n        \"num_unique_values\": 1,\n        \"samples\": [\n          800\n        ],\n        \"semantic_type\": \"\",\n        \"description\": \"\"\n      }\n    },\n    {\n      \"column\": \"height\",\n      \"properties\": {\n        \"dtype\": \"number\",\n        \"std\": 0,\n        \"min\": 600,\n        \"max\": 600,\n        \"num_unique_values\": 1,\n        \"samples\": [\n          600\n        ],\n        \"semantic_type\": \"\",\n        \"description\": \"\"\n      }\n    },\n    {\n      \"column\": \"class\",\n      \"properties\": {\n        \"dtype\": \"number\",\n        \"std\": 1,\n        \"min\": 0,\n        \"max\": 3,\n        \"num_unique_values\": 4,\n        \"samples\": [\n          1\n        ],\n        \"semantic_type\": \"\",\n        \"description\": \"\"\n      }\n    },\n    {\n      \"column\": \"xmin\",\n      \"properties\": {\n        \"dtype\": \"number\",\n        \"std\": 19,\n        \"min\": 0,\n        \"max\": 101,\n        \"num_unique_values\": 69,\n        \"samples\": [\n          32\n        ],\n        \"semantic_type\": \"\",\n        \"description\": \"\"\n      }\n    },\n    {\n      \"column\": \"ymin\",\n      \"properties\": {\n        \"dtype\": \"number\",\n        \"std\": 19,\n        \"min\": 0,\n        \"max\": 103,\n        \"num_unique_values\": 66,\n        \"samples\": [\n          6\n        ],\n        \"semantic_type\": \"\",\n        \"description\": \"\"\n      }\n    },\n    {\n      \"column\": \"xmax\",\n      \"properties\": {\n        \"dtype\": \"number\",\n        \"std\": 17,\n        \"min\": 45,\n        \"max\": 125,\n        \"num_unique_values\": 62,\n        \"samples\": [\n          121\n        ],\n        \"semantic_type\": \"\",\n        \"description\": \"\"\n      }\n    },\n    {\n      \"column\": \"ymax\",\n      \"properties\": {\n        \"dtype\": \"number\",\n        \"std\": 19,\n        \"min\": 20,\n        \"max\": 125,\n        \"num_unique_values\": 69,\n        \"samples\": [\n          89\n        ],\n        \"semantic_type\": \"\",\n        \"description\": \"\"\n      }\n    }\n  ]\n}"
            }
          },
          "metadata": {},
          "execution_count": 33
        }
      ]
    },
    {
      "cell_type": "code",
      "source": [
        "X=[]\n",
        "y1=[]\n",
        "y2=[]\n",
        "for row,labels in enumerate(train_labels_dataset['filename']):\n",
        "  path=os.path.join(train_dataset,labels)\n",
        "  image=cv2.imread(path)\n",
        "  image=cv2.cvtColor(image,cv2.COLOR_BGR2RGB)\n",
        "  image=cv2.resize(image,(128,128))\n",
        "  X.append(image)\n",
        "\n",
        "  #y.append(train_labels_dataset[3:8])\n",
        "  y1.append(train_labels_dataset.loc[row,['class']])\n",
        "  y2.append(train_labels_dataset.loc[row,['xmin','ymin','xmax','ymax']])\n"
      ],
      "metadata": {
        "id": "aGsPNvvmCXy5"
      },
      "execution_count": 34,
      "outputs": []
    },
    {
      "cell_type": "code",
      "source": [
        "y1=pd.DataFrame(y1)\n",
        "y2=pd.DataFrame(y2)"
      ],
      "metadata": {
        "id": "G82zWGA-C57_"
      },
      "execution_count": 35,
      "outputs": []
    },
    {
      "cell_type": "code",
      "source": [
        "from sklearn.preprocessing import OneHotEncoder"
      ],
      "metadata": {
        "id": "ehoJPyMmRpDh"
      },
      "execution_count": 36,
      "outputs": []
    },
    {
      "cell_type": "code",
      "source": [
        "encoder=OneHotEncoder(sparse=False)"
      ],
      "metadata": {
        "id": "WVzKllvDS95f"
      },
      "execution_count": 37,
      "outputs": []
    },
    {
      "cell_type": "code",
      "source": [
        "y1=encoder.fit_transform(y1)"
      ],
      "metadata": {
        "colab": {
          "base_uri": "https://localhost:8080/"
        },
        "id": "KwtIv-PzH5FX",
        "outputId": "a5105bbc-7932-4520-dc4f-618a5a91fa7d"
      },
      "execution_count": 38,
      "outputs": [
        {
          "output_type": "stream",
          "name": "stderr",
          "text": [
            "/usr/local/lib/python3.10/dist-packages/sklearn/preprocessing/_encoders.py:868: FutureWarning: `sparse` was renamed to `sparse_output` in version 1.2 and will be removed in 1.4. `sparse_output` is ignored unless you leave `sparse` to its default value.\n",
            "  warnings.warn(\n"
          ]
        }
      ]
    },
    {
      "cell_type": "code",
      "source": [
        "y1"
      ],
      "metadata": {
        "id": "QuEHH9IHTE93",
        "colab": {
          "base_uri": "https://localhost:8080/"
        },
        "outputId": "8203373f-3522-4ad5-fa8d-edc246cca97f"
      },
      "execution_count": 39,
      "outputs": [
        {
          "output_type": "execute_result",
          "data": {
            "text/plain": [
              "array([[1., 0., 0., 0.],\n",
              "       [0., 1., 0., 0.],\n",
              "       [0., 0., 1., 0.],\n",
              "       [0., 0., 0., 1.],\n",
              "       [1., 0., 0., 0.],\n",
              "       [0., 0., 1., 0.],\n",
              "       [0., 0., 1., 0.],\n",
              "       [0., 0., 0., 1.],\n",
              "       [0., 1., 0., 0.],\n",
              "       [0., 0., 1., 0.],\n",
              "       [0., 0., 0., 1.],\n",
              "       [1., 0., 0., 0.],\n",
              "       [0., 1., 0., 0.],\n",
              "       [0., 0., 0., 1.],\n",
              "       [0., 0., 1., 0.],\n",
              "       [0., 1., 0., 0.],\n",
              "       [1., 0., 0., 0.],\n",
              "       [0., 1., 0., 0.],\n",
              "       [0., 0., 0., 1.],\n",
              "       [1., 0., 0., 0.],\n",
              "       [1., 0., 0., 0.],\n",
              "       [0., 0., 0., 1.],\n",
              "       [0., 1., 0., 0.],\n",
              "       [0., 0., 1., 0.],\n",
              "       [1., 0., 0., 0.],\n",
              "       [0., 0., 0., 1.],\n",
              "       [0., 1., 0., 0.],\n",
              "       [0., 0., 1., 0.],\n",
              "       [0., 0., 0., 1.],\n",
              "       [0., 0., 1., 0.],\n",
              "       [0., 1., 0., 0.],\n",
              "       [0., 0., 0., 1.],\n",
              "       [1., 0., 0., 0.],\n",
              "       [0., 0., 0., 1.],\n",
              "       [0., 1., 0., 0.],\n",
              "       [0., 0., 1., 0.],\n",
              "       [1., 0., 0., 0.],\n",
              "       [0., 0., 0., 1.],\n",
              "       [0., 0., 1., 0.],\n",
              "       [1., 0., 0., 0.],\n",
              "       [0., 1., 0., 0.],\n",
              "       [1., 0., 0., 0.],\n",
              "       [0., 1., 0., 0.],\n",
              "       [0., 0., 1., 0.],\n",
              "       [0., 0., 0., 1.],\n",
              "       [0., 1., 0., 0.],\n",
              "       [0., 0., 1., 0.],\n",
              "       [1., 0., 0., 0.],\n",
              "       [0., 0., 0., 1.],\n",
              "       [0., 1., 0., 0.],\n",
              "       [0., 0., 0., 1.],\n",
              "       [0., 0., 1., 0.],\n",
              "       [1., 0., 0., 0.],\n",
              "       [0., 1., 0., 0.],\n",
              "       [1., 0., 0., 0.],\n",
              "       [0., 0., 0., 1.],\n",
              "       [0., 0., 1., 0.],\n",
              "       [0., 0., 0., 1.],\n",
              "       [0., 0., 1., 0.],\n",
              "       [1., 0., 0., 0.],\n",
              "       [0., 1., 0., 0.],\n",
              "       [0., 0., 0., 1.],\n",
              "       [0., 0., 1., 0.],\n",
              "       [0., 1., 0., 0.],\n",
              "       [1., 0., 0., 0.],\n",
              "       [1., 0., 0., 0.],\n",
              "       [0., 1., 0., 0.],\n",
              "       [1., 0., 0., 0.],\n",
              "       [0., 1., 0., 0.],\n",
              "       [0., 0., 1., 0.],\n",
              "       [0., 0., 1., 0.],\n",
              "       [0., 0., 0., 1.],\n",
              "       [0., 1., 0., 0.],\n",
              "       [0., 0., 0., 1.],\n",
              "       [1., 0., 0., 0.],\n",
              "       [0., 0., 1., 0.],\n",
              "       [1., 0., 0., 0.],\n",
              "       [0., 0., 0., 1.],\n",
              "       [0., 1., 0., 0.],\n",
              "       [0., 0., 1., 0.],\n",
              "       [0., 0., 1., 0.],\n",
              "       [0., 0., 0., 1.],\n",
              "       [1., 0., 0., 0.],\n",
              "       [0., 0., 1., 0.],\n",
              "       [0., 0., 1., 0.],\n",
              "       [0., 0., 0., 1.],\n",
              "       [0., 1., 0., 0.],\n",
              "       [0., 1., 0., 0.],\n",
              "       [0., 0., 1., 0.],\n",
              "       [0., 0., 1., 0.],\n",
              "       [0., 0., 0., 1.],\n",
              "       [1., 0., 0., 0.],\n",
              "       [0., 0., 1., 0.],\n",
              "       [0., 0., 1., 0.],\n",
              "       [0., 0., 0., 1.],\n",
              "       [0., 1., 0., 0.],\n",
              "       [0., 0., 1., 0.],\n",
              "       [1., 0., 0., 0.],\n",
              "       [0., 0., 0., 1.],\n",
              "       [0., 0., 0., 1.],\n",
              "       [0., 1., 0., 0.],\n",
              "       [0., 1., 0., 0.],\n",
              "       [1., 0., 0., 0.],\n",
              "       [1., 0., 0., 0.],\n",
              "       [0., 0., 1., 0.],\n",
              "       [0., 0., 1., 0.],\n",
              "       [0., 0., 0., 1.],\n",
              "       [0., 0., 1., 0.],\n",
              "       [0., 1., 0., 0.],\n",
              "       [1., 0., 0., 0.],\n",
              "       [0., 0., 0., 1.],\n",
              "       [0., 0., 1., 0.],\n",
              "       [0., 1., 0., 0.],\n",
              "       [0., 1., 0., 0.],\n",
              "       [1., 0., 0., 0.],\n",
              "       [0., 0., 1., 0.],\n",
              "       [0., 0., 1., 0.],\n",
              "       [0., 0., 0., 1.],\n",
              "       [0., 1., 0., 0.],\n",
              "       [1., 0., 0., 0.],\n",
              "       [1., 0., 0., 0.],\n",
              "       [1., 0., 0., 0.],\n",
              "       [0., 1., 0., 0.],\n",
              "       [0., 1., 0., 0.],\n",
              "       [0., 0., 0., 1.],\n",
              "       [0., 0., 0., 1.],\n",
              "       [0., 0., 1., 0.],\n",
              "       [0., 0., 1., 0.],\n",
              "       [0., 0., 1., 0.],\n",
              "       [0., 0., 1., 0.],\n",
              "       [0., 0., 0., 1.],\n",
              "       [0., 0., 0., 1.],\n",
              "       [0., 1., 0., 0.],\n",
              "       [0., 1., 0., 0.],\n",
              "       [1., 0., 0., 0.],\n",
              "       [1., 0., 0., 0.],\n",
              "       [0., 0., 1., 0.],\n",
              "       [0., 0., 0., 1.],\n",
              "       [0., 1., 0., 0.],\n",
              "       [1., 0., 0., 0.],\n",
              "       [1., 0., 0., 0.],\n",
              "       [0., 1., 0., 0.],\n",
              "       [0., 0., 0., 1.],\n",
              "       [0., 0., 1., 0.],\n",
              "       [0., 0., 1., 0.],\n",
              "       [0., 0., 0., 1.],\n",
              "       [0., 1., 0., 0.],\n",
              "       [1., 0., 0., 0.],\n",
              "       [1., 0., 0., 0.],\n",
              "       [0., 1., 0., 0.],\n",
              "       [0., 0., 0., 1.],\n",
              "       [0., 0., 1., 0.],\n",
              "       [0., 0., 0., 1.],\n",
              "       [0., 1., 0., 0.],\n",
              "       [1., 0., 0., 0.],\n",
              "       [0., 0., 0., 1.],\n",
              "       [0., 1., 0., 0.],\n",
              "       [1., 0., 0., 0.],\n",
              "       [0., 0., 1., 0.],\n",
              "       [0., 0., 0., 1.],\n",
              "       [0., 1., 0., 0.],\n",
              "       [1., 0., 0., 0.],\n",
              "       [0., 0., 0., 1.],\n",
              "       [1., 0., 0., 0.],\n",
              "       [0., 1., 0., 0.],\n",
              "       [0., 0., 1., 0.],\n",
              "       [1., 0., 0., 0.],\n",
              "       [0., 0., 1., 0.],\n",
              "       [0., 0., 0., 1.],\n",
              "       [0., 1., 0., 0.]])"
            ]
          },
          "metadata": {},
          "execution_count": 39
        }
      ]
    },
    {
      "cell_type": "code",
      "source": [
        "np.argmax(y1[0])"
      ],
      "metadata": {
        "colab": {
          "base_uri": "https://localhost:8080/"
        },
        "id": "iI-BQ_2vfPjl",
        "outputId": "93d7c44d-16b5-455d-ce77-c9d875c542c8"
      },
      "execution_count": 47,
      "outputs": [
        {
          "output_type": "execute_result",
          "data": {
            "text/plain": [
              "0"
            ]
          },
          "metadata": {},
          "execution_count": 47
        }
      ]
    },
    {
      "cell_type": "code",
      "source": [
        "def print_image_with_box(index):\n",
        "  image=X[index]\n",
        "  cls=np.argmax(y1[index])\n",
        "  xmin=y2['xmin'][index]\n",
        "  ymin=y2['ymin'][index]\n",
        "  xmax=y2['xmax'][index]\n",
        "  ymax=y2['ymax'][index]\n",
        "  image=cv2.rectangle(image,(xmin,ymin),(xmax,ymax),(100,0,0),1)\n",
        "  image = cv2.putText(image, reverse_class_dict[cls], (xmin, ymin), cv2.FONT_HERSHEY_SIMPLEX, 0.3, (255, 0, 0), 1, cv2.LINE_AA)\n",
        "  return image,cls"
      ],
      "metadata": {
        "id": "b6yflrlWHP2P"
      },
      "execution_count": 48,
      "outputs": []
    },
    {
      "cell_type": "code",
      "source": [
        "image,name=print_image_with_box(50)\n",
        "print(reverse_class_dict[np.argmax(name)])\n",
        "plt.imshow(image)"
      ],
      "metadata": {
        "colab": {
          "base_uri": "https://localhost:8080/",
          "height": 469
        },
        "id": "PtH0B3RwHqu3",
        "outputId": "1a25d93c-c9cf-4b6c-8f69-2b6062176509"
      },
      "execution_count": 53,
      "outputs": [
        {
          "output_type": "stream",
          "name": "stdout",
          "text": [
            "Arduino_Nano\n"
          ]
        },
        {
          "output_type": "execute_result",
          "data": {
            "text/plain": [
              "<matplotlib.image.AxesImage at 0x7b1903968c10>"
            ]
          },
          "metadata": {},
          "execution_count": 53
        },
        {
          "output_type": "display_data",
          "data": {
            "text/plain": [
              "<Figure size 640x480 with 1 Axes>"
            ],
            "image/png": "[encoded data removed]"
          },
          "metadata": {}
        }
      ]
    },
    {
      "cell_type": "code",
      "source": [
        "model1.summary()"
      ],
      "metadata": {
        "colab": {
          "base_uri": "https://localhost:8080/"
        },
        "id": "poZjwobUInJr",
        "outputId": "793cce6a-a6b9-4fc9-ca88-4378f3dc737e"
      },
      "execution_count": 54,
      "outputs": [
        {
          "output_type": "stream",
          "name": "stdout",
          "text": [
            "Model: \"model_1\"\n",
            "__________________________________________________________________________________________________\n",
            " Layer (type)                Output Shape                 Param #   Connected to                  \n",
            "==================================================================================================\n",
            " input_2 (InputLayer)        [(None, 128, 128, 3)]        0         []                            \n",
            "                                                                                                  \n",
            " keras_layer (KerasLayer)    (None, 1001)                 1692489   ['input_2[0][0]']             \n",
            "                                                                                                  \n",
            " flatten_1 (Flatten)         (None, 1001)                 0         ['keras_layer[1][0]']         \n",
            "                                                                                                  \n",
            " dense_3 (Dense)             (None, 100)                  100200    ['flatten_1[0][0]']           \n",
            "                                                                                                  \n",
            " dense_4 (Dense)             (None, 128)                  12928     ['dense_3[0][0]']             \n",
            "                                                                                                  \n",
            " dense_5 (Dense)             (None, 100)                  12900     ['dense_4[0][0]']             \n",
            "                                                                                                  \n",
            " classification (Dense)      (None, 4)                    516       ['dense_4[0][0]']             \n",
            "                                                                                                  \n",
            " Regression (Dense)          (None, 4)                    404       ['dense_5[0][0]']             \n",
            "                                                                                                  \n",
            "==================================================================================================\n",
            "Total params: 1819437 (6.94 MB)\n",
            "Trainable params: 126948 (495.89 KB)\n",
            "Non-trainable params: 1692489 (6.46 MB)\n",
            "__________________________________________________________________________________________________\n"
          ]
        }
      ]
    },
    {
      "cell_type": "code",
      "source": [
        "X=np.array(X)\n",
        "y1=np.array(y1)\n",
        "y2=np.array(y2)"
      ],
      "metadata": {
        "id": "TMfK8dWxWXwC"
      },
      "execution_count": 55,
      "outputs": []
    },
    {
      "cell_type": "code",
      "source": [
        "model1.summary()"
      ],
      "metadata": {
        "colab": {
          "base_uri": "https://localhost:8080/"
        },
        "id": "Fjo8p9jC7x2-",
        "outputId": "adc10cd3-e5f8-4bbc-c974-24ce88c94042"
      },
      "execution_count": 56,
      "outputs": [
        {
          "output_type": "stream",
          "name": "stdout",
          "text": [
            "Model: \"model_1\"\n",
            "__________________________________________________________________________________________________\n",
            " Layer (type)                Output Shape                 Param #   Connected to                  \n",
            "==================================================================================================\n",
            " input_2 (InputLayer)        [(None, 128, 128, 3)]        0         []                            \n",
            "                                                                                                  \n",
            " keras_layer (KerasLayer)    (None, 1001)                 1692489   ['input_2[0][0]']             \n",
            "                                                                                                  \n",
            " flatten_1 (Flatten)         (None, 1001)                 0         ['keras_layer[1][0]']         \n",
            "                                                                                                  \n",
            " dense_3 (Dense)             (None, 100)                  100200    ['flatten_1[0][0]']           \n",
            "                                                                                                  \n",
            " dense_4 (Dense)             (None, 128)                  12928     ['dense_3[0][0]']             \n",
            "                                                                                                  \n",
            " dense_5 (Dense)             (None, 100)                  12900     ['dense_4[0][0]']             \n",
            "                                                                                                  \n",
            " classification (Dense)      (None, 4)                    516       ['dense_4[0][0]']             \n",
            "                                                                                                  \n",
            " Regression (Dense)          (None, 4)                    404       ['dense_5[0][0]']             \n",
            "                                                                                                  \n",
            "==================================================================================================\n",
            "Total params: 1819437 (6.94 MB)\n",
            "Trainable params: 126948 (495.89 KB)\n",
            "Non-trainable params: 1692489 (6.46 MB)\n",
            "__________________________________________________________________________________________________\n"
          ]
        }
      ]
    },
    {
      "cell_type": "code",
      "source": [
        "X=X/255"
      ],
      "metadata": {
        "id": "HDjKehNf8w6s"
      },
      "execution_count": 57,
      "outputs": []
    },
    {
      "cell_type": "code",
      "source": [
        "X"
      ],
      "metadata": {
        "id": "-VCDwH21TZOx"
      },
      "execution_count": null,
      "outputs": []
    },
    {
      "cell_type": "code",
      "source": [
        "y1"
      ],
      "metadata": {
        "id": "i-_pNJ_JMblO"
      },
      "execution_count": null,
      "outputs": []
    },
    {
      "cell_type": "code",
      "source": [
        "!pip install mlflow --quiet\n",
        "get_ipython().system_raw(\"mlflow ui --port 5000 &\")"
      ],
      "metadata": {
        "id": "8flGWtIFTkXh",
        "colab": {
          "base_uri": "https://localhost:8080/"
        },
        "outputId": "ffea1e93-f4b4-4da0-ec13-abd4171f67ee"
      },
      "execution_count": 60,
      "outputs": [
        {
          "output_type": "stream",
          "name": "stdout",
          "text": [
            "\u001b[2K     \u001b[90m━━━━━━━━━━━━━━━━━━━━━━━━━━━━━━━━━━━━━━━━\u001b[0m \u001b[32m19.7/19.7 MB\u001b[0m \u001b[31m50.5 MB/s\u001b[0m eta \u001b[36m0:00:00\u001b[0m\n",
            "\u001b[2K     \u001b[90m━━━━━━━━━━━━━━━━━━━━━━━━━━━━━━━━━━━━━━━━\u001b[0m \u001b[32m195.4/195.4 kB\u001b[0m \u001b[31m27.5 MB/s\u001b[0m eta \u001b[36m0:00:00\u001b[0m\n",
            "\u001b[2K     \u001b[90m━━━━━━━━━━━━━━━━━━━━━━━━━━━━━━━━━━━━━━━━\u001b[0m \u001b[32m233.4/233.4 kB\u001b[0m \u001b[31m30.0 MB/s\u001b[0m eta \u001b[36m0:00:00\u001b[0m\n",
            "\u001b[2K     \u001b[90m━━━━━━━━━━━━━━━━━━━━━━━━━━━━━━━━━━━━━━━━\u001b[0m \u001b[32m147.6/147.6 kB\u001b[0m \u001b[31m19.4 MB/s\u001b[0m eta \u001b[36m0:00:00\u001b[0m\n",
            "\u001b[2K     \u001b[90m━━━━━━━━━━━━━━━━━━━━━━━━━━━━━━━━━━━━━━━━\u001b[0m \u001b[32m128.2/128.2 kB\u001b[0m \u001b[31m18.7 MB/s\u001b[0m eta \u001b[36m0:00:00\u001b[0m\n",
            "\u001b[2K     \u001b[90m━━━━━━━━━━━━━━━━━━━━━━━━━━━━━━━━━━━━━━━━\u001b[0m \u001b[32m80.2/80.2 kB\u001b[0m \u001b[31m9.6 MB/s\u001b[0m eta \u001b[36m0:00:00\u001b[0m\n",
            "\u001b[2K     \u001b[90m━━━━━━━━━━━━━━━━━━━━━━━━━━━━━━━━━━━━━━━━\u001b[0m \u001b[32m78.7/78.7 kB\u001b[0m \u001b[31m9.3 MB/s\u001b[0m eta \u001b[36m0:00:00\u001b[0m\n",
            "\u001b[2K     \u001b[90m━━━━━━━━━━━━━━━━━━━━━━━━━━━━━━━━━━━━━━━━\u001b[0m \u001b[32m62.7/62.7 kB\u001b[0m \u001b[31m7.0 MB/s\u001b[0m eta \u001b[36m0:00:00\u001b[0m\n",
            "\u001b[2K     \u001b[90m━━━━━━━━━━━━━━━━━━━━━━━━━━━━━━━━━━━━━━━━\u001b[0m \u001b[32m202.9/202.9 kB\u001b[0m \u001b[31m17.6 MB/s\u001b[0m eta \u001b[36m0:00:00\u001b[0m\n",
            "\u001b[2K     \u001b[90m━━━━━━━━━━━━━━━━━━━━━━━━━━━━━━━━━━━━━━━━\u001b[0m \u001b[32m52.8/52.8 kB\u001b[0m \u001b[31m5.9 MB/s\u001b[0m eta \u001b[36m0:00:00\u001b[0m\n",
            "\u001b[?25h"
          ]
        }
      ]
    },
    {
      "cell_type": "code",
      "source": [
        "!pip install pyngrok --quiet\n",
        "\n",
        "from pyngrok import ngrok\n",
        "from getpass import getpass\n",
        "\n",
        "# Terminate open tunnels if exist\n",
        "ngrok.kill()\n",
        "\n",
        "# Setting the authtoken (optional)\n",
        "# Get your authtoken from https://dashboard.ngrok.com/auth\n",
        "NGROK_AUTH_TOKEN = getpass('Enter the ngrok authtoken: ')\n",
        "ngrok.set_auth_token(NGROK_AUTH_TOKEN)\n",
        "\n",
        "# Open an HTTPs tunnel on port 5000 for http://localhost:5000\n",
        "ngrok_tunnel = ngrok.connect(addr=\"5000\", proto=\"http\", bind_tls=True)\n",
        "print(\"MLflow Tracking UI:\", ngrok_tunnel.public_url)"
      ],
      "metadata": {
        "colab": {
          "base_uri": "https://localhost:8080/"
        },
        "id": "kCC5t7W2UWvD",
        "outputId": "21936ada-8897-4ccb-f63f-b716d1a3595b"
      },
      "execution_count": null,
      "outputs": [
        {
          "output_type": "stream",
          "name": "stdout",
          "text": [
            "Enter the ngrok authtoken: ··········\n",
            "MLflow Tracking UI: https://19c7-34-143-197-37.ngrok-free.app\n"
          ]
        }
      ]
    },
    {
      "cell_type": "code",
      "source": [
        "!pip install mlflow --quiet\n",
        "\n",
        "import mlflow\n",
        "import os\n",
        "from getpass import getpass"
      ],
      "metadata": {
        "id": "I41L8xDojJP6"
      },
      "execution_count": 73,
      "outputs": []
    },
    {
      "cell_type": "code",
      "source": [
        "# MLFLOW_TRACKING_URI=https://dagshub.com/naimurborno/Microcontroller-detection.mlflow \\\n",
        "# MLFLOW_TRACKING_USERNAME=naimurborno \\\n",
        "# MLFLOW_TRACKING_PASSWORD=your_token"
      ],
      "metadata": {
        "id": "qzEQrXCHityR"
      },
      "execution_count": null,
      "outputs": []
    },
    {
      "cell_type": "code",
      "source": [
        "os.environ['MLFLOW_TRACKING_USERNAME'] ='naimurborno'\n",
        "os.environ['MLFLOW_TRACKING_PASSWORD'] ='94ebc629914b4f17304744d67eec0b421a8f74d1'\n",
        "os.environ['MLFLOW_TRACKING_PROJECTNAME'] ='Microcontroller-detection'"
      ],
      "metadata": {
        "id": "S2sdBmVyi39Q"
      },
      "execution_count": 80,
      "outputs": []
    },
    {
      "cell_type": "code",
      "source": [
        "import mlflow"
      ],
      "metadata": {
        "id": "i0TEpVlDVOu-"
      },
      "execution_count": null,
      "outputs": []
    },
    {
      "cell_type": "code",
      "source": [
        "mlflow.set_tracking_uri('https://dagshub.com/naimurborno/Microcontroller-detection.mlflow')\n",
        "with mlflow.start_run():\n",
        "  mlflow.tensorflow.autolog()\n",
        "  model1.compile(\n",
        "      optimizer='adam',\n",
        "      loss={\"classification\":'categorical_crossentropy','Regression':'mean_squared_error'},\n",
        "      metrics={'classification':'accuracy','Regression':'mae'}\n",
        "  )\n",
        "  history=model1.fit(X,\n",
        "                    {'classification':y1,'Regression':y2},\n",
        "                    epochs=300)\n",
        "\n"
      ],
      "metadata": {
        "colab": {
          "base_uri": "https://localhost:8080/"
        },
        "id": "QLc60EU0V4jX",
        "outputId": "678f72ad-80b8-43d7-d09c-206ed21bc090"
      },
      "execution_count": 93,
      "outputs": [
        {
          "output_type": "stream",
          "name": "stderr",
          "text": [
            "WARNING:urllib3.connectionpool:Retrying (Retry(total=4, connect=5, read=4, redirect=5, status=5)) after connection broken by 'RemoteDisconnected('Remote end closed connection without response')': /naimurborno/Microcontroller-detection.mlflow/api/2.0/mlflow/runs/create\n",
            "2024/03/09 05:28:04 INFO mlflow.types.utils: MLflow 2.9.0 introduces model signature with new data types for lists and dictionaries. For input such as Dict[str, Union[scalars, List, Dict]], we infer dictionary values types as `List -> Array` and `Dict -> Object`. \n"
          ]
        },
        {
          "output_type": "stream",
          "name": "stdout",
          "text": [
            "Epoch 1/300\n",
            "4/6 [===================>..........] - ETA: 0s - loss: 182.3571 - classification_loss: 0.4102 - Regression_loss: 181.9469 - classification_accuracy: 0.8047 - Regression_mae: 8.3533 "
          ]
        },
        {
          "output_type": "stream",
          "name": "stderr",
          "text": [
            "WARNING:tensorflow:Callback method `on_train_batch_end` is slow compared to the batch time (batch time: 0.0134s vs `on_train_batch_end` time: 0.0501s). Check your callbacks.\n",
            "2024/03/09 05:28:08 WARNING mlflow.utils.checkpoint_utils: Checkpoint logging is skipped, because checkpoint 'save_best_only' config is True, it requires to compare the monitored metric value, but the provided monitored metric value is not available.\n"
          ]
        },
        {
          "output_type": "stream",
          "name": "stdout",
          "text": [
            "\b\b\b\b\b\b\b\b\b\b\b\b\b\b\b\b\b\b\b\b\b\b\b\b\b\b\b\b\b\b\b\b\b\b\b\b\b\b\b\b\b\b\b\b\b\b\b\b\b\b\b\b\b\b\b\b\b\b\b\b\b\b\b\b\b\b\b\b\b\b\b\b\b\b\b\b\b\b\b\b\b\b\b\b\b\b\b\b\b\b\b\b\b\b\b\b\b\b\b\b\b\b\b\b\b\b\b\b\b\b\b\b\b\b\b\b\b\b\b\b\b\b\b\b\b\b\b\b\b\b\b\b\b\b\b\b\b\b\b\b\b\b\b\b\b\b\b\b\b\b\b\b\b\b\b\b\b\b\b\b\b\b\b\b\b\b\b\b\b\b\b\b\b\b\b\b\b\b\b\b\r6/6 [==============================] - 3s 21ms/step - loss: 191.4491 - classification_loss: 0.3993 - Regression_loss: 191.0497 - classification_accuracy: 0.8118 - Regression_mae: 8.5214\n",
            "Epoch 2/300\n",
            "5/6 [========================>.....] - ETA: 0s - loss: 164.9474 - classification_loss: 0.3692 - Regression_loss: 164.5782 - classification_accuracy: 0.8500 - Regression_mae: 7.6789"
          ]
        },
        {
          "output_type": "stream",
          "name": "stderr",
          "text": [
            "2024/03/09 05:28:08 WARNING mlflow.utils.checkpoint_utils: Checkpoint logging is skipped, because checkpoint 'save_best_only' config is True, it requires to compare the monitored metric value, but the provided monitored metric value is not available.\n"
          ]
        },
        {
          "output_type": "stream",
          "name": "stdout",
          "text": [
            "\b\b\b\b\b\b\b\b\b\b\b\b\b\b\b\b\b\b\b\b\b\b\b\b\b\b\b\b\b\b\b\b\b\b\b\b\b\b\b\b\b\b\b\b\b\b\b\b\b\b\b\b\b\b\b\b\b\b\b\b\b\b\b\b\b\b\b\b\b\b\b\b\b\b\b\b\b\b\b\b\b\b\b\b\b\b\b\b\b\b\b\b\b\b\b\b\b\b\b\b\b\b\b\b\b\b\b\b\b\b\b\b\b\b\b\b\b\b\b\b\b\b\b\b\b\b\b\b\b\b\b\b\b\b\b\b\b\b\b\b\b\b\b\b\b\b\b\b\b\b\b\b\b\b\b\b\b\b\b\b\b\b\b\b\b\b\b\b\b\b\b\b\b\b\b\b\b\b\b\b\r6/6 [==============================] - 0s 17ms/step - loss: 158.2582 - classification_loss: 0.3668 - Regression_loss: 157.8914 - classification_accuracy: 0.8529 - Regression_mae: 7.4804\n",
            "Epoch 3/300\n",
            "5/6 [========================>.....] - ETA: 0s - loss: 150.1063 - classification_loss: 0.4086 - Regression_loss: 149.6977 - classification_accuracy: 0.8500 - Regression_mae: 6.5593"
          ]
        },
        {
          "output_type": "stream",
          "name": "stderr",
          "text": [
            "2024/03/09 05:28:08 WARNING mlflow.utils.checkpoint_utils: Checkpoint logging is skipped, because checkpoint 'save_best_only' config is True, it requires to compare the monitored metric value, but the provided monitored metric value is not available.\n"
          ]
        },
        {
          "output_type": "stream",
          "name": "stdout",
          "text": [
            "\b\b\b\b\b\b\b\b\b\b\b\b\b\b\b\b\b\b\b\b\b\b\b\b\b\b\b\b\b\b\b\b\b\b\b\b\b\b\b\b\b\b\b\b\b\b\b\b\b\b\b\b\b\b\b\b\b\b\b\b\b\b\b\b\b\b\b\b\b\b\b\b\b\b\b\b\b\b\b\b\b\b\b\b\b\b\b\b\b\b\b\b\b\b\b\b\b\b\b\b\b\b\b\b\b\b\b\b\b\b\b\b\b\b\b\b\b\b\b\b\b\b\b\b\b\b\b\b\b\b\b\b\b\b\b\b\b\b\b\b\b\b\b\b\b\b\b\b\b\b\b\b\b\b\b\b\b\b\b\b\b\b\b\b\b\b\b\b\b\b\b\b\b\b\b\b\b\b\b\b\r6/6 [==============================] - 0s 19ms/step - loss: 155.1163 - classification_loss: 0.4151 - Regression_loss: 154.7012 - classification_accuracy: 0.8471 - Regression_mae: 6.7717\n",
            "Epoch 4/300\n",
            "4/6 [===================>..........] - ETA: 0s - loss: 153.1431 - classification_loss: 0.4192 - Regression_loss: 152.7239 - classification_accuracy: 0.8359 - Regression_mae: 7.0625"
          ]
        },
        {
          "output_type": "stream",
          "name": "stderr",
          "text": [
            "2024/03/09 05:28:08 WARNING mlflow.utils.checkpoint_utils: Checkpoint logging is skipped, because checkpoint 'save_best_only' config is True, it requires to compare the monitored metric value, but the provided monitored metric value is not available.\n"
          ]
        },
        {
          "output_type": "stream",
          "name": "stdout",
          "text": [
            "\b\b\b\b\b\b\b\b\b\b\b\b\b\b\b\b\b\b\b\b\b\b\b\b\b\b\b\b\b\b\b\b\b\b\b\b\b\b\b\b\b\b\b\b\b\b\b\b\b\b\b\b\b\b\b\b\b\b\b\b\b\b\b\b\b\b\b\b\b\b\b\b\b\b\b\b\b\b\b\b\b\b\b\b\b\b\b\b\b\b\b\b\b\b\b\b\b\b\b\b\b\b\b\b\b\b\b\b\b\b\b\b\b\b\b\b\b\b\b\b\b\b\b\b\b\b\b\b\b\b\b\b\b\b\b\b\b\b\b\b\b\b\b\b\b\b\b\b\b\b\b\b\b\b\b\b\b\b\b\b\b\b\b\b\b\b\b\b\b\b\b\b\b\b\b\b\b\b\b\b\r6/6 [==============================] - 0s 18ms/step - loss: 158.2197 - classification_loss: 0.4031 - Regression_loss: 157.8166 - classification_accuracy: 0.8412 - Regression_mae: 6.8032\n",
            "Epoch 5/300\n",
            "5/6 [========================>.....] - ETA: 0s - loss: 149.5910 - classification_loss: 0.3273 - Regression_loss: 149.2637 - classification_accuracy: 0.8500 - Regression_mae: 7.1593"
          ]
        },
        {
          "output_type": "stream",
          "name": "stderr",
          "text": [
            "2024/03/09 05:28:08 WARNING mlflow.utils.checkpoint_utils: Checkpoint logging is skipped, because checkpoint 'save_best_only' config is True, it requires to compare the monitored metric value, but the provided monitored metric value is not available.\n"
          ]
        },
        {
          "output_type": "stream",
          "name": "stdout",
          "text": [
            "\b\b\b\b\b\b\b\b\b\b\b\b\b\b\b\b\b\b\b\b\b\b\b\b\b\b\b\b\b\b\b\b\b\b\b\b\b\b\b\b\b\b\b\b\b\b\b\b\b\b\b\b\b\b\b\b\b\b\b\b\b\b\b\b\b\b\b\b\b\b\b\b\b\b\b\b\b\b\b\b\b\b\b\b\b\b\b\b\b\b\b\b\b\b\b\b\b\b\b\b\b\b\b\b\b\b\b\b\b\b\b\b\b\b\b\b\b\b\b\b\b\b\b\b\b\b\b\b\b\b\b\b\b\b\b\b\b\b\b\b\b\b\b\b\b\b\b\b\b\b\b\b\b\b\b\b\b\b\b\b\b\b\b\b\b\b\b\b\b\b\b\b\b\b\b\b\b\b\b\b\r6/6 [==============================] - 0s 17ms/step - loss: 161.8407 - classification_loss: 0.3351 - Regression_loss: 161.5056 - classification_accuracy: 0.8471 - Regression_mae: 7.3320\n",
            "Epoch 6/300\n",
            "4/6 [===================>..........] - ETA: 0s - loss: 159.5617 - classification_loss: 0.3509 - Regression_loss: 159.2107 - classification_accuracy: 0.8438 - Regression_mae: 7.1251"
          ]
        },
        {
          "output_type": "stream",
          "name": "stderr",
          "text": [
            "2024/03/09 05:28:09 WARNING mlflow.utils.checkpoint_utils: Checkpoint logging is skipped, because checkpoint 'save_best_only' config is True, it requires to compare the monitored metric value, but the provided monitored metric value is not available.\n"
          ]
        },
        {
          "output_type": "stream",
          "name": "stdout",
          "text": [
            "\b\b\b\b\b\b\b\b\b\b\b\b\b\b\b\b\b\b\b\b\b\b\b\b\b\b\b\b\b\b\b\b\b\b\b\b\b\b\b\b\b\b\b\b\b\b\b\b\b\b\b\b\b\b\b\b\b\b\b\b\b\b\b\b\b\b\b\b\b\b\b\b\b\b\b\b\b\b\b\b\b\b\b\b\b\b\b\b\b\b\b\b\b\b\b\b\b\b\b\b\b\b\b\b\b\b\b\b\b\b\b\b\b\b\b\b\b\b\b\b\b\b\b\b\b\b\b\b\b\b\b\b\b\b\b\b\b\b\b\b\b\b\b\b\b\b\b\b\b\b\b\b\b\b\b\b\b\b\b\b\b\b\b\b\b\b\b\b\b\b\b\b\b\b\b\b\b\b\b\b\r6/6 [==============================] - 0s 18ms/step - loss: 156.6602 - classification_loss: 0.3553 - Regression_loss: 156.3049 - classification_accuracy: 0.8412 - Regression_mae: 6.9818\n",
            "Epoch 7/300\n",
            "5/6 [========================>.....] - ETA: 0s - loss: 156.6937 - classification_loss: 0.3497 - Regression_loss: 156.3440 - classification_accuracy: 0.8562 - Regression_mae: 6.8895"
          ]
        },
        {
          "output_type": "stream",
          "name": "stderr",
          "text": [
            "2024/03/09 05:28:09 WARNING mlflow.utils.checkpoint_utils: Checkpoint logging is skipped, because checkpoint 'save_best_only' config is True, it requires to compare the monitored metric value, but the provided monitored metric value is not available.\n"
          ]
        },
        {
          "output_type": "stream",
          "name": "stdout",
          "text": [
            "\b\b\b\b\b\b\b\b\b\b\b\b\b\b\b\b\b\b\b\b\b\b\b\b\b\b\b\b\b\b\b\b\b\b\b\b\b\b\b\b\b\b\b\b\b\b\b\b\b\b\b\b\b\b\b\b\b\b\b\b\b\b\b\b\b\b\b\b\b\b\b\b\b\b\b\b\b\b\b\b\b\b\b\b\b\b\b\b\b\b\b\b\b\b\b\b\b\b\b\b\b\b\b\b\b\b\b\b\b\b\b\b\b\b\b\b\b\b\b\b\b\b\b\b\b\b\b\b\b\b\b\b\b\b\b\b\b\b\b\b\b\b\b\b\b\b\b\b\b\b\b\b\b\b\b\b\b\b\b\b\b\b\b\b\b\b\b\b\b\b\b\b\b\b\b\b\b\b\b\b\r6/6 [==============================] - 0s 19ms/step - loss: 157.1207 - classification_loss: 0.3650 - Regression_loss: 156.7557 - classification_accuracy: 0.8529 - Regression_mae: 6.8928\n",
            "Epoch 8/300\n",
            "5/6 [========================>.....] - ETA: 0s - loss: 160.0039 - classification_loss: 0.3735 - Regression_loss: 159.6304 - classification_accuracy: 0.8438 - Regression_mae: 7.2896"
          ]
        },
        {
          "output_type": "stream",
          "name": "stderr",
          "text": [
            "2024/03/09 05:28:09 WARNING mlflow.utils.checkpoint_utils: Checkpoint logging is skipped, because checkpoint 'save_best_only' config is True, it requires to compare the monitored metric value, but the provided monitored metric value is not available.\n"
          ]
        },
        {
          "output_type": "stream",
          "name": "stdout",
          "text": [
            "\b\b\b\b\b\b\b\b\b\b\b\b\b\b\b\b\b\b\b\b\b\b\b\b\b\b\b\b\b\b\b\b\b\b\b\b\b\b\b\b\b\b\b\b\b\b\b\b\b\b\b\b\b\b\b\b\b\b\b\b\b\b\b\b\b\b\b\b\b\b\b\b\b\b\b\b\b\b\b\b\b\b\b\b\b\b\b\b\b\b\b\b\b\b\b\b\b\b\b\b\b\b\b\b\b\b\b\b\b\b\b\b\b\b\b\b\b\b\b\b\b\b\b\b\b\b\b\b\b\b\b\b\b\b\b\b\b\b\b\b\b\b\b\b\b\b\b\b\b\b\b\b\b\b\b\b\b\b\b\b\b\b\b\b\b\b\b\b\b\b\b\b\b\b\b\b\b\b\b\b\r6/6 [==============================] - 0s 18ms/step - loss: 157.5475 - classification_loss: 0.3790 - Regression_loss: 157.1685 - classification_accuracy: 0.8412 - Regression_mae: 7.2634\n",
            "Epoch 9/300\n",
            "5/6 [========================>.....] - ETA: 0s - loss: 159.5458 - classification_loss: 0.3704 - Regression_loss: 159.1754 - classification_accuracy: 0.8313 - Regression_mae: 7.2699"
          ]
        },
        {
          "output_type": "stream",
          "name": "stderr",
          "text": [
            "2024/03/09 05:28:09 WARNING mlflow.utils.checkpoint_utils: Checkpoint logging is skipped, because checkpoint 'save_best_only' config is True, it requires to compare the monitored metric value, but the provided monitored metric value is not available.\n"
          ]
        },
        {
          "output_type": "stream",
          "name": "stdout",
          "text": [
            "\b\b\b\b\b\b\b\b\b\b\b\b\b\b\b\b\b\b\b\b\b\b\b\b\b\b\b\b\b\b\b\b\b\b\b\b\b\b\b\b\b\b\b\b\b\b\b\b\b\b\b\b\b\b\b\b\b\b\b\b\b\b\b\b\b\b\b\b\b\b\b\b\b\b\b\b\b\b\b\b\b\b\b\b\b\b\b\b\b\b\b\b\b\b\b\b\b\b\b\b\b\b\b\b\b\b\b\b\b\b\b\b\b\b\b\b\b\b\b\b\b\b\b\b\b\b\b\b\b\b\b\b\b\b\b\b\b\b\b\b\b\b\b\b\b\b\b\b\b\b\b\b\b\b\b\b\b\b\b\b\b\b\b\b\b\b\b\b\b\b\b\b\b\b\b\b\b\b\b\b\r6/6 [==============================] - 0s 18ms/step - loss: 160.5658 - classification_loss: 0.3786 - Regression_loss: 160.1872 - classification_accuracy: 0.8235 - Regression_mae: 7.2878\n",
            "Epoch 10/300\n",
            "5/6 [========================>.....] - ETA: 0s - loss: 150.0512 - classification_loss: 0.3448 - Regression_loss: 149.7065 - classification_accuracy: 0.8500 - Regression_mae: 6.8730"
          ]
        },
        {
          "output_type": "stream",
          "name": "stderr",
          "text": [
            "2024/03/09 05:28:09 WARNING mlflow.utils.checkpoint_utils: Checkpoint logging is skipped, because checkpoint 'save_best_only' config is True, it requires to compare the monitored metric value, but the provided monitored metric value is not available.\n"
          ]
        },
        {
          "output_type": "stream",
          "name": "stdout",
          "text": [
            "\b\b\b\b\b\b\b\b\b\b\b\b\b\b\b\b\b\b\b\b\b\b\b\b\b\b\b\b\b\b\b\b\b\b\b\b\b\b\b\b\b\b\b\b\b\b\b\b\b\b\b\b\b\b\b\b\b\b\b\b\b\b\b\b\b\b\b\b\b\b\b\b\b\b\b\b\b\b\b\b\b\b\b\b\b\b\b\b\b\b\b\b\b\b\b\b\b\b\b\b\b\b\b\b\b\b\b\b\b\b\b\b\b\b\b\b\b\b\b\b\b\b\b\b\b\b\b\b\b\b\b\b\b\b\b\b\b\b\b\b\b\b\b\b\b\b\b\b\b\b\b\b\b\b\b\b\b\b\b\b\b\b\b\b\b\b\b\b\b\b\b\b\b\b\b\b\b\b\b\b\r6/6 [==============================] - 0s 17ms/step - loss: 160.8610 - classification_loss: 0.3543 - Regression_loss: 160.5067 - classification_accuracy: 0.8412 - Regression_mae: 7.1378\n",
            "Epoch 11/300\n",
            "5/6 [========================>.....] - ETA: 0s - loss: 154.5776 - classification_loss: 0.3237 - Regression_loss: 154.2539 - classification_accuracy: 0.8562 - Regression_mae: 6.4999"
          ]
        },
        {
          "output_type": "stream",
          "name": "stderr",
          "text": [
            "2024/03/09 05:28:09 WARNING mlflow.utils.checkpoint_utils: Checkpoint logging is skipped, because checkpoint 'save_best_only' config is True, it requires to compare the monitored metric value, but the provided monitored metric value is not available.\n"
          ]
        },
        {
          "output_type": "stream",
          "name": "stdout",
          "text": [
            "\b\b\b\b\b\b\b\b\b\b\b\b\b\b\b\b\b\b\b\b\b\b\b\b\b\b\b\b\b\b\b\b\b\b\b\b\b\b\b\b\b\b\b\b\b\b\b\b\b\b\b\b\b\b\b\b\b\b\b\b\b\b\b\b\b\b\b\b\b\b\b\b\b\b\b\b\b\b\b\b\b\b\b\b\b\b\b\b\b\b\b\b\b\b\b\b\b\b\b\b\b\b\b\b\b\b\b\b\b\b\b\b\b\b\b\b\b\b\b\b\b\b\b\b\b\b\b\b\b\b\b\b\b\b\b\b\b\b\b\b\b\b\b\b\b\b\b\b\b\b\b\b\b\b\b\b\b\b\b\b\b\b\b\b\b\b\b\b\b\b\b\b\b\b\b\b\b\b\b\b\r6/6 [==============================] - 0s 17ms/step - loss: 152.6728 - classification_loss: 0.3266 - Regression_loss: 152.3461 - classification_accuracy: 0.8529 - Regression_mae: 6.4796\n",
            "Epoch 12/300\n",
            "5/6 [========================>.....] - ETA: 0s - loss: 156.9993 - classification_loss: 0.3571 - Regression_loss: 156.6422 - classification_accuracy: 0.8313 - Regression_mae: 6.7469"
          ]
        },
        {
          "output_type": "stream",
          "name": "stderr",
          "text": [
            "2024/03/09 05:28:09 WARNING mlflow.utils.checkpoint_utils: Checkpoint logging is skipped, because checkpoint 'save_best_only' config is True, it requires to compare the monitored metric value, but the provided monitored metric value is not available.\n"
          ]
        },
        {
          "output_type": "stream",
          "name": "stdout",
          "text": [
            "\b\b\b\b\b\b\b\b\b\b\b\b\b\b\b\b\b\b\b\b\b\b\b\b\b\b\b\b\b\b\b\b\b\b\b\b\b\b\b\b\b\b\b\b\b\b\b\b\b\b\b\b\b\b\b\b\b\b\b\b\b\b\b\b\b\b\b\b\b\b\b\b\b\b\b\b\b\b\b\b\b\b\b\b\b\b\b\b\b\b\b\b\b\b\b\b\b\b\b\b\b\b\b\b\b\b\b\b\b\b\b\b\b\b\b\b\b\b\b\b\b\b\b\b\b\b\b\b\b\b\b\b\b\b\b\b\b\b\b\b\b\b\b\b\b\b\b\b\b\b\b\b\b\b\b\b\b\b\b\b\b\b\b\b\b\b\b\b\b\b\b\b\b\b\b\b\b\b\b\b\r6/6 [==============================] - 0s 20ms/step - loss: 153.6220 - classification_loss: 0.3445 - Regression_loss: 153.2775 - classification_accuracy: 0.8412 - Regression_mae: 6.5744\n",
            "Epoch 13/300\n",
            "4/6 [===================>..........] - ETA: 0s - loss: 159.4808 - classification_loss: 0.3204 - Regression_loss: 159.1603 - classification_accuracy: 0.8594 - Regression_mae: 6.5862"
          ]
        },
        {
          "output_type": "stream",
          "name": "stderr",
          "text": [
            "2024/03/09 05:28:09 WARNING mlflow.utils.checkpoint_utils: Checkpoint logging is skipped, because checkpoint 'save_best_only' config is True, it requires to compare the monitored metric value, but the provided monitored metric value is not available.\n"
          ]
        },
        {
          "output_type": "stream",
          "name": "stdout",
          "text": [
            "\b\b\b\b\b\b\b\b\b\b\b\b\b\b\b\b\b\b\b\b\b\b\b\b\b\b\b\b\b\b\b\b\b\b\b\b\b\b\b\b\b\b\b\b\b\b\b\b\b\b\b\b\b\b\b\b\b\b\b\b\b\b\b\b\b\b\b\b\b\b\b\b\b\b\b\b\b\b\b\b\b\b\b\b\b\b\b\b\b\b\b\b\b\b\b\b\b\b\b\b\b\b\b\b\b\b\b\b\b\b\b\b\b\b\b\b\b\b\b\b\b\b\b\b\b\b\b\b\b\b\b\b\b\b\b\b\b\b\b\b\b\b\b\b\b\b\b\b\b\b\b\b\b\b\b\b\b\b\b\b\b\b\b\b\b\b\b\b\b\b\b\b\b\b\b\b\b\b\b\b\r6/6 [==============================] - 0s 18ms/step - loss: 150.8922 - classification_loss: 0.3564 - Regression_loss: 150.5358 - classification_accuracy: 0.8412 - Regression_mae: 6.4306\n",
            "Epoch 14/300\n",
            "5/6 [========================>.....] - ETA: 0s - loss: 152.1783 - classification_loss: 0.3339 - Regression_loss: 151.8444 - classification_accuracy: 0.8375 - Regression_mae: 6.5234"
          ]
        },
        {
          "output_type": "stream",
          "name": "stderr",
          "text": [
            "2024/03/09 05:28:09 WARNING mlflow.utils.checkpoint_utils: Checkpoint logging is skipped, because checkpoint 'save_best_only' config is True, it requires to compare the monitored metric value, but the provided monitored metric value is not available.\n"
          ]
        },
        {
          "output_type": "stream",
          "name": "stdout",
          "text": [
            "\b\b\b\b\b\b\b\b\b\b\b\b\b\b\b\b\b\b\b\b\b\b\b\b\b\b\b\b\b\b\b\b\b\b\b\b\b\b\b\b\b\b\b\b\b\b\b\b\b\b\b\b\b\b\b\b\b\b\b\b\b\b\b\b\b\b\b\b\b\b\b\b\b\b\b\b\b\b\b\b\b\b\b\b\b\b\b\b\b\b\b\b\b\b\b\b\b\b\b\b\b\b\b\b\b\b\b\b\b\b\b\b\b\b\b\b\b\b\b\b\b\b\b\b\b\b\b\b\b\b\b\b\b\b\b\b\b\b\b\b\b\b\b\b\b\b\b\b\b\b\b\b\b\b\b\b\b\b\b\b\b\b\b\b\b\b\b\b\b\b\b\b\b\b\b\b\b\b\b\b\r6/6 [==============================] - 0s 17ms/step - loss: 153.0085 - classification_loss: 0.3345 - Regression_loss: 152.6740 - classification_accuracy: 0.8412 - Regression_mae: 6.4791\n",
            "Epoch 15/300\n",
            "5/6 [========================>.....] - ETA: 0s - loss: 151.2274 - classification_loss: 0.3482 - Regression_loss: 150.8791 - classification_accuracy: 0.8125 - Regression_mae: 6.0852"
          ]
        },
        {
          "output_type": "stream",
          "name": "stderr",
          "text": [
            "2024/03/09 05:28:10 WARNING mlflow.utils.checkpoint_utils: Checkpoint logging is skipped, because checkpoint 'save_best_only' config is True, it requires to compare the monitored metric value, but the provided monitored metric value is not available.\n"
          ]
        },
        {
          "output_type": "stream",
          "name": "stdout",
          "text": [
            "\b\b\b\b\b\b\b\b\b\b\b\b\b\b\b\b\b\b\b\b\b\b\b\b\b\b\b\b\b\b\b\b\b\b\b\b\b\b\b\b\b\b\b\b\b\b\b\b\b\b\b\b\b\b\b\b\b\b\b\b\b\b\b\b\b\b\b\b\b\b\b\b\b\b\b\b\b\b\b\b\b\b\b\b\b\b\b\b\b\b\b\b\b\b\b\b\b\b\b\b\b\b\b\b\b\b\b\b\b\b\b\b\b\b\b\b\b\b\b\b\b\b\b\b\b\b\b\b\b\b\b\b\b\b\b\b\b\b\b\b\b\b\b\b\b\b\b\b\b\b\b\b\b\b\b\b\b\b\b\b\b\b\b\b\b\b\b\b\b\b\b\b\b\b\b\b\b\b\b\b\r6/6 [==============================] - 0s 18ms/step - loss: 150.4016 - classification_loss: 0.3718 - Regression_loss: 150.0298 - classification_accuracy: 0.8000 - Regression_mae: 6.1349\n",
            "Epoch 16/300\n",
            "5/6 [========================>.....] - ETA: 0s - loss: 150.0236 - classification_loss: 0.3187 - Regression_loss: 149.7048 - classification_accuracy: 0.8500 - Regression_mae: 6.6566"
          ]
        },
        {
          "output_type": "stream",
          "name": "stderr",
          "text": [
            "2024/03/09 05:28:10 WARNING mlflow.utils.checkpoint_utils: Checkpoint logging is skipped, because checkpoint 'save_best_only' config is True, it requires to compare the monitored metric value, but the provided monitored metric value is not available.\n"
          ]
        },
        {
          "output_type": "stream",
          "name": "stdout",
          "text": [
            "\b\b\b\b\b\b\b\b\b\b\b\b\b\b\b\b\b\b\b\b\b\b\b\b\b\b\b\b\b\b\b\b\b\b\b\b\b\b\b\b\b\b\b\b\b\b\b\b\b\b\b\b\b\b\b\b\b\b\b\b\b\b\b\b\b\b\b\b\b\b\b\b\b\b\b\b\b\b\b\b\b\b\b\b\b\b\b\b\b\b\b\b\b\b\b\b\b\b\b\b\b\b\b\b\b\b\b\b\b\b\b\b\b\b\b\b\b\b\b\b\b\b\b\b\b\b\b\b\b\b\b\b\b\b\b\b\b\b\b\b\b\b\b\b\b\b\b\b\b\b\b\b\b\b\b\b\b\b\b\b\b\b\b\b\b\b\b\b\b\b\b\b\b\b\b\b\b\b\b\b\r6/6 [==============================] - 0s 17ms/step - loss: 155.9704 - classification_loss: 0.3417 - Regression_loss: 155.6287 - classification_accuracy: 0.8353 - Regression_mae: 6.8133\n",
            "Epoch 17/300\n",
            "5/6 [========================>.....] - ETA: 0s - loss: 167.7817 - classification_loss: 0.3723 - Regression_loss: 167.4094 - classification_accuracy: 0.8125 - Regression_mae: 7.3719"
          ]
        },
        {
          "output_type": "stream",
          "name": "stderr",
          "text": [
            "2024/03/09 05:28:10 WARNING mlflow.utils.checkpoint_utils: Checkpoint logging is skipped, because checkpoint 'save_best_only' config is True, it requires to compare the monitored metric value, but the provided monitored metric value is not available.\n"
          ]
        },
        {
          "output_type": "stream",
          "name": "stdout",
          "text": [
            "\b\b\b\b\b\b\b\b\b\b\b\b\b\b\b\b\b\b\b\b\b\b\b\b\b\b\b\b\b\b\b\b\b\b\b\b\b\b\b\b\b\b\b\b\b\b\b\b\b\b\b\b\b\b\b\b\b\b\b\b\b\b\b\b\b\b\b\b\b\b\b\b\b\b\b\b\b\b\b\b\b\b\b\b\b\b\b\b\b\b\b\b\b\b\b\b\b\b\b\b\b\b\b\b\b\b\b\b\b\b\b\b\b\b\b\b\b\b\b\b\b\b\b\b\b\b\b\b\b\b\b\b\b\b\b\b\b\b\b\b\b\b\b\b\b\b\b\b\b\b\b\b\b\b\b\b\b\b\b\b\b\b\b\b\b\b\b\b\b\b\b\b\b\b\b\b\b\b\b\b\r6/6 [==============================] - 0s 17ms/step - loss: 158.2544 - classification_loss: 0.3573 - Regression_loss: 157.8971 - classification_accuracy: 0.8235 - Regression_mae: 7.0579\n",
            "Epoch 18/300\n",
            "5/6 [========================>.....] - ETA: 0s - loss: 163.0203 - classification_loss: 0.3459 - Regression_loss: 162.6744 - classification_accuracy: 0.8375 - Regression_mae: 6.8948"
          ]
        },
        {
          "output_type": "stream",
          "name": "stderr",
          "text": [
            "2024/03/09 05:28:10 WARNING mlflow.utils.checkpoint_utils: Checkpoint logging is skipped, because checkpoint 'save_best_only' config is True, it requires to compare the monitored metric value, but the provided monitored metric value is not available.\n"
          ]
        },
        {
          "output_type": "stream",
          "name": "stdout",
          "text": [
            "\b\b\b\b\b\b\b\b\b\b\b\b\b\b\b\b\b\b\b\b\b\b\b\b\b\b\b\b\b\b\b\b\b\b\b\b\b\b\b\b\b\b\b\b\b\b\b\b\b\b\b\b\b\b\b\b\b\b\b\b\b\b\b\b\b\b\b\b\b\b\b\b\b\b\b\b\b\b\b\b\b\b\b\b\b\b\b\b\b\b\b\b\b\b\b\b\b\b\b\b\b\b\b\b\b\b\b\b\b\b\b\b\b\b\b\b\b\b\b\b\b\b\b\b\b\b\b\b\b\b\b\b\b\b\b\b\b\b\b\b\b\b\b\b\b\b\b\b\b\b\b\b\b\b\b\b\b\b\b\b\b\b\b\b\b\b\b\b\b\b\b\b\b\b\b\b\b\b\b\b\r6/6 [==============================] - 0s 17ms/step - loss: 155.0894 - classification_loss: 0.3425 - Regression_loss: 154.7469 - classification_accuracy: 0.8412 - Regression_mae: 6.6932\n",
            "Epoch 19/300\n",
            "5/6 [========================>.....] - ETA: 0s - loss: 148.4137 - classification_loss: 0.3200 - Regression_loss: 148.0937 - classification_accuracy: 0.8250 - Regression_mae: 6.1330"
          ]
        },
        {
          "output_type": "stream",
          "name": "stderr",
          "text": [
            "2024/03/09 05:28:10 WARNING mlflow.utils.checkpoint_utils: Checkpoint logging is skipped, because checkpoint 'save_best_only' config is True, it requires to compare the monitored metric value, but the provided monitored metric value is not available.\n"
          ]
        },
        {
          "output_type": "stream",
          "name": "stdout",
          "text": [
            "\b\b\b\b\b\b\b\b\b\b\b\b\b\b\b\b\b\b\b\b\b\b\b\b\b\b\b\b\b\b\b\b\b\b\b\b\b\b\b\b\b\b\b\b\b\b\b\b\b\b\b\b\b\b\b\b\b\b\b\b\b\b\b\b\b\b\b\b\b\b\b\b\b\b\b\b\b\b\b\b\b\b\b\b\b\b\b\b\b\b\b\b\b\b\b\b\b\b\b\b\b\b\b\b\b\b\b\b\b\b\b\b\b\b\b\b\b\b\b\b\b\b\b\b\b\b\b\b\b\b\b\b\b\b\b\b\b\b\b\b\b\b\b\b\b\b\b\b\b\b\b\b\b\b\b\b\b\b\b\b\b\b\b\b\b\b\b\b\b\b\b\b\b\b\b\b\b\b\b\b\r6/6 [==============================] - 0s 18ms/step - loss: 150.0712 - classification_loss: 0.3248 - Regression_loss: 149.7464 - classification_accuracy: 0.8235 - Regression_mae: 6.2159\n",
            "Epoch 20/300\n",
            "5/6 [========================>.....] - ETA: 0s - loss: 161.5296 - classification_loss: 0.3496 - Regression_loss: 161.1800 - classification_accuracy: 0.8313 - Regression_mae: 7.1596"
          ]
        },
        {
          "output_type": "stream",
          "name": "stderr",
          "text": [
            "2024/03/09 05:28:10 WARNING mlflow.utils.checkpoint_utils: Checkpoint logging is skipped, because checkpoint 'save_best_only' config is True, it requires to compare the monitored metric value, but the provided monitored metric value is not available.\n"
          ]
        },
        {
          "output_type": "stream",
          "name": "stdout",
          "text": [
            "\b\b\b\b\b\b\b\b\b\b\b\b\b\b\b\b\b\b\b\b\b\b\b\b\b\b\b\b\b\b\b\b\b\b\b\b\b\b\b\b\b\b\b\b\b\b\b\b\b\b\b\b\b\b\b\b\b\b\b\b\b\b\b\b\b\b\b\b\b\b\b\b\b\b\b\b\b\b\b\b\b\b\b\b\b\b\b\b\b\b\b\b\b\b\b\b\b\b\b\b\b\b\b\b\b\b\b\b\b\b\b\b\b\b\b\b\b\b\b\b\b\b\b\b\b\b\b\b\b\b\b\b\b\b\b\b\b\b\b\b\b\b\b\b\b\b\b\b\b\b\b\b\b\b\b\b\b\b\b\b\b\b\b\b\b\b\b\b\b\b\b\b\b\b\b\b\b\b\b\b\r6/6 [==============================] - 0s 17ms/step - loss: 158.0739 - classification_loss: 0.3421 - Regression_loss: 157.7319 - classification_accuracy: 0.8412 - Regression_mae: 6.9749\n",
            "Epoch 21/300\n",
            "4/6 [===================>..........] - ETA: 0s - loss: 133.4779 - classification_loss: 0.2912 - Regression_loss: 133.1866 - classification_accuracy: 0.8516 - Regression_mae: 6.1383"
          ]
        },
        {
          "output_type": "stream",
          "name": "stderr",
          "text": [
            "2024/03/09 05:28:10 WARNING mlflow.utils.checkpoint_utils: Checkpoint logging is skipped, because checkpoint 'save_best_only' config is True, it requires to compare the monitored metric value, but the provided monitored metric value is not available.\n"
          ]
        },
        {
          "output_type": "stream",
          "name": "stdout",
          "text": [
            "\b\b\b\b\b\b\b\b\b\b\b\b\b\b\b\b\b\b\b\b\b\b\b\b\b\b\b\b\b\b\b\b\b\b\b\b\b\b\b\b\b\b\b\b\b\b\b\b\b\b\b\b\b\b\b\b\b\b\b\b\b\b\b\b\b\b\b\b\b\b\b\b\b\b\b\b\b\b\b\b\b\b\b\b\b\b\b\b\b\b\b\b\b\b\b\b\b\b\b\b\b\b\b\b\b\b\b\b\b\b\b\b\b\b\b\b\b\b\b\b\b\b\b\b\b\b\b\b\b\b\b\b\b\b\b\b\b\b\b\b\b\b\b\b\b\b\b\b\b\b\b\b\b\b\b\b\b\b\b\b\b\b\b\b\b\b\b\b\b\b\b\b\b\b\b\b\b\b\b\b\r6/6 [==============================] - 0s 20ms/step - loss: 152.4472 - classification_loss: 0.3247 - Regression_loss: 152.1225 - classification_accuracy: 0.8294 - Regression_mae: 6.6800\n",
            "Epoch 22/300\n",
            "4/6 [===================>..........] - ETA: 0s - loss: 138.6170 - classification_loss: 0.2696 - Regression_loss: 138.3474 - classification_accuracy: 0.8750 - Regression_mae: 6.4461"
          ]
        },
        {
          "output_type": "stream",
          "name": "stderr",
          "text": [
            "2024/03/09 05:28:10 WARNING mlflow.utils.checkpoint_utils: Checkpoint logging is skipped, because checkpoint 'save_best_only' config is True, it requires to compare the monitored metric value, but the provided monitored metric value is not available.\n"
          ]
        },
        {
          "output_type": "stream",
          "name": "stdout",
          "text": [
            "\b\b\b\b\b\b\b\b\b\b\b\b\b\b\b\b\b\b\b\b\b\b\b\b\b\b\b\b\b\b\b\b\b\b\b\b\b\b\b\b\b\b\b\b\b\b\b\b\b\b\b\b\b\b\b\b\b\b\b\b\b\b\b\b\b\b\b\b\b\b\b\b\b\b\b\b\b\b\b\b\b\b\b\b\b\b\b\b\b\b\b\b\b\b\b\b\b\b\b\b\b\b\b\b\b\b\b\b\b\b\b\b\b\b\b\b\b\b\b\b\b\b\b\b\b\b\b\b\b\b\b\b\b\b\b\b\b\b\b\b\b\b\b\b\b\b\b\b\b\b\b\b\b\b\b\b\b\b\b\b\b\b\b\b\b\b\b\b\b\b\b\b\b\b\b\b\b\b\b\b\r6/6 [==============================] - 0s 18ms/step - loss: 157.5813 - classification_loss: 0.3280 - Regression_loss: 157.2532 - classification_accuracy: 0.8294 - Regression_mae: 6.9634\n",
            "Epoch 23/300\n",
            "5/6 [========================>.....] - ETA: 0s - loss: 153.3999 - classification_loss: 0.3190 - Regression_loss: 153.0809 - classification_accuracy: 0.8562 - Regression_mae: 7.6443"
          ]
        },
        {
          "output_type": "stream",
          "name": "stderr",
          "text": [
            "2024/03/09 05:28:10 WARNING mlflow.utils.checkpoint_utils: Checkpoint logging is skipped, because checkpoint 'save_best_only' config is True, it requires to compare the monitored metric value, but the provided monitored metric value is not available.\n"
          ]
        },
        {
          "output_type": "stream",
          "name": "stdout",
          "text": [
            "\b\b\b\b\b\b\b\b\b\b\b\b\b\b\b\b\b\b\b\b\b\b\b\b\b\b\b\b\b\b\b\b\b\b\b\b\b\b\b\b\b\b\b\b\b\b\b\b\b\b\b\b\b\b\b\b\b\b\b\b\b\b\b\b\b\b\b\b\b\b\b\b\b\b\b\b\b\b\b\b\b\b\b\b\b\b\b\b\b\b\b\b\b\b\b\b\b\b\b\b\b\b\b\b\b\b\b\b\b\b\b\b\b\b\b\b\b\b\b\b\b\b\b\b\b\b\b\b\b\b\b\b\b\b\b\b\b\b\b\b\b\b\b\b\b\b\b\b\b\b\b\b\b\b\b\b\b\b\b\b\b\b\b\b\b\b\b\b\b\b\b\b\b\b\b\b\b\b\b\b\r6/6 [==============================] - 0s 17ms/step - loss: 158.8021 - classification_loss: 0.3319 - Regression_loss: 158.4702 - classification_accuracy: 0.8529 - Regression_mae: 7.7897\n",
            "Epoch 24/300\n",
            "5/6 [========================>.....] - ETA: 0s - loss: 156.6412 - classification_loss: 0.3650 - Regression_loss: 156.2763 - classification_accuracy: 0.8188 - Regression_mae: 7.2227"
          ]
        },
        {
          "output_type": "stream",
          "name": "stderr",
          "text": [
            "2024/03/09 05:28:11 WARNING mlflow.utils.checkpoint_utils: Checkpoint logging is skipped, because checkpoint 'save_best_only' config is True, it requires to compare the monitored metric value, but the provided monitored metric value is not available.\n"
          ]
        },
        {
          "output_type": "stream",
          "name": "stdout",
          "text": [
            "\b\b\b\b\b\b\b\b\b\b\b\b\b\b\b\b\b\b\b\b\b\b\b\b\b\b\b\b\b\b\b\b\b\b\b\b\b\b\b\b\b\b\b\b\b\b\b\b\b\b\b\b\b\b\b\b\b\b\b\b\b\b\b\b\b\b\b\b\b\b\b\b\b\b\b\b\b\b\b\b\b\b\b\b\b\b\b\b\b\b\b\b\b\b\b\b\b\b\b\b\b\b\b\b\b\b\b\b\b\b\b\b\b\b\b\b\b\b\b\b\b\b\b\b\b\b\b\b\b\b\b\b\b\b\b\b\b\b\b\b\b\b\b\b\b\b\b\b\b\b\b\b\b\b\b\b\b\b\b\b\b\b\b\b\b\b\b\b\b\b\b\b\b\b\b\b\b\b\b\b\r6/6 [==============================] - 0s 18ms/step - loss: 156.0210 - classification_loss: 0.3662 - Regression_loss: 155.6548 - classification_accuracy: 0.8235 - Regression_mae: 7.3292\n",
            "Epoch 25/300\n",
            "5/6 [========================>.....] - ETA: 0s - loss: 146.2591 - classification_loss: 0.3179 - Regression_loss: 145.9411 - classification_accuracy: 0.8562 - Regression_mae: 6.7331"
          ]
        },
        {
          "output_type": "stream",
          "name": "stderr",
          "text": [
            "2024/03/09 05:28:11 WARNING mlflow.utils.checkpoint_utils: Checkpoint logging is skipped, because checkpoint 'save_best_only' config is True, it requires to compare the monitored metric value, but the provided monitored metric value is not available.\n"
          ]
        },
        {
          "output_type": "stream",
          "name": "stdout",
          "text": [
            "\b\b\b\b\b\b\b\b\b\b\b\b\b\b\b\b\b\b\b\b\b\b\b\b\b\b\b\b\b\b\b\b\b\b\b\b\b\b\b\b\b\b\b\b\b\b\b\b\b\b\b\b\b\b\b\b\b\b\b\b\b\b\b\b\b\b\b\b\b\b\b\b\b\b\b\b\b\b\b\b\b\b\b\b\b\b\b\b\b\b\b\b\b\b\b\b\b\b\b\b\b\b\b\b\b\b\b\b\b\b\b\b\b\b\b\b\b\b\b\b\b\b\b\b\b\b\b\b\b\b\b\b\b\b\b\b\b\b\b\b\b\b\b\b\b\b\b\b\b\b\b\b\b\b\b\b\b\b\b\b\b\b\b\b\b\b\b\b\b\b\b\b\b\b\b\b\b\b\b\b\r6/6 [==============================] - 0s 17ms/step - loss: 156.3065 - classification_loss: 0.3426 - Regression_loss: 155.9639 - classification_accuracy: 0.8471 - Regression_mae: 6.9968\n",
            "Epoch 26/300\n",
            "4/6 [===================>..........] - ETA: 0s - loss: 173.7350 - classification_loss: 0.3954 - Regression_loss: 173.3396 - classification_accuracy: 0.8047 - Regression_mae: 7.8616"
          ]
        },
        {
          "output_type": "stream",
          "name": "stderr",
          "text": [
            "2024/03/09 05:28:11 WARNING mlflow.utils.checkpoint_utils: Checkpoint logging is skipped, because checkpoint 'save_best_only' config is True, it requires to compare the monitored metric value, but the provided monitored metric value is not available.\n"
          ]
        },
        {
          "output_type": "stream",
          "name": "stdout",
          "text": [
            "\b\b\b\b\b\b\b\b\b\b\b\b\b\b\b\b\b\b\b\b\b\b\b\b\b\b\b\b\b\b\b\b\b\b\b\b\b\b\b\b\b\b\b\b\b\b\b\b\b\b\b\b\b\b\b\b\b\b\b\b\b\b\b\b\b\b\b\b\b\b\b\b\b\b\b\b\b\b\b\b\b\b\b\b\b\b\b\b\b\b\b\b\b\b\b\b\b\b\b\b\b\b\b\b\b\b\b\b\b\b\b\b\b\b\b\b\b\b\b\b\b\b\b\b\b\b\b\b\b\b\b\b\b\b\b\b\b\b\b\b\b\b\b\b\b\b\b\b\b\b\b\b\b\b\b\b\b\b\b\b\b\b\b\b\b\b\b\b\b\b\b\b\b\b\b\b\b\b\b\b\r6/6 [==============================] - 0s 18ms/step - loss: 160.8966 - classification_loss: 0.3650 - Regression_loss: 160.5316 - classification_accuracy: 0.8235 - Regression_mae: 7.5842\n",
            "Epoch 27/300\n",
            "4/6 [===================>..........] - ETA: 0s - loss: 168.8587 - classification_loss: 0.3919 - Regression_loss: 168.4668 - classification_accuracy: 0.8203 - Regression_mae: 7.4970"
          ]
        },
        {
          "output_type": "stream",
          "name": "stderr",
          "text": [
            "2024/03/09 05:28:11 WARNING mlflow.utils.checkpoint_utils: Checkpoint logging is skipped, because checkpoint 'save_best_only' config is True, it requires to compare the monitored metric value, but the provided monitored metric value is not available.\n"
          ]
        },
        {
          "output_type": "stream",
          "name": "stdout",
          "text": [
            "\b\b\b\b\b\b\b\b\b\b\b\b\b\b\b\b\b\b\b\b\b\b\b\b\b\b\b\b\b\b\b\b\b\b\b\b\b\b\b\b\b\b\b\b\b\b\b\b\b\b\b\b\b\b\b\b\b\b\b\b\b\b\b\b\b\b\b\b\b\b\b\b\b\b\b\b\b\b\b\b\b\b\b\b\b\b\b\b\b\b\b\b\b\b\b\b\b\b\b\b\b\b\b\b\b\b\b\b\b\b\b\b\b\b\b\b\b\b\b\b\b\b\b\b\b\b\b\b\b\b\b\b\b\b\b\b\b\b\b\b\b\b\b\b\b\b\b\b\b\b\b\b\b\b\b\b\b\b\b\b\b\b\b\b\b\b\b\b\b\b\b\b\b\b\b\b\b\b\b\b\r6/6 [==============================] - 0s 18ms/step - loss: 156.4566 - classification_loss: 0.3502 - Regression_loss: 156.1064 - classification_accuracy: 0.8471 - Regression_mae: 7.2798\n",
            "Epoch 28/300\n",
            "5/6 [========================>.....] - ETA: 0s - loss: 155.6043 - classification_loss: 0.3213 - Regression_loss: 155.2831 - classification_accuracy: 0.8438 - Regression_mae: 6.9218"
          ]
        },
        {
          "output_type": "stream",
          "name": "stderr",
          "text": [
            "2024/03/09 05:28:11 WARNING mlflow.utils.checkpoint_utils: Checkpoint logging is skipped, because checkpoint 'save_best_only' config is True, it requires to compare the monitored metric value, but the provided monitored metric value is not available.\n"
          ]
        },
        {
          "output_type": "stream",
          "name": "stdout",
          "text": [
            "\b\b\b\b\b\b\b\b\b\b\b\b\b\b\b\b\b\b\b\b\b\b\b\b\b\b\b\b\b\b\b\b\b\b\b\b\b\b\b\b\b\b\b\b\b\b\b\b\b\b\b\b\b\b\b\b\b\b\b\b\b\b\b\b\b\b\b\b\b\b\b\b\b\b\b\b\b\b\b\b\b\b\b\b\b\b\b\b\b\b\b\b\b\b\b\b\b\b\b\b\b\b\b\b\b\b\b\b\b\b\b\b\b\b\b\b\b\b\b\b\b\b\b\b\b\b\b\b\b\b\b\b\b\b\b\b\b\b\b\b\b\b\b\b\b\b\b\b\b\b\b\b\b\b\b\b\b\b\b\b\b\b\b\b\b\b\b\b\b\b\b\b\b\b\b\b\b\b\b\b\r6/6 [==============================] - 0s 18ms/step - loss: 161.5606 - classification_loss: 0.3248 - Regression_loss: 161.2358 - classification_accuracy: 0.8471 - Regression_mae: 7.1167\n",
            "Epoch 29/300\n",
            "5/6 [========================>.....] - ETA: 0s - loss: 163.6826 - classification_loss: 0.3434 - Regression_loss: 163.3393 - classification_accuracy: 0.8125 - Regression_mae: 6.9761"
          ]
        },
        {
          "output_type": "stream",
          "name": "stderr",
          "text": [
            "2024/03/09 05:28:11 WARNING mlflow.utils.checkpoint_utils: Checkpoint logging is skipped, because checkpoint 'save_best_only' config is True, it requires to compare the monitored metric value, but the provided monitored metric value is not available.\n"
          ]
        },
        {
          "output_type": "stream",
          "name": "stdout",
          "text": [
            "\b\b\b\b\b\b\b\b\b\b\b\b\b\b\b\b\b\b\b\b\b\b\b\b\b\b\b\b\b\b\b\b\b\b\b\b\b\b\b\b\b\b\b\b\b\b\b\b\b\b\b\b\b\b\b\b\b\b\b\b\b\b\b\b\b\b\b\b\b\b\b\b\b\b\b\b\b\b\b\b\b\b\b\b\b\b\b\b\b\b\b\b\b\b\b\b\b\b\b\b\b\b\b\b\b\b\b\b\b\b\b\b\b\b\b\b\b\b\b\b\b\b\b\b\b\b\b\b\b\b\b\b\b\b\b\b\b\b\b\b\b\b\b\b\b\b\b\b\b\b\b\b\b\b\b\b\b\b\b\b\b\b\b\b\b\b\b\b\b\b\b\b\b\b\b\b\b\b\b\b\r6/6 [==============================] - 0s 18ms/step - loss: 156.4058 - classification_loss: 0.3291 - Regression_loss: 156.0767 - classification_accuracy: 0.8235 - Regression_mae: 6.8069\n",
            "Epoch 30/300\n",
            "4/6 [===================>..........] - ETA: 0s - loss: 132.1499 - classification_loss: 0.3150 - Regression_loss: 131.8349 - classification_accuracy: 0.8359 - Regression_mae: 6.4609"
          ]
        },
        {
          "output_type": "stream",
          "name": "stderr",
          "text": [
            "2024/03/09 05:28:11 WARNING mlflow.utils.checkpoint_utils: Checkpoint logging is skipped, because checkpoint 'save_best_only' config is True, it requires to compare the monitored metric value, but the provided monitored metric value is not available.\n"
          ]
        },
        {
          "output_type": "stream",
          "name": "stdout",
          "text": [
            "\b\b\b\b\b\b\b\b\b\b\b\b\b\b\b\b\b\b\b\b\b\b\b\b\b\b\b\b\b\b\b\b\b\b\b\b\b\b\b\b\b\b\b\b\b\b\b\b\b\b\b\b\b\b\b\b\b\b\b\b\b\b\b\b\b\b\b\b\b\b\b\b\b\b\b\b\b\b\b\b\b\b\b\b\b\b\b\b\b\b\b\b\b\b\b\b\b\b\b\b\b\b\b\b\b\b\b\b\b\b\b\b\b\b\b\b\b\b\b\b\b\b\b\b\b\b\b\b\b\b\b\b\b\b\b\b\b\b\b\b\b\b\b\b\b\b\b\b\b\b\b\b\b\b\b\b\b\b\b\b\b\b\b\b\b\b\b\b\b\b\b\b\b\b\b\b\b\b\b\b\r6/6 [==============================] - 0s 19ms/step - loss: 153.4590 - classification_loss: 0.3208 - Regression_loss: 153.1381 - classification_accuracy: 0.8412 - Regression_mae: 6.7778\n",
            "Epoch 31/300\n",
            "5/6 [========================>.....] - ETA: 0s - loss: 163.0804 - classification_loss: 0.3407 - Regression_loss: 162.7397 - classification_accuracy: 0.8375 - Regression_mae: 7.4239"
          ]
        },
        {
          "output_type": "stream",
          "name": "stderr",
          "text": [
            "2024/03/09 05:28:11 WARNING mlflow.utils.checkpoint_utils: Checkpoint logging is skipped, because checkpoint 'save_best_only' config is True, it requires to compare the monitored metric value, but the provided monitored metric value is not available.\n"
          ]
        },
        {
          "output_type": "stream",
          "name": "stdout",
          "text": [
            "\b\b\b\b\b\b\b\b\b\b\b\b\b\b\b\b\b\b\b\b\b\b\b\b\b\b\b\b\b\b\b\b\b\b\b\b\b\b\b\b\b\b\b\b\b\b\b\b\b\b\b\b\b\b\b\b\b\b\b\b\b\b\b\b\b\b\b\b\b\b\b\b\b\b\b\b\b\b\b\b\b\b\b\b\b\b\b\b\b\b\b\b\b\b\b\b\b\b\b\b\b\b\b\b\b\b\b\b\b\b\b\b\b\b\b\b\b\b\b\b\b\b\b\b\b\b\b\b\b\b\b\b\b\b\b\b\b\b\b\b\b\b\b\b\b\b\b\b\b\b\b\b\b\b\b\b\b\b\b\b\b\b\b\b\b\b\b\b\b\b\b\b\b\b\b\b\b\b\b\b\r6/6 [==============================] - 0s 17ms/step - loss: 159.6128 - classification_loss: 0.3369 - Regression_loss: 159.2760 - classification_accuracy: 0.8353 - Regression_mae: 7.3307\n",
            "Epoch 32/300\n",
            "5/6 [========================>.....] - ETA: 0s - loss: 163.3349 - classification_loss: 0.3409 - Regression_loss: 162.9940 - classification_accuracy: 0.8250 - Regression_mae: 7.2376"
          ]
        },
        {
          "output_type": "stream",
          "name": "stderr",
          "text": [
            "2024/03/09 05:28:12 WARNING mlflow.utils.checkpoint_utils: Checkpoint logging is skipped, because checkpoint 'save_best_only' config is True, it requires to compare the monitored metric value, but the provided monitored metric value is not available.\n"
          ]
        },
        {
          "output_type": "stream",
          "name": "stdout",
          "text": [
            "\b\b\b\b\b\b\b\b\b\b\b\b\b\b\b\b\b\b\b\b\b\b\b\b\b\b\b\b\b\b\b\b\b\b\b\b\b\b\b\b\b\b\b\b\b\b\b\b\b\b\b\b\b\b\b\b\b\b\b\b\b\b\b\b\b\b\b\b\b\b\b\b\b\b\b\b\b\b\b\b\b\b\b\b\b\b\b\b\b\b\b\b\b\b\b\b\b\b\b\b\b\b\b\b\b\b\b\b\b\b\b\b\b\b\b\b\b\b\b\b\b\b\b\b\b\b\b\b\b\b\b\b\b\b\b\b\b\b\b\b\b\b\b\b\b\b\b\b\b\b\b\b\b\b\b\b\b\b\b\b\b\b\b\b\b\b\b\b\b\b\b\b\b\b\b\b\b\b\b\b\r6/6 [==============================] - 0s 17ms/step - loss: 158.9759 - classification_loss: 0.3326 - Regression_loss: 158.6433 - classification_accuracy: 0.8353 - Regression_mae: 7.1745\n",
            "Epoch 33/300\n",
            "5/6 [========================>.....] - ETA: 0s - loss: 153.3338 - classification_loss: 0.3359 - Regression_loss: 152.9979 - classification_accuracy: 0.8188 - Regression_mae: 6.7520"
          ]
        },
        {
          "output_type": "stream",
          "name": "stderr",
          "text": [
            "2024/03/09 05:28:12 WARNING mlflow.utils.checkpoint_utils: Checkpoint logging is skipped, because checkpoint 'save_best_only' config is True, it requires to compare the monitored metric value, but the provided monitored metric value is not available.\n"
          ]
        },
        {
          "output_type": "stream",
          "name": "stdout",
          "text": [
            "\b\b\b\b\b\b\b\b\b\b\b\b\b\b\b\b\b\b\b\b\b\b\b\b\b\b\b\b\b\b\b\b\b\b\b\b\b\b\b\b\b\b\b\b\b\b\b\b\b\b\b\b\b\b\b\b\b\b\b\b\b\b\b\b\b\b\b\b\b\b\b\b\b\b\b\b\b\b\b\b\b\b\b\b\b\b\b\b\b\b\b\b\b\b\b\b\b\b\b\b\b\b\b\b\b\b\b\b\b\b\b\b\b\b\b\b\b\b\b\b\b\b\b\b\b\b\b\b\b\b\b\b\b\b\b\b\b\b\b\b\b\b\b\b\b\b\b\b\b\b\b\b\b\b\b\b\b\b\b\b\b\b\b\b\b\b\b\b\b\b\b\b\b\b\b\b\b\b\b\b\r6/6 [==============================] - 0s 18ms/step - loss: 150.4598 - classification_loss: 0.3287 - Regression_loss: 150.1311 - classification_accuracy: 0.8235 - Regression_mae: 6.6731\n",
            "Epoch 34/300\n",
            "5/6 [========================>.....] - ETA: 0s - loss: 163.9767 - classification_loss: 0.3489 - Regression_loss: 163.6277 - classification_accuracy: 0.8438 - Regression_mae: 7.2397"
          ]
        },
        {
          "output_type": "stream",
          "name": "stderr",
          "text": [
            "2024/03/09 05:28:12 WARNING mlflow.utils.checkpoint_utils: Checkpoint logging is skipped, because checkpoint 'save_best_only' config is True, it requires to compare the monitored metric value, but the provided monitored metric value is not available.\n"
          ]
        },
        {
          "output_type": "stream",
          "name": "stdout",
          "text": [
            "\b\b\b\b\b\b\b\b\b\b\b\b\b\b\b\b\b\b\b\b\b\b\b\b\b\b\b\b\b\b\b\b\b\b\b\b\b\b\b\b\b\b\b\b\b\b\b\b\b\b\b\b\b\b\b\b\b\b\b\b\b\b\b\b\b\b\b\b\b\b\b\b\b\b\b\b\b\b\b\b\b\b\b\b\b\b\b\b\b\b\b\b\b\b\b\b\b\b\b\b\b\b\b\b\b\b\b\b\b\b\b\b\b\b\b\b\b\b\b\b\b\b\b\b\b\b\b\b\b\b\b\b\b\b\b\b\b\b\b\b\b\b\b\b\b\b\b\b\b\b\b\b\b\b\b\b\b\b\b\b\b\b\b\b\b\b\b\b\b\b\b\b\b\b\b\b\b\b\b\b\r6/6 [==============================] - 0s 17ms/step - loss: 159.5745 - classification_loss: 0.3419 - Regression_loss: 159.2325 - classification_accuracy: 0.8471 - Regression_mae: 7.0990\n",
            "Epoch 35/300\n",
            "5/6 [========================>.....] - ETA: 0s - loss: 160.3984 - classification_loss: 0.3423 - Regression_loss: 160.0561 - classification_accuracy: 0.8313 - Regression_mae: 7.2767"
          ]
        },
        {
          "output_type": "stream",
          "name": "stderr",
          "text": [
            "2024/03/09 05:28:12 WARNING mlflow.utils.checkpoint_utils: Checkpoint logging is skipped, because checkpoint 'save_best_only' config is True, it requires to compare the monitored metric value, but the provided monitored metric value is not available.\n"
          ]
        },
        {
          "output_type": "stream",
          "name": "stdout",
          "text": [
            "\b\b\b\b\b\b\b\b\b\b\b\b\b\b\b\b\b\b\b\b\b\b\b\b\b\b\b\b\b\b\b\b\b\b\b\b\b\b\b\b\b\b\b\b\b\b\b\b\b\b\b\b\b\b\b\b\b\b\b\b\b\b\b\b\b\b\b\b\b\b\b\b\b\b\b\b\b\b\b\b\b\b\b\b\b\b\b\b\b\b\b\b\b\b\b\b\b\b\b\b\b\b\b\b\b\b\b\b\b\b\b\b\b\b\b\b\b\b\b\b\b\b\b\b\b\b\b\b\b\b\b\b\b\b\b\b\b\b\b\b\b\b\b\b\b\b\b\b\b\b\b\b\b\b\b\b\b\b\b\b\b\b\b\b\b\b\b\b\b\b\b\b\b\b\b\b\b\b\b\b\r6/6 [==============================] - 0s 18ms/step - loss: 155.8300 - classification_loss: 0.3359 - Regression_loss: 155.4941 - classification_accuracy: 0.8353 - Regression_mae: 7.1259\n",
            "Epoch 36/300\n",
            "5/6 [========================>.....] - ETA: 0s - loss: 147.0763 - classification_loss: 0.3192 - Regression_loss: 146.7571 - classification_accuracy: 0.8375 - Regression_mae: 6.3564"
          ]
        },
        {
          "output_type": "stream",
          "name": "stderr",
          "text": [
            "2024/03/09 05:28:12 WARNING mlflow.utils.checkpoint_utils: Checkpoint logging is skipped, because checkpoint 'save_best_only' config is True, it requires to compare the monitored metric value, but the provided monitored metric value is not available.\n"
          ]
        },
        {
          "output_type": "stream",
          "name": "stdout",
          "text": [
            "\b\b\b\b\b\b\b\b\b\b\b\b\b\b\b\b\b\b\b\b\b\b\b\b\b\b\b\b\b\b\b\b\b\b\b\b\b\b\b\b\b\b\b\b\b\b\b\b\b\b\b\b\b\b\b\b\b\b\b\b\b\b\b\b\b\b\b\b\b\b\b\b\b\b\b\b\b\b\b\b\b\b\b\b\b\b\b\b\b\b\b\b\b\b\b\b\b\b\b\b\b\b\b\b\b\b\b\b\b\b\b\b\b\b\b\b\b\b\b\b\b\b\b\b\b\b\b\b\b\b\b\b\b\b\b\b\b\b\b\b\b\b\b\b\b\b\b\b\b\b\b\b\b\b\b\b\b\b\b\b\b\b\b\b\b\b\b\b\b\b\b\b\b\b\b\b\b\b\b\b\r6/6 [==============================] - 0s 18ms/step - loss: 153.1773 - classification_loss: 0.3269 - Regression_loss: 152.8504 - classification_accuracy: 0.8353 - Regression_mae: 6.5936\n",
            "Epoch 37/300\n",
            "5/6 [========================>.....] - ETA: 0s - loss: 150.0423 - classification_loss: 0.3101 - Regression_loss: 149.7322 - classification_accuracy: 0.8500 - Regression_mae: 6.3621"
          ]
        },
        {
          "output_type": "stream",
          "name": "stderr",
          "text": [
            "2024/03/09 05:28:12 WARNING mlflow.utils.checkpoint_utils: Checkpoint logging is skipped, because checkpoint 'save_best_only' config is True, it requires to compare the monitored metric value, but the provided monitored metric value is not available.\n"
          ]
        },
        {
          "output_type": "stream",
          "name": "stdout",
          "text": [
            "\b\b\b\b\b\b\b\b\b\b\b\b\b\b\b\b\b\b\b\b\b\b\b\b\b\b\b\b\b\b\b\b\b\b\b\b\b\b\b\b\b\b\b\b\b\b\b\b\b\b\b\b\b\b\b\b\b\b\b\b\b\b\b\b\b\b\b\b\b\b\b\b\b\b\b\b\b\b\b\b\b\b\b\b\b\b\b\b\b\b\b\b\b\b\b\b\b\b\b\b\b\b\b\b\b\b\b\b\b\b\b\b\b\b\b\b\b\b\b\b\b\b\b\b\b\b\b\b\b\b\b\b\b\b\b\b\b\b\b\b\b\b\b\b\b\b\b\b\b\b\b\b\b\b\b\b\b\b\b\b\b\b\b\b\b\b\b\b\b\b\b\b\b\b\b\b\b\b\b\b\r6/6 [==============================] - 0s 18ms/step - loss: 154.0766 - classification_loss: 0.3210 - Regression_loss: 153.7556 - classification_accuracy: 0.8471 - Regression_mae: 6.5086\n",
            "Epoch 38/300\n",
            "5/6 [========================>.....] - ETA: 0s - loss: 156.0967 - classification_loss: 0.3395 - Regression_loss: 155.7572 - classification_accuracy: 0.8438 - Regression_mae: 6.7171"
          ]
        },
        {
          "output_type": "stream",
          "name": "stderr",
          "text": [
            "2024/03/09 05:28:12 WARNING mlflow.utils.checkpoint_utils: Checkpoint logging is skipped, because checkpoint 'save_best_only' config is True, it requires to compare the monitored metric value, but the provided monitored metric value is not available.\n"
          ]
        },
        {
          "output_type": "stream",
          "name": "stdout",
          "text": [
            "\b\b\b\b\b\b\b\b\b\b\b\b\b\b\b\b\b\b\b\b\b\b\b\b\b\b\b\b\b\b\b\b\b\b\b\b\b\b\b\b\b\b\b\b\b\b\b\b\b\b\b\b\b\b\b\b\b\b\b\b\b\b\b\b\b\b\b\b\b\b\b\b\b\b\b\b\b\b\b\b\b\b\b\b\b\b\b\b\b\b\b\b\b\b\b\b\b\b\b\b\b\b\b\b\b\b\b\b\b\b\b\b\b\b\b\b\b\b\b\b\b\b\b\b\b\b\b\b\b\b\b\b\b\b\b\b\b\b\b\b\b\b\b\b\b\b\b\b\b\b\b\b\b\b\b\b\b\b\b\b\b\b\b\b\b\b\b\b\b\b\b\b\b\b\b\b\b\b\b\b\r6/6 [==============================] - 0s 18ms/step - loss: 153.0659 - classification_loss: 0.3266 - Regression_loss: 152.7394 - classification_accuracy: 0.8529 - Regression_mae: 6.5129\n",
            "Epoch 39/300\n",
            "4/6 [===================>..........] - ETA: 0s - loss: 161.8858 - classification_loss: 0.3425 - Regression_loss: 161.5432 - classification_accuracy: 0.8281 - Regression_mae: 7.2027"
          ]
        },
        {
          "output_type": "stream",
          "name": "stderr",
          "text": [
            "2024/03/09 05:28:12 WARNING mlflow.utils.checkpoint_utils: Checkpoint logging is skipped, because checkpoint 'save_best_only' config is True, it requires to compare the monitored metric value, but the provided monitored metric value is not available.\n"
          ]
        },
        {
          "output_type": "stream",
          "name": "stdout",
          "text": [
            "\b\b\b\b\b\b\b\b\b\b\b\b\b\b\b\b\b\b\b\b\b\b\b\b\b\b\b\b\b\b\b\b\b\b\b\b\b\b\b\b\b\b\b\b\b\b\b\b\b\b\b\b\b\b\b\b\b\b\b\b\b\b\b\b\b\b\b\b\b\b\b\b\b\b\b\b\b\b\b\b\b\b\b\b\b\b\b\b\b\b\b\b\b\b\b\b\b\b\b\b\b\b\b\b\b\b\b\b\b\b\b\b\b\b\b\b\b\b\b\b\b\b\b\b\b\b\b\b\b\b\b\b\b\b\b\b\b\b\b\b\b\b\b\b\b\b\b\b\b\b\b\b\b\b\b\b\b\b\b\b\b\b\b\b\b\b\b\b\b\b\b\b\b\b\b\b\b\b\b\b\r6/6 [==============================] - 0s 26ms/step - loss: 151.6798 - classification_loss: 0.3377 - Regression_loss: 151.3421 - classification_accuracy: 0.8353 - Regression_mae: 6.6750\n",
            "Epoch 40/300\n",
            "4/6 [===================>..........] - ETA: 0s - loss: 138.8136 - classification_loss: 0.2964 - Regression_loss: 138.5172 - classification_accuracy: 0.8594 - Regression_mae: 6.1563"
          ]
        },
        {
          "output_type": "stream",
          "name": "stderr",
          "text": [
            "2024/03/09 05:28:13 WARNING mlflow.utils.checkpoint_utils: Checkpoint logging is skipped, because checkpoint 'save_best_only' config is True, it requires to compare the monitored metric value, but the provided monitored metric value is not available.\n"
          ]
        },
        {
          "output_type": "stream",
          "name": "stdout",
          "text": [
            "\b\b\b\b\b\b\b\b\b\b\b\b\b\b\b\b\b\b\b\b\b\b\b\b\b\b\b\b\b\b\b\b\b\b\b\b\b\b\b\b\b\b\b\b\b\b\b\b\b\b\b\b\b\b\b\b\b\b\b\b\b\b\b\b\b\b\b\b\b\b\b\b\b\b\b\b\b\b\b\b\b\b\b\b\b\b\b\b\b\b\b\b\b\b\b\b\b\b\b\b\b\b\b\b\b\b\b\b\b\b\b\b\b\b\b\b\b\b\b\b\b\b\b\b\b\b\b\b\b\b\b\b\b\b\b\b\b\b\b\b\b\b\b\b\b\b\b\b\b\b\b\b\b\b\b\b\b\b\b\b\b\b\b\b\b\b\b\b\b\b\b\b\b\b\b\b\b\b\b\b\r6/6 [==============================] - 0s 24ms/step - loss: 150.1463 - classification_loss: 0.3248 - Regression_loss: 149.8215 - classification_accuracy: 0.8471 - Regression_mae: 6.3968\n",
            "Epoch 41/300\n",
            "4/6 [===================>..........] - ETA: 0s - loss: 133.7389 - classification_loss: 0.2756 - Regression_loss: 133.4633 - classification_accuracy: 0.8672 - Regression_mae: 5.8772"
          ]
        },
        {
          "output_type": "stream",
          "name": "stderr",
          "text": [
            "2024/03/09 05:28:13 WARNING mlflow.utils.checkpoint_utils: Checkpoint logging is skipped, because checkpoint 'save_best_only' config is True, it requires to compare the monitored metric value, but the provided monitored metric value is not available.\n"
          ]
        },
        {
          "output_type": "stream",
          "name": "stdout",
          "text": [
            "\b\b\b\b\b\b\b\b\b\b\b\b\b\b\b\b\b\b\b\b\b\b\b\b\b\b\b\b\b\b\b\b\b\b\b\b\b\b\b\b\b\b\b\b\b\b\b\b\b\b\b\b\b\b\b\b\b\b\b\b\b\b\b\b\b\b\b\b\b\b\b\b\b\b\b\b\b\b\b\b\b\b\b\b\b\b\b\b\b\b\b\b\b\b\b\b\b\b\b\b\b\b\b\b\b\b\b\b\b\b\b\b\b\b\b\b\b\b\b\b\b\b\b\b\b\b\b\b\b\b\b\b\b\b\b\b\b\b\b\b\b\b\b\b\b\b\b\b\b\b\b\b\b\b\b\b\b\b\b\b\b\b\b\b\b\b\b\b\b\b\b\b\b\b\b\b\b\b\b\b\r6/6 [==============================] - 0s 25ms/step - loss: 154.0599 - classification_loss: 0.3147 - Regression_loss: 153.7452 - classification_accuracy: 0.8412 - Regression_mae: 6.5909\n",
            "Epoch 42/300\n",
            "4/6 [===================>..........] - ETA: 0s - loss: 170.0508 - classification_loss: 0.3309 - Regression_loss: 169.7200 - classification_accuracy: 0.8125 - Regression_mae: 7.0011"
          ]
        },
        {
          "output_type": "stream",
          "name": "stderr",
          "text": [
            "2024/03/09 05:28:13 WARNING mlflow.utils.checkpoint_utils: Checkpoint logging is skipped, because checkpoint 'save_best_only' config is True, it requires to compare the monitored metric value, but the provided monitored metric value is not available.\n"
          ]
        },
        {
          "output_type": "stream",
          "name": "stdout",
          "text": [
            "\b\b\b\b\b\b\b\b\b\b\b\b\b\b\b\b\b\b\b\b\b\b\b\b\b\b\b\b\b\b\b\b\b\b\b\b\b\b\b\b\b\b\b\b\b\b\b\b\b\b\b\b\b\b\b\b\b\b\b\b\b\b\b\b\b\b\b\b\b\b\b\b\b\b\b\b\b\b\b\b\b\b\b\b\b\b\b\b\b\b\b\b\b\b\b\b\b\b\b\b\b\b\b\b\b\b\b\b\b\b\b\b\b\b\b\b\b\b\b\b\b\b\b\b\b\b\b\b\b\b\b\b\b\b\b\b\b\b\b\b\b\b\b\b\b\b\b\b\b\b\b\b\b\b\b\b\b\b\b\b\b\b\b\b\b\b\b\b\b\b\b\b\b\b\b\b\b\b\b\b\r6/6 [==============================] - 0s 22ms/step - loss: 154.8154 - classification_loss: 0.3239 - Regression_loss: 154.4916 - classification_accuracy: 0.8118 - Regression_mae: 6.5853\n",
            "Epoch 43/300\n",
            "4/6 [===================>..........] - ETA: 0s - loss: 136.2739 - classification_loss: 0.2859 - Regression_loss: 135.9880 - classification_accuracy: 0.8594 - Regression_mae: 5.7570"
          ]
        },
        {
          "output_type": "stream",
          "name": "stderr",
          "text": [
            "2024/03/09 05:28:13 WARNING mlflow.utils.checkpoint_utils: Checkpoint logging is skipped, because checkpoint 'save_best_only' config is True, it requires to compare the monitored metric value, but the provided monitored metric value is not available.\n"
          ]
        },
        {
          "output_type": "stream",
          "name": "stdout",
          "text": [
            "\b\b\b\b\b\b\b\b\b\b\b\b\b\b\b\b\b\b\b\b\b\b\b\b\b\b\b\b\b\b\b\b\b\b\b\b\b\b\b\b\b\b\b\b\b\b\b\b\b\b\b\b\b\b\b\b\b\b\b\b\b\b\b\b\b\b\b\b\b\b\b\b\b\b\b\b\b\b\b\b\b\b\b\b\b\b\b\b\b\b\b\b\b\b\b\b\b\b\b\b\b\b\b\b\b\b\b\b\b\b\b\b\b\b\b\b\b\b\b\b\b\b\b\b\b\b\b\b\b\b\b\b\b\b\b\b\b\b\b\b\b\b\b\b\b\b\b\b\b\b\b\b\b\b\b\b\b\b\b\b\b\b\b\b\b\b\b\b\b\b\b\b\b\b\b\b\b\b\b\b\r6/6 [==============================] - 0s 23ms/step - loss: 150.5689 - classification_loss: 0.3097 - Regression_loss: 150.2592 - classification_accuracy: 0.8412 - Regression_mae: 6.3030\n",
            "Epoch 44/300\n",
            "4/6 [===================>..........] - ETA: 0s - loss: 152.6385 - classification_loss: 0.3133 - Regression_loss: 152.3252 - classification_accuracy: 0.8594 - Regression_mae: 6.3368"
          ]
        },
        {
          "output_type": "stream",
          "name": "stderr",
          "text": [
            "2024/03/09 05:28:13 WARNING mlflow.utils.checkpoint_utils: Checkpoint logging is skipped, because checkpoint 'save_best_only' config is True, it requires to compare the monitored metric value, but the provided monitored metric value is not available.\n"
          ]
        },
        {
          "output_type": "stream",
          "name": "stdout",
          "text": [
            "\b\b\b\b\b\b\b\b\b\b\b\b\b\b\b\b\b\b\b\b\b\b\b\b\b\b\b\b\b\b\b\b\b\b\b\b\b\b\b\b\b\b\b\b\b\b\b\b\b\b\b\b\b\b\b\b\b\b\b\b\b\b\b\b\b\b\b\b\b\b\b\b\b\b\b\b\b\b\b\b\b\b\b\b\b\b\b\b\b\b\b\b\b\b\b\b\b\b\b\b\b\b\b\b\b\b\b\b\b\b\b\b\b\b\b\b\b\b\b\b\b\b\b\b\b\b\b\b\b\b\b\b\b\b\b\b\b\b\b\b\b\b\b\b\b\b\b\b\b\b\b\b\b\b\b\b\b\b\b\b\b\b\b\b\b\b\b\b\b\b\b\b\b\b\b\b\b\b\b\b\r6/6 [==============================] - 0s 20ms/step - loss: 151.7489 - classification_loss: 0.3482 - Regression_loss: 151.4007 - classification_accuracy: 0.8412 - Regression_mae: 6.2648\n",
            "Epoch 45/300\n",
            "4/6 [===================>..........] - ETA: 0s - loss: 163.2141 - classification_loss: 0.3655 - Regression_loss: 162.8486 - classification_accuracy: 0.8359 - Regression_mae: 6.8496"
          ]
        },
        {
          "output_type": "stream",
          "name": "stderr",
          "text": [
            "2024/03/09 05:28:13 WARNING mlflow.utils.checkpoint_utils: Checkpoint logging is skipped, because checkpoint 'save_best_only' config is True, it requires to compare the monitored metric value, but the provided monitored metric value is not available.\n"
          ]
        },
        {
          "output_type": "stream",
          "name": "stdout",
          "text": [
            "\b\b\b\b\b\b\b\b\b\b\b\b\b\b\b\b\b\b\b\b\b\b\b\b\b\b\b\b\b\b\b\b\b\b\b\b\b\b\b\b\b\b\b\b\b\b\b\b\b\b\b\b\b\b\b\b\b\b\b\b\b\b\b\b\b\b\b\b\b\b\b\b\b\b\b\b\b\b\b\b\b\b\b\b\b\b\b\b\b\b\b\b\b\b\b\b\b\b\b\b\b\b\b\b\b\b\b\b\b\b\b\b\b\b\b\b\b\b\b\b\b\b\b\b\b\b\b\b\b\b\b\b\b\b\b\b\b\b\b\b\b\b\b\b\b\b\b\b\b\b\b\b\b\b\b\b\b\b\b\b\b\b\b\b\b\b\b\b\b\b\b\b\b\b\b\b\b\b\b\b\r6/6 [==============================] - 0s 23ms/step - loss: 151.9807 - classification_loss: 0.3352 - Regression_loss: 151.6455 - classification_accuracy: 0.8529 - Regression_mae: 6.3286\n",
            "Epoch 46/300\n",
            "6/6 [==============================] - ETA: 0s - loss: 149.6306 - classification_loss: 0.3397 - Regression_loss: 149.2910 - classification_accuracy: 0.8412 - Regression_mae: 6.1443"
          ]
        },
        {
          "output_type": "stream",
          "name": "stderr",
          "text": [
            "2024/03/09 05:28:13 WARNING mlflow.utils.checkpoint_utils: Checkpoint logging is skipped, because checkpoint 'save_best_only' config is True, it requires to compare the monitored metric value, but the provided monitored metric value is not available.\n"
          ]
        },
        {
          "output_type": "stream",
          "name": "stdout",
          "text": [
            "\b\b\b\b\b\b\b\b\b\b\b\b\b\b\b\b\b\b\b\b\b\b\b\b\b\b\b\b\b\b\b\b\b\b\b\b\b\b\b\b\b\b\b\b\b\b\b\b\b\b\b\b\b\b\b\b\b\b\b\b\b\b\b\b\b\b\b\b\b\b\b\b\b\b\b\b\b\b\b\b\b\b\b\b\b\b\b\b\b\b\b\b\b\b\b\b\b\b\b\b\b\b\b\b\b\b\b\b\b\b\b\b\b\b\b\b\b\b\b\b\b\b\b\b\b\b\b\b\b\b\b\b\b\b\b\b\b\b\b\b\b\b\b\b\b\b\b\b\b\b\b\b\b\b\b\b\b\b\b\b\b\b\b\b\b\b\b\b\b\b\b\b\b\b\b\b\b\b\b\b\r6/6 [==============================] - 0s 24ms/step - loss: 149.6306 - classification_loss: 0.3397 - Regression_loss: 149.2910 - classification_accuracy: 0.8412 - Regression_mae: 6.1443\n",
            "Epoch 47/300\n",
            "4/6 [===================>..........] - ETA: 0s - loss: 145.7191 - classification_loss: 0.3462 - Regression_loss: 145.3728 - classification_accuracy: 0.8438 - Regression_mae: 6.3930"
          ]
        },
        {
          "output_type": "stream",
          "name": "stderr",
          "text": [
            "2024/03/09 05:28:14 WARNING mlflow.utils.checkpoint_utils: Checkpoint logging is skipped, because checkpoint 'save_best_only' config is True, it requires to compare the monitored metric value, but the provided monitored metric value is not available.\n"
          ]
        },
        {
          "output_type": "stream",
          "name": "stdout",
          "text": [
            "\b\b\b\b\b\b\b\b\b\b\b\b\b\b\b\b\b\b\b\b\b\b\b\b\b\b\b\b\b\b\b\b\b\b\b\b\b\b\b\b\b\b\b\b\b\b\b\b\b\b\b\b\b\b\b\b\b\b\b\b\b\b\b\b\b\b\b\b\b\b\b\b\b\b\b\b\b\b\b\b\b\b\b\b\b\b\b\b\b\b\b\b\b\b\b\b\b\b\b\b\b\b\b\b\b\b\b\b\b\b\b\b\b\b\b\b\b\b\b\b\b\b\b\b\b\b\b\b\b\b\b\b\b\b\b\b\b\b\b\b\b\b\b\b\b\b\b\b\b\b\b\b\b\b\b\b\b\b\b\b\b\b\b\b\b\b\b\b\b\b\b\b\b\b\b\b\b\b\b\b\r6/6 [==============================] - 0s 21ms/step - loss: 154.6474 - classification_loss: 0.3603 - Regression_loss: 154.2871 - classification_accuracy: 0.8294 - Regression_mae: 6.5974\n",
            "Epoch 48/300\n",
            "4/6 [===================>..........] - ETA: 0s - loss: 146.5698 - classification_loss: 0.3001 - Regression_loss: 146.2698 - classification_accuracy: 0.8594 - Regression_mae: 6.0275"
          ]
        },
        {
          "output_type": "stream",
          "name": "stderr",
          "text": [
            "2024/03/09 05:28:14 WARNING mlflow.utils.checkpoint_utils: Checkpoint logging is skipped, because checkpoint 'save_best_only' config is True, it requires to compare the monitored metric value, but the provided monitored metric value is not available.\n"
          ]
        },
        {
          "output_type": "stream",
          "name": "stdout",
          "text": [
            "\b\b\b\b\b\b\b\b\b\b\b\b\b\b\b\b\b\b\b\b\b\b\b\b\b\b\b\b\b\b\b\b\b\b\b\b\b\b\b\b\b\b\b\b\b\b\b\b\b\b\b\b\b\b\b\b\b\b\b\b\b\b\b\b\b\b\b\b\b\b\b\b\b\b\b\b\b\b\b\b\b\b\b\b\b\b\b\b\b\b\b\b\b\b\b\b\b\b\b\b\b\b\b\b\b\b\b\b\b\b\b\b\b\b\b\b\b\b\b\b\b\b\b\b\b\b\b\b\b\b\b\b\b\b\b\b\b\b\b\b\b\b\b\b\b\b\b\b\b\b\b\b\b\b\b\b\b\b\b\b\b\b\b\b\b\b\b\b\b\b\b\b\b\b\b\b\b\b\b\b\r6/6 [==============================] - 0s 21ms/step - loss: 150.6987 - classification_loss: 0.3250 - Regression_loss: 150.3736 - classification_accuracy: 0.8353 - Regression_mae: 6.2375\n",
            "Epoch 49/300\n",
            "4/6 [===================>..........] - ETA: 0s - loss: 163.4433 - classification_loss: 0.3205 - Regression_loss: 163.1228 - classification_accuracy: 0.8516 - Regression_mae: 6.6031"
          ]
        },
        {
          "output_type": "stream",
          "name": "stderr",
          "text": [
            "2024/03/09 05:28:14 WARNING mlflow.utils.checkpoint_utils: Checkpoint logging is skipped, because checkpoint 'save_best_only' config is True, it requires to compare the monitored metric value, but the provided monitored metric value is not available.\n"
          ]
        },
        {
          "output_type": "stream",
          "name": "stdout",
          "text": [
            "\b\b\b\b\b\b\b\b\b\b\b\b\b\b\b\b\b\b\b\b\b\b\b\b\b\b\b\b\b\b\b\b\b\b\b\b\b\b\b\b\b\b\b\b\b\b\b\b\b\b\b\b\b\b\b\b\b\b\b\b\b\b\b\b\b\b\b\b\b\b\b\b\b\b\b\b\b\b\b\b\b\b\b\b\b\b\b\b\b\b\b\b\b\b\b\b\b\b\b\b\b\b\b\b\b\b\b\b\b\b\b\b\b\b\b\b\b\b\b\b\b\b\b\b\b\b\b\b\b\b\b\b\b\b\b\b\b\b\b\b\b\b\b\b\b\b\b\b\b\b\b\b\b\b\b\b\b\b\b\b\b\b\b\b\b\b\b\b\b\b\b\b\b\b\b\b\b\b\b\b\r6/6 [==============================] - 0s 21ms/step - loss: 154.4720 - classification_loss: 0.3192 - Regression_loss: 154.1528 - classification_accuracy: 0.8471 - Regression_mae: 6.4466\n",
            "Epoch 50/300\n",
            "4/6 [===================>..........] - ETA: 0s - loss: 152.9094 - classification_loss: 0.3148 - Regression_loss: 152.5946 - classification_accuracy: 0.8281 - Regression_mae: 7.0644"
          ]
        },
        {
          "output_type": "stream",
          "name": "stderr",
          "text": [
            "2024/03/09 05:28:14 WARNING mlflow.utils.checkpoint_utils: Checkpoint logging is skipped, because checkpoint 'save_best_only' config is True, it requires to compare the monitored metric value, but the provided monitored metric value is not available.\n"
          ]
        },
        {
          "output_type": "stream",
          "name": "stdout",
          "text": [
            "\b\b\b\b\b\b\b\b\b\b\b\b\b\b\b\b\b\b\b\b\b\b\b\b\b\b\b\b\b\b\b\b\b\b\b\b\b\b\b\b\b\b\b\b\b\b\b\b\b\b\b\b\b\b\b\b\b\b\b\b\b\b\b\b\b\b\b\b\b\b\b\b\b\b\b\b\b\b\b\b\b\b\b\b\b\b\b\b\b\b\b\b\b\b\b\b\b\b\b\b\b\b\b\b\b\b\b\b\b\b\b\b\b\b\b\b\b\b\b\b\b\b\b\b\b\b\b\b\b\b\b\b\b\b\b\b\b\b\b\b\b\b\b\b\b\b\b\b\b\b\b\b\b\b\b\b\b\b\b\b\b\b\b\b\b\b\b\b\b\b\b\b\b\b\b\b\b\b\b\b\r6/6 [==============================] - 0s 23ms/step - loss: 157.3373 - classification_loss: 0.3219 - Regression_loss: 157.0155 - classification_accuracy: 0.8294 - Regression_mae: 7.1333\n",
            "Epoch 51/300\n",
            "4/6 [===================>..........] - ETA: 0s - loss: 142.4598 - classification_loss: 0.3137 - Regression_loss: 142.1461 - classification_accuracy: 0.8281 - Regression_mae: 6.2417"
          ]
        },
        {
          "output_type": "stream",
          "name": "stderr",
          "text": [
            "2024/03/09 05:28:14 WARNING mlflow.utils.checkpoint_utils: Checkpoint logging is skipped, because checkpoint 'save_best_only' config is True, it requires to compare the monitored metric value, but the provided monitored metric value is not available.\n"
          ]
        },
        {
          "output_type": "stream",
          "name": "stdout",
          "text": [
            "\b\b\b\b\b\b\b\b\b\b\b\b\b\b\b\b\b\b\b\b\b\b\b\b\b\b\b\b\b\b\b\b\b\b\b\b\b\b\b\b\b\b\b\b\b\b\b\b\b\b\b\b\b\b\b\b\b\b\b\b\b\b\b\b\b\b\b\b\b\b\b\b\b\b\b\b\b\b\b\b\b\b\b\b\b\b\b\b\b\b\b\b\b\b\b\b\b\b\b\b\b\b\b\b\b\b\b\b\b\b\b\b\b\b\b\b\b\b\b\b\b\b\b\b\b\b\b\b\b\b\b\b\b\b\b\b\b\b\b\b\b\b\b\b\b\b\b\b\b\b\b\b\b\b\b\b\b\b\b\b\b\b\b\b\b\b\b\b\b\b\b\b\b\b\b\b\b\b\b\b\r6/6 [==============================] - 0s 23ms/step - loss: 154.2238 - classification_loss: 0.3234 - Regression_loss: 153.9004 - classification_accuracy: 0.8294 - Regression_mae: 6.4809\n",
            "Epoch 52/300\n",
            "4/6 [===================>..........] - ETA: 0s - loss: 157.3307 - classification_loss: 0.3057 - Regression_loss: 157.0250 - classification_accuracy: 0.8516 - Regression_mae: 6.8656"
          ]
        },
        {
          "output_type": "stream",
          "name": "stderr",
          "text": [
            "2024/03/09 05:28:14 WARNING mlflow.utils.checkpoint_utils: Checkpoint logging is skipped, because checkpoint 'save_best_only' config is True, it requires to compare the monitored metric value, but the provided monitored metric value is not available.\n"
          ]
        },
        {
          "output_type": "stream",
          "name": "stdout",
          "text": [
            "\b\b\b\b\b\b\b\b\b\b\b\b\b\b\b\b\b\b\b\b\b\b\b\b\b\b\b\b\b\b\b\b\b\b\b\b\b\b\b\b\b\b\b\b\b\b\b\b\b\b\b\b\b\b\b\b\b\b\b\b\b\b\b\b\b\b\b\b\b\b\b\b\b\b\b\b\b\b\b\b\b\b\b\b\b\b\b\b\b\b\b\b\b\b\b\b\b\b\b\b\b\b\b\b\b\b\b\b\b\b\b\b\b\b\b\b\b\b\b\b\b\b\b\b\b\b\b\b\b\b\b\b\b\b\b\b\b\b\b\b\b\b\b\b\b\b\b\b\b\b\b\b\b\b\b\b\b\b\b\b\b\b\b\b\b\b\b\b\b\b\b\b\b\b\b\b\b\b\b\b\r6/6 [==============================] - 0s 26ms/step - loss: 154.0744 - classification_loss: 0.3051 - Regression_loss: 153.7693 - classification_accuracy: 0.8471 - Regression_mae: 6.7682\n",
            "Epoch 53/300\n",
            "4/6 [===================>..........] - ETA: 0s - loss: 158.2997 - classification_loss: 0.3157 - Regression_loss: 157.9841 - classification_accuracy: 0.8516 - Regression_mae: 6.8717"
          ]
        },
        {
          "output_type": "stream",
          "name": "stderr",
          "text": [
            "2024/03/09 05:28:14 WARNING mlflow.utils.checkpoint_utils: Checkpoint logging is skipped, because checkpoint 'save_best_only' config is True, it requires to compare the monitored metric value, but the provided monitored metric value is not available.\n"
          ]
        },
        {
          "output_type": "stream",
          "name": "stdout",
          "text": [
            "\b\b\b\b\b\b\b\b\b\b\b\b\b\b\b\b\b\b\b\b\b\b\b\b\b\b\b\b\b\b\b\b\b\b\b\b\b\b\b\b\b\b\b\b\b\b\b\b\b\b\b\b\b\b\b\b\b\b\b\b\b\b\b\b\b\b\b\b\b\b\b\b\b\b\b\b\b\b\b\b\b\b\b\b\b\b\b\b\b\b\b\b\b\b\b\b\b\b\b\b\b\b\b\b\b\b\b\b\b\b\b\b\b\b\b\b\b\b\b\b\b\b\b\b\b\b\b\b\b\b\b\b\b\b\b\b\b\b\b\b\b\b\b\b\b\b\b\b\b\b\b\b\b\b\b\b\b\b\b\b\b\b\b\b\b\b\b\b\b\b\b\b\b\b\b\b\b\b\b\b\r6/6 [==============================] - 0s 26ms/step - loss: 152.7630 - classification_loss: 0.3204 - Regression_loss: 152.4426 - classification_accuracy: 0.8471 - Regression_mae: 6.6930\n",
            "Epoch 54/300\n",
            "4/6 [===================>..........] - ETA: 0s - loss: 166.5695 - classification_loss: 0.3144 - Regression_loss: 166.2551 - classification_accuracy: 0.8516 - Regression_mae: 7.2542"
          ]
        },
        {
          "output_type": "stream",
          "name": "stderr",
          "text": [
            "2024/03/09 05:28:15 WARNING mlflow.utils.checkpoint_utils: Checkpoint logging is skipped, because checkpoint 'save_best_only' config is True, it requires to compare the monitored metric value, but the provided monitored metric value is not available.\n"
          ]
        },
        {
          "output_type": "stream",
          "name": "stdout",
          "text": [
            "\b\b\b\b\b\b\b\b\b\b\b\b\b\b\b\b\b\b\b\b\b\b\b\b\b\b\b\b\b\b\b\b\b\b\b\b\b\b\b\b\b\b\b\b\b\b\b\b\b\b\b\b\b\b\b\b\b\b\b\b\b\b\b\b\b\b\b\b\b\b\b\b\b\b\b\b\b\b\b\b\b\b\b\b\b\b\b\b\b\b\b\b\b\b\b\b\b\b\b\b\b\b\b\b\b\b\b\b\b\b\b\b\b\b\b\b\b\b\b\b\b\b\b\b\b\b\b\b\b\b\b\b\b\b\b\b\b\b\b\b\b\b\b\b\b\b\b\b\b\b\b\b\b\b\b\b\b\b\b\b\b\b\b\b\b\b\b\b\b\b\b\b\b\b\b\b\b\b\b\b\r6/6 [==============================] - 0s 23ms/step - loss: 156.6025 - classification_loss: 0.3104 - Regression_loss: 156.2921 - classification_accuracy: 0.8471 - Regression_mae: 6.9656\n",
            "Epoch 55/300\n",
            "4/6 [===================>..........] - ETA: 0s - loss: 139.3380 - classification_loss: 0.2955 - Regression_loss: 139.0426 - classification_accuracy: 0.8516 - Regression_mae: 6.2060"
          ]
        },
        {
          "output_type": "stream",
          "name": "stderr",
          "text": [
            "2024/03/09 05:28:15 WARNING mlflow.utils.checkpoint_utils: Checkpoint logging is skipped, because checkpoint 'save_best_only' config is True, it requires to compare the monitored metric value, but the provided monitored metric value is not available.\n"
          ]
        },
        {
          "output_type": "stream",
          "name": "stdout",
          "text": [
            "\b\b\b\b\b\b\b\b\b\b\b\b\b\b\b\b\b\b\b\b\b\b\b\b\b\b\b\b\b\b\b\b\b\b\b\b\b\b\b\b\b\b\b\b\b\b\b\b\b\b\b\b\b\b\b\b\b\b\b\b\b\b\b\b\b\b\b\b\b\b\b\b\b\b\b\b\b\b\b\b\b\b\b\b\b\b\b\b\b\b\b\b\b\b\b\b\b\b\b\b\b\b\b\b\b\b\b\b\b\b\b\b\b\b\b\b\b\b\b\b\b\b\b\b\b\b\b\b\b\b\b\b\b\b\b\b\b\b\b\b\b\b\b\b\b\b\b\b\b\b\b\b\b\b\b\b\b\b\b\b\b\b\b\b\b\b\b\b\b\b\b\b\b\b\b\b\b\b\b\b\r6/6 [==============================] - 0s 26ms/step - loss: 151.9130 - classification_loss: 0.3131 - Regression_loss: 151.5999 - classification_accuracy: 0.8353 - Regression_mae: 6.5169\n",
            "Epoch 56/300\n",
            "4/6 [===================>..........] - ETA: 0s - loss: 136.1370 - classification_loss: 0.2682 - Regression_loss: 135.8688 - classification_accuracy: 0.8672 - Regression_mae: 5.9846"
          ]
        },
        {
          "output_type": "stream",
          "name": "stderr",
          "text": [
            "2024/03/09 05:28:15 WARNING mlflow.utils.checkpoint_utils: Checkpoint logging is skipped, because checkpoint 'save_best_only' config is True, it requires to compare the monitored metric value, but the provided monitored metric value is not available.\n"
          ]
        },
        {
          "output_type": "stream",
          "name": "stdout",
          "text": [
            "\b\b\b\b\b\b\b\b\b\b\b\b\b\b\b\b\b\b\b\b\b\b\b\b\b\b\b\b\b\b\b\b\b\b\b\b\b\b\b\b\b\b\b\b\b\b\b\b\b\b\b\b\b\b\b\b\b\b\b\b\b\b\b\b\b\b\b\b\b\b\b\b\b\b\b\b\b\b\b\b\b\b\b\b\b\b\b\b\b\b\b\b\b\b\b\b\b\b\b\b\b\b\b\b\b\b\b\b\b\b\b\b\b\b\b\b\b\b\b\b\b\b\b\b\b\b\b\b\b\b\b\b\b\b\b\b\b\b\b\b\b\b\b\b\b\b\b\b\b\b\b\b\b\b\b\b\b\b\b\b\b\b\b\b\b\b\b\b\b\b\b\b\b\b\b\b\b\b\b\b\r6/6 [==============================] - 0s 25ms/step - loss: 152.1631 - classification_loss: 0.3097 - Regression_loss: 151.8534 - classification_accuracy: 0.8353 - Regression_mae: 6.5769\n",
            "Epoch 57/300\n",
            "4/6 [===================>..........] - ETA: 0s - loss: 175.2949 - classification_loss: 0.3615 - Regression_loss: 174.9334 - classification_accuracy: 0.8125 - Regression_mae: 7.6085"
          ]
        },
        {
          "output_type": "stream",
          "name": "stderr",
          "text": [
            "2024/03/09 05:28:15 WARNING mlflow.utils.checkpoint_utils: Checkpoint logging is skipped, because checkpoint 'save_best_only' config is True, it requires to compare the monitored metric value, but the provided monitored metric value is not available.\n"
          ]
        },
        {
          "output_type": "stream",
          "name": "stdout",
          "text": [
            "\b\b\b\b\b\b\b\b\b\b\b\b\b\b\b\b\b\b\b\b\b\b\b\b\b\b\b\b\b\b\b\b\b\b\b\b\b\b\b\b\b\b\b\b\b\b\b\b\b\b\b\b\b\b\b\b\b\b\b\b\b\b\b\b\b\b\b\b\b\b\b\b\b\b\b\b\b\b\b\b\b\b\b\b\b\b\b\b\b\b\b\b\b\b\b\b\b\b\b\b\b\b\b\b\b\b\b\b\b\b\b\b\b\b\b\b\b\b\b\b\b\b\b\b\b\b\b\b\b\b\b\b\b\b\b\b\b\b\b\b\b\b\b\b\b\b\b\b\b\b\b\b\b\b\b\b\b\b\b\b\b\b\b\b\b\b\b\b\b\b\b\b\b\b\b\b\b\b\b\b\r6/6 [==============================] - 0s 20ms/step - loss: 154.9792 - classification_loss: 0.3242 - Regression_loss: 154.6550 - classification_accuracy: 0.8353 - Regression_mae: 6.7964\n",
            "Epoch 58/300\n",
            "4/6 [===================>..........] - ETA: 0s - loss: 162.6570 - classification_loss: 0.3413 - Regression_loss: 162.3157 - classification_accuracy: 0.8281 - Regression_mae: 7.4282"
          ]
        },
        {
          "output_type": "stream",
          "name": "stderr",
          "text": [
            "2024/03/09 05:28:15 WARNING mlflow.utils.checkpoint_utils: Checkpoint logging is skipped, because checkpoint 'save_best_only' config is True, it requires to compare the monitored metric value, but the provided monitored metric value is not available.\n"
          ]
        },
        {
          "output_type": "stream",
          "name": "stdout",
          "text": [
            "\b\b\b\b\b\b\b\b\b\b\b\b\b\b\b\b\b\b\b\b\b\b\b\b\b\b\b\b\b\b\b\b\b\b\b\b\b\b\b\b\b\b\b\b\b\b\b\b\b\b\b\b\b\b\b\b\b\b\b\b\b\b\b\b\b\b\b\b\b\b\b\b\b\b\b\b\b\b\b\b\b\b\b\b\b\b\b\b\b\b\b\b\b\b\b\b\b\b\b\b\b\b\b\b\b\b\b\b\b\b\b\b\b\b\b\b\b\b\b\b\b\b\b\b\b\b\b\b\b\b\b\b\b\b\b\b\b\b\b\b\b\b\b\b\b\b\b\b\b\b\b\b\b\b\b\b\b\b\b\b\b\b\b\b\b\b\b\b\b\b\b\b\b\b\b\b\b\b\b\b\r6/6 [==============================] - 0s 23ms/step - loss: 158.5534 - classification_loss: 0.3410 - Regression_loss: 158.2124 - classification_accuracy: 0.8294 - Regression_mae: 7.2617\n",
            "Epoch 59/300\n",
            "4/6 [===================>..........] - ETA: 0s - loss: 150.1224 - classification_loss: 0.2964 - Regression_loss: 149.8260 - classification_accuracy: 0.8594 - Regression_mae: 8.1820"
          ]
        },
        {
          "output_type": "stream",
          "name": "stderr",
          "text": [
            "2024/03/09 05:28:15 WARNING mlflow.utils.checkpoint_utils: Checkpoint logging is skipped, because checkpoint 'save_best_only' config is True, it requires to compare the monitored metric value, but the provided monitored metric value is not available.\n"
          ]
        },
        {
          "output_type": "stream",
          "name": "stdout",
          "text": [
            "\b\b\b\b\b\b\b\b\b\b\b\b\b\b\b\b\b\b\b\b\b\b\b\b\b\b\b\b\b\b\b\b\b\b\b\b\b\b\b\b\b\b\b\b\b\b\b\b\b\b\b\b\b\b\b\b\b\b\b\b\b\b\b\b\b\b\b\b\b\b\b\b\b\b\b\b\b\b\b\b\b\b\b\b\b\b\b\b\b\b\b\b\b\b\b\b\b\b\b\b\b\b\b\b\b\b\b\b\b\b\b\b\b\b\b\b\b\b\b\b\b\b\b\b\b\b\b\b\b\b\b\b\b\b\b\b\b\b\b\b\b\b\b\b\b\b\b\b\b\b\b\b\b\b\b\b\b\b\b\b\b\b\b\b\b\b\b\b\b\b\b\b\b\b\b\b\b\b\b\b\r6/6 [==============================] - 0s 23ms/step - loss: 171.8823 - classification_loss: 0.3363 - Regression_loss: 171.5460 - classification_accuracy: 0.8294 - Regression_mae: 8.4195\n",
            "Epoch 60/300\n",
            "4/6 [===================>..........] - ETA: 0s - loss: 163.8847 - classification_loss: 0.3192 - Regression_loss: 163.5655 - classification_accuracy: 0.8438 - Regression_mae: 8.3245"
          ]
        },
        {
          "output_type": "stream",
          "name": "stderr",
          "text": [
            "2024/03/09 05:28:16 WARNING mlflow.utils.checkpoint_utils: Checkpoint logging is skipped, because checkpoint 'save_best_only' config is True, it requires to compare the monitored metric value, but the provided monitored metric value is not available.\n"
          ]
        },
        {
          "output_type": "stream",
          "name": "stdout",
          "text": [
            "\b\b\b\b\b\b\b\b\b\b\b\b\b\b\b\b\b\b\b\b\b\b\b\b\b\b\b\b\b\b\b\b\b\b\b\b\b\b\b\b\b\b\b\b\b\b\b\b\b\b\b\b\b\b\b\b\b\b\b\b\b\b\b\b\b\b\b\b\b\b\b\b\b\b\b\b\b\b\b\b\b\b\b\b\b\b\b\b\b\b\b\b\b\b\b\b\b\b\b\b\b\b\b\b\b\b\b\b\b\b\b\b\b\b\b\b\b\b\b\b\b\b\b\b\b\b\b\b\b\b\b\b\b\b\b\b\b\b\b\b\b\b\b\b\b\b\b\b\b\b\b\b\b\b\b\b\b\b\b\b\b\b\b\b\b\b\b\b\b\b\b\b\b\b\b\b\b\b\b\b\r6/6 [==============================] - 0s 24ms/step - loss: 173.8215 - classification_loss: 0.3172 - Regression_loss: 173.5042 - classification_accuracy: 0.8412 - Regression_mae: 8.3996\n",
            "Epoch 61/300\n",
            "4/6 [===================>..........] - ETA: 0s - loss: 173.7520 - classification_loss: 0.3297 - Regression_loss: 173.4223 - classification_accuracy: 0.8125 - Regression_mae: 7.4775"
          ]
        },
        {
          "output_type": "stream",
          "name": "stderr",
          "text": [
            "2024/03/09 05:28:16 WARNING mlflow.utils.checkpoint_utils: Checkpoint logging is skipped, because checkpoint 'save_best_only' config is True, it requires to compare the monitored metric value, but the provided monitored metric value is not available.\n"
          ]
        },
        {
          "output_type": "stream",
          "name": "stdout",
          "text": [
            "\b\b\b\b\b\b\b\b\b\b\b\b\b\b\b\b\b\b\b\b\b\b\b\b\b\b\b\b\b\b\b\b\b\b\b\b\b\b\b\b\b\b\b\b\b\b\b\b\b\b\b\b\b\b\b\b\b\b\b\b\b\b\b\b\b\b\b\b\b\b\b\b\b\b\b\b\b\b\b\b\b\b\b\b\b\b\b\b\b\b\b\b\b\b\b\b\b\b\b\b\b\b\b\b\b\b\b\b\b\b\b\b\b\b\b\b\b\b\b\b\b\b\b\b\b\b\b\b\b\b\b\b\b\b\b\b\b\b\b\b\b\b\b\b\b\b\b\b\b\b\b\b\b\b\b\b\b\b\b\b\b\b\b\b\b\b\b\b\b\b\b\b\b\b\b\b\b\b\b\b\r6/6 [==============================] - 0s 23ms/step - loss: 168.7298 - classification_loss: 0.3313 - Regression_loss: 168.3985 - classification_accuracy: 0.8176 - Regression_mae: 7.5297\n",
            "Epoch 62/300\n",
            "4/6 [===================>..........] - ETA: 0s - loss: 169.0239 - classification_loss: 0.3674 - Regression_loss: 168.6565 - classification_accuracy: 0.8203 - Regression_mae: 7.5042"
          ]
        },
        {
          "output_type": "stream",
          "name": "stderr",
          "text": [
            "2024/03/09 05:28:16 WARNING mlflow.utils.checkpoint_utils: Checkpoint logging is skipped, because checkpoint 'save_best_only' config is True, it requires to compare the monitored metric value, but the provided monitored metric value is not available.\n"
          ]
        },
        {
          "output_type": "stream",
          "name": "stdout",
          "text": [
            "\b\b\b\b\b\b\b\b\b\b\b\b\b\b\b\b\b\b\b\b\b\b\b\b\b\b\b\b\b\b\b\b\b\b\b\b\b\b\b\b\b\b\b\b\b\b\b\b\b\b\b\b\b\b\b\b\b\b\b\b\b\b\b\b\b\b\b\b\b\b\b\b\b\b\b\b\b\b\b\b\b\b\b\b\b\b\b\b\b\b\b\b\b\b\b\b\b\b\b\b\b\b\b\b\b\b\b\b\b\b\b\b\b\b\b\b\b\b\b\b\b\b\b\b\b\b\b\b\b\b\b\b\b\b\b\b\b\b\b\b\b\b\b\b\b\b\b\b\b\b\b\b\b\b\b\b\b\b\b\b\b\b\b\b\b\b\b\b\b\b\b\b\b\b\b\b\b\b\b\b\r6/6 [==============================] - 0s 20ms/step - loss: 160.6931 - classification_loss: 0.3489 - Regression_loss: 160.3443 - classification_accuracy: 0.8294 - Regression_mae: 7.2076\n",
            "Epoch 63/300\n",
            "4/6 [===================>..........] - ETA: 0s - loss: 134.7429 - classification_loss: 0.3040 - Regression_loss: 134.4389 - classification_accuracy: 0.8594 - Regression_mae: 6.6212"
          ]
        },
        {
          "output_type": "stream",
          "name": "stderr",
          "text": [
            "2024/03/09 05:28:16 WARNING mlflow.utils.checkpoint_utils: Checkpoint logging is skipped, because checkpoint 'save_best_only' config is True, it requires to compare the monitored metric value, but the provided monitored metric value is not available.\n"
          ]
        },
        {
          "output_type": "stream",
          "name": "stdout",
          "text": [
            "\b\b\b\b\b\b\b\b\b\b\b\b\b\b\b\b\b\b\b\b\b\b\b\b\b\b\b\b\b\b\b\b\b\b\b\b\b\b\b\b\b\b\b\b\b\b\b\b\b\b\b\b\b\b\b\b\b\b\b\b\b\b\b\b\b\b\b\b\b\b\b\b\b\b\b\b\b\b\b\b\b\b\b\b\b\b\b\b\b\b\b\b\b\b\b\b\b\b\b\b\b\b\b\b\b\b\b\b\b\b\b\b\b\b\b\b\b\b\b\b\b\b\b\b\b\b\b\b\b\b\b\b\b\b\b\b\b\b\b\b\b\b\b\b\b\b\b\b\b\b\b\b\b\b\b\b\b\b\b\b\b\b\b\b\b\b\b\b\b\b\b\b\b\b\b\b\b\b\b\b\r6/6 [==============================] - 0s 19ms/step - loss: 155.8424 - classification_loss: 0.3152 - Regression_loss: 155.5272 - classification_accuracy: 0.8353 - Regression_mae: 6.7493\n",
            "Epoch 64/300\n",
            "4/6 [===================>..........] - ETA: 0s - loss: 168.0648 - classification_loss: 0.3928 - Regression_loss: 167.6720 - classification_accuracy: 0.8125 - Regression_mae: 7.2516"
          ]
        },
        {
          "output_type": "stream",
          "name": "stderr",
          "text": [
            "2024/03/09 05:28:16 WARNING mlflow.utils.checkpoint_utils: Checkpoint logging is skipped, because checkpoint 'save_best_only' config is True, it requires to compare the monitored metric value, but the provided monitored metric value is not available.\n"
          ]
        },
        {
          "output_type": "stream",
          "name": "stdout",
          "text": [
            "\b\b\b\b\b\b\b\b\b\b\b\b\b\b\b\b\b\b\b\b\b\b\b\b\b\b\b\b\b\b\b\b\b\b\b\b\b\b\b\b\b\b\b\b\b\b\b\b\b\b\b\b\b\b\b\b\b\b\b\b\b\b\b\b\b\b\b\b\b\b\b\b\b\b\b\b\b\b\b\b\b\b\b\b\b\b\b\b\b\b\b\b\b\b\b\b\b\b\b\b\b\b\b\b\b\b\b\b\b\b\b\b\b\b\b\b\b\b\b\b\b\b\b\b\b\b\b\b\b\b\b\b\b\b\b\b\b\b\b\b\b\b\b\b\b\b\b\b\b\b\b\b\b\b\b\b\b\b\b\b\b\b\b\b\b\b\b\b\b\b\b\b\b\b\b\b\b\b\b\b\r6/6 [==============================] - 0s 18ms/step - loss: 153.4953 - classification_loss: 0.3438 - Regression_loss: 153.1515 - classification_accuracy: 0.8353 - Regression_mae: 6.5720\n",
            "Epoch 65/300\n",
            "5/6 [========================>.....] - ETA: 0s - loss: 158.4531 - classification_loss: 0.3255 - Regression_loss: 158.1276 - classification_accuracy: 0.8438 - Regression_mae: 6.4042"
          ]
        },
        {
          "output_type": "stream",
          "name": "stderr",
          "text": [
            "2024/03/09 05:28:16 WARNING mlflow.utils.checkpoint_utils: Checkpoint logging is skipped, because checkpoint 'save_best_only' config is True, it requires to compare the monitored metric value, but the provided monitored metric value is not available.\n"
          ]
        },
        {
          "output_type": "stream",
          "name": "stdout",
          "text": [
            "\b\b\b\b\b\b\b\b\b\b\b\b\b\b\b\b\b\b\b\b\b\b\b\b\b\b\b\b\b\b\b\b\b\b\b\b\b\b\b\b\b\b\b\b\b\b\b\b\b\b\b\b\b\b\b\b\b\b\b\b\b\b\b\b\b\b\b\b\b\b\b\b\b\b\b\b\b\b\b\b\b\b\b\b\b\b\b\b\b\b\b\b\b\b\b\b\b\b\b\b\b\b\b\b\b\b\b\b\b\b\b\b\b\b\b\b\b\b\b\b\b\b\b\b\b\b\b\b\b\b\b\b\b\b\b\b\b\b\b\b\b\b\b\b\b\b\b\b\b\b\b\b\b\b\b\b\b\b\b\b\b\b\b\b\b\b\b\b\b\b\b\b\b\b\b\b\b\b\b\b\r6/6 [==============================] - 0s 20ms/step - loss: 151.4632 - classification_loss: 0.3225 - Regression_loss: 151.1407 - classification_accuracy: 0.8471 - Regression_mae: 6.2427\n",
            "Epoch 66/300\n",
            "5/6 [========================>.....] - ETA: 0s - loss: 148.3649 - classification_loss: 0.3198 - Regression_loss: 148.0451 - classification_accuracy: 0.8562 - Regression_mae: 6.1280"
          ]
        },
        {
          "output_type": "stream",
          "name": "stderr",
          "text": [
            "2024/03/09 05:28:16 WARNING mlflow.utils.checkpoint_utils: Checkpoint logging is skipped, because checkpoint 'save_best_only' config is True, it requires to compare the monitored metric value, but the provided monitored metric value is not available.\n"
          ]
        },
        {
          "output_type": "stream",
          "name": "stdout",
          "text": [
            "\b\b\b\b\b\b\b\b\b\b\b\b\b\b\b\b\b\b\b\b\b\b\b\b\b\b\b\b\b\b\b\b\b\b\b\b\b\b\b\b\b\b\b\b\b\b\b\b\b\b\b\b\b\b\b\b\b\b\b\b\b\b\b\b\b\b\b\b\b\b\b\b\b\b\b\b\b\b\b\b\b\b\b\b\b\b\b\b\b\b\b\b\b\b\b\b\b\b\b\b\b\b\b\b\b\b\b\b\b\b\b\b\b\b\b\b\b\b\b\b\b\b\b\b\b\b\b\b\b\b\b\b\b\b\b\b\b\b\b\b\b\b\b\b\b\b\b\b\b\b\b\b\b\b\b\b\b\b\b\b\b\b\b\b\b\b\b\b\b\b\b\b\b\b\b\b\b\b\b\b\r6/6 [==============================] - 0s 18ms/step - loss: 150.1384 - classification_loss: 0.3279 - Regression_loss: 149.8105 - classification_accuracy: 0.8412 - Regression_mae: 6.1933\n",
            "Epoch 67/300\n",
            "5/6 [========================>.....] - ETA: 0s - loss: 153.3149 - classification_loss: 0.3229 - Regression_loss: 152.9920 - classification_accuracy: 0.8313 - Regression_mae: 6.2138"
          ]
        },
        {
          "output_type": "stream",
          "name": "stderr",
          "text": [
            "2024/03/09 05:28:16 WARNING mlflow.utils.checkpoint_utils: Checkpoint logging is skipped, because checkpoint 'save_best_only' config is True, it requires to compare the monitored metric value, but the provided monitored metric value is not available.\n"
          ]
        },
        {
          "output_type": "stream",
          "name": "stdout",
          "text": [
            "\b\b\b\b\b\b\b\b\b\b\b\b\b\b\b\b\b\b\b\b\b\b\b\b\b\b\b\b\b\b\b\b\b\b\b\b\b\b\b\b\b\b\b\b\b\b\b\b\b\b\b\b\b\b\b\b\b\b\b\b\b\b\b\b\b\b\b\b\b\b\b\b\b\b\b\b\b\b\b\b\b\b\b\b\b\b\b\b\b\b\b\b\b\b\b\b\b\b\b\b\b\b\b\b\b\b\b\b\b\b\b\b\b\b\b\b\b\b\b\b\b\b\b\b\b\b\b\b\b\b\b\b\b\b\b\b\b\b\b\b\b\b\b\b\b\b\b\b\b\b\b\b\b\b\b\b\b\b\b\b\b\b\b\b\b\b\b\b\b\b\b\b\b\b\b\b\b\b\b\b\r6/6 [==============================] - 0s 20ms/step - loss: 150.5106 - classification_loss: 0.3128 - Regression_loss: 150.1978 - classification_accuracy: 0.8412 - Regression_mae: 6.1823\n",
            "Epoch 68/300\n",
            "5/6 [========================>.....] - ETA: 0s - loss: 158.3512 - classification_loss: 0.3232 - Regression_loss: 158.0280 - classification_accuracy: 0.8375 - Regression_mae: 6.4997"
          ]
        },
        {
          "output_type": "stream",
          "name": "stderr",
          "text": [
            "2024/03/09 05:28:17 WARNING mlflow.utils.checkpoint_utils: Checkpoint logging is skipped, because checkpoint 'save_best_only' config is True, it requires to compare the monitored metric value, but the provided monitored metric value is not available.\n"
          ]
        },
        {
          "output_type": "stream",
          "name": "stdout",
          "text": [
            "\b\b\b\b\b\b\b\b\b\b\b\b\b\b\b\b\b\b\b\b\b\b\b\b\b\b\b\b\b\b\b\b\b\b\b\b\b\b\b\b\b\b\b\b\b\b\b\b\b\b\b\b\b\b\b\b\b\b\b\b\b\b\b\b\b\b\b\b\b\b\b\b\b\b\b\b\b\b\b\b\b\b\b\b\b\b\b\b\b\b\b\b\b\b\b\b\b\b\b\b\b\b\b\b\b\b\b\b\b\b\b\b\b\b\b\b\b\b\b\b\b\b\b\b\b\b\b\b\b\b\b\b\b\b\b\b\b\b\b\b\b\b\b\b\b\b\b\b\b\b\b\b\b\b\b\b\b\b\b\b\b\b\b\b\b\b\b\b\b\b\b\b\b\b\b\b\b\b\b\b\r6/6 [==============================] - 0s 20ms/step - loss: 150.4094 - classification_loss: 0.3103 - Regression_loss: 150.0992 - classification_accuracy: 0.8471 - Regression_mae: 6.2472\n",
            "Epoch 69/300\n",
            "5/6 [========================>.....] - ETA: 0s - loss: 147.9012 - classification_loss: 0.2989 - Regression_loss: 147.6022 - classification_accuracy: 0.8438 - Regression_mae: 5.9794"
          ]
        },
        {
          "output_type": "stream",
          "name": "stderr",
          "text": [
            "2024/03/09 05:28:17 WARNING mlflow.utils.checkpoint_utils: Checkpoint logging is skipped, because checkpoint 'save_best_only' config is True, it requires to compare the monitored metric value, but the provided monitored metric value is not available.\n"
          ]
        },
        {
          "output_type": "stream",
          "name": "stdout",
          "text": [
            "\b\b\b\b\b\b\b\b\b\b\b\b\b\b\b\b\b\b\b\b\b\b\b\b\b\b\b\b\b\b\b\b\b\b\b\b\b\b\b\b\b\b\b\b\b\b\b\b\b\b\b\b\b\b\b\b\b\b\b\b\b\b\b\b\b\b\b\b\b\b\b\b\b\b\b\b\b\b\b\b\b\b\b\b\b\b\b\b\b\b\b\b\b\b\b\b\b\b\b\b\b\b\b\b\b\b\b\b\b\b\b\b\b\b\b\b\b\b\b\b\b\b\b\b\b\b\b\b\b\b\b\b\b\b\b\b\b\b\b\b\b\b\b\b\b\b\b\b\b\b\b\b\b\b\b\b\b\b\b\b\b\b\b\b\b\b\b\b\b\b\b\b\b\b\b\b\b\b\b\b\r6/6 [==============================] - 0s 18ms/step - loss: 150.0385 - classification_loss: 0.3090 - Regression_loss: 149.7294 - classification_accuracy: 0.8412 - Regression_mae: 6.1049\n",
            "Epoch 70/300\n",
            "4/6 [===================>..........] - ETA: 0s - loss: 131.7982 - classification_loss: 0.2815 - Regression_loss: 131.5168 - classification_accuracy: 0.8359 - Regression_mae: 5.6587"
          ]
        },
        {
          "output_type": "stream",
          "name": "stderr",
          "text": [
            "2024/03/09 05:28:17 WARNING mlflow.utils.checkpoint_utils: Checkpoint logging is skipped, because checkpoint 'save_best_only' config is True, it requires to compare the monitored metric value, but the provided monitored metric value is not available.\n"
          ]
        },
        {
          "output_type": "stream",
          "name": "stdout",
          "text": [
            "\b\b\b\b\b\b\b\b\b\b\b\b\b\b\b\b\b\b\b\b\b\b\b\b\b\b\b\b\b\b\b\b\b\b\b\b\b\b\b\b\b\b\b\b\b\b\b\b\b\b\b\b\b\b\b\b\b\b\b\b\b\b\b\b\b\b\b\b\b\b\b\b\b\b\b\b\b\b\b\b\b\b\b\b\b\b\b\b\b\b\b\b\b\b\b\b\b\b\b\b\b\b\b\b\b\b\b\b\b\b\b\b\b\b\b\b\b\b\b\b\b\b\b\b\b\b\b\b\b\b\b\b\b\b\b\b\b\b\b\b\b\b\b\b\b\b\b\b\b\b\b\b\b\b\b\b\b\b\b\b\b\b\b\b\b\b\b\b\b\b\b\b\b\b\b\b\b\b\b\b\r6/6 [==============================] - 0s 19ms/step - loss: 151.2783 - classification_loss: 0.3165 - Regression_loss: 150.9618 - classification_accuracy: 0.8176 - Regression_mae: 6.1585\n",
            "Epoch 71/300\n",
            "4/6 [===================>..........] - ETA: 0s - loss: 150.6722 - classification_loss: 0.2968 - Regression_loss: 150.3754 - classification_accuracy: 0.8359 - Regression_mae: 5.9328"
          ]
        },
        {
          "output_type": "stream",
          "name": "stderr",
          "text": [
            "2024/03/09 05:28:17 WARNING mlflow.utils.checkpoint_utils: Checkpoint logging is skipped, because checkpoint 'save_best_only' config is True, it requires to compare the monitored metric value, but the provided monitored metric value is not available.\n"
          ]
        },
        {
          "output_type": "stream",
          "name": "stdout",
          "text": [
            "\b\b\b\b\b\b\b\b\b\b\b\b\b\b\b\b\b\b\b\b\b\b\b\b\b\b\b\b\b\b\b\b\b\b\b\b\b\b\b\b\b\b\b\b\b\b\b\b\b\b\b\b\b\b\b\b\b\b\b\b\b\b\b\b\b\b\b\b\b\b\b\b\b\b\b\b\b\b\b\b\b\b\b\b\b\b\b\b\b\b\b\b\b\b\b\b\b\b\b\b\b\b\b\b\b\b\b\b\b\b\b\b\b\b\b\b\b\b\b\b\b\b\b\b\b\b\b\b\b\b\b\b\b\b\b\b\b\b\b\b\b\b\b\b\b\b\b\b\b\b\b\b\b\b\b\b\b\b\b\b\b\b\b\b\b\b\b\b\b\b\b\b\b\b\b\b\b\b\b\b\r6/6 [==============================] - 0s 19ms/step - loss: 150.9253 - classification_loss: 0.3096 - Regression_loss: 150.6158 - classification_accuracy: 0.8176 - Regression_mae: 6.1591\n",
            "Epoch 72/300\n",
            "5/6 [========================>.....] - ETA: 0s - loss: 141.3945 - classification_loss: 0.3006 - Regression_loss: 141.0939 - classification_accuracy: 0.8438 - Regression_mae: 5.9936"
          ]
        },
        {
          "output_type": "stream",
          "name": "stderr",
          "text": [
            "2024/03/09 05:28:17 WARNING mlflow.utils.checkpoint_utils: Checkpoint logging is skipped, because checkpoint 'save_best_only' config is True, it requires to compare the monitored metric value, but the provided monitored metric value is not available.\n"
          ]
        },
        {
          "output_type": "stream",
          "name": "stdout",
          "text": [
            "\b\b\b\b\b\b\b\b\b\b\b\b\b\b\b\b\b\b\b\b\b\b\b\b\b\b\b\b\b\b\b\b\b\b\b\b\b\b\b\b\b\b\b\b\b\b\b\b\b\b\b\b\b\b\b\b\b\b\b\b\b\b\b\b\b\b\b\b\b\b\b\b\b\b\b\b\b\b\b\b\b\b\b\b\b\b\b\b\b\b\b\b\b\b\b\b\b\b\b\b\b\b\b\b\b\b\b\b\b\b\b\b\b\b\b\b\b\b\b\b\b\b\b\b\b\b\b\b\b\b\b\b\b\b\b\b\b\b\b\b\b\b\b\b\b\b\b\b\b\b\b\b\b\b\b\b\b\b\b\b\b\b\b\b\b\b\b\b\b\b\b\b\b\b\b\b\b\b\b\b\r6/6 [==============================] - 0s 19ms/step - loss: 149.1401 - classification_loss: 0.3071 - Regression_loss: 148.8330 - classification_accuracy: 0.8353 - Regression_mae: 6.1336\n",
            "Epoch 73/300\n",
            "5/6 [========================>.....] - ETA: 0s - loss: 146.7988 - classification_loss: 0.2847 - Regression_loss: 146.5141 - classification_accuracy: 0.8500 - Regression_mae: 5.9993"
          ]
        },
        {
          "output_type": "stream",
          "name": "stderr",
          "text": [
            "2024/03/09 05:28:17 WARNING mlflow.utils.checkpoint_utils: Checkpoint logging is skipped, because checkpoint 'save_best_only' config is True, it requires to compare the monitored metric value, but the provided monitored metric value is not available.\n"
          ]
        },
        {
          "output_type": "stream",
          "name": "stdout",
          "text": [
            "\b\b\b\b\b\b\b\b\b\b\b\b\b\b\b\b\b\b\b\b\b\b\b\b\b\b\b\b\b\b\b\b\b\b\b\b\b\b\b\b\b\b\b\b\b\b\b\b\b\b\b\b\b\b\b\b\b\b\b\b\b\b\b\b\b\b\b\b\b\b\b\b\b\b\b\b\b\b\b\b\b\b\b\b\b\b\b\b\b\b\b\b\b\b\b\b\b\b\b\b\b\b\b\b\b\b\b\b\b\b\b\b\b\b\b\b\b\b\b\b\b\b\b\b\b\b\b\b\b\b\b\b\b\b\b\b\b\b\b\b\b\b\b\b\b\b\b\b\b\b\b\b\b\b\b\b\b\b\b\b\b\b\b\b\b\b\b\b\b\b\b\b\b\b\b\b\b\b\b\b\r6/6 [==============================] - 0s 18ms/step - loss: 149.9230 - classification_loss: 0.3108 - Regression_loss: 149.6122 - classification_accuracy: 0.8294 - Regression_mae: 6.1547\n",
            "Epoch 74/300\n",
            "4/6 [===================>..........] - ETA: 0s - loss: 130.0203 - classification_loss: 0.3060 - Regression_loss: 129.7143 - classification_accuracy: 0.8438 - Regression_mae: 5.9766"
          ]
        },
        {
          "output_type": "stream",
          "name": "stderr",
          "text": [
            "2024/03/09 05:28:17 WARNING mlflow.utils.checkpoint_utils: Checkpoint logging is skipped, because checkpoint 'save_best_only' config is True, it requires to compare the monitored metric value, but the provided monitored metric value is not available.\n"
          ]
        },
        {
          "output_type": "stream",
          "name": "stdout",
          "text": [
            "\b\b\b\b\b\b\b\b\b\b\b\b\b\b\b\b\b\b\b\b\b\b\b\b\b\b\b\b\b\b\b\b\b\b\b\b\b\b\b\b\b\b\b\b\b\b\b\b\b\b\b\b\b\b\b\b\b\b\b\b\b\b\b\b\b\b\b\b\b\b\b\b\b\b\b\b\b\b\b\b\b\b\b\b\b\b\b\b\b\b\b\b\b\b\b\b\b\b\b\b\b\b\b\b\b\b\b\b\b\b\b\b\b\b\b\b\b\b\b\b\b\b\b\b\b\b\b\b\b\b\b\b\b\b\b\b\b\b\b\b\b\b\b\b\b\b\b\b\b\b\b\b\b\b\b\b\b\b\b\b\b\b\b\b\b\b\b\b\b\b\b\b\b\b\b\b\b\b\b\b\r6/6 [==============================] - 0s 22ms/step - loss: 153.2868 - classification_loss: 0.3297 - Regression_loss: 152.9570 - classification_accuracy: 0.8412 - Regression_mae: 6.4877\n",
            "Epoch 75/300\n",
            "4/6 [===================>..........] - ETA: 0s - loss: 146.8823 - classification_loss: 0.3113 - Regression_loss: 146.5710 - classification_accuracy: 0.8438 - Regression_mae: 6.8572"
          ]
        },
        {
          "output_type": "stream",
          "name": "stderr",
          "text": [
            "2024/03/09 05:28:17 WARNING mlflow.utils.checkpoint_utils: Checkpoint logging is skipped, because checkpoint 'save_best_only' config is True, it requires to compare the monitored metric value, but the provided monitored metric value is not available.\n"
          ]
        },
        {
          "output_type": "stream",
          "name": "stdout",
          "text": [
            "\b\b\b\b\b\b\b\b\b\b\b\b\b\b\b\b\b\b\b\b\b\b\b\b\b\b\b\b\b\b\b\b\b\b\b\b\b\b\b\b\b\b\b\b\b\b\b\b\b\b\b\b\b\b\b\b\b\b\b\b\b\b\b\b\b\b\b\b\b\b\b\b\b\b\b\b\b\b\b\b\b\b\b\b\b\b\b\b\b\b\b\b\b\b\b\b\b\b\b\b\b\b\b\b\b\b\b\b\b\b\b\b\b\b\b\b\b\b\b\b\b\b\b\b\b\b\b\b\b\b\b\b\b\b\b\b\b\b\b\b\b\b\b\b\b\b\b\b\b\b\b\b\b\b\b\b\b\b\b\b\b\b\b\b\b\b\b\b\b\b\b\b\b\b\b\b\b\b\b\b\r6/6 [==============================] - 0s 25ms/step - loss: 158.3848 - classification_loss: 0.3306 - Regression_loss: 158.0542 - classification_accuracy: 0.8294 - Regression_mae: 7.2174\n",
            "Epoch 76/300\n",
            "4/6 [===================>..........] - ETA: 0s - loss: 157.4657 - classification_loss: 0.3085 - Regression_loss: 157.1572 - classification_accuracy: 0.8203 - Regression_mae: 7.4975"
          ]
        },
        {
          "output_type": "stream",
          "name": "stderr",
          "text": [
            "2024/03/09 05:28:18 WARNING mlflow.utils.checkpoint_utils: Checkpoint logging is skipped, because checkpoint 'save_best_only' config is True, it requires to compare the monitored metric value, but the provided monitored metric value is not available.\n"
          ]
        },
        {
          "output_type": "stream",
          "name": "stdout",
          "text": [
            "\b\b\b\b\b\b\b\b\b\b\b\b\b\b\b\b\b\b\b\b\b\b\b\b\b\b\b\b\b\b\b\b\b\b\b\b\b\b\b\b\b\b\b\b\b\b\b\b\b\b\b\b\b\b\b\b\b\b\b\b\b\b\b\b\b\b\b\b\b\b\b\b\b\b\b\b\b\b\b\b\b\b\b\b\b\b\b\b\b\b\b\b\b\b\b\b\b\b\b\b\b\b\b\b\b\b\b\b\b\b\b\b\b\b\b\b\b\b\b\b\b\b\b\b\b\b\b\b\b\b\b\b\b\b\b\b\b\b\b\b\b\b\b\b\b\b\b\b\b\b\b\b\b\b\b\b\b\b\b\b\b\b\b\b\b\b\b\b\b\b\b\b\b\b\b\b\b\b\b\b\r6/6 [==============================] - 0s 26ms/step - loss: 163.9994 - classification_loss: 0.3179 - Regression_loss: 163.6815 - classification_accuracy: 0.8176 - Regression_mae: 7.7009\n",
            "Epoch 77/300\n",
            "4/6 [===================>..........] - ETA: 0s - loss: 155.3380 - classification_loss: 0.3192 - Regression_loss: 155.0188 - classification_accuracy: 0.8359 - Regression_mae: 7.2029"
          ]
        },
        {
          "output_type": "stream",
          "name": "stderr",
          "text": [
            "2024/03/09 05:28:18 WARNING mlflow.utils.checkpoint_utils: Checkpoint logging is skipped, because checkpoint 'save_best_only' config is True, it requires to compare the monitored metric value, but the provided monitored metric value is not available.\n"
          ]
        },
        {
          "output_type": "stream",
          "name": "stdout",
          "text": [
            "\b\b\b\b\b\b\b\b\b\b\b\b\b\b\b\b\b\b\b\b\b\b\b\b\b\b\b\b\b\b\b\b\b\b\b\b\b\b\b\b\b\b\b\b\b\b\b\b\b\b\b\b\b\b\b\b\b\b\b\b\b\b\b\b\b\b\b\b\b\b\b\b\b\b\b\b\b\b\b\b\b\b\b\b\b\b\b\b\b\b\b\b\b\b\b\b\b\b\b\b\b\b\b\b\b\b\b\b\b\b\b\b\b\b\b\b\b\b\b\b\b\b\b\b\b\b\b\b\b\b\b\b\b\b\b\b\b\b\b\b\b\b\b\b\b\b\b\b\b\b\b\b\b\b\b\b\b\b\b\b\b\b\b\b\b\b\b\b\b\b\b\b\b\b\b\b\b\b\b\b\r6/6 [==============================] - 0s 22ms/step - loss: 153.7343 - classification_loss: 0.3409 - Regression_loss: 153.3934 - classification_accuracy: 0.8176 - Regression_mae: 6.9868\n",
            "Epoch 78/300\n",
            "4/6 [===================>..........] - ETA: 0s - loss: 172.0522 - classification_loss: 0.3300 - Regression_loss: 171.7222 - classification_accuracy: 0.8438 - Regression_mae: 7.4449"
          ]
        },
        {
          "output_type": "stream",
          "name": "stderr",
          "text": [
            "2024/03/09 05:28:18 WARNING mlflow.utils.checkpoint_utils: Checkpoint logging is skipped, because checkpoint 'save_best_only' config is True, it requires to compare the monitored metric value, but the provided monitored metric value is not available.\n"
          ]
        },
        {
          "output_type": "stream",
          "name": "stdout",
          "text": [
            "\b\b\b\b\b\b\b\b\b\b\b\b\b\b\b\b\b\b\b\b\b\b\b\b\b\b\b\b\b\b\b\b\b\b\b\b\b\b\b\b\b\b\b\b\b\b\b\b\b\b\b\b\b\b\b\b\b\b\b\b\b\b\b\b\b\b\b\b\b\b\b\b\b\b\b\b\b\b\b\b\b\b\b\b\b\b\b\b\b\b\b\b\b\b\b\b\b\b\b\b\b\b\b\b\b\b\b\b\b\b\b\b\b\b\b\b\b\b\b\b\b\b\b\b\b\b\b\b\b\b\b\b\b\b\b\b\b\b\b\b\b\b\b\b\b\b\b\b\b\b\b\b\b\b\b\b\b\b\b\b\b\b\b\b\b\b\b\b\b\b\b\b\b\b\b\b\b\b\b\b\r6/6 [==============================] - 0s 23ms/step - loss: 155.1721 - classification_loss: 0.3220 - Regression_loss: 154.8501 - classification_accuracy: 0.8529 - Regression_mae: 6.9468\n",
            "Epoch 79/300\n",
            "4/6 [===================>..........] - ETA: 0s - loss: 158.0515 - classification_loss: 0.3411 - Regression_loss: 157.7104 - classification_accuracy: 0.8281 - Regression_mae: 6.9833"
          ]
        },
        {
          "output_type": "stream",
          "name": "stderr",
          "text": [
            "2024/03/09 05:28:18 WARNING mlflow.utils.checkpoint_utils: Checkpoint logging is skipped, because checkpoint 'save_best_only' config is True, it requires to compare the monitored metric value, but the provided monitored metric value is not available.\n"
          ]
        },
        {
          "output_type": "stream",
          "name": "stdout",
          "text": [
            "\b\b\b\b\b\b\b\b\b\b\b\b\b\b\b\b\b\b\b\b\b\b\b\b\b\b\b\b\b\b\b\b\b\b\b\b\b\b\b\b\b\b\b\b\b\b\b\b\b\b\b\b\b\b\b\b\b\b\b\b\b\b\b\b\b\b\b\b\b\b\b\b\b\b\b\b\b\b\b\b\b\b\b\b\b\b\b\b\b\b\b\b\b\b\b\b\b\b\b\b\b\b\b\b\b\b\b\b\b\b\b\b\b\b\b\b\b\b\b\b\b\b\b\b\b\b\b\b\b\b\b\b\b\b\b\b\b\b\b\b\b\b\b\b\b\b\b\b\b\b\b\b\b\b\b\b\b\b\b\b\b\b\b\b\b\b\b\b\b\b\b\b\b\b\b\b\b\b\b\b\r6/6 [==============================] - 0s 21ms/step - loss: 155.9103 - classification_loss: 0.3420 - Regression_loss: 155.5682 - classification_accuracy: 0.8353 - Regression_mae: 6.9823\n",
            "Epoch 80/300\n",
            "4/6 [===================>..........] - ETA: 0s - loss: 160.8691 - classification_loss: 0.3680 - Regression_loss: 160.5011 - classification_accuracy: 0.8281 - Regression_mae: 6.9322"
          ]
        },
        {
          "output_type": "stream",
          "name": "stderr",
          "text": [
            "2024/03/09 05:28:18 WARNING mlflow.utils.checkpoint_utils: Checkpoint logging is skipped, because checkpoint 'save_best_only' config is True, it requires to compare the monitored metric value, but the provided monitored metric value is not available.\n"
          ]
        },
        {
          "output_type": "stream",
          "name": "stdout",
          "text": [
            "\b\b\b\b\b\b\b\b\b\b\b\b\b\b\b\b\b\b\b\b\b\b\b\b\b\b\b\b\b\b\b\b\b\b\b\b\b\b\b\b\b\b\b\b\b\b\b\b\b\b\b\b\b\b\b\b\b\b\b\b\b\b\b\b\b\b\b\b\b\b\b\b\b\b\b\b\b\b\b\b\b\b\b\b\b\b\b\b\b\b\b\b\b\b\b\b\b\b\b\b\b\b\b\b\b\b\b\b\b\b\b\b\b\b\b\b\b\b\b\b\b\b\b\b\b\b\b\b\b\b\b\b\b\b\b\b\b\b\b\b\b\b\b\b\b\b\b\b\b\b\b\b\b\b\b\b\b\b\b\b\b\b\b\b\b\b\b\b\b\b\b\b\b\b\b\b\b\b\b\b\r6/6 [==============================] - 0s 22ms/step - loss: 151.0802 - classification_loss: 0.3541 - Regression_loss: 150.7260 - classification_accuracy: 0.8294 - Regression_mae: 6.5238\n",
            "Epoch 81/300\n",
            "4/6 [===================>..........] - ETA: 0s - loss: 160.2155 - classification_loss: 0.3336 - Regression_loss: 159.8819 - classification_accuracy: 0.8047 - Regression_mae: 7.5561"
          ]
        },
        {
          "output_type": "stream",
          "name": "stderr",
          "text": [
            "2024/03/09 05:28:18 WARNING mlflow.utils.checkpoint_utils: Checkpoint logging is skipped, because checkpoint 'save_best_only' config is True, it requires to compare the monitored metric value, but the provided monitored metric value is not available.\n"
          ]
        },
        {
          "output_type": "stream",
          "name": "stdout",
          "text": [
            "\b\b\b\b\b\b\b\b\b\b\b\b\b\b\b\b\b\b\b\b\b\b\b\b\b\b\b\b\b\b\b\b\b\b\b\b\b\b\b\b\b\b\b\b\b\b\b\b\b\b\b\b\b\b\b\b\b\b\b\b\b\b\b\b\b\b\b\b\b\b\b\b\b\b\b\b\b\b\b\b\b\b\b\b\b\b\b\b\b\b\b\b\b\b\b\b\b\b\b\b\b\b\b\b\b\b\b\b\b\b\b\b\b\b\b\b\b\b\b\b\b\b\b\b\b\b\b\b\b\b\b\b\b\b\b\b\b\b\b\b\b\b\b\b\b\b\b\b\b\b\b\b\b\b\b\b\b\b\b\b\b\b\b\b\b\b\b\b\b\b\b\b\b\b\b\b\b\b\b\b\r6/6 [==============================] - 0s 22ms/step - loss: 159.3879 - classification_loss: 0.3115 - Regression_loss: 159.0763 - classification_accuracy: 0.8353 - Regression_mae: 7.2194\n",
            "Epoch 82/300\n",
            "4/6 [===================>..........] - ETA: 0s - loss: 146.5780 - classification_loss: 0.3202 - Regression_loss: 146.2578 - classification_accuracy: 0.8203 - Regression_mae: 7.3445"
          ]
        },
        {
          "output_type": "stream",
          "name": "stderr",
          "text": [
            "2024/03/09 05:28:18 WARNING mlflow.utils.checkpoint_utils: Checkpoint logging is skipped, because checkpoint 'save_best_only' config is True, it requires to compare the monitored metric value, but the provided monitored metric value is not available.\n"
          ]
        },
        {
          "output_type": "stream",
          "name": "stdout",
          "text": [
            "\b\b\b\b\b\b\b\b\b\b\b\b\b\b\b\b\b\b\b\b\b\b\b\b\b\b\b\b\b\b\b\b\b\b\b\b\b\b\b\b\b\b\b\b\b\b\b\b\b\b\b\b\b\b\b\b\b\b\b\b\b\b\b\b\b\b\b\b\b\b\b\b\b\b\b\b\b\b\b\b\b\b\b\b\b\b\b\b\b\b\b\b\b\b\b\b\b\b\b\b\b\b\b\b\b\b\b\b\b\b\b\b\b\b\b\b\b\b\b\b\b\b\b\b\b\b\b\b\b\b\b\b\b\b\b\b\b\b\b\b\b\b\b\b\b\b\b\b\b\b\b\b\b\b\b\b\b\b\b\b\b\b\b\b\b\b\b\b\b\b\b\b\b\b\b\b\b\b\b\b\r6/6 [==============================] - 0s 21ms/step - loss: 158.3656 - classification_loss: 0.3133 - Regression_loss: 158.0522 - classification_accuracy: 0.8294 - Regression_mae: 7.2601\n",
            "Epoch 83/300\n",
            "4/6 [===================>..........] - ETA: 0s - loss: 130.4482 - classification_loss: 0.3548 - Regression_loss: 130.0934 - classification_accuracy: 0.8359 - Regression_mae: 6.4139 "
          ]
        },
        {
          "output_type": "stream",
          "name": "stderr",
          "text": [
            "2024/03/09 05:28:19 WARNING mlflow.utils.checkpoint_utils: Checkpoint logging is skipped, because checkpoint 'save_best_only' config is True, it requires to compare the monitored metric value, but the provided monitored metric value is not available.\n"
          ]
        },
        {
          "output_type": "stream",
          "name": "stdout",
          "text": [
            "\b\b\b\b\b\b\b\b\b\b\b\b\b\b\b\b\b\b\b\b\b\b\b\b\b\b\b\b\b\b\b\b\b\b\b\b\b\b\b\b\b\b\b\b\b\b\b\b\b\b\b\b\b\b\b\b\b\b\b\b\b\b\b\b\b\b\b\b\b\b\b\b\b\b\b\b\b\b\b\b\b\b\b\b\b\b\b\b\b\b\b\b\b\b\b\b\b\b\b\b\b\b\b\b\b\b\b\b\b\b\b\b\b\b\b\b\b\b\b\b\b\b\b\b\b\b\b\b\b\b\b\b\b\b\b\b\b\b\b\b\b\b\b\b\b\b\b\b\b\b\b\b\b\b\b\b\b\b\b\b\b\b\b\b\b\b\b\b\b\b\b\b\b\b\b\b\b\b\b\b\r6/6 [==============================] - 0s 22ms/step - loss: 157.4109 - classification_loss: 0.3705 - Regression_loss: 157.0404 - classification_accuracy: 0.8176 - Regression_mae: 6.9656\n",
            "Epoch 84/300\n",
            "4/6 [===================>..........] - ETA: 0s - loss: 150.7534 - classification_loss: 0.3136 - Regression_loss: 150.4398 - classification_accuracy: 0.8125 - Regression_mae: 7.0107"
          ]
        },
        {
          "output_type": "stream",
          "name": "stderr",
          "text": [
            "2024/03/09 05:28:19 WARNING mlflow.utils.checkpoint_utils: Checkpoint logging is skipped, because checkpoint 'save_best_only' config is True, it requires to compare the monitored metric value, but the provided monitored metric value is not available.\n"
          ]
        },
        {
          "output_type": "stream",
          "name": "stdout",
          "text": [
            "\b\b\b\b\b\b\b\b\b\b\b\b\b\b\b\b\b\b\b\b\b\b\b\b\b\b\b\b\b\b\b\b\b\b\b\b\b\b\b\b\b\b\b\b\b\b\b\b\b\b\b\b\b\b\b\b\b\b\b\b\b\b\b\b\b\b\b\b\b\b\b\b\b\b\b\b\b\b\b\b\b\b\b\b\b\b\b\b\b\b\b\b\b\b\b\b\b\b\b\b\b\b\b\b\b\b\b\b\b\b\b\b\b\b\b\b\b\b\b\b\b\b\b\b\b\b\b\b\b\b\b\b\b\b\b\b\b\b\b\b\b\b\b\b\b\b\b\b\b\b\b\b\b\b\b\b\b\b\b\b\b\b\b\b\b\b\b\b\b\b\b\b\b\b\b\b\b\b\b\b\r6/6 [==============================] - 0s 25ms/step - loss: 159.2728 - classification_loss: 0.3343 - Regression_loss: 158.9386 - classification_accuracy: 0.8059 - Regression_mae: 7.2323\n",
            "Epoch 85/300\n",
            "6/6 [==============================] - ETA: 0s - loss: 155.0898 - classification_loss: 0.3590 - Regression_loss: 154.7308 - classification_accuracy: 0.8294 - Regression_mae: 6.7807"
          ]
        },
        {
          "output_type": "stream",
          "name": "stderr",
          "text": [
            "2024/03/09 05:28:19 WARNING mlflow.utils.checkpoint_utils: Checkpoint logging is skipped, because checkpoint 'save_best_only' config is True, it requires to compare the monitored metric value, but the provided monitored metric value is not available.\n"
          ]
        },
        {
          "output_type": "stream",
          "name": "stdout",
          "text": [
            "\b\b\b\b\b\b\b\b\b\b\b\b\b\b\b\b\b\b\b\b\b\b\b\b\b\b\b\b\b\b\b\b\b\b\b\b\b\b\b\b\b\b\b\b\b\b\b\b\b\b\b\b\b\b\b\b\b\b\b\b\b\b\b\b\b\b\b\b\b\b\b\b\b\b\b\b\b\b\b\b\b\b\b\b\b\b\b\b\b\b\b\b\b\b\b\b\b\b\b\b\b\b\b\b\b\b\b\b\b\b\b\b\b\b\b\b\b\b\b\b\b\b\b\b\b\b\b\b\b\b\b\b\b\b\b\b\b\b\b\b\b\b\b\b\b\b\b\b\b\b\b\b\b\b\b\b\b\b\b\b\b\b\b\b\b\b\b\b\b\b\b\b\b\b\b\b\b\b\b\b\r6/6 [==============================] - 0s 26ms/step - loss: 155.0898 - classification_loss: 0.3590 - Regression_loss: 154.7308 - classification_accuracy: 0.8294 - Regression_mae: 6.7807\n",
            "Epoch 86/300\n",
            "6/6 [==============================] - ETA: 0s - loss: 159.9278 - classification_loss: 0.3310 - Regression_loss: 159.5968 - classification_accuracy: 0.8471 - Regression_mae: 7.1763"
          ]
        },
        {
          "output_type": "stream",
          "name": "stderr",
          "text": [
            "2024/03/09 05:28:19 WARNING mlflow.utils.checkpoint_utils: Checkpoint logging is skipped, because checkpoint 'save_best_only' config is True, it requires to compare the monitored metric value, but the provided monitored metric value is not available.\n"
          ]
        },
        {
          "output_type": "stream",
          "name": "stdout",
          "text": [
            "\b\b\b\b\b\b\b\b\b\b\b\b\b\b\b\b\b\b\b\b\b\b\b\b\b\b\b\b\b\b\b\b\b\b\b\b\b\b\b\b\b\b\b\b\b\b\b\b\b\b\b\b\b\b\b\b\b\b\b\b\b\b\b\b\b\b\b\b\b\b\b\b\b\b\b\b\b\b\b\b\b\b\b\b\b\b\b\b\b\b\b\b\b\b\b\b\b\b\b\b\b\b\b\b\b\b\b\b\b\b\b\b\b\b\b\b\b\b\b\b\b\b\b\b\b\b\b\b\b\b\b\b\b\b\b\b\b\b\b\b\b\b\b\b\b\b\b\b\b\b\b\b\b\b\b\b\b\b\b\b\b\b\b\b\b\b\b\b\b\b\b\b\b\b\b\b\b\b\b\b\r6/6 [==============================] - 0s 25ms/step - loss: 159.9278 - classification_loss: 0.3310 - Regression_loss: 159.5968 - classification_accuracy: 0.8471 - Regression_mae: 7.1763\n",
            "Epoch 87/300\n",
            "4/6 [===================>..........] - ETA: 0s - loss: 159.8479 - classification_loss: 0.3748 - Regression_loss: 159.4731 - classification_accuracy: 0.8203 - Regression_mae: 7.7242"
          ]
        },
        {
          "output_type": "stream",
          "name": "stderr",
          "text": [
            "2024/03/09 05:28:19 WARNING mlflow.utils.checkpoint_utils: Checkpoint logging is skipped, because checkpoint 'save_best_only' config is True, it requires to compare the monitored metric value, but the provided monitored metric value is not available.\n"
          ]
        },
        {
          "output_type": "stream",
          "name": "stdout",
          "text": [
            "\b\b\b\b\b\b\b\b\b\b\b\b\b\b\b\b\b\b\b\b\b\b\b\b\b\b\b\b\b\b\b\b\b\b\b\b\b\b\b\b\b\b\b\b\b\b\b\b\b\b\b\b\b\b\b\b\b\b\b\b\b\b\b\b\b\b\b\b\b\b\b\b\b\b\b\b\b\b\b\b\b\b\b\b\b\b\b\b\b\b\b\b\b\b\b\b\b\b\b\b\b\b\b\b\b\b\b\b\b\b\b\b\b\b\b\b\b\b\b\b\b\b\b\b\b\b\b\b\b\b\b\b\b\b\b\b\b\b\b\b\b\b\b\b\b\b\b\b\b\b\b\b\b\b\b\b\b\b\b\b\b\b\b\b\b\b\b\b\b\b\b\b\b\b\b\b\b\b\b\b\r6/6 [==============================] - 0s 25ms/step - loss: 158.0571 - classification_loss: 0.3708 - Regression_loss: 157.6863 - classification_accuracy: 0.8353 - Regression_mae: 7.4343\n",
            "Epoch 88/300\n",
            "4/6 [===================>..........] - ETA: 0s - loss: 166.9852 - classification_loss: 0.3275 - Regression_loss: 166.6577 - classification_accuracy: 0.8438 - Regression_mae: 7.9563"
          ]
        },
        {
          "output_type": "stream",
          "name": "stderr",
          "text": [
            "2024/03/09 05:28:19 WARNING mlflow.utils.checkpoint_utils: Checkpoint logging is skipped, because checkpoint 'save_best_only' config is True, it requires to compare the monitored metric value, but the provided monitored metric value is not available.\n"
          ]
        },
        {
          "output_type": "stream",
          "name": "stdout",
          "text": [
            "\b\b\b\b\b\b\b\b\b\b\b\b\b\b\b\b\b\b\b\b\b\b\b\b\b\b\b\b\b\b\b\b\b\b\b\b\b\b\b\b\b\b\b\b\b\b\b\b\b\b\b\b\b\b\b\b\b\b\b\b\b\b\b\b\b\b\b\b\b\b\b\b\b\b\b\b\b\b\b\b\b\b\b\b\b\b\b\b\b\b\b\b\b\b\b\b\b\b\b\b\b\b\b\b\b\b\b\b\b\b\b\b\b\b\b\b\b\b\b\b\b\b\b\b\b\b\b\b\b\b\b\b\b\b\b\b\b\b\b\b\b\b\b\b\b\b\b\b\b\b\b\b\b\b\b\b\b\b\b\b\b\b\b\b\b\b\b\b\b\b\b\b\b\b\b\b\b\b\b\b\r6/6 [==============================] - 0s 22ms/step - loss: 158.9193 - classification_loss: 0.3190 - Regression_loss: 158.6003 - classification_accuracy: 0.8471 - Regression_mae: 7.4785\n",
            "Epoch 89/300\n",
            "4/6 [===================>..........] - ETA: 0s - loss: 162.8277 - classification_loss: 0.3026 - Regression_loss: 162.5251 - classification_accuracy: 0.8438 - Regression_mae: 7.0465"
          ]
        },
        {
          "output_type": "stream",
          "name": "stderr",
          "text": [
            "2024/03/09 05:28:20 WARNING mlflow.utils.checkpoint_utils: Checkpoint logging is skipped, because checkpoint 'save_best_only' config is True, it requires to compare the monitored metric value, but the provided monitored metric value is not available.\n"
          ]
        },
        {
          "output_type": "stream",
          "name": "stdout",
          "text": [
            "\b\b\b\b\b\b\b\b\b\b\b\b\b\b\b\b\b\b\b\b\b\b\b\b\b\b\b\b\b\b\b\b\b\b\b\b\b\b\b\b\b\b\b\b\b\b\b\b\b\b\b\b\b\b\b\b\b\b\b\b\b\b\b\b\b\b\b\b\b\b\b\b\b\b\b\b\b\b\b\b\b\b\b\b\b\b\b\b\b\b\b\b\b\b\b\b\b\b\b\b\b\b\b\b\b\b\b\b\b\b\b\b\b\b\b\b\b\b\b\b\b\b\b\b\b\b\b\b\b\b\b\b\b\b\b\b\b\b\b\b\b\b\b\b\b\b\b\b\b\b\b\b\b\b\b\b\b\b\b\b\b\b\b\b\b\b\b\b\b\b\b\b\b\b\b\b\b\b\b\b\r6/6 [==============================] - 0s 24ms/step - loss: 154.3063 - classification_loss: 0.3336 - Regression_loss: 153.9727 - classification_accuracy: 0.8235 - Regression_mae: 6.8607\n",
            "Epoch 90/300\n",
            "4/6 [===================>..........] - ETA: 0s - loss: 185.5008 - classification_loss: 0.3663 - Regression_loss: 185.1345 - classification_accuracy: 0.7969 - Regression_mae: 8.1609"
          ]
        },
        {
          "output_type": "stream",
          "name": "stderr",
          "text": [
            "2024/03/09 05:28:20 WARNING mlflow.utils.checkpoint_utils: Checkpoint logging is skipped, because checkpoint 'save_best_only' config is True, it requires to compare the monitored metric value, but the provided monitored metric value is not available.\n"
          ]
        },
        {
          "output_type": "stream",
          "name": "stdout",
          "text": [
            "\b\b\b\b\b\b\b\b\b\b\b\b\b\b\b\b\b\b\b\b\b\b\b\b\b\b\b\b\b\b\b\b\b\b\b\b\b\b\b\b\b\b\b\b\b\b\b\b\b\b\b\b\b\b\b\b\b\b\b\b\b\b\b\b\b\b\b\b\b\b\b\b\b\b\b\b\b\b\b\b\b\b\b\b\b\b\b\b\b\b\b\b\b\b\b\b\b\b\b\b\b\b\b\b\b\b\b\b\b\b\b\b\b\b\b\b\b\b\b\b\b\b\b\b\b\b\b\b\b\b\b\b\b\b\b\b\b\b\b\b\b\b\b\b\b\b\b\b\b\b\b\b\b\b\b\b\b\b\b\b\b\b\b\b\b\b\b\b\b\b\b\b\b\b\b\b\b\b\b\b\r6/6 [==============================] - 0s 24ms/step - loss: 157.7105 - classification_loss: 0.3268 - Regression_loss: 157.3837 - classification_accuracy: 0.8176 - Regression_mae: 7.3319\n",
            "Epoch 91/300\n",
            "4/6 [===================>..........] - ETA: 0s - loss: 166.3870 - classification_loss: 0.3378 - Regression_loss: 166.0493 - classification_accuracy: 0.8203 - Regression_mae: 8.1327"
          ]
        },
        {
          "output_type": "stream",
          "name": "stderr",
          "text": [
            "2024/03/09 05:28:20 WARNING mlflow.utils.checkpoint_utils: Checkpoint logging is skipped, because checkpoint 'save_best_only' config is True, it requires to compare the monitored metric value, but the provided monitored metric value is not available.\n"
          ]
        },
        {
          "output_type": "stream",
          "name": "stdout",
          "text": [
            "\b\b\b\b\b\b\b\b\b\b\b\b\b\b\b\b\b\b\b\b\b\b\b\b\b\b\b\b\b\b\b\b\b\b\b\b\b\b\b\b\b\b\b\b\b\b\b\b\b\b\b\b\b\b\b\b\b\b\b\b\b\b\b\b\b\b\b\b\b\b\b\b\b\b\b\b\b\b\b\b\b\b\b\b\b\b\b\b\b\b\b\b\b\b\b\b\b\b\b\b\b\b\b\b\b\b\b\b\b\b\b\b\b\b\b\b\b\b\b\b\b\b\b\b\b\b\b\b\b\b\b\b\b\b\b\b\b\b\b\b\b\b\b\b\b\b\b\b\b\b\b\b\b\b\b\b\b\b\b\b\b\b\b\b\b\b\b\b\b\b\b\b\b\b\b\b\b\b\b\b\r6/6 [==============================] - 0s 25ms/step - loss: 157.5243 - classification_loss: 0.3124 - Regression_loss: 157.2119 - classification_accuracy: 0.8353 - Regression_mae: 7.6189\n",
            "Epoch 92/300\n",
            "6/6 [==============================] - ETA: 0s - loss: 157.7105 - classification_loss: 0.3223 - Regression_loss: 157.3882 - classification_accuracy: 0.8294 - Regression_mae: 7.2532"
          ]
        },
        {
          "output_type": "stream",
          "name": "stderr",
          "text": [
            "2024/03/09 05:28:20 WARNING mlflow.utils.checkpoint_utils: Checkpoint logging is skipped, because checkpoint 'save_best_only' config is True, it requires to compare the monitored metric value, but the provided monitored metric value is not available.\n"
          ]
        },
        {
          "output_type": "stream",
          "name": "stdout",
          "text": [
            "\b\b\b\b\b\b\b\b\b\b\b\b\b\b\b\b\b\b\b\b\b\b\b\b\b\b\b\b\b\b\b\b\b\b\b\b\b\b\b\b\b\b\b\b\b\b\b\b\b\b\b\b\b\b\b\b\b\b\b\b\b\b\b\b\b\b\b\b\b\b\b\b\b\b\b\b\b\b\b\b\b\b\b\b\b\b\b\b\b\b\b\b\b\b\b\b\b\b\b\b\b\b\b\b\b\b\b\b\b\b\b\b\b\b\b\b\b\b\b\b\b\b\b\b\b\b\b\b\b\b\b\b\b\b\b\b\b\b\b\b\b\b\b\b\b\b\b\b\b\b\b\b\b\b\b\b\b\b\b\b\b\b\b\b\b\b\b\b\b\b\b\b\b\b\b\b\b\b\b\b\r6/6 [==============================] - 0s 27ms/step - loss: 157.7105 - classification_loss: 0.3223 - Regression_loss: 157.3882 - classification_accuracy: 0.8294 - Regression_mae: 7.2532\n",
            "Epoch 93/300\n",
            "4/6 [===================>..........] - ETA: 0s - loss: 136.4963 - classification_loss: 0.3011 - Regression_loss: 136.1952 - classification_accuracy: 0.8516 - Regression_mae: 6.3311"
          ]
        },
        {
          "output_type": "stream",
          "name": "stderr",
          "text": [
            "2024/03/09 05:28:20 WARNING mlflow.utils.checkpoint_utils: Checkpoint logging is skipped, because checkpoint 'save_best_only' config is True, it requires to compare the monitored metric value, but the provided monitored metric value is not available.\n"
          ]
        },
        {
          "output_type": "stream",
          "name": "stdout",
          "text": [
            "\b\b\b\b\b\b\b\b\b\b\b\b\b\b\b\b\b\b\b\b\b\b\b\b\b\b\b\b\b\b\b\b\b\b\b\b\b\b\b\b\b\b\b\b\b\b\b\b\b\b\b\b\b\b\b\b\b\b\b\b\b\b\b\b\b\b\b\b\b\b\b\b\b\b\b\b\b\b\b\b\b\b\b\b\b\b\b\b\b\b\b\b\b\b\b\b\b\b\b\b\b\b\b\b\b\b\b\b\b\b\b\b\b\b\b\b\b\b\b\b\b\b\b\b\b\b\b\b\b\b\b\b\b\b\b\b\b\b\b\b\b\b\b\b\b\b\b\b\b\b\b\b\b\b\b\b\b\b\b\b\b\b\b\b\b\b\b\b\b\b\b\b\b\b\b\b\b\b\b\b\r6/6 [==============================] - 0s 22ms/step - loss: 153.0793 - classification_loss: 0.3325 - Regression_loss: 152.7469 - classification_accuracy: 0.8235 - Regression_mae: 6.6661\n",
            "Epoch 94/300\n",
            "4/6 [===================>..........] - ETA: 0s - loss: 180.8299 - classification_loss: 0.3413 - Regression_loss: 180.4886 - classification_accuracy: 0.8203 - Regression_mae: 7.1718"
          ]
        },
        {
          "output_type": "stream",
          "name": "stderr",
          "text": [
            "2024/03/09 05:28:20 WARNING mlflow.utils.checkpoint_utils: Checkpoint logging is skipped, because checkpoint 'save_best_only' config is True, it requires to compare the monitored metric value, but the provided monitored metric value is not available.\n"
          ]
        },
        {
          "output_type": "stream",
          "name": "stdout",
          "text": [
            "\b\b\b\b\b\b\b\b\b\b\b\b\b\b\b\b\b\b\b\b\b\b\b\b\b\b\b\b\b\b\b\b\b\b\b\b\b\b\b\b\b\b\b\b\b\b\b\b\b\b\b\b\b\b\b\b\b\b\b\b\b\b\b\b\b\b\b\b\b\b\b\b\b\b\b\b\b\b\b\b\b\b\b\b\b\b\b\b\b\b\b\b\b\b\b\b\b\b\b\b\b\b\b\b\b\b\b\b\b\b\b\b\b\b\b\b\b\b\b\b\b\b\b\b\b\b\b\b\b\b\b\b\b\b\b\b\b\b\b\b\b\b\b\b\b\b\b\b\b\b\b\b\b\b\b\b\b\b\b\b\b\b\b\b\b\b\b\b\b\b\b\b\b\b\b\b\b\b\b\b\r6/6 [==============================] - 0s 22ms/step - loss: 154.5470 - classification_loss: 0.3003 - Regression_loss: 154.2466 - classification_accuracy: 0.8412 - Regression_mae: 6.4859\n",
            "Epoch 95/300\n",
            "4/6 [===================>..........] - ETA: 0s - loss: 145.0151 - classification_loss: 0.3199 - Regression_loss: 144.6953 - classification_accuracy: 0.8281 - Regression_mae: 7.2631"
          ]
        },
        {
          "output_type": "stream",
          "name": "stderr",
          "text": [
            "2024/03/09 05:28:20 WARNING mlflow.utils.checkpoint_utils: Checkpoint logging is skipped, because checkpoint 'save_best_only' config is True, it requires to compare the monitored metric value, but the provided monitored metric value is not available.\n"
          ]
        },
        {
          "output_type": "stream",
          "name": "stdout",
          "text": [
            "\b\b\b\b\b\b\b\b\b\b\b\b\b\b\b\b\b\b\b\b\b\b\b\b\b\b\b\b\b\b\b\b\b\b\b\b\b\b\b\b\b\b\b\b\b\b\b\b\b\b\b\b\b\b\b\b\b\b\b\b\b\b\b\b\b\b\b\b\b\b\b\b\b\b\b\b\b\b\b\b\b\b\b\b\b\b\b\b\b\b\b\b\b\b\b\b\b\b\b\b\b\b\b\b\b\b\b\b\b\b\b\b\b\b\b\b\b\b\b\b\b\b\b\b\b\b\b\b\b\b\b\b\b\b\b\b\b\b\b\b\b\b\b\b\b\b\b\b\b\b\b\b\b\b\b\b\b\b\b\b\b\b\b\b\b\b\b\b\b\b\b\b\b\b\b\b\b\b\b\b\r6/6 [==============================] - 0s 24ms/step - loss: 161.0982 - classification_loss: 0.3272 - Regression_loss: 160.7710 - classification_accuracy: 0.8294 - Regression_mae: 7.2989\n",
            "Epoch 96/300\n",
            "4/6 [===================>..........] - ETA: 0s - loss: 172.0364 - classification_loss: 0.3070 - Regression_loss: 171.7295 - classification_accuracy: 0.8359 - Regression_mae: 8.5516"
          ]
        },
        {
          "output_type": "stream",
          "name": "stderr",
          "text": [
            "2024/03/09 05:28:21 WARNING mlflow.utils.checkpoint_utils: Checkpoint logging is skipped, because checkpoint 'save_best_only' config is True, it requires to compare the monitored metric value, but the provided monitored metric value is not available.\n"
          ]
        },
        {
          "output_type": "stream",
          "name": "stdout",
          "text": [
            "\b\b\b\b\b\b\b\b\b\b\b\b\b\b\b\b\b\b\b\b\b\b\b\b\b\b\b\b\b\b\b\b\b\b\b\b\b\b\b\b\b\b\b\b\b\b\b\b\b\b\b\b\b\b\b\b\b\b\b\b\b\b\b\b\b\b\b\b\b\b\b\b\b\b\b\b\b\b\b\b\b\b\b\b\b\b\b\b\b\b\b\b\b\b\b\b\b\b\b\b\b\b\b\b\b\b\b\b\b\b\b\b\b\b\b\b\b\b\b\b\b\b\b\b\b\b\b\b\b\b\b\b\b\b\b\b\b\b\b\b\b\b\b\b\b\b\b\b\b\b\b\b\b\b\b\b\b\b\b\b\b\b\b\b\b\b\b\b\b\b\b\b\b\b\b\b\b\b\b\b\r6/6 [==============================] - 0s 24ms/step - loss: 163.8040 - classification_loss: 0.3040 - Regression_loss: 163.5000 - classification_accuracy: 0.8412 - Regression_mae: 7.9533\n",
            "Epoch 97/300\n",
            "4/6 [===================>..........] - ETA: 0s - loss: 169.5769 - classification_loss: 0.3473 - Regression_loss: 169.2295 - classification_accuracy: 0.8125 - Regression_mae: 7.6014"
          ]
        },
        {
          "output_type": "stream",
          "name": "stderr",
          "text": [
            "2024/03/09 05:28:21 WARNING mlflow.utils.checkpoint_utils: Checkpoint logging is skipped, because checkpoint 'save_best_only' config is True, it requires to compare the monitored metric value, but the provided monitored metric value is not available.\n"
          ]
        },
        {
          "output_type": "stream",
          "name": "stdout",
          "text": [
            "\b\b\b\b\b\b\b\b\b\b\b\b\b\b\b\b\b\b\b\b\b\b\b\b\b\b\b\b\b\b\b\b\b\b\b\b\b\b\b\b\b\b\b\b\b\b\b\b\b\b\b\b\b\b\b\b\b\b\b\b\b\b\b\b\b\b\b\b\b\b\b\b\b\b\b\b\b\b\b\b\b\b\b\b\b\b\b\b\b\b\b\b\b\b\b\b\b\b\b\b\b\b\b\b\b\b\b\b\b\b\b\b\b\b\b\b\b\b\b\b\b\b\b\b\b\b\b\b\b\b\b\b\b\b\b\b\b\b\b\b\b\b\b\b\b\b\b\b\b\b\b\b\b\b\b\b\b\b\b\b\b\b\b\b\b\b\b\b\b\b\b\b\b\b\b\b\b\b\b\b\r6/6 [==============================] - 0s 28ms/step - loss: 156.2277 - classification_loss: 0.3224 - Regression_loss: 155.9053 - classification_accuracy: 0.8176 - Regression_mae: 7.1240\n",
            "Epoch 98/300\n",
            "4/6 [===================>..........] - ETA: 0s - loss: 160.9556 - classification_loss: 0.2790 - Regression_loss: 160.6766 - classification_accuracy: 0.8438 - Regression_mae: 7.5118"
          ]
        },
        {
          "output_type": "stream",
          "name": "stderr",
          "text": [
            "2024/03/09 05:28:21 WARNING mlflow.utils.checkpoint_utils: Checkpoint logging is skipped, because checkpoint 'save_best_only' config is True, it requires to compare the monitored metric value, but the provided monitored metric value is not available.\n"
          ]
        },
        {
          "output_type": "stream",
          "name": "stdout",
          "text": [
            "\b\b\b\b\b\b\b\b\b\b\b\b\b\b\b\b\b\b\b\b\b\b\b\b\b\b\b\b\b\b\b\b\b\b\b\b\b\b\b\b\b\b\b\b\b\b\b\b\b\b\b\b\b\b\b\b\b\b\b\b\b\b\b\b\b\b\b\b\b\b\b\b\b\b\b\b\b\b\b\b\b\b\b\b\b\b\b\b\b\b\b\b\b\b\b\b\b\b\b\b\b\b\b\b\b\b\b\b\b\b\b\b\b\b\b\b\b\b\b\b\b\b\b\b\b\b\b\b\b\b\b\b\b\b\b\b\b\b\b\b\b\b\b\b\b\b\b\b\b\b\b\b\b\b\b\b\b\b\b\b\b\b\b\b\b\b\b\b\b\b\b\b\b\b\b\b\b\b\b\b\r6/6 [==============================] - 0s 18ms/step - loss: 165.2812 - classification_loss: 0.3109 - Regression_loss: 164.9703 - classification_accuracy: 0.8294 - Regression_mae: 7.6550\n",
            "Epoch 99/300\n",
            "5/6 [========================>.....] - ETA: 0s - loss: 165.0258 - classification_loss: 0.3274 - Regression_loss: 164.6985 - classification_accuracy: 0.8000 - Regression_mae: 7.7207"
          ]
        },
        {
          "output_type": "stream",
          "name": "stderr",
          "text": [
            "2024/03/09 05:28:21 WARNING mlflow.utils.checkpoint_utils: Checkpoint logging is skipped, because checkpoint 'save_best_only' config is True, it requires to compare the monitored metric value, but the provided monitored metric value is not available.\n"
          ]
        },
        {
          "output_type": "stream",
          "name": "stdout",
          "text": [
            "\b\b\b\b\b\b\b\b\b\b\b\b\b\b\b\b\b\b\b\b\b\b\b\b\b\b\b\b\b\b\b\b\b\b\b\b\b\b\b\b\b\b\b\b\b\b\b\b\b\b\b\b\b\b\b\b\b\b\b\b\b\b\b\b\b\b\b\b\b\b\b\b\b\b\b\b\b\b\b\b\b\b\b\b\b\b\b\b\b\b\b\b\b\b\b\b\b\b\b\b\b\b\b\b\b\b\b\b\b\b\b\b\b\b\b\b\b\b\b\b\b\b\b\b\b\b\b\b\b\b\b\b\b\b\b\b\b\b\b\b\b\b\b\b\b\b\b\b\b\b\b\b\b\b\b\b\b\b\b\b\b\b\b\b\b\b\b\b\b\b\b\b\b\b\b\b\b\b\b\b\r6/6 [==============================] - 0s 18ms/step - loss: 162.9988 - classification_loss: 0.3240 - Regression_loss: 162.6747 - classification_accuracy: 0.8059 - Regression_mae: 7.5843\n",
            "Epoch 100/300\n",
            "5/6 [========================>.....] - ETA: 0s - loss: 137.9610 - classification_loss: 0.2884 - Regression_loss: 137.6726 - classification_accuracy: 0.8687 - Regression_mae: 6.3458"
          ]
        },
        {
          "output_type": "stream",
          "name": "stderr",
          "text": [
            "2024/03/09 05:28:21 WARNING mlflow.utils.checkpoint_utils: Checkpoint logging is skipped, because checkpoint 'save_best_only' config is True, it requires to compare the monitored metric value, but the provided monitored metric value is not available.\n"
          ]
        },
        {
          "output_type": "stream",
          "name": "stdout",
          "text": [
            "\b\b\b\b\b\b\b\b\b\b\b\b\b\b\b\b\b\b\b\b\b\b\b\b\b\b\b\b\b\b\b\b\b\b\b\b\b\b\b\b\b\b\b\b\b\b\b\b\b\b\b\b\b\b\b\b\b\b\b\b\b\b\b\b\b\b\b\b\b\b\b\b\b\b\b\b\b\b\b\b\b\b\b\b\b\b\b\b\b\b\b\b\b\b\b\b\b\b\b\b\b\b\b\b\b\b\b\b\b\b\b\b\b\b\b\b\b\b\b\b\b\b\b\b\b\b\b\b\b\b\b\b\b\b\b\b\b\b\b\b\b\b\b\b\b\b\b\b\b\b\b\b\b\b\b\b\b\b\b\b\b\b\b\b\b\b\b\b\b\b\b\b\b\b\b\b\b\b\b\b\r6/6 [==============================] - 0s 19ms/step - loss: 155.0936 - classification_loss: 0.3107 - Regression_loss: 154.7829 - classification_accuracy: 0.8588 - Regression_mae: 6.7643\n",
            "Epoch 101/300\n",
            "4/6 [===================>..........] - ETA: 0s - loss: 158.8816 - classification_loss: 0.3154 - Regression_loss: 158.5662 - classification_accuracy: 0.8516 - Regression_mae: 6.3954"
          ]
        },
        {
          "output_type": "stream",
          "name": "stderr",
          "text": [
            "2024/03/09 05:28:21 WARNING mlflow.utils.checkpoint_utils: Checkpoint logging is skipped, because checkpoint 'save_best_only' config is True, it requires to compare the monitored metric value, but the provided monitored metric value is not available.\n"
          ]
        },
        {
          "output_type": "stream",
          "name": "stdout",
          "text": [
            "\b\b\b\b\b\b\b\b\b\b\b\b\b\b\b\b\b\b\b\b\b\b\b\b\b\b\b\b\b\b\b\b\b\b\b\b\b\b\b\b\b\b\b\b\b\b\b\b\b\b\b\b\b\b\b\b\b\b\b\b\b\b\b\b\b\b\b\b\b\b\b\b\b\b\b\b\b\b\b\b\b\b\b\b\b\b\b\b\b\b\b\b\b\b\b\b\b\b\b\b\b\b\b\b\b\b\b\b\b\b\b\b\b\b\b\b\b\b\b\b\b\b\b\b\b\b\b\b\b\b\b\b\b\b\b\b\b\b\b\b\b\b\b\b\b\b\b\b\b\b\b\b\b\b\b\b\b\b\b\b\b\b\b\b\b\b\b\b\b\b\b\b\b\b\b\b\b\b\b\b\r6/6 [==============================] - 0s 18ms/step - loss: 149.2482 - classification_loss: 0.3407 - Regression_loss: 148.9075 - classification_accuracy: 0.8412 - Regression_mae: 6.3571\n",
            "Epoch 102/300\n",
            "5/6 [========================>.....] - ETA: 0s - loss: 153.5629 - classification_loss: 0.3595 - Regression_loss: 153.2034 - classification_accuracy: 0.8313 - Regression_mae: 6.5332"
          ]
        },
        {
          "output_type": "stream",
          "name": "stderr",
          "text": [
            "2024/03/09 05:28:21 WARNING mlflow.utils.checkpoint_utils: Checkpoint logging is skipped, because checkpoint 'save_best_only' config is True, it requires to compare the monitored metric value, but the provided monitored metric value is not available.\n"
          ]
        },
        {
          "output_type": "stream",
          "name": "stdout",
          "text": [
            "\b\b\b\b\b\b\b\b\b\b\b\b\b\b\b\b\b\b\b\b\b\b\b\b\b\b\b\b\b\b\b\b\b\b\b\b\b\b\b\b\b\b\b\b\b\b\b\b\b\b\b\b\b\b\b\b\b\b\b\b\b\b\b\b\b\b\b\b\b\b\b\b\b\b\b\b\b\b\b\b\b\b\b\b\b\b\b\b\b\b\b\b\b\b\b\b\b\b\b\b\b\b\b\b\b\b\b\b\b\b\b\b\b\b\b\b\b\b\b\b\b\b\b\b\b\b\b\b\b\b\b\b\b\b\b\b\b\b\b\b\b\b\b\b\b\b\b\b\b\b\b\b\b\b\b\b\b\b\b\b\b\b\b\b\b\b\b\b\b\b\b\b\b\b\b\b\b\b\b\b\r6/6 [==============================] - 0s 18ms/step - loss: 155.1581 - classification_loss: 0.3568 - Regression_loss: 154.8013 - classification_accuracy: 0.8353 - Regression_mae: 6.6402\n",
            "Epoch 103/300\n",
            "5/6 [========================>.....] - ETA: 0s - loss: 146.7675 - classification_loss: 0.3187 - Regression_loss: 146.4488 - classification_accuracy: 0.8188 - Regression_mae: 6.0195"
          ]
        },
        {
          "output_type": "stream",
          "name": "stderr",
          "text": [
            "2024/03/09 05:28:22 WARNING mlflow.utils.checkpoint_utils: Checkpoint logging is skipped, because checkpoint 'save_best_only' config is True, it requires to compare the monitored metric value, but the provided monitored metric value is not available.\n"
          ]
        },
        {
          "output_type": "stream",
          "name": "stdout",
          "text": [
            "\b\b\b\b\b\b\b\b\b\b\b\b\b\b\b\b\b\b\b\b\b\b\b\b\b\b\b\b\b\b\b\b\b\b\b\b\b\b\b\b\b\b\b\b\b\b\b\b\b\b\b\b\b\b\b\b\b\b\b\b\b\b\b\b\b\b\b\b\b\b\b\b\b\b\b\b\b\b\b\b\b\b\b\b\b\b\b\b\b\b\b\b\b\b\b\b\b\b\b\b\b\b\b\b\b\b\b\b\b\b\b\b\b\b\b\b\b\b\b\b\b\b\b\b\b\b\b\b\b\b\b\b\b\b\b\b\b\b\b\b\b\b\b\b\b\b\b\b\b\b\b\b\b\b\b\b\b\b\b\b\b\b\b\b\b\b\b\b\b\b\b\b\b\b\b\b\b\b\b\b\r6/6 [==============================] - 0s 18ms/step - loss: 151.0351 - classification_loss: 0.3220 - Regression_loss: 150.7131 - classification_accuracy: 0.8118 - Regression_mae: 6.1812\n",
            "Epoch 104/300\n",
            "5/6 [========================>.....] - ETA: 0s - loss: 148.7910 - classification_loss: 0.3072 - Regression_loss: 148.4839 - classification_accuracy: 0.8438 - Regression_mae: 6.1690"
          ]
        },
        {
          "output_type": "stream",
          "name": "stderr",
          "text": [
            "2024/03/09 05:28:22 WARNING mlflow.utils.checkpoint_utils: Checkpoint logging is skipped, because checkpoint 'save_best_only' config is True, it requires to compare the monitored metric value, but the provided monitored metric value is not available.\n"
          ]
        },
        {
          "output_type": "stream",
          "name": "stdout",
          "text": [
            "\b\b\b\b\b\b\b\b\b\b\b\b\b\b\b\b\b\b\b\b\b\b\b\b\b\b\b\b\b\b\b\b\b\b\b\b\b\b\b\b\b\b\b\b\b\b\b\b\b\b\b\b\b\b\b\b\b\b\b\b\b\b\b\b\b\b\b\b\b\b\b\b\b\b\b\b\b\b\b\b\b\b\b\b\b\b\b\b\b\b\b\b\b\b\b\b\b\b\b\b\b\b\b\b\b\b\b\b\b\b\b\b\b\b\b\b\b\b\b\b\b\b\b\b\b\b\b\b\b\b\b\b\b\b\b\b\b\b\b\b\b\b\b\b\b\b\b\b\b\b\b\b\b\b\b\b\b\b\b\b\b\b\b\b\b\b\b\b\b\b\b\b\b\b\b\b\b\b\b\b\r6/6 [==============================] - 0s 17ms/step - loss: 149.5995 - classification_loss: 0.3122 - Regression_loss: 149.2873 - classification_accuracy: 0.8353 - Regression_mae: 6.2177\n",
            "Epoch 105/300\n",
            "5/6 [========================>.....] - ETA: 0s - loss: 155.4521 - classification_loss: 0.3508 - Regression_loss: 155.1013 - classification_accuracy: 0.8062 - Regression_mae: 6.7228"
          ]
        },
        {
          "output_type": "stream",
          "name": "stderr",
          "text": [
            "2024/03/09 05:28:22 WARNING mlflow.utils.checkpoint_utils: Checkpoint logging is skipped, because checkpoint 'save_best_only' config is True, it requires to compare the monitored metric value, but the provided monitored metric value is not available.\n"
          ]
        },
        {
          "output_type": "stream",
          "name": "stdout",
          "text": [
            "\b\b\b\b\b\b\b\b\b\b\b\b\b\b\b\b\b\b\b\b\b\b\b\b\b\b\b\b\b\b\b\b\b\b\b\b\b\b\b\b\b\b\b\b\b\b\b\b\b\b\b\b\b\b\b\b\b\b\b\b\b\b\b\b\b\b\b\b\b\b\b\b\b\b\b\b\b\b\b\b\b\b\b\b\b\b\b\b\b\b\b\b\b\b\b\b\b\b\b\b\b\b\b\b\b\b\b\b\b\b\b\b\b\b\b\b\b\b\b\b\b\b\b\b\b\b\b\b\b\b\b\b\b\b\b\b\b\b\b\b\b\b\b\b\b\b\b\b\b\b\b\b\b\b\b\b\b\b\b\b\b\b\b\b\b\b\b\b\b\b\b\b\b\b\b\b\b\b\b\b\r6/6 [==============================] - 0s 19ms/step - loss: 154.4912 - classification_loss: 0.3428 - Regression_loss: 154.1485 - classification_accuracy: 0.8118 - Regression_mae: 6.7003\n",
            "Epoch 106/300\n",
            "4/6 [===================>..........] - ETA: 0s - loss: 141.1652 - classification_loss: 0.3412 - Regression_loss: 140.8240 - classification_accuracy: 0.8203 - Regression_mae: 6.7035"
          ]
        },
        {
          "output_type": "stream",
          "name": "stderr",
          "text": [
            "2024/03/09 05:28:22 WARNING mlflow.utils.checkpoint_utils: Checkpoint logging is skipped, because checkpoint 'save_best_only' config is True, it requires to compare the monitored metric value, but the provided monitored metric value is not available.\n"
          ]
        },
        {
          "output_type": "stream",
          "name": "stdout",
          "text": [
            "\b\b\b\b\b\b\b\b\b\b\b\b\b\b\b\b\b\b\b\b\b\b\b\b\b\b\b\b\b\b\b\b\b\b\b\b\b\b\b\b\b\b\b\b\b\b\b\b\b\b\b\b\b\b\b\b\b\b\b\b\b\b\b\b\b\b\b\b\b\b\b\b\b\b\b\b\b\b\b\b\b\b\b\b\b\b\b\b\b\b\b\b\b\b\b\b\b\b\b\b\b\b\b\b\b\b\b\b\b\b\b\b\b\b\b\b\b\b\b\b\b\b\b\b\b\b\b\b\b\b\b\b\b\b\b\b\b\b\b\b\b\b\b\b\b\b\b\b\b\b\b\b\b\b\b\b\b\b\b\b\b\b\b\b\b\b\b\b\b\b\b\b\b\b\b\b\b\b\b\b\r6/6 [==============================] - 0s 18ms/step - loss: 154.7138 - classification_loss: 0.3373 - Regression_loss: 154.3764 - classification_accuracy: 0.8235 - Regression_mae: 7.0120\n",
            "Epoch 107/300\n",
            "5/6 [========================>.....] - ETA: 0s - loss: 162.1400 - classification_loss: 0.3185 - Regression_loss: 161.8216 - classification_accuracy: 0.8125 - Regression_mae: 7.0529"
          ]
        },
        {
          "output_type": "stream",
          "name": "stderr",
          "text": [
            "2024/03/09 05:28:22 WARNING mlflow.utils.checkpoint_utils: Checkpoint logging is skipped, because checkpoint 'save_best_only' config is True, it requires to compare the monitored metric value, but the provided monitored metric value is not available.\n"
          ]
        },
        {
          "output_type": "stream",
          "name": "stdout",
          "text": [
            "\b\b\b\b\b\b\b\b\b\b\b\b\b\b\b\b\b\b\b\b\b\b\b\b\b\b\b\b\b\b\b\b\b\b\b\b\b\b\b\b\b\b\b\b\b\b\b\b\b\b\b\b\b\b\b\b\b\b\b\b\b\b\b\b\b\b\b\b\b\b\b\b\b\b\b\b\b\b\b\b\b\b\b\b\b\b\b\b\b\b\b\b\b\b\b\b\b\b\b\b\b\b\b\b\b\b\b\b\b\b\b\b\b\b\b\b\b\b\b\b\b\b\b\b\b\b\b\b\b\b\b\b\b\b\b\b\b\b\b\b\b\b\b\b\b\b\b\b\b\b\b\b\b\b\b\b\b\b\b\b\b\b\b\b\b\b\b\b\b\b\b\b\b\b\b\b\b\b\b\b\r6/6 [==============================] - 0s 18ms/step - loss: 153.1187 - classification_loss: 0.3011 - Regression_loss: 152.8176 - classification_accuracy: 0.8235 - Regression_mae: 6.7963\n",
            "Epoch 108/300\n",
            "5/6 [========================>.....] - ETA: 0s - loss: 145.1665 - classification_loss: 0.2991 - Regression_loss: 144.8674 - classification_accuracy: 0.8313 - Regression_mae: 6.5552"
          ]
        },
        {
          "output_type": "stream",
          "name": "stderr",
          "text": [
            "2024/03/09 05:28:22 WARNING mlflow.utils.checkpoint_utils: Checkpoint logging is skipped, because checkpoint 'save_best_only' config is True, it requires to compare the monitored metric value, but the provided monitored metric value is not available.\n"
          ]
        },
        {
          "output_type": "stream",
          "name": "stdout",
          "text": [
            "\b\b\b\b\b\b\b\b\b\b\b\b\b\b\b\b\b\b\b\b\b\b\b\b\b\b\b\b\b\b\b\b\b\b\b\b\b\b\b\b\b\b\b\b\b\b\b\b\b\b\b\b\b\b\b\b\b\b\b\b\b\b\b\b\b\b\b\b\b\b\b\b\b\b\b\b\b\b\b\b\b\b\b\b\b\b\b\b\b\b\b\b\b\b\b\b\b\b\b\b\b\b\b\b\b\b\b\b\b\b\b\b\b\b\b\b\b\b\b\b\b\b\b\b\b\b\b\b\b\b\b\b\b\b\b\b\b\b\b\b\b\b\b\b\b\b\b\b\b\b\b\b\b\b\b\b\b\b\b\b\b\b\b\b\b\b\b\b\b\b\b\b\b\b\b\b\b\b\b\b\r6/6 [==============================] - 0s 18ms/step - loss: 153.4701 - classification_loss: 0.3044 - Regression_loss: 153.1657 - classification_accuracy: 0.8294 - Regression_mae: 6.7458\n",
            "Epoch 109/300\n",
            "5/6 [========================>.....] - ETA: 0s - loss: 155.6106 - classification_loss: 0.3163 - Regression_loss: 155.2944 - classification_accuracy: 0.8375 - Regression_mae: 7.0389"
          ]
        },
        {
          "output_type": "stream",
          "name": "stderr",
          "text": [
            "2024/03/09 05:28:22 WARNING mlflow.utils.checkpoint_utils: Checkpoint logging is skipped, because checkpoint 'save_best_only' config is True, it requires to compare the monitored metric value, but the provided monitored metric value is not available.\n"
          ]
        },
        {
          "output_type": "stream",
          "name": "stdout",
          "text": [
            "\b\b\b\b\b\b\b\b\b\b\b\b\b\b\b\b\b\b\b\b\b\b\b\b\b\b\b\b\b\b\b\b\b\b\b\b\b\b\b\b\b\b\b\b\b\b\b\b\b\b\b\b\b\b\b\b\b\b\b\b\b\b\b\b\b\b\b\b\b\b\b\b\b\b\b\b\b\b\b\b\b\b\b\b\b\b\b\b\b\b\b\b\b\b\b\b\b\b\b\b\b\b\b\b\b\b\b\b\b\b\b\b\b\b\b\b\b\b\b\b\b\b\b\b\b\b\b\b\b\b\b\b\b\b\b\b\b\b\b\b\b\b\b\b\b\b\b\b\b\b\b\b\b\b\b\b\b\b\b\b\b\b\b\b\b\b\b\b\b\b\b\b\b\b\b\b\b\b\b\b\r6/6 [==============================] - 0s 18ms/step - loss: 156.7070 - classification_loss: 0.3122 - Regression_loss: 156.3948 - classification_accuracy: 0.8353 - Regression_mae: 6.9982\n",
            "Epoch 110/300\n",
            "5/6 [========================>.....] - ETA: 0s - loss: 153.0121 - classification_loss: 0.3212 - Regression_loss: 152.6909 - classification_accuracy: 0.8125 - Regression_mae: 7.3261"
          ]
        },
        {
          "output_type": "stream",
          "name": "stderr",
          "text": [
            "2024/03/09 05:28:22 WARNING mlflow.utils.checkpoint_utils: Checkpoint logging is skipped, because checkpoint 'save_best_only' config is True, it requires to compare the monitored metric value, but the provided monitored metric value is not available.\n"
          ]
        },
        {
          "output_type": "stream",
          "name": "stdout",
          "text": [
            "\b\b\b\b\b\b\b\b\b\b\b\b\b\b\b\b\b\b\b\b\b\b\b\b\b\b\b\b\b\b\b\b\b\b\b\b\b\b\b\b\b\b\b\b\b\b\b\b\b\b\b\b\b\b\b\b\b\b\b\b\b\b\b\b\b\b\b\b\b\b\b\b\b\b\b\b\b\b\b\b\b\b\b\b\b\b\b\b\b\b\b\b\b\b\b\b\b\b\b\b\b\b\b\b\b\b\b\b\b\b\b\b\b\b\b\b\b\b\b\b\b\b\b\b\b\b\b\b\b\b\b\b\b\b\b\b\b\b\b\b\b\b\b\b\b\b\b\b\b\b\b\b\b\b\b\b\b\b\b\b\b\b\b\b\b\b\b\b\b\b\b\b\b\b\b\b\b\b\b\b\r6/6 [==============================] - 0s 17ms/step - loss: 163.6116 - classification_loss: 0.3289 - Regression_loss: 163.2827 - classification_accuracy: 0.8059 - Regression_mae: 7.5023\n",
            "Epoch 111/300\n",
            "5/6 [========================>.....] - ETA: 0s - loss: 167.6644 - classification_loss: 0.3749 - Regression_loss: 167.2895 - classification_accuracy: 0.8250 - Regression_mae: 7.3818"
          ]
        },
        {
          "output_type": "stream",
          "name": "stderr",
          "text": [
            "2024/03/09 05:28:23 WARNING mlflow.utils.checkpoint_utils: Checkpoint logging is skipped, because checkpoint 'save_best_only' config is True, it requires to compare the monitored metric value, but the provided monitored metric value is not available.\n"
          ]
        },
        {
          "output_type": "stream",
          "name": "stdout",
          "text": [
            "\b\b\b\b\b\b\b\b\b\b\b\b\b\b\b\b\b\b\b\b\b\b\b\b\b\b\b\b\b\b\b\b\b\b\b\b\b\b\b\b\b\b\b\b\b\b\b\b\b\b\b\b\b\b\b\b\b\b\b\b\b\b\b\b\b\b\b\b\b\b\b\b\b\b\b\b\b\b\b\b\b\b\b\b\b\b\b\b\b\b\b\b\b\b\b\b\b\b\b\b\b\b\b\b\b\b\b\b\b\b\b\b\b\b\b\b\b\b\b\b\b\b\b\b\b\b\b\b\b\b\b\b\b\b\b\b\b\b\b\b\b\b\b\b\b\b\b\b\b\b\b\b\b\b\b\b\b\b\b\b\b\b\b\b\b\b\b\b\b\b\b\b\b\b\b\b\b\b\b\b\r6/6 [==============================] - 0s 18ms/step - loss: 160.0310 - classification_loss: 0.3670 - Regression_loss: 159.6640 - classification_accuracy: 0.8294 - Regression_mae: 7.2205\n",
            "Epoch 112/300\n",
            "4/6 [===================>..........] - ETA: 0s - loss: 161.1871 - classification_loss: 0.3522 - Regression_loss: 160.8349 - classification_accuracy: 0.8281 - Regression_mae: 7.1292"
          ]
        },
        {
          "output_type": "stream",
          "name": "stderr",
          "text": [
            "2024/03/09 05:28:23 WARNING mlflow.utils.checkpoint_utils: Checkpoint logging is skipped, because checkpoint 'save_best_only' config is True, it requires to compare the monitored metric value, but the provided monitored metric value is not available.\n"
          ]
        },
        {
          "output_type": "stream",
          "name": "stdout",
          "text": [
            "\b\b\b\b\b\b\b\b\b\b\b\b\b\b\b\b\b\b\b\b\b\b\b\b\b\b\b\b\b\b\b\b\b\b\b\b\b\b\b\b\b\b\b\b\b\b\b\b\b\b\b\b\b\b\b\b\b\b\b\b\b\b\b\b\b\b\b\b\b\b\b\b\b\b\b\b\b\b\b\b\b\b\b\b\b\b\b\b\b\b\b\b\b\b\b\b\b\b\b\b\b\b\b\b\b\b\b\b\b\b\b\b\b\b\b\b\b\b\b\b\b\b\b\b\b\b\b\b\b\b\b\b\b\b\b\b\b\b\b\b\b\b\b\b\b\b\b\b\b\b\b\b\b\b\b\b\b\b\b\b\b\b\b\b\b\b\b\b\b\b\b\b\b\b\b\b\b\b\b\b\r6/6 [==============================] - 0s 20ms/step - loss: 154.0701 - classification_loss: 0.3785 - Regression_loss: 153.6916 - classification_accuracy: 0.8294 - Regression_mae: 6.8244\n",
            "Epoch 113/300\n",
            "5/6 [========================>.....] - ETA: 0s - loss: 168.2571 - classification_loss: 0.3651 - Regression_loss: 167.8920 - classification_accuracy: 0.8188 - Regression_mae: 7.5843"
          ]
        },
        {
          "output_type": "stream",
          "name": "stderr",
          "text": [
            "2024/03/09 05:28:23 WARNING mlflow.utils.checkpoint_utils: Checkpoint logging is skipped, because checkpoint 'save_best_only' config is True, it requires to compare the monitored metric value, but the provided monitored metric value is not available.\n"
          ]
        },
        {
          "output_type": "stream",
          "name": "stdout",
          "text": [
            "\b\b\b\b\b\b\b\b\b\b\b\b\b\b\b\b\b\b\b\b\b\b\b\b\b\b\b\b\b\b\b\b\b\b\b\b\b\b\b\b\b\b\b\b\b\b\b\b\b\b\b\b\b\b\b\b\b\b\b\b\b\b\b\b\b\b\b\b\b\b\b\b\b\b\b\b\b\b\b\b\b\b\b\b\b\b\b\b\b\b\b\b\b\b\b\b\b\b\b\b\b\b\b\b\b\b\b\b\b\b\b\b\b\b\b\b\b\b\b\b\b\b\b\b\b\b\b\b\b\b\b\b\b\b\b\b\b\b\b\b\b\b\b\b\b\b\b\b\b\b\b\b\b\b\b\b\b\b\b\b\b\b\b\b\b\b\b\b\b\b\b\b\b\b\b\b\b\b\b\b\r6/6 [==============================] - 0s 17ms/step - loss: 161.9898 - classification_loss: 0.3587 - Regression_loss: 161.6311 - classification_accuracy: 0.8235 - Regression_mae: 7.4234\n",
            "Epoch 114/300\n",
            "4/6 [===================>..........] - ETA: 0s - loss: 179.7896 - classification_loss: 0.3795 - Regression_loss: 179.4100 - classification_accuracy: 0.8125 - Regression_mae: 8.1543"
          ]
        },
        {
          "output_type": "stream",
          "name": "stderr",
          "text": [
            "2024/03/09 05:28:23 WARNING mlflow.utils.checkpoint_utils: Checkpoint logging is skipped, because checkpoint 'save_best_only' config is True, it requires to compare the monitored metric value, but the provided monitored metric value is not available.\n"
          ]
        },
        {
          "output_type": "stream",
          "name": "stdout",
          "text": [
            "\b\b\b\b\b\b\b\b\b\b\b\b\b\b\b\b\b\b\b\b\b\b\b\b\b\b\b\b\b\b\b\b\b\b\b\b\b\b\b\b\b\b\b\b\b\b\b\b\b\b\b\b\b\b\b\b\b\b\b\b\b\b\b\b\b\b\b\b\b\b\b\b\b\b\b\b\b\b\b\b\b\b\b\b\b\b\b\b\b\b\b\b\b\b\b\b\b\b\b\b\b\b\b\b\b\b\b\b\b\b\b\b\b\b\b\b\b\b\b\b\b\b\b\b\b\b\b\b\b\b\b\b\b\b\b\b\b\b\b\b\b\b\b\b\b\b\b\b\b\b\b\b\b\b\b\b\b\b\b\b\b\b\b\b\b\b\b\b\b\b\b\b\b\b\b\b\b\b\b\b\r6/6 [==============================] - 0s 20ms/step - loss: 162.5333 - classification_loss: 0.3349 - Regression_loss: 162.1984 - classification_accuracy: 0.8353 - Regression_mae: 7.4053\n",
            "Epoch 115/300\n",
            "5/6 [========================>.....] - ETA: 0s - loss: 147.2930 - classification_loss: 0.3343 - Regression_loss: 146.9587 - classification_accuracy: 0.8375 - Regression_mae: 6.5378"
          ]
        },
        {
          "output_type": "stream",
          "name": "stderr",
          "text": [
            "2024/03/09 05:28:23 WARNING mlflow.utils.checkpoint_utils: Checkpoint logging is skipped, because checkpoint 'save_best_only' config is True, it requires to compare the monitored metric value, but the provided monitored metric value is not available.\n"
          ]
        },
        {
          "output_type": "stream",
          "name": "stdout",
          "text": [
            "\b\b\b\b\b\b\b\b\b\b\b\b\b\b\b\b\b\b\b\b\b\b\b\b\b\b\b\b\b\b\b\b\b\b\b\b\b\b\b\b\b\b\b\b\b\b\b\b\b\b\b\b\b\b\b\b\b\b\b\b\b\b\b\b\b\b\b\b\b\b\b\b\b\b\b\b\b\b\b\b\b\b\b\b\b\b\b\b\b\b\b\b\b\b\b\b\b\b\b\b\b\b\b\b\b\b\b\b\b\b\b\b\b\b\b\b\b\b\b\b\b\b\b\b\b\b\b\b\b\b\b\b\b\b\b\b\b\b\b\b\b\b\b\b\b\b\b\b\b\b\b\b\b\b\b\b\b\b\b\b\b\b\b\b\b\b\b\b\b\b\b\b\b\b\b\b\b\b\b\b\r6/6 [==============================] - 0s 18ms/step - loss: 159.3338 - classification_loss: 0.3414 - Regression_loss: 158.9924 - classification_accuracy: 0.8294 - Regression_mae: 6.8930\n",
            "Epoch 116/300\n",
            "4/6 [===================>..........] - ETA: 0s - loss: 149.3050 - classification_loss: 0.3097 - Regression_loss: 148.9953 - classification_accuracy: 0.8594 - Regression_mae: 6.9722"
          ]
        },
        {
          "output_type": "stream",
          "name": "stderr",
          "text": [
            "2024/03/09 05:28:23 WARNING mlflow.utils.checkpoint_utils: Checkpoint logging is skipped, because checkpoint 'save_best_only' config is True, it requires to compare the monitored metric value, but the provided monitored metric value is not available.\n"
          ]
        },
        {
          "output_type": "stream",
          "name": "stdout",
          "text": [
            "\b\b\b\b\b\b\b\b\b\b\b\b\b\b\b\b\b\b\b\b\b\b\b\b\b\b\b\b\b\b\b\b\b\b\b\b\b\b\b\b\b\b\b\b\b\b\b\b\b\b\b\b\b\b\b\b\b\b\b\b\b\b\b\b\b\b\b\b\b\b\b\b\b\b\b\b\b\b\b\b\b\b\b\b\b\b\b\b\b\b\b\b\b\b\b\b\b\b\b\b\b\b\b\b\b\b\b\b\b\b\b\b\b\b\b\b\b\b\b\b\b\b\b\b\b\b\b\b\b\b\b\b\b\b\b\b\b\b\b\b\b\b\b\b\b\b\b\b\b\b\b\b\b\b\b\b\b\b\b\b\b\b\b\b\b\b\b\b\b\b\b\b\b\b\b\b\b\b\b\b\r6/6 [==============================] - 0s 19ms/step - loss: 151.3025 - classification_loss: 0.2997 - Regression_loss: 151.0029 - classification_accuracy: 0.8471 - Regression_mae: 6.8371\n",
            "Epoch 117/300\n",
            "4/6 [===================>..........] - ETA: 0s - loss: 150.6675 - classification_loss: 0.3527 - Regression_loss: 150.3148 - classification_accuracy: 0.8359 - Regression_mae: 6.3198"
          ]
        },
        {
          "output_type": "stream",
          "name": "stderr",
          "text": [
            "2024/03/09 05:28:23 WARNING mlflow.utils.checkpoint_utils: Checkpoint logging is skipped, because checkpoint 'save_best_only' config is True, it requires to compare the monitored metric value, but the provided monitored metric value is not available.\n"
          ]
        },
        {
          "output_type": "stream",
          "name": "stdout",
          "text": [
            "\b\b\b\b\b\b\b\b\b\b\b\b\b\b\b\b\b\b\b\b\b\b\b\b\b\b\b\b\b\b\b\b\b\b\b\b\b\b\b\b\b\b\b\b\b\b\b\b\b\b\b\b\b\b\b\b\b\b\b\b\b\b\b\b\b\b\b\b\b\b\b\b\b\b\b\b\b\b\b\b\b\b\b\b\b\b\b\b\b\b\b\b\b\b\b\b\b\b\b\b\b\b\b\b\b\b\b\b\b\b\b\b\b\b\b\b\b\b\b\b\b\b\b\b\b\b\b\b\b\b\b\b\b\b\b\b\b\b\b\b\b\b\b\b\b\b\b\b\b\b\b\b\b\b\b\b\b\b\b\b\b\b\b\b\b\b\b\b\b\b\b\b\b\b\b\b\b\b\b\b\r6/6 [==============================] - 0s 18ms/step - loss: 152.0351 - classification_loss: 0.3530 - Regression_loss: 151.6821 - classification_accuracy: 0.8353 - Regression_mae: 6.3230\n",
            "Epoch 118/300\n",
            "4/6 [===================>..........] - ETA: 0s - loss: 166.2287 - classification_loss: 0.3164 - Regression_loss: 165.9123 - classification_accuracy: 0.8203 - Regression_mae: 6.8378"
          ]
        },
        {
          "output_type": "stream",
          "name": "stderr",
          "text": [
            "2024/03/09 05:28:23 WARNING mlflow.utils.checkpoint_utils: Checkpoint logging is skipped, because checkpoint 'save_best_only' config is True, it requires to compare the monitored metric value, but the provided monitored metric value is not available.\n"
          ]
        },
        {
          "output_type": "stream",
          "name": "stdout",
          "text": [
            "\b\b\b\b\b\b\b\b\b\b\b\b\b\b\b\b\b\b\b\b\b\b\b\b\b\b\b\b\b\b\b\b\b\b\b\b\b\b\b\b\b\b\b\b\b\b\b\b\b\b\b\b\b\b\b\b\b\b\b\b\b\b\b\b\b\b\b\b\b\b\b\b\b\b\b\b\b\b\b\b\b\b\b\b\b\b\b\b\b\b\b\b\b\b\b\b\b\b\b\b\b\b\b\b\b\b\b\b\b\b\b\b\b\b\b\b\b\b\b\b\b\b\b\b\b\b\b\b\b\b\b\b\b\b\b\b\b\b\b\b\b\b\b\b\b\b\b\b\b\b\b\b\b\b\b\b\b\b\b\b\b\b\b\b\b\b\b\b\b\b\b\b\b\b\b\b\b\b\b\b\r6/6 [==============================] - 0s 19ms/step - loss: 152.7462 - classification_loss: 0.3114 - Regression_loss: 152.4349 - classification_accuracy: 0.8294 - Regression_mae: 6.5098\n",
            "Epoch 119/300\n",
            "5/6 [========================>.....] - ETA: 0s - loss: 147.0437 - classification_loss: 0.3060 - Regression_loss: 146.7377 - classification_accuracy: 0.8313 - Regression_mae: 6.1259"
          ]
        },
        {
          "output_type": "stream",
          "name": "stderr",
          "text": [
            "2024/03/09 05:28:23 WARNING mlflow.utils.checkpoint_utils: Checkpoint logging is skipped, because checkpoint 'save_best_only' config is True, it requires to compare the monitored metric value, but the provided monitored metric value is not available.\n"
          ]
        },
        {
          "output_type": "stream",
          "name": "stdout",
          "text": [
            "\b\b\b\b\b\b\b\b\b\b\b\b\b\b\b\b\b\b\b\b\b\b\b\b\b\b\b\b\b\b\b\b\b\b\b\b\b\b\b\b\b\b\b\b\b\b\b\b\b\b\b\b\b\b\b\b\b\b\b\b\b\b\b\b\b\b\b\b\b\b\b\b\b\b\b\b\b\b\b\b\b\b\b\b\b\b\b\b\b\b\b\b\b\b\b\b\b\b\b\b\b\b\b\b\b\b\b\b\b\b\b\b\b\b\b\b\b\b\b\b\b\b\b\b\b\b\b\b\b\b\b\b\b\b\b\b\b\b\b\b\b\b\b\b\b\b\b\b\b\b\b\b\b\b\b\b\b\b\b\b\b\b\b\b\b\b\b\b\b\b\b\b\b\b\b\b\b\b\b\b\r6/6 [==============================] - 0s 19ms/step - loss: 153.7801 - classification_loss: 0.3312 - Regression_loss: 153.4489 - classification_accuracy: 0.8176 - Regression_mae: 6.3054\n",
            "Epoch 120/300\n",
            "5/6 [========================>.....] - ETA: 0s - loss: 151.3138 - classification_loss: 0.3432 - Regression_loss: 150.9706 - classification_accuracy: 0.8313 - Regression_mae: 6.4004"
          ]
        },
        {
          "output_type": "stream",
          "name": "stderr",
          "text": [
            "2024/03/09 05:28:24 WARNING mlflow.utils.checkpoint_utils: Checkpoint logging is skipped, because checkpoint 'save_best_only' config is True, it requires to compare the monitored metric value, but the provided monitored metric value is not available.\n"
          ]
        },
        {
          "output_type": "stream",
          "name": "stdout",
          "text": [
            "\b\b\b\b\b\b\b\b\b\b\b\b\b\b\b\b\b\b\b\b\b\b\b\b\b\b\b\b\b\b\b\b\b\b\b\b\b\b\b\b\b\b\b\b\b\b\b\b\b\b\b\b\b\b\b\b\b\b\b\b\b\b\b\b\b\b\b\b\b\b\b\b\b\b\b\b\b\b\b\b\b\b\b\b\b\b\b\b\b\b\b\b\b\b\b\b\b\b\b\b\b\b\b\b\b\b\b\b\b\b\b\b\b\b\b\b\b\b\b\b\b\b\b\b\b\b\b\b\b\b\b\b\b\b\b\b\b\b\b\b\b\b\b\b\b\b\b\b\b\b\b\b\b\b\b\b\b\b\b\b\b\b\b\b\b\b\b\b\b\b\b\b\b\b\b\b\b\b\b\b\r6/6 [==============================] - 0s 17ms/step - loss: 153.6655 - classification_loss: 0.3636 - Regression_loss: 153.3019 - classification_accuracy: 0.8235 - Regression_mae: 6.5211\n",
            "Epoch 121/300\n",
            "5/6 [========================>.....] - ETA: 0s - loss: 150.4700 - classification_loss: 0.3104 - Regression_loss: 150.1597 - classification_accuracy: 0.8438 - Regression_mae: 6.4756"
          ]
        },
        {
          "output_type": "stream",
          "name": "stderr",
          "text": [
            "2024/03/09 05:28:24 WARNING mlflow.utils.checkpoint_utils: Checkpoint logging is skipped, because checkpoint 'save_best_only' config is True, it requires to compare the monitored metric value, but the provided monitored metric value is not available.\n"
          ]
        },
        {
          "output_type": "stream",
          "name": "stdout",
          "text": [
            "\b\b\b\b\b\b\b\b\b\b\b\b\b\b\b\b\b\b\b\b\b\b\b\b\b\b\b\b\b\b\b\b\b\b\b\b\b\b\b\b\b\b\b\b\b\b\b\b\b\b\b\b\b\b\b\b\b\b\b\b\b\b\b\b\b\b\b\b\b\b\b\b\b\b\b\b\b\b\b\b\b\b\b\b\b\b\b\b\b\b\b\b\b\b\b\b\b\b\b\b\b\b\b\b\b\b\b\b\b\b\b\b\b\b\b\b\b\b\b\b\b\b\b\b\b\b\b\b\b\b\b\b\b\b\b\b\b\b\b\b\b\b\b\b\b\b\b\b\b\b\b\b\b\b\b\b\b\b\b\b\b\b\b\b\b\b\b\b\b\b\b\b\b\b\b\b\b\b\b\b\r6/6 [==============================] - 0s 18ms/step - loss: 153.3668 - classification_loss: 0.3163 - Regression_loss: 153.0505 - classification_accuracy: 0.8353 - Regression_mae: 6.5611\n",
            "Epoch 122/300\n",
            "4/6 [===================>..........] - ETA: 0s - loss: 136.0213 - classification_loss: 0.2957 - Regression_loss: 135.7256 - classification_accuracy: 0.8594 - Regression_mae: 6.1368"
          ]
        },
        {
          "output_type": "stream",
          "name": "stderr",
          "text": [
            "2024/03/09 05:28:24 WARNING mlflow.utils.checkpoint_utils: Checkpoint logging is skipped, because checkpoint 'save_best_only' config is True, it requires to compare the monitored metric value, but the provided monitored metric value is not available.\n"
          ]
        },
        {
          "output_type": "stream",
          "name": "stdout",
          "text": [
            "\b\b\b\b\b\b\b\b\b\b\b\b\b\b\b\b\b\b\b\b\b\b\b\b\b\b\b\b\b\b\b\b\b\b\b\b\b\b\b\b\b\b\b\b\b\b\b\b\b\b\b\b\b\b\b\b\b\b\b\b\b\b\b\b\b\b\b\b\b\b\b\b\b\b\b\b\b\b\b\b\b\b\b\b\b\b\b\b\b\b\b\b\b\b\b\b\b\b\b\b\b\b\b\b\b\b\b\b\b\b\b\b\b\b\b\b\b\b\b\b\b\b\b\b\b\b\b\b\b\b\b\b\b\b\b\b\b\b\b\b\b\b\b\b\b\b\b\b\b\b\b\b\b\b\b\b\b\b\b\b\b\b\b\b\b\b\b\b\b\b\b\b\b\b\b\b\b\b\b\b\r6/6 [==============================] - 0s 18ms/step - loss: 150.6781 - classification_loss: 0.3376 - Regression_loss: 150.3406 - classification_accuracy: 0.8353 - Regression_mae: 6.3372\n",
            "Epoch 123/300\n",
            "4/6 [===================>..........] - ETA: 0s - loss: 139.6733 - classification_loss: 0.3444 - Regression_loss: 139.3289 - classification_accuracy: 0.8047 - Regression_mae: 6.5291"
          ]
        },
        {
          "output_type": "stream",
          "name": "stderr",
          "text": [
            "2024/03/09 05:28:24 WARNING mlflow.utils.checkpoint_utils: Checkpoint logging is skipped, because checkpoint 'save_best_only' config is True, it requires to compare the monitored metric value, but the provided monitored metric value is not available.\n"
          ]
        },
        {
          "output_type": "stream",
          "name": "stdout",
          "text": [
            "\b\b\b\b\b\b\b\b\b\b\b\b\b\b\b\b\b\b\b\b\b\b\b\b\b\b\b\b\b\b\b\b\b\b\b\b\b\b\b\b\b\b\b\b\b\b\b\b\b\b\b\b\b\b\b\b\b\b\b\b\b\b\b\b\b\b\b\b\b\b\b\b\b\b\b\b\b\b\b\b\b\b\b\b\b\b\b\b\b\b\b\b\b\b\b\b\b\b\b\b\b\b\b\b\b\b\b\b\b\b\b\b\b\b\b\b\b\b\b\b\b\b\b\b\b\b\b\b\b\b\b\b\b\b\b\b\b\b\b\b\b\b\b\b\b\b\b\b\b\b\b\b\b\b\b\b\b\b\b\b\b\b\b\b\b\b\b\b\b\b\b\b\b\b\b\b\b\b\b\b\r6/6 [==============================] - 0s 19ms/step - loss: 155.9786 - classification_loss: 0.3424 - Regression_loss: 155.6362 - classification_accuracy: 0.8176 - Regression_mae: 6.8820\n",
            "Epoch 124/300\n",
            "4/6 [===================>..........] - ETA: 0s - loss: 146.0004 - classification_loss: 0.3224 - Regression_loss: 145.6780 - classification_accuracy: 0.8672 - Regression_mae: 6.1096"
          ]
        },
        {
          "output_type": "stream",
          "name": "stderr",
          "text": [
            "2024/03/09 05:28:24 WARNING mlflow.utils.checkpoint_utils: Checkpoint logging is skipped, because checkpoint 'save_best_only' config is True, it requires to compare the monitored metric value, but the provided monitored metric value is not available.\n"
          ]
        },
        {
          "output_type": "stream",
          "name": "stdout",
          "text": [
            "\b\b\b\b\b\b\b\b\b\b\b\b\b\b\b\b\b\b\b\b\b\b\b\b\b\b\b\b\b\b\b\b\b\b\b\b\b\b\b\b\b\b\b\b\b\b\b\b\b\b\b\b\b\b\b\b\b\b\b\b\b\b\b\b\b\b\b\b\b\b\b\b\b\b\b\b\b\b\b\b\b\b\b\b\b\b\b\b\b\b\b\b\b\b\b\b\b\b\b\b\b\b\b\b\b\b\b\b\b\b\b\b\b\b\b\b\b\b\b\b\b\b\b\b\b\b\b\b\b\b\b\b\b\b\b\b\b\b\b\b\b\b\b\b\b\b\b\b\b\b\b\b\b\b\b\b\b\b\b\b\b\b\b\b\b\b\b\b\b\b\b\b\b\b\b\b\b\b\b\b\r6/6 [==============================] - 0s 19ms/step - loss: 151.2501 - classification_loss: 0.3489 - Regression_loss: 150.9012 - classification_accuracy: 0.8412 - Regression_mae: 6.4482\n",
            "Epoch 125/300\n",
            "5/6 [========================>.....] - ETA: 0s - loss: 161.4548 - classification_loss: 0.3075 - Regression_loss: 161.1474 - classification_accuracy: 0.8375 - Regression_mae: 6.7711"
          ]
        },
        {
          "output_type": "stream",
          "name": "stderr",
          "text": [
            "2024/03/09 05:28:24 WARNING mlflow.utils.checkpoint_utils: Checkpoint logging is skipped, because checkpoint 'save_best_only' config is True, it requires to compare the monitored metric value, but the provided monitored metric value is not available.\n"
          ]
        },
        {
          "output_type": "stream",
          "name": "stdout",
          "text": [
            "\b\b\b\b\b\b\b\b\b\b\b\b\b\b\b\b\b\b\b\b\b\b\b\b\b\b\b\b\b\b\b\b\b\b\b\b\b\b\b\b\b\b\b\b\b\b\b\b\b\b\b\b\b\b\b\b\b\b\b\b\b\b\b\b\b\b\b\b\b\b\b\b\b\b\b\b\b\b\b\b\b\b\b\b\b\b\b\b\b\b\b\b\b\b\b\b\b\b\b\b\b\b\b\b\b\b\b\b\b\b\b\b\b\b\b\b\b\b\b\b\b\b\b\b\b\b\b\b\b\b\b\b\b\b\b\b\b\b\b\b\b\b\b\b\b\b\b\b\b\b\b\b\b\b\b\b\b\b\b\b\b\b\b\b\b\b\b\b\b\b\b\b\b\b\b\b\b\b\b\b\r6/6 [==============================] - 0s 19ms/step - loss: 155.3214 - classification_loss: 0.3177 - Regression_loss: 155.0036 - classification_accuracy: 0.8353 - Regression_mae: 6.6339\n",
            "Epoch 126/300\n",
            "5/6 [========================>.....] - ETA: 0s - loss: 155.2246 - classification_loss: 0.3208 - Regression_loss: 154.9038 - classification_accuracy: 0.8500 - Regression_mae: 6.4318"
          ]
        },
        {
          "output_type": "stream",
          "name": "stderr",
          "text": [
            "2024/03/09 05:28:24 WARNING mlflow.utils.checkpoint_utils: Checkpoint logging is skipped, because checkpoint 'save_best_only' config is True, it requires to compare the monitored metric value, but the provided monitored metric value is not available.\n"
          ]
        },
        {
          "output_type": "stream",
          "name": "stdout",
          "text": [
            "\b\b\b\b\b\b\b\b\b\b\b\b\b\b\b\b\b\b\b\b\b\b\b\b\b\b\b\b\b\b\b\b\b\b\b\b\b\b\b\b\b\b\b\b\b\b\b\b\b\b\b\b\b\b\b\b\b\b\b\b\b\b\b\b\b\b\b\b\b\b\b\b\b\b\b\b\b\b\b\b\b\b\b\b\b\b\b\b\b\b\b\b\b\b\b\b\b\b\b\b\b\b\b\b\b\b\b\b\b\b\b\b\b\b\b\b\b\b\b\b\b\b\b\b\b\b\b\b\b\b\b\b\b\b\b\b\b\b\b\b\b\b\b\b\b\b\b\b\b\b\b\b\b\b\b\b\b\b\b\b\b\b\b\b\b\b\b\b\b\b\b\b\b\b\b\b\b\b\b\b\r6/6 [==============================] - 0s 18ms/step - loss: 153.0774 - classification_loss: 0.3255 - Regression_loss: 152.7519 - classification_accuracy: 0.8471 - Regression_mae: 6.4666\n",
            "Epoch 127/300\n",
            "5/6 [========================>.....] - ETA: 0s - loss: 136.4241 - classification_loss: 0.2879 - Regression_loss: 136.1362 - classification_accuracy: 0.8562 - Regression_mae: 5.8325"
          ]
        },
        {
          "output_type": "stream",
          "name": "stderr",
          "text": [
            "2024/03/09 05:28:24 WARNING mlflow.utils.checkpoint_utils: Checkpoint logging is skipped, because checkpoint 'save_best_only' config is True, it requires to compare the monitored metric value, but the provided monitored metric value is not available.\n"
          ]
        },
        {
          "output_type": "stream",
          "name": "stdout",
          "text": [
            "\b\b\b\b\b\b\b\b\b\b\b\b\b\b\b\b\b\b\b\b\b\b\b\b\b\b\b\b\b\b\b\b\b\b\b\b\b\b\b\b\b\b\b\b\b\b\b\b\b\b\b\b\b\b\b\b\b\b\b\b\b\b\b\b\b\b\b\b\b\b\b\b\b\b\b\b\b\b\b\b\b\b\b\b\b\b\b\b\b\b\b\b\b\b\b\b\b\b\b\b\b\b\b\b\b\b\b\b\b\b\b\b\b\b\b\b\b\b\b\b\b\b\b\b\b\b\b\b\b\b\b\b\b\b\b\b\b\b\b\b\b\b\b\b\b\b\b\b\b\b\b\b\b\b\b\b\b\b\b\b\b\b\b\b\b\b\b\b\b\b\b\b\b\b\b\b\b\b\b\b\r6/6 [==============================] - 0s 18ms/step - loss: 150.0828 - classification_loss: 0.3053 - Regression_loss: 149.7775 - classification_accuracy: 0.8412 - Regression_mae: 6.2140\n",
            "Epoch 128/300\n",
            "4/6 [===================>..........] - ETA: 0s - loss: 148.4203 - classification_loss: 0.3039 - Regression_loss: 148.1164 - classification_accuracy: 0.8281 - Regression_mae: 5.9621"
          ]
        },
        {
          "output_type": "stream",
          "name": "stderr",
          "text": [
            "2024/03/09 05:28:25 WARNING mlflow.utils.checkpoint_utils: Checkpoint logging is skipped, because checkpoint 'save_best_only' config is True, it requires to compare the monitored metric value, but the provided monitored metric value is not available.\n"
          ]
        },
        {
          "output_type": "stream",
          "name": "stdout",
          "text": [
            "\b\b\b\b\b\b\b\b\b\b\b\b\b\b\b\b\b\b\b\b\b\b\b\b\b\b\b\b\b\b\b\b\b\b\b\b\b\b\b\b\b\b\b\b\b\b\b\b\b\b\b\b\b\b\b\b\b\b\b\b\b\b\b\b\b\b\b\b\b\b\b\b\b\b\b\b\b\b\b\b\b\b\b\b\b\b\b\b\b\b\b\b\b\b\b\b\b\b\b\b\b\b\b\b\b\b\b\b\b\b\b\b\b\b\b\b\b\b\b\b\b\b\b\b\b\b\b\b\b\b\b\b\b\b\b\b\b\b\b\b\b\b\b\b\b\b\b\b\b\b\b\b\b\b\b\b\b\b\b\b\b\b\b\b\b\b\b\b\b\b\b\b\b\b\b\b\b\b\b\b\r6/6 [==============================] - 0s 19ms/step - loss: 151.9353 - classification_loss: 0.3152 - Regression_loss: 151.6201 - classification_accuracy: 0.8235 - Regression_mae: 6.2741\n",
            "Epoch 129/300\n",
            "4/6 [===================>..........] - ETA: 0s - loss: 155.7732 - classification_loss: 0.3243 - Regression_loss: 155.4489 - classification_accuracy: 0.8516 - Regression_mae: 6.5427"
          ]
        },
        {
          "output_type": "stream",
          "name": "stderr",
          "text": [
            "2024/03/09 05:28:25 WARNING mlflow.utils.checkpoint_utils: Checkpoint logging is skipped, because checkpoint 'save_best_only' config is True, it requires to compare the monitored metric value, but the provided monitored metric value is not available.\n"
          ]
        },
        {
          "output_type": "stream",
          "name": "stdout",
          "text": [
            "\b\b\b\b\b\b\b\b\b\b\b\b\b\b\b\b\b\b\b\b\b\b\b\b\b\b\b\b\b\b\b\b\b\b\b\b\b\b\b\b\b\b\b\b\b\b\b\b\b\b\b\b\b\b\b\b\b\b\b\b\b\b\b\b\b\b\b\b\b\b\b\b\b\b\b\b\b\b\b\b\b\b\b\b\b\b\b\b\b\b\b\b\b\b\b\b\b\b\b\b\b\b\b\b\b\b\b\b\b\b\b\b\b\b\b\b\b\b\b\b\b\b\b\b\b\b\b\b\b\b\b\b\b\b\b\b\b\b\b\b\b\b\b\b\b\b\b\b\b\b\b\b\b\b\b\b\b\b\b\b\b\b\b\b\b\b\b\b\b\b\b\b\b\b\b\b\b\b\b\b\r6/6 [==============================] - 0s 18ms/step - loss: 151.4904 - classification_loss: 0.3171 - Regression_loss: 151.1732 - classification_accuracy: 0.8471 - Regression_mae: 6.2397\n",
            "Epoch 130/300\n",
            "4/6 [===================>..........] - ETA: 0s - loss: 130.9300 - classification_loss: 0.2679 - Regression_loss: 130.6620 - classification_accuracy: 0.8594 - Regression_mae: 5.9156"
          ]
        },
        {
          "output_type": "stream",
          "name": "stderr",
          "text": [
            "2024/03/09 05:28:25 WARNING mlflow.utils.checkpoint_utils: Checkpoint logging is skipped, because checkpoint 'save_best_only' config is True, it requires to compare the monitored metric value, but the provided monitored metric value is not available.\n"
          ]
        },
        {
          "output_type": "stream",
          "name": "stdout",
          "text": [
            "\b\b\b\b\b\b\b\b\b\b\b\b\b\b\b\b\b\b\b\b\b\b\b\b\b\b\b\b\b\b\b\b\b\b\b\b\b\b\b\b\b\b\b\b\b\b\b\b\b\b\b\b\b\b\b\b\b\b\b\b\b\b\b\b\b\b\b\b\b\b\b\b\b\b\b\b\b\b\b\b\b\b\b\b\b\b\b\b\b\b\b\b\b\b\b\b\b\b\b\b\b\b\b\b\b\b\b\b\b\b\b\b\b\b\b\b\b\b\b\b\b\b\b\b\b\b\b\b\b\b\b\b\b\b\b\b\b\b\b\b\b\b\b\b\b\b\b\b\b\b\b\b\b\b\b\b\b\b\b\b\b\b\b\b\b\b\b\b\b\b\b\b\b\b\b\b\b\b\b\b\r6/6 [==============================] - 0s 19ms/step - loss: 150.8141 - classification_loss: 0.3200 - Regression_loss: 150.4941 - classification_accuracy: 0.8353 - Regression_mae: 6.3156\n",
            "Epoch 131/300\n",
            "4/6 [===================>..........] - ETA: 0s - loss: 136.8296 - classification_loss: 0.3049 - Regression_loss: 136.5248 - classification_accuracy: 0.8594 - Regression_mae: 6.4608"
          ]
        },
        {
          "output_type": "stream",
          "name": "stderr",
          "text": [
            "2024/03/09 05:28:25 WARNING mlflow.utils.checkpoint_utils: Checkpoint logging is skipped, because checkpoint 'save_best_only' config is True, it requires to compare the monitored metric value, but the provided monitored metric value is not available.\n"
          ]
        },
        {
          "output_type": "stream",
          "name": "stdout",
          "text": [
            "\b\b\b\b\b\b\b\b\b\b\b\b\b\b\b\b\b\b\b\b\b\b\b\b\b\b\b\b\b\b\b\b\b\b\b\b\b\b\b\b\b\b\b\b\b\b\b\b\b\b\b\b\b\b\b\b\b\b\b\b\b\b\b\b\b\b\b\b\b\b\b\b\b\b\b\b\b\b\b\b\b\b\b\b\b\b\b\b\b\b\b\b\b\b\b\b\b\b\b\b\b\b\b\b\b\b\b\b\b\b\b\b\b\b\b\b\b\b\b\b\b\b\b\b\b\b\b\b\b\b\b\b\b\b\b\b\b\b\b\b\b\b\b\b\b\b\b\b\b\b\b\b\b\b\b\b\b\b\b\b\b\b\b\b\b\b\b\b\b\b\b\b\b\b\b\b\b\b\b\b\r6/6 [==============================] - 0s 19ms/step - loss: 154.9559 - classification_loss: 0.3162 - Regression_loss: 154.6397 - classification_accuracy: 0.8471 - Regression_mae: 6.8289\n",
            "Epoch 132/300\n",
            "5/6 [========================>.....] - ETA: 0s - loss: 156.3440 - classification_loss: 0.3193 - Regression_loss: 156.0247 - classification_accuracy: 0.8250 - Regression_mae: 6.3101"
          ]
        },
        {
          "output_type": "stream",
          "name": "stderr",
          "text": [
            "2024/03/09 05:28:25 WARNING mlflow.utils.checkpoint_utils: Checkpoint logging is skipped, because checkpoint 'save_best_only' config is True, it requires to compare the monitored metric value, but the provided monitored metric value is not available.\n"
          ]
        },
        {
          "output_type": "stream",
          "name": "stdout",
          "text": [
            "\b\b\b\b\b\b\b\b\b\b\b\b\b\b\b\b\b\b\b\b\b\b\b\b\b\b\b\b\b\b\b\b\b\b\b\b\b\b\b\b\b\b\b\b\b\b\b\b\b\b\b\b\b\b\b\b\b\b\b\b\b\b\b\b\b\b\b\b\b\b\b\b\b\b\b\b\b\b\b\b\b\b\b\b\b\b\b\b\b\b\b\b\b\b\b\b\b\b\b\b\b\b\b\b\b\b\b\b\b\b\b\b\b\b\b\b\b\b\b\b\b\b\b\b\b\b\b\b\b\b\b\b\b\b\b\b\b\b\b\b\b\b\b\b\b\b\b\b\b\b\b\b\b\b\b\b\b\b\b\b\b\b\b\b\b\b\b\b\b\b\b\b\b\b\b\b\b\b\b\b\r6/6 [==============================] - 0s 17ms/step - loss: 153.8683 - classification_loss: 0.3209 - Regression_loss: 153.5474 - classification_accuracy: 0.8235 - Regression_mae: 6.2837\n",
            "Epoch 133/300\n",
            "4/6 [===================>..........] - ETA: 0s - loss: 163.5602 - classification_loss: 0.3122 - Regression_loss: 163.2480 - classification_accuracy: 0.8203 - Regression_mae: 6.6074"
          ]
        },
        {
          "output_type": "stream",
          "name": "stderr",
          "text": [
            "2024/03/09 05:28:25 WARNING mlflow.utils.checkpoint_utils: Checkpoint logging is skipped, because checkpoint 'save_best_only' config is True, it requires to compare the monitored metric value, but the provided monitored metric value is not available.\n"
          ]
        },
        {
          "output_type": "stream",
          "name": "stdout",
          "text": [
            "\b\b\b\b\b\b\b\b\b\b\b\b\b\b\b\b\b\b\b\b\b\b\b\b\b\b\b\b\b\b\b\b\b\b\b\b\b\b\b\b\b\b\b\b\b\b\b\b\b\b\b\b\b\b\b\b\b\b\b\b\b\b\b\b\b\b\b\b\b\b\b\b\b\b\b\b\b\b\b\b\b\b\b\b\b\b\b\b\b\b\b\b\b\b\b\b\b\b\b\b\b\b\b\b\b\b\b\b\b\b\b\b\b\b\b\b\b\b\b\b\b\b\b\b\b\b\b\b\b\b\b\b\b\b\b\b\b\b\b\b\b\b\b\b\b\b\b\b\b\b\b\b\b\b\b\b\b\b\b\b\b\b\b\b\b\b\b\b\b\b\b\b\b\b\b\b\b\b\b\b\r6/6 [==============================] - 0s 18ms/step - loss: 148.9047 - classification_loss: 0.2977 - Regression_loss: 148.6070 - classification_accuracy: 0.8235 - Regression_mae: 6.1066\n",
            "Epoch 134/300\n",
            "5/6 [========================>.....] - ETA: 0s - loss: 140.3385 - classification_loss: 0.2842 - Regression_loss: 140.0543 - classification_accuracy: 0.8438 - Regression_mae: 5.8953"
          ]
        },
        {
          "output_type": "stream",
          "name": "stderr",
          "text": [
            "2024/03/09 05:28:25 WARNING mlflow.utils.checkpoint_utils: Checkpoint logging is skipped, because checkpoint 'save_best_only' config is True, it requires to compare the monitored metric value, but the provided monitored metric value is not available.\n"
          ]
        },
        {
          "output_type": "stream",
          "name": "stdout",
          "text": [
            "\b\b\b\b\b\b\b\b\b\b\b\b\b\b\b\b\b\b\b\b\b\b\b\b\b\b\b\b\b\b\b\b\b\b\b\b\b\b\b\b\b\b\b\b\b\b\b\b\b\b\b\b\b\b\b\b\b\b\b\b\b\b\b\b\b\b\b\b\b\b\b\b\b\b\b\b\b\b\b\b\b\b\b\b\b\b\b\b\b\b\b\b\b\b\b\b\b\b\b\b\b\b\b\b\b\b\b\b\b\b\b\b\b\b\b\b\b\b\b\b\b\b\b\b\b\b\b\b\b\b\b\b\b\b\b\b\b\b\b\b\b\b\b\b\b\b\b\b\b\b\b\b\b\b\b\b\b\b\b\b\b\b\b\b\b\b\b\b\b\b\b\b\b\b\b\b\b\b\b\b\r6/6 [==============================] - 0s 17ms/step - loss: 151.4454 - classification_loss: 0.2984 - Regression_loss: 151.1470 - classification_accuracy: 0.8353 - Regression_mae: 6.2091\n",
            "Epoch 135/300\n",
            "4/6 [===================>..........] - ETA: 0s - loss: 159.0356 - classification_loss: 0.3054 - Regression_loss: 158.7302 - classification_accuracy: 0.8281 - Regression_mae: 6.1637"
          ]
        },
        {
          "output_type": "stream",
          "name": "stderr",
          "text": [
            "2024/03/09 05:28:25 WARNING mlflow.utils.checkpoint_utils: Checkpoint logging is skipped, because checkpoint 'save_best_only' config is True, it requires to compare the monitored metric value, but the provided monitored metric value is not available.\n"
          ]
        },
        {
          "output_type": "stream",
          "name": "stdout",
          "text": [
            "\b\b\b\b\b\b\b\b\b\b\b\b\b\b\b\b\b\b\b\b\b\b\b\b\b\b\b\b\b\b\b\b\b\b\b\b\b\b\b\b\b\b\b\b\b\b\b\b\b\b\b\b\b\b\b\b\b\b\b\b\b\b\b\b\b\b\b\b\b\b\b\b\b\b\b\b\b\b\b\b\b\b\b\b\b\b\b\b\b\b\b\b\b\b\b\b\b\b\b\b\b\b\b\b\b\b\b\b\b\b\b\b\b\b\b\b\b\b\b\b\b\b\b\b\b\b\b\b\b\b\b\b\b\b\b\b\b\b\b\b\b\b\b\b\b\b\b\b\b\b\b\b\b\b\b\b\b\b\b\b\b\b\b\b\b\b\b\b\b\b\b\b\b\b\b\b\b\b\b\b\r6/6 [==============================] - 0s 18ms/step - loss: 149.5891 - classification_loss: 0.2915 - Regression_loss: 149.2977 - classification_accuracy: 0.8412 - Regression_mae: 6.0198\n",
            "Epoch 136/300\n",
            "4/6 [===================>..........] - ETA: 0s - loss: 145.3213 - classification_loss: 0.2865 - Regression_loss: 145.0348 - classification_accuracy: 0.8516 - Regression_mae: 6.0543"
          ]
        },
        {
          "output_type": "stream",
          "name": "stderr",
          "text": [
            "2024/03/09 05:28:26 WARNING mlflow.utils.checkpoint_utils: Checkpoint logging is skipped, because checkpoint 'save_best_only' config is True, it requires to compare the monitored metric value, but the provided monitored metric value is not available.\n"
          ]
        },
        {
          "output_type": "stream",
          "name": "stdout",
          "text": [
            "\b\b\b\b\b\b\b\b\b\b\b\b\b\b\b\b\b\b\b\b\b\b\b\b\b\b\b\b\b\b\b\b\b\b\b\b\b\b\b\b\b\b\b\b\b\b\b\b\b\b\b\b\b\b\b\b\b\b\b\b\b\b\b\b\b\b\b\b\b\b\b\b\b\b\b\b\b\b\b\b\b\b\b\b\b\b\b\b\b\b\b\b\b\b\b\b\b\b\b\b\b\b\b\b\b\b\b\b\b\b\b\b\b\b\b\b\b\b\b\b\b\b\b\b\b\b\b\b\b\b\b\b\b\b\b\b\b\b\b\b\b\b\b\b\b\b\b\b\b\b\b\b\b\b\b\b\b\b\b\b\b\b\b\b\b\b\b\b\b\b\b\b\b\b\b\b\b\b\b\b\r6/6 [==============================] - 0s 19ms/step - loss: 149.8884 - classification_loss: 0.3068 - Regression_loss: 149.5816 - classification_accuracy: 0.8412 - Regression_mae: 6.1998\n",
            "Epoch 137/300\n",
            "4/6 [===================>..........] - ETA: 0s - loss: 137.3055 - classification_loss: 0.3018 - Regression_loss: 137.0037 - classification_accuracy: 0.8203 - Regression_mae: 5.7647"
          ]
        },
        {
          "output_type": "stream",
          "name": "stderr",
          "text": [
            "2024/03/09 05:28:26 WARNING mlflow.utils.checkpoint_utils: Checkpoint logging is skipped, because checkpoint 'save_best_only' config is True, it requires to compare the monitored metric value, but the provided monitored metric value is not available.\n"
          ]
        },
        {
          "output_type": "stream",
          "name": "stdout",
          "text": [
            "\b\b\b\b\b\b\b\b\b\b\b\b\b\b\b\b\b\b\b\b\b\b\b\b\b\b\b\b\b\b\b\b\b\b\b\b\b\b\b\b\b\b\b\b\b\b\b\b\b\b\b\b\b\b\b\b\b\b\b\b\b\b\b\b\b\b\b\b\b\b\b\b\b\b\b\b\b\b\b\b\b\b\b\b\b\b\b\b\b\b\b\b\b\b\b\b\b\b\b\b\b\b\b\b\b\b\b\b\b\b\b\b\b\b\b\b\b\b\b\b\b\b\b\b\b\b\b\b\b\b\b\b\b\b\b\b\b\b\b\b\b\b\b\b\b\b\b\b\b\b\b\b\b\b\b\b\b\b\b\b\b\b\b\b\b\b\b\b\b\b\b\b\b\b\b\b\b\b\b\b\r6/6 [==============================] - 0s 19ms/step - loss: 149.9371 - classification_loss: 0.3060 - Regression_loss: 149.6311 - classification_accuracy: 0.8176 - Regression_mae: 6.0964\n",
            "Epoch 138/300\n",
            "4/6 [===================>..........] - ETA: 0s - loss: 146.8551 - classification_loss: 0.2842 - Regression_loss: 146.5709 - classification_accuracy: 0.8594 - Regression_mae: 6.1245"
          ]
        },
        {
          "output_type": "stream",
          "name": "stderr",
          "text": [
            "2024/03/09 05:28:26 WARNING mlflow.utils.checkpoint_utils: Checkpoint logging is skipped, because checkpoint 'save_best_only' config is True, it requires to compare the monitored metric value, but the provided monitored metric value is not available.\n"
          ]
        },
        {
          "output_type": "stream",
          "name": "stdout",
          "text": [
            "\b\b\b\b\b\b\b\b\b\b\b\b\b\b\b\b\b\b\b\b\b\b\b\b\b\b\b\b\b\b\b\b\b\b\b\b\b\b\b\b\b\b\b\b\b\b\b\b\b\b\b\b\b\b\b\b\b\b\b\b\b\b\b\b\b\b\b\b\b\b\b\b\b\b\b\b\b\b\b\b\b\b\b\b\b\b\b\b\b\b\b\b\b\b\b\b\b\b\b\b\b\b\b\b\b\b\b\b\b\b\b\b\b\b\b\b\b\b\b\b\b\b\b\b\b\b\b\b\b\b\b\b\b\b\b\b\b\b\b\b\b\b\b\b\b\b\b\b\b\b\b\b\b\b\b\b\b\b\b\b\b\b\b\b\b\b\b\b\b\b\b\b\b\b\b\b\b\b\b\b\r6/6 [==============================] - 0s 22ms/step - loss: 152.9670 - classification_loss: 0.2968 - Regression_loss: 152.6703 - classification_accuracy: 0.8412 - Regression_mae: 6.2814\n",
            "Epoch 139/300\n",
            "4/6 [===================>..........] - ETA: 0s - loss: 145.9041 - classification_loss: 0.3179 - Regression_loss: 145.5862 - classification_accuracy: 0.8359 - Regression_mae: 5.8764"
          ]
        },
        {
          "output_type": "stream",
          "name": "stderr",
          "text": [
            "2024/03/09 05:28:26 WARNING mlflow.utils.checkpoint_utils: Checkpoint logging is skipped, because checkpoint 'save_best_only' config is True, it requires to compare the monitored metric value, but the provided monitored metric value is not available.\n"
          ]
        },
        {
          "output_type": "stream",
          "name": "stdout",
          "text": [
            "\b\b\b\b\b\b\b\b\b\b\b\b\b\b\b\b\b\b\b\b\b\b\b\b\b\b\b\b\b\b\b\b\b\b\b\b\b\b\b\b\b\b\b\b\b\b\b\b\b\b\b\b\b\b\b\b\b\b\b\b\b\b\b\b\b\b\b\b\b\b\b\b\b\b\b\b\b\b\b\b\b\b\b\b\b\b\b\b\b\b\b\b\b\b\b\b\b\b\b\b\b\b\b\b\b\b\b\b\b\b\b\b\b\b\b\b\b\b\b\b\b\b\b\b\b\b\b\b\b\b\b\b\b\b\b\b\b\b\b\b\b\b\b\b\b\b\b\b\b\b\b\b\b\b\b\b\b\b\b\b\b\b\b\b\b\b\b\b\b\b\b\b\b\b\b\b\b\b\b\b\r6/6 [==============================] - 0s 24ms/step - loss: 149.1672 - classification_loss: 0.3229 - Regression_loss: 148.8443 - classification_accuracy: 0.8235 - Regression_mae: 6.0721\n",
            "Epoch 140/300\n",
            "4/6 [===================>..........] - ETA: 0s - loss: 156.2317 - classification_loss: 0.3248 - Regression_loss: 155.9069 - classification_accuracy: 0.8281 - Regression_mae: 6.1192"
          ]
        },
        {
          "output_type": "stream",
          "name": "stderr",
          "text": [
            "2024/03/09 05:28:26 WARNING mlflow.utils.checkpoint_utils: Checkpoint logging is skipped, because checkpoint 'save_best_only' config is True, it requires to compare the monitored metric value, but the provided monitored metric value is not available.\n"
          ]
        },
        {
          "output_type": "stream",
          "name": "stdout",
          "text": [
            "\b\b\b\b\b\b\b\b\b\b\b\b\b\b\b\b\b\b\b\b\b\b\b\b\b\b\b\b\b\b\b\b\b\b\b\b\b\b\b\b\b\b\b\b\b\b\b\b\b\b\b\b\b\b\b\b\b\b\b\b\b\b\b\b\b\b\b\b\b\b\b\b\b\b\b\b\b\b\b\b\b\b\b\b\b\b\b\b\b\b\b\b\b\b\b\b\b\b\b\b\b\b\b\b\b\b\b\b\b\b\b\b\b\b\b\b\b\b\b\b\b\b\b\b\b\b\b\b\b\b\b\b\b\b\b\b\b\b\b\b\b\b\b\b\b\b\b\b\b\b\b\b\b\b\b\b\b\b\b\b\b\b\b\b\b\b\b\b\b\b\b\b\b\b\b\b\b\b\b\b\r6/6 [==============================] - 0s 26ms/step - loss: 149.4481 - classification_loss: 0.3153 - Regression_loss: 149.1328 - classification_accuracy: 0.8294 - Regression_mae: 6.0118\n",
            "Epoch 141/300\n",
            "4/6 [===================>..........] - ETA: 0s - loss: 156.7943 - classification_loss: 0.3019 - Regression_loss: 156.4925 - classification_accuracy: 0.8359 - Regression_mae: 6.3367"
          ]
        },
        {
          "output_type": "stream",
          "name": "stderr",
          "text": [
            "2024/03/09 05:28:26 WARNING mlflow.utils.checkpoint_utils: Checkpoint logging is skipped, because checkpoint 'save_best_only' config is True, it requires to compare the monitored metric value, but the provided monitored metric value is not available.\n"
          ]
        },
        {
          "output_type": "stream",
          "name": "stdout",
          "text": [
            "\b\b\b\b\b\b\b\b\b\b\b\b\b\b\b\b\b\b\b\b\b\b\b\b\b\b\b\b\b\b\b\b\b\b\b\b\b\b\b\b\b\b\b\b\b\b\b\b\b\b\b\b\b\b\b\b\b\b\b\b\b\b\b\b\b\b\b\b\b\b\b\b\b\b\b\b\b\b\b\b\b\b\b\b\b\b\b\b\b\b\b\b\b\b\b\b\b\b\b\b\b\b\b\b\b\b\b\b\b\b\b\b\b\b\b\b\b\b\b\b\b\b\b\b\b\b\b\b\b\b\b\b\b\b\b\b\b\b\b\b\b\b\b\b\b\b\b\b\b\b\b\b\b\b\b\b\b\b\b\b\b\b\b\b\b\b\b\b\b\b\b\b\b\b\b\b\b\b\b\b\r6/6 [==============================] - 0s 23ms/step - loss: 149.3148 - classification_loss: 0.2981 - Regression_loss: 149.0167 - classification_accuracy: 0.8471 - Regression_mae: 5.9813\n",
            "Epoch 142/300\n",
            "4/6 [===================>..........] - ETA: 0s - loss: 163.7206 - classification_loss: 0.2952 - Regression_loss: 163.4253 - classification_accuracy: 0.8359 - Regression_mae: 6.1959"
          ]
        },
        {
          "output_type": "stream",
          "name": "stderr",
          "text": [
            "2024/03/09 05:28:26 WARNING mlflow.utils.checkpoint_utils: Checkpoint logging is skipped, because checkpoint 'save_best_only' config is True, it requires to compare the monitored metric value, but the provided monitored metric value is not available.\n"
          ]
        },
        {
          "output_type": "stream",
          "name": "stdout",
          "text": [
            "\b\b\b\b\b\b\b\b\b\b\b\b\b\b\b\b\b\b\b\b\b\b\b\b\b\b\b\b\b\b\b\b\b\b\b\b\b\b\b\b\b\b\b\b\b\b\b\b\b\b\b\b\b\b\b\b\b\b\b\b\b\b\b\b\b\b\b\b\b\b\b\b\b\b\b\b\b\b\b\b\b\b\b\b\b\b\b\b\b\b\b\b\b\b\b\b\b\b\b\b\b\b\b\b\b\b\b\b\b\b\b\b\b\b\b\b\b\b\b\b\b\b\b\b\b\b\b\b\b\b\b\b\b\b\b\b\b\b\b\b\b\b\b\b\b\b\b\b\b\b\b\b\b\b\b\b\b\b\b\b\b\b\b\b\b\b\b\b\b\b\b\b\b\b\b\b\b\b\b\b\r6/6 [==============================] - 0s 22ms/step - loss: 149.7086 - classification_loss: 0.3032 - Regression_loss: 149.4054 - classification_accuracy: 0.8235 - Regression_mae: 5.9441\n",
            "Epoch 143/300\n",
            "4/6 [===================>..........] - ETA: 0s - loss: 165.2285 - classification_loss: 0.3302 - Regression_loss: 164.8983 - classification_accuracy: 0.8047 - Regression_mae: 6.7211"
          ]
        },
        {
          "output_type": "stream",
          "name": "stderr",
          "text": [
            "2024/03/09 05:28:27 WARNING mlflow.utils.checkpoint_utils: Checkpoint logging is skipped, because checkpoint 'save_best_only' config is True, it requires to compare the monitored metric value, but the provided monitored metric value is not available.\n"
          ]
        },
        {
          "output_type": "stream",
          "name": "stdout",
          "text": [
            "\b\b\b\b\b\b\b\b\b\b\b\b\b\b\b\b\b\b\b\b\b\b\b\b\b\b\b\b\b\b\b\b\b\b\b\b\b\b\b\b\b\b\b\b\b\b\b\b\b\b\b\b\b\b\b\b\b\b\b\b\b\b\b\b\b\b\b\b\b\b\b\b\b\b\b\b\b\b\b\b\b\b\b\b\b\b\b\b\b\b\b\b\b\b\b\b\b\b\b\b\b\b\b\b\b\b\b\b\b\b\b\b\b\b\b\b\b\b\b\b\b\b\b\b\b\b\b\b\b\b\b\b\b\b\b\b\b\b\b\b\b\b\b\b\b\b\b\b\b\b\b\b\b\b\b\b\b\b\b\b\b\b\b\b\b\b\b\b\b\b\b\b\b\b\b\b\b\b\b\b\r6/6 [==============================] - 0s 22ms/step - loss: 150.7234 - classification_loss: 0.3204 - Regression_loss: 150.4030 - classification_accuracy: 0.8235 - Regression_mae: 6.2007\n",
            "Epoch 144/300\n",
            "4/6 [===================>..........] - ETA: 0s - loss: 152.1193 - classification_loss: 0.3195 - Regression_loss: 151.7998 - classification_accuracy: 0.8203 - Regression_mae: 6.3222"
          ]
        },
        {
          "output_type": "stream",
          "name": "stderr",
          "text": [
            "2024/03/09 05:28:27 WARNING mlflow.utils.checkpoint_utils: Checkpoint logging is skipped, because checkpoint 'save_best_only' config is True, it requires to compare the monitored metric value, but the provided monitored metric value is not available.\n"
          ]
        },
        {
          "output_type": "stream",
          "name": "stdout",
          "text": [
            "\b\b\b\b\b\b\b\b\b\b\b\b\b\b\b\b\b\b\b\b\b\b\b\b\b\b\b\b\b\b\b\b\b\b\b\b\b\b\b\b\b\b\b\b\b\b\b\b\b\b\b\b\b\b\b\b\b\b\b\b\b\b\b\b\b\b\b\b\b\b\b\b\b\b\b\b\b\b\b\b\b\b\b\b\b\b\b\b\b\b\b\b\b\b\b\b\b\b\b\b\b\b\b\b\b\b\b\b\b\b\b\b\b\b\b\b\b\b\b\b\b\b\b\b\b\b\b\b\b\b\b\b\b\b\b\b\b\b\b\b\b\b\b\b\b\b\b\b\b\b\b\b\b\b\b\b\b\b\b\b\b\b\b\b\b\b\b\b\b\b\b\b\b\b\b\b\b\b\b\b\r6/6 [==============================] - 0s 24ms/step - loss: 150.7463 - classification_loss: 0.3232 - Regression_loss: 150.4230 - classification_accuracy: 0.8294 - Regression_mae: 6.1501\n",
            "Epoch 145/300\n",
            "4/6 [===================>..........] - ETA: 0s - loss: 148.8205 - classification_loss: 0.2895 - Regression_loss: 148.5311 - classification_accuracy: 0.8359 - Regression_mae: 6.8484"
          ]
        },
        {
          "output_type": "stream",
          "name": "stderr",
          "text": [
            "2024/03/09 05:28:27 WARNING mlflow.utils.checkpoint_utils: Checkpoint logging is skipped, because checkpoint 'save_best_only' config is True, it requires to compare the monitored metric value, but the provided monitored metric value is not available.\n"
          ]
        },
        {
          "output_type": "stream",
          "name": "stdout",
          "text": [
            "\b\b\b\b\b\b\b\b\b\b\b\b\b\b\b\b\b\b\b\b\b\b\b\b\b\b\b\b\b\b\b\b\b\b\b\b\b\b\b\b\b\b\b\b\b\b\b\b\b\b\b\b\b\b\b\b\b\b\b\b\b\b\b\b\b\b\b\b\b\b\b\b\b\b\b\b\b\b\b\b\b\b\b\b\b\b\b\b\b\b\b\b\b\b\b\b\b\b\b\b\b\b\b\b\b\b\b\b\b\b\b\b\b\b\b\b\b\b\b\b\b\b\b\b\b\b\b\b\b\b\b\b\b\b\b\b\b\b\b\b\b\b\b\b\b\b\b\b\b\b\b\b\b\b\b\b\b\b\b\b\b\b\b\b\b\b\b\b\b\b\b\b\b\b\b\b\b\b\b\b\r6/6 [==============================] - 0s 24ms/step - loss: 154.8188 - classification_loss: 0.2957 - Regression_loss: 154.5231 - classification_accuracy: 0.8412 - Regression_mae: 6.7560\n",
            "Epoch 146/300\n",
            "6/6 [==============================] - ETA: 0s - loss: 153.0661 - classification_loss: 0.2958 - Regression_loss: 152.7703 - classification_accuracy: 0.8353 - Regression_mae: 6.8645"
          ]
        },
        {
          "output_type": "stream",
          "name": "stderr",
          "text": [
            "2024/03/09 05:28:27 WARNING mlflow.utils.checkpoint_utils: Checkpoint logging is skipped, because checkpoint 'save_best_only' config is True, it requires to compare the monitored metric value, but the provided monitored metric value is not available.\n"
          ]
        },
        {
          "output_type": "stream",
          "name": "stdout",
          "text": [
            "\b\b\b\b\b\b\b\b\b\b\b\b\b\b\b\b\b\b\b\b\b\b\b\b\b\b\b\b\b\b\b\b\b\b\b\b\b\b\b\b\b\b\b\b\b\b\b\b\b\b\b\b\b\b\b\b\b\b\b\b\b\b\b\b\b\b\b\b\b\b\b\b\b\b\b\b\b\b\b\b\b\b\b\b\b\b\b\b\b\b\b\b\b\b\b\b\b\b\b\b\b\b\b\b\b\b\b\b\b\b\b\b\b\b\b\b\b\b\b\b\b\b\b\b\b\b\b\b\b\b\b\b\b\b\b\b\b\b\b\b\b\b\b\b\b\b\b\b\b\b\b\b\b\b\b\b\b\b\b\b\b\b\b\b\b\b\b\b\b\b\b\b\b\b\b\b\b\b\b\b\r6/6 [==============================] - 0s 28ms/step - loss: 153.0661 - classification_loss: 0.2958 - Regression_loss: 152.7703 - classification_accuracy: 0.8353 - Regression_mae: 6.8645\n",
            "Epoch 147/300\n",
            "4/6 [===================>..........] - ETA: 0s - loss: 161.1142 - classification_loss: 0.3007 - Regression_loss: 160.8135 - classification_accuracy: 0.8359 - Regression_mae: 7.3794"
          ]
        },
        {
          "output_type": "stream",
          "name": "stderr",
          "text": [
            "2024/03/09 05:28:27 WARNING mlflow.utils.checkpoint_utils: Checkpoint logging is skipped, because checkpoint 'save_best_only' config is True, it requires to compare the monitored metric value, but the provided monitored metric value is not available.\n"
          ]
        },
        {
          "output_type": "stream",
          "name": "stdout",
          "text": [
            "\b\b\b\b\b\b\b\b\b\b\b\b\b\b\b\b\b\b\b\b\b\b\b\b\b\b\b\b\b\b\b\b\b\b\b\b\b\b\b\b\b\b\b\b\b\b\b\b\b\b\b\b\b\b\b\b\b\b\b\b\b\b\b\b\b\b\b\b\b\b\b\b\b\b\b\b\b\b\b\b\b\b\b\b\b\b\b\b\b\b\b\b\b\b\b\b\b\b\b\b\b\b\b\b\b\b\b\b\b\b\b\b\b\b\b\b\b\b\b\b\b\b\b\b\b\b\b\b\b\b\b\b\b\b\b\b\b\b\b\b\b\b\b\b\b\b\b\b\b\b\b\b\b\b\b\b\b\b\b\b\b\b\b\b\b\b\b\b\b\b\b\b\b\b\b\b\b\b\b\b\r6/6 [==============================] - 0s 23ms/step - loss: 155.7826 - classification_loss: 0.2902 - Regression_loss: 155.4924 - classification_accuracy: 0.8353 - Regression_mae: 7.1065\n",
            "Epoch 148/300\n",
            "4/6 [===================>..........] - ETA: 0s - loss: 156.4833 - classification_loss: 0.2875 - Regression_loss: 156.1958 - classification_accuracy: 0.8438 - Regression_mae: 7.0601"
          ]
        },
        {
          "output_type": "stream",
          "name": "stderr",
          "text": [
            "2024/03/09 05:28:27 WARNING mlflow.utils.checkpoint_utils: Checkpoint logging is skipped, because checkpoint 'save_best_only' config is True, it requires to compare the monitored metric value, but the provided monitored metric value is not available.\n"
          ]
        },
        {
          "output_type": "stream",
          "name": "stdout",
          "text": [
            "\b\b\b\b\b\b\b\b\b\b\b\b\b\b\b\b\b\b\b\b\b\b\b\b\b\b\b\b\b\b\b\b\b\b\b\b\b\b\b\b\b\b\b\b\b\b\b\b\b\b\b\b\b\b\b\b\b\b\b\b\b\b\b\b\b\b\b\b\b\b\b\b\b\b\b\b\b\b\b\b\b\b\b\b\b\b\b\b\b\b\b\b\b\b\b\b\b\b\b\b\b\b\b\b\b\b\b\b\b\b\b\b\b\b\b\b\b\b\b\b\b\b\b\b\b\b\b\b\b\b\b\b\b\b\b\b\b\b\b\b\b\b\b\b\b\b\b\b\b\b\b\b\b\b\b\b\b\b\b\b\b\b\b\b\b\b\b\b\b\b\b\b\b\b\b\b\b\b\b\b\r6/6 [==============================] - 0s 24ms/step - loss: 155.6868 - classification_loss: 0.3047 - Regression_loss: 155.3820 - classification_accuracy: 0.8412 - Regression_mae: 6.9286\n",
            "Epoch 149/300\n",
            "4/6 [===================>..........] - ETA: 0s - loss: 137.0895 - classification_loss: 0.2906 - Regression_loss: 136.7989 - classification_accuracy: 0.8281 - Regression_mae: 6.2546"
          ]
        },
        {
          "output_type": "stream",
          "name": "stderr",
          "text": [
            "2024/03/09 05:28:27 WARNING mlflow.utils.checkpoint_utils: Checkpoint logging is skipped, because checkpoint 'save_best_only' config is True, it requires to compare the monitored metric value, but the provided monitored metric value is not available.\n"
          ]
        },
        {
          "output_type": "stream",
          "name": "stdout",
          "text": [
            "\b\b\b\b\b\b\b\b\b\b\b\b\b\b\b\b\b\b\b\b\b\b\b\b\b\b\b\b\b\b\b\b\b\b\b\b\b\b\b\b\b\b\b\b\b\b\b\b\b\b\b\b\b\b\b\b\b\b\b\b\b\b\b\b\b\b\b\b\b\b\b\b\b\b\b\b\b\b\b\b\b\b\b\b\b\b\b\b\b\b\b\b\b\b\b\b\b\b\b\b\b\b\b\b\b\b\b\b\b\b\b\b\b\b\b\b\b\b\b\b\b\b\b\b\b\b\b\b\b\b\b\b\b\b\b\b\b\b\b\b\b\b\b\b\b\b\b\b\b\b\b\b\b\b\b\b\b\b\b\b\b\b\b\b\b\b\b\b\b\b\b\b\b\b\b\b\b\b\b\b\r6/6 [==============================] - 0s 21ms/step - loss: 153.6740 - classification_loss: 0.3066 - Regression_loss: 153.3674 - classification_accuracy: 0.8353 - Regression_mae: 6.6355\n",
            "Epoch 150/300\n",
            "4/6 [===================>..........] - ETA: 0s - loss: 150.0356 - classification_loss: 0.3161 - Regression_loss: 149.7194 - classification_accuracy: 0.8281 - Regression_mae: 6.2921"
          ]
        },
        {
          "output_type": "stream",
          "name": "stderr",
          "text": [
            "2024/03/09 05:28:28 WARNING mlflow.utils.checkpoint_utils: Checkpoint logging is skipped, because checkpoint 'save_best_only' config is True, it requires to compare the monitored metric value, but the provided monitored metric value is not available.\n"
          ]
        },
        {
          "output_type": "stream",
          "name": "stdout",
          "text": [
            "\b\b\b\b\b\b\b\b\b\b\b\b\b\b\b\b\b\b\b\b\b\b\b\b\b\b\b\b\b\b\b\b\b\b\b\b\b\b\b\b\b\b\b\b\b\b\b\b\b\b\b\b\b\b\b\b\b\b\b\b\b\b\b\b\b\b\b\b\b\b\b\b\b\b\b\b\b\b\b\b\b\b\b\b\b\b\b\b\b\b\b\b\b\b\b\b\b\b\b\b\b\b\b\b\b\b\b\b\b\b\b\b\b\b\b\b\b\b\b\b\b\b\b\b\b\b\b\b\b\b\b\b\b\b\b\b\b\b\b\b\b\b\b\b\b\b\b\b\b\b\b\b\b\b\b\b\b\b\b\b\b\b\b\b\b\b\b\b\b\b\b\b\b\b\b\b\b\b\b\b\r6/6 [==============================] - 0s 24ms/step - loss: 150.1308 - classification_loss: 0.3060 - Regression_loss: 149.8249 - classification_accuracy: 0.8294 - Regression_mae: 6.3020\n",
            "Epoch 151/300\n",
            "4/6 [===================>..........] - ETA: 0s - loss: 143.2521 - classification_loss: 0.3257 - Regression_loss: 142.9264 - classification_accuracy: 0.8359 - Regression_mae: 5.9128"
          ]
        },
        {
          "output_type": "stream",
          "name": "stderr",
          "text": [
            "2024/03/09 05:28:28 WARNING mlflow.utils.checkpoint_utils: Checkpoint logging is skipped, because checkpoint 'save_best_only' config is True, it requires to compare the monitored metric value, but the provided monitored metric value is not available.\n"
          ]
        },
        {
          "output_type": "stream",
          "name": "stdout",
          "text": [
            "\b\b\b\b\b\b\b\b\b\b\b\b\b\b\b\b\b\b\b\b\b\b\b\b\b\b\b\b\b\b\b\b\b\b\b\b\b\b\b\b\b\b\b\b\b\b\b\b\b\b\b\b\b\b\b\b\b\b\b\b\b\b\b\b\b\b\b\b\b\b\b\b\b\b\b\b\b\b\b\b\b\b\b\b\b\b\b\b\b\b\b\b\b\b\b\b\b\b\b\b\b\b\b\b\b\b\b\b\b\b\b\b\b\b\b\b\b\b\b\b\b\b\b\b\b\b\b\b\b\b\b\b\b\b\b\b\b\b\b\b\b\b\b\b\b\b\b\b\b\b\b\b\b\b\b\b\b\b\b\b\b\b\b\b\b\b\b\b\b\b\b\b\b\b\b\b\b\b\b\b\r6/6 [==============================] - 0s 22ms/step - loss: 149.9376 - classification_loss: 0.3290 - Regression_loss: 149.6087 - classification_accuracy: 0.8294 - Regression_mae: 5.9830\n",
            "Epoch 152/300\n",
            "4/6 [===================>..........] - ETA: 0s - loss: 147.7982 - classification_loss: 0.2921 - Regression_loss: 147.5062 - classification_accuracy: 0.8516 - Regression_mae: 6.4602"
          ]
        },
        {
          "output_type": "stream",
          "name": "stderr",
          "text": [
            "2024/03/09 05:28:28 WARNING mlflow.utils.checkpoint_utils: Checkpoint logging is skipped, because checkpoint 'save_best_only' config is True, it requires to compare the monitored metric value, but the provided monitored metric value is not available.\n"
          ]
        },
        {
          "output_type": "stream",
          "name": "stdout",
          "text": [
            "\b\b\b\b\b\b\b\b\b\b\b\b\b\b\b\b\b\b\b\b\b\b\b\b\b\b\b\b\b\b\b\b\b\b\b\b\b\b\b\b\b\b\b\b\b\b\b\b\b\b\b\b\b\b\b\b\b\b\b\b\b\b\b\b\b\b\b\b\b\b\b\b\b\b\b\b\b\b\b\b\b\b\b\b\b\b\b\b\b\b\b\b\b\b\b\b\b\b\b\b\b\b\b\b\b\b\b\b\b\b\b\b\b\b\b\b\b\b\b\b\b\b\b\b\b\b\b\b\b\b\b\b\b\b\b\b\b\b\b\b\b\b\b\b\b\b\b\b\b\b\b\b\b\b\b\b\b\b\b\b\b\b\b\b\b\b\b\b\b\b\b\b\b\b\b\b\b\b\b\b\r6/6 [==============================] - 0s 26ms/step - loss: 150.9399 - classification_loss: 0.2860 - Regression_loss: 150.6540 - classification_accuracy: 0.8471 - Regression_mae: 6.3454\n",
            "Epoch 153/300\n",
            "4/6 [===================>..........] - ETA: 0s - loss: 166.6463 - classification_loss: 0.3363 - Regression_loss: 166.3100 - classification_accuracy: 0.8594 - Regression_mae: 6.5121"
          ]
        },
        {
          "output_type": "stream",
          "name": "stderr",
          "text": [
            "2024/03/09 05:28:28 WARNING mlflow.utils.checkpoint_utils: Checkpoint logging is skipped, because checkpoint 'save_best_only' config is True, it requires to compare the monitored metric value, but the provided monitored metric value is not available.\n"
          ]
        },
        {
          "output_type": "stream",
          "name": "stdout",
          "text": [
            "\b\b\b\b\b\b\b\b\b\b\b\b\b\b\b\b\b\b\b\b\b\b\b\b\b\b\b\b\b\b\b\b\b\b\b\b\b\b\b\b\b\b\b\b\b\b\b\b\b\b\b\b\b\b\b\b\b\b\b\b\b\b\b\b\b\b\b\b\b\b\b\b\b\b\b\b\b\b\b\b\b\b\b\b\b\b\b\b\b\b\b\b\b\b\b\b\b\b\b\b\b\b\b\b\b\b\b\b\b\b\b\b\b\b\b\b\b\b\b\b\b\b\b\b\b\b\b\b\b\b\b\b\b\b\b\b\b\b\b\b\b\b\b\b\b\b\b\b\b\b\b\b\b\b\b\b\b\b\b\b\b\b\b\b\b\b\b\b\b\b\b\b\b\b\b\b\b\b\b\b\r6/6 [==============================] - 0s 25ms/step - loss: 152.0430 - classification_loss: 0.3210 - Regression_loss: 151.7220 - classification_accuracy: 0.8529 - Regression_mae: 6.2262\n",
            "Epoch 154/300\n",
            "4/6 [===================>..........] - ETA: 0s - loss: 146.0539 - classification_loss: 0.2768 - Regression_loss: 145.7771 - classification_accuracy: 0.8359 - Regression_mae: 6.7245"
          ]
        },
        {
          "output_type": "stream",
          "name": "stderr",
          "text": [
            "2024/03/09 05:28:28 WARNING mlflow.utils.checkpoint_utils: Checkpoint logging is skipped, because checkpoint 'save_best_only' config is True, it requires to compare the monitored metric value, but the provided monitored metric value is not available.\n"
          ]
        },
        {
          "output_type": "stream",
          "name": "stdout",
          "text": [
            "\b\b\b\b\b\b\b\b\b\b\b\b\b\b\b\b\b\b\b\b\b\b\b\b\b\b\b\b\b\b\b\b\b\b\b\b\b\b\b\b\b\b\b\b\b\b\b\b\b\b\b\b\b\b\b\b\b\b\b\b\b\b\b\b\b\b\b\b\b\b\b\b\b\b\b\b\b\b\b\b\b\b\b\b\b\b\b\b\b\b\b\b\b\b\b\b\b\b\b\b\b\b\b\b\b\b\b\b\b\b\b\b\b\b\b\b\b\b\b\b\b\b\b\b\b\b\b\b\b\b\b\b\b\b\b\b\b\b\b\b\b\b\b\b\b\b\b\b\b\b\b\b\b\b\b\b\b\b\b\b\b\b\b\b\b\b\b\b\b\b\b\b\b\b\b\b\b\b\b\b\r6/6 [==============================] - 0s 25ms/step - loss: 156.1725 - classification_loss: 0.2968 - Regression_loss: 155.8757 - classification_accuracy: 0.8353 - Regression_mae: 6.9711\n",
            "Epoch 155/300\n",
            "4/6 [===================>..........] - ETA: 0s - loss: 133.4317 - classification_loss: 0.2770 - Regression_loss: 133.1546 - classification_accuracy: 0.8672 - Regression_mae: 6.3802"
          ]
        },
        {
          "output_type": "stream",
          "name": "stderr",
          "text": [
            "2024/03/09 05:28:28 WARNING mlflow.utils.checkpoint_utils: Checkpoint logging is skipped, because checkpoint 'save_best_only' config is True, it requires to compare the monitored metric value, but the provided monitored metric value is not available.\n"
          ]
        },
        {
          "output_type": "stream",
          "name": "stdout",
          "text": [
            "\b\b\b\b\b\b\b\b\b\b\b\b\b\b\b\b\b\b\b\b\b\b\b\b\b\b\b\b\b\b\b\b\b\b\b\b\b\b\b\b\b\b\b\b\b\b\b\b\b\b\b\b\b\b\b\b\b\b\b\b\b\b\b\b\b\b\b\b\b\b\b\b\b\b\b\b\b\b\b\b\b\b\b\b\b\b\b\b\b\b\b\b\b\b\b\b\b\b\b\b\b\b\b\b\b\b\b\b\b\b\b\b\b\b\b\b\b\b\b\b\b\b\b\b\b\b\b\b\b\b\b\b\b\b\b\b\b\b\b\b\b\b\b\b\b\b\b\b\b\b\b\b\b\b\b\b\b\b\b\b\b\b\b\b\b\b\b\b\b\b\b\b\b\b\b\b\b\b\b\b\r6/6 [==============================] - 0s 24ms/step - loss: 155.0390 - classification_loss: 0.3211 - Regression_loss: 154.7178 - classification_accuracy: 0.8412 - Regression_mae: 6.7713\n",
            "Epoch 156/300\n",
            "4/6 [===================>..........] - ETA: 0s - loss: 116.3269 - classification_loss: 0.2555 - Regression_loss: 116.0714 - classification_accuracy: 0.8359 - Regression_mae: 5.2664"
          ]
        },
        {
          "output_type": "stream",
          "name": "stderr",
          "text": [
            "2024/03/09 05:28:29 WARNING mlflow.utils.checkpoint_utils: Checkpoint logging is skipped, because checkpoint 'save_best_only' config is True, it requires to compare the monitored metric value, but the provided monitored metric value is not available.\n"
          ]
        },
        {
          "output_type": "stream",
          "name": "stdout",
          "text": [
            "\b\b\b\b\b\b\b\b\b\b\b\b\b\b\b\b\b\b\b\b\b\b\b\b\b\b\b\b\b\b\b\b\b\b\b\b\b\b\b\b\b\b\b\b\b\b\b\b\b\b\b\b\b\b\b\b\b\b\b\b\b\b\b\b\b\b\b\b\b\b\b\b\b\b\b\b\b\b\b\b\b\b\b\b\b\b\b\b\b\b\b\b\b\b\b\b\b\b\b\b\b\b\b\b\b\b\b\b\b\b\b\b\b\b\b\b\b\b\b\b\b\b\b\b\b\b\b\b\b\b\b\b\b\b\b\b\b\b\b\b\b\b\b\b\b\b\b\b\b\b\b\b\b\b\b\b\b\b\b\b\b\b\b\b\b\b\b\b\b\b\b\b\b\b\b\b\b\b\b\b\r6/6 [==============================] - 0s 25ms/step - loss: 152.8604 - classification_loss: 0.3288 - Regression_loss: 152.5316 - classification_accuracy: 0.8059 - Regression_mae: 6.2425\n",
            "Epoch 157/300\n",
            "4/6 [===================>..........] - ETA: 0s - loss: 160.8581 - classification_loss: 0.3233 - Regression_loss: 160.5348 - classification_accuracy: 0.8047 - Regression_mae: 6.6619"
          ]
        },
        {
          "output_type": "stream",
          "name": "stderr",
          "text": [
            "2024/03/09 05:28:29 WARNING mlflow.utils.checkpoint_utils: Checkpoint logging is skipped, because checkpoint 'save_best_only' config is True, it requires to compare the monitored metric value, but the provided monitored metric value is not available.\n"
          ]
        },
        {
          "output_type": "stream",
          "name": "stdout",
          "text": [
            "\b\b\b\b\b\b\b\b\b\b\b\b\b\b\b\b\b\b\b\b\b\b\b\b\b\b\b\b\b\b\b\b\b\b\b\b\b\b\b\b\b\b\b\b\b\b\b\b\b\b\b\b\b\b\b\b\b\b\b\b\b\b\b\b\b\b\b\b\b\b\b\b\b\b\b\b\b\b\b\b\b\b\b\b\b\b\b\b\b\b\b\b\b\b\b\b\b\b\b\b\b\b\b\b\b\b\b\b\b\b\b\b\b\b\b\b\b\b\b\b\b\b\b\b\b\b\b\b\b\b\b\b\b\b\b\b\b\b\b\b\b\b\b\b\b\b\b\b\b\b\b\b\b\b\b\b\b\b\b\b\b\b\b\b\b\b\b\b\b\b\b\b\b\b\b\b\b\b\b\b\r6/6 [==============================] - 0s 25ms/step - loss: 150.7936 - classification_loss: 0.2991 - Regression_loss: 150.4945 - classification_accuracy: 0.8176 - Regression_mae: 6.2805\n",
            "Epoch 158/300\n",
            "4/6 [===================>..........] - ETA: 0s - loss: 155.2656 - classification_loss: 0.2952 - Regression_loss: 154.9704 - classification_accuracy: 0.8438 - Regression_mae: 6.6541"
          ]
        },
        {
          "output_type": "stream",
          "name": "stderr",
          "text": [
            "2024/03/09 05:28:29 WARNING mlflow.utils.checkpoint_utils: Checkpoint logging is skipped, because checkpoint 'save_best_only' config is True, it requires to compare the monitored metric value, but the provided monitored metric value is not available.\n"
          ]
        },
        {
          "output_type": "stream",
          "name": "stdout",
          "text": [
            "\b\b\b\b\b\b\b\b\b\b\b\b\b\b\b\b\b\b\b\b\b\b\b\b\b\b\b\b\b\b\b\b\b\b\b\b\b\b\b\b\b\b\b\b\b\b\b\b\b\b\b\b\b\b\b\b\b\b\b\b\b\b\b\b\b\b\b\b\b\b\b\b\b\b\b\b\b\b\b\b\b\b\b\b\b\b\b\b\b\b\b\b\b\b\b\b\b\b\b\b\b\b\b\b\b\b\b\b\b\b\b\b\b\b\b\b\b\b\b\b\b\b\b\b\b\b\b\b\b\b\b\b\b\b\b\b\b\b\b\b\b\b\b\b\b\b\b\b\b\b\b\b\b\b\b\b\b\b\b\b\b\b\b\b\b\b\b\b\b\b\b\b\b\b\b\b\b\b\b\b\r6/6 [==============================] - 0s 24ms/step - loss: 153.5685 - classification_loss: 0.3051 - Regression_loss: 153.2634 - classification_accuracy: 0.8412 - Regression_mae: 6.5303\n",
            "Epoch 159/300\n",
            "4/6 [===================>..........] - ETA: 0s - loss: 168.3080 - classification_loss: 0.2640 - Regression_loss: 168.0439 - classification_accuracy: 0.8516 - Regression_mae: 6.9333"
          ]
        },
        {
          "output_type": "stream",
          "name": "stderr",
          "text": [
            "2024/03/09 05:28:29 WARNING mlflow.utils.checkpoint_utils: Checkpoint logging is skipped, because checkpoint 'save_best_only' config is True, it requires to compare the monitored metric value, but the provided monitored metric value is not available.\n"
          ]
        },
        {
          "output_type": "stream",
          "name": "stdout",
          "text": [
            "\b\b\b\b\b\b\b\b\b\b\b\b\b\b\b\b\b\b\b\b\b\b\b\b\b\b\b\b\b\b\b\b\b\b\b\b\b\b\b\b\b\b\b\b\b\b\b\b\b\b\b\b\b\b\b\b\b\b\b\b\b\b\b\b\b\b\b\b\b\b\b\b\b\b\b\b\b\b\b\b\b\b\b\b\b\b\b\b\b\b\b\b\b\b\b\b\b\b\b\b\b\b\b\b\b\b\b\b\b\b\b\b\b\b\b\b\b\b\b\b\b\b\b\b\b\b\b\b\b\b\b\b\b\b\b\b\b\b\b\b\b\b\b\b\b\b\b\b\b\b\b\b\b\b\b\b\b\b\b\b\b\b\b\b\b\b\b\b\b\b\b\b\b\b\b\b\b\b\b\b\r6/6 [==============================] - 0s 24ms/step - loss: 153.3707 - classification_loss: 0.2832 - Regression_loss: 153.0875 - classification_accuracy: 0.8353 - Regression_mae: 6.7082\n",
            "Epoch 160/300\n",
            "6/6 [==============================] - ETA: 0s - loss: 152.4912 - classification_loss: 0.2934 - Regression_loss: 152.1979 - classification_accuracy: 0.8176 - Regression_mae: 6.8675"
          ]
        },
        {
          "output_type": "stream",
          "name": "stderr",
          "text": [
            "2024/03/09 05:28:29 WARNING mlflow.utils.checkpoint_utils: Checkpoint logging is skipped, because checkpoint 'save_best_only' config is True, it requires to compare the monitored metric value, but the provided monitored metric value is not available.\n"
          ]
        },
        {
          "output_type": "stream",
          "name": "stdout",
          "text": [
            "\b\b\b\b\b\b\b\b\b\b\b\b\b\b\b\b\b\b\b\b\b\b\b\b\b\b\b\b\b\b\b\b\b\b\b\b\b\b\b\b\b\b\b\b\b\b\b\b\b\b\b\b\b\b\b\b\b\b\b\b\b\b\b\b\b\b\b\b\b\b\b\b\b\b\b\b\b\b\b\b\b\b\b\b\b\b\b\b\b\b\b\b\b\b\b\b\b\b\b\b\b\b\b\b\b\b\b\b\b\b\b\b\b\b\b\b\b\b\b\b\b\b\b\b\b\b\b\b\b\b\b\b\b\b\b\b\b\b\b\b\b\b\b\b\b\b\b\b\b\b\b\b\b\b\b\b\b\b\b\b\b\b\b\b\b\b\b\b\b\b\b\b\b\b\b\b\b\b\b\b\r6/6 [==============================] - 0s 27ms/step - loss: 152.4912 - classification_loss: 0.2934 - Regression_loss: 152.1979 - classification_accuracy: 0.8176 - Regression_mae: 6.8675\n",
            "Epoch 161/300\n",
            "4/6 [===================>..........] - ETA: 0s - loss: 149.8860 - classification_loss: 0.2852 - Regression_loss: 149.6008 - classification_accuracy: 0.8359 - Regression_mae: 7.2549"
          ]
        },
        {
          "output_type": "stream",
          "name": "stderr",
          "text": [
            "2024/03/09 05:28:29 WARNING mlflow.utils.checkpoint_utils: Checkpoint logging is skipped, because checkpoint 'save_best_only' config is True, it requires to compare the monitored metric value, but the provided monitored metric value is not available.\n"
          ]
        },
        {
          "output_type": "stream",
          "name": "stdout",
          "text": [
            "\b\b\b\b\b\b\b\b\b\b\b\b\b\b\b\b\b\b\b\b\b\b\b\b\b\b\b\b\b\b\b\b\b\b\b\b\b\b\b\b\b\b\b\b\b\b\b\b\b\b\b\b\b\b\b\b\b\b\b\b\b\b\b\b\b\b\b\b\b\b\b\b\b\b\b\b\b\b\b\b\b\b\b\b\b\b\b\b\b\b\b\b\b\b\b\b\b\b\b\b\b\b\b\b\b\b\b\b\b\b\b\b\b\b\b\b\b\b\b\b\b\b\b\b\b\b\b\b\b\b\b\b\b\b\b\b\b\b\b\b\b\b\b\b\b\b\b\b\b\b\b\b\b\b\b\b\b\b\b\b\b\b\b\b\b\b\b\b\b\b\b\b\b\b\b\b\b\b\b\b\r6/6 [==============================] - 0s 24ms/step - loss: 156.4469 - classification_loss: 0.2980 - Regression_loss: 156.1488 - classification_accuracy: 0.8353 - Regression_mae: 7.0999\n",
            "Epoch 162/300\n",
            "4/6 [===================>..........] - ETA: 0s - loss: 152.9464 - classification_loss: 0.2900 - Regression_loss: 152.6565 - classification_accuracy: 0.8125 - Regression_mae: 6.3905"
          ]
        },
        {
          "output_type": "stream",
          "name": "stderr",
          "text": [
            "2024/03/09 05:28:29 WARNING mlflow.utils.checkpoint_utils: Checkpoint logging is skipped, because checkpoint 'save_best_only' config is True, it requires to compare the monitored metric value, but the provided monitored metric value is not available.\n"
          ]
        },
        {
          "output_type": "stream",
          "name": "stdout",
          "text": [
            "\b\b\b\b\b\b\b\b\b\b\b\b\b\b\b\b\b\b\b\b\b\b\b\b\b\b\b\b\b\b\b\b\b\b\b\b\b\b\b\b\b\b\b\b\b\b\b\b\b\b\b\b\b\b\b\b\b\b\b\b\b\b\b\b\b\b\b\b\b\b\b\b\b\b\b\b\b\b\b\b\b\b\b\b\b\b\b\b\b\b\b\b\b\b\b\b\b\b\b\b\b\b\b\b\b\b\b\b\b\b\b\b\b\b\b\b\b\b\b\b\b\b\b\b\b\b\b\b\b\b\b\b\b\b\b\b\b\b\b\b\b\b\b\b\b\b\b\b\b\b\b\b\b\b\b\b\b\b\b\b\b\b\b\b\b\b\b\b\b\b\b\b\b\b\b\b\b\b\b\b\r6/6 [==============================] - 0s 19ms/step - loss: 154.2049 - classification_loss: 0.3019 - Regression_loss: 153.9030 - classification_accuracy: 0.8118 - Regression_mae: 6.5097\n",
            "Epoch 163/300\n",
            "4/6 [===================>..........] - ETA: 0s - loss: 124.1325 - classification_loss: 0.2381 - Regression_loss: 123.8945 - classification_accuracy: 0.8906 - Regression_mae: 5.5407"
          ]
        },
        {
          "output_type": "stream",
          "name": "stderr",
          "text": [
            "2024/03/09 05:28:30 WARNING mlflow.utils.checkpoint_utils: Checkpoint logging is skipped, because checkpoint 'save_best_only' config is True, it requires to compare the monitored metric value, but the provided monitored metric value is not available.\n"
          ]
        },
        {
          "output_type": "stream",
          "name": "stdout",
          "text": [
            "\b\b\b\b\b\b\b\b\b\b\b\b\b\b\b\b\b\b\b\b\b\b\b\b\b\b\b\b\b\b\b\b\b\b\b\b\b\b\b\b\b\b\b\b\b\b\b\b\b\b\b\b\b\b\b\b\b\b\b\b\b\b\b\b\b\b\b\b\b\b\b\b\b\b\b\b\b\b\b\b\b\b\b\b\b\b\b\b\b\b\b\b\b\b\b\b\b\b\b\b\b\b\b\b\b\b\b\b\b\b\b\b\b\b\b\b\b\b\b\b\b\b\b\b\b\b\b\b\b\b\b\b\b\b\b\b\b\b\b\b\b\b\b\b\b\b\b\b\b\b\b\b\b\b\b\b\b\b\b\b\b\b\b\b\b\b\b\b\b\b\b\b\b\b\b\b\b\b\b\b\r6/6 [==============================] - 0s 19ms/step - loss: 155.8769 - classification_loss: 0.2870 - Regression_loss: 155.5899 - classification_accuracy: 0.8471 - Regression_mae: 6.5323\n",
            "Epoch 164/300\n",
            "5/6 [========================>.....] - ETA: 0s - loss: 148.1427 - classification_loss: 0.3184 - Regression_loss: 147.8243 - classification_accuracy: 0.8500 - Regression_mae: 5.9658"
          ]
        },
        {
          "output_type": "stream",
          "name": "stderr",
          "text": [
            "2024/03/09 05:28:30 WARNING mlflow.utils.checkpoint_utils: Checkpoint logging is skipped, because checkpoint 'save_best_only' config is True, it requires to compare the monitored metric value, but the provided monitored metric value is not available.\n"
          ]
        },
        {
          "output_type": "stream",
          "name": "stdout",
          "text": [
            "\b\b\b\b\b\b\b\b\b\b\b\b\b\b\b\b\b\b\b\b\b\b\b\b\b\b\b\b\b\b\b\b\b\b\b\b\b\b\b\b\b\b\b\b\b\b\b\b\b\b\b\b\b\b\b\b\b\b\b\b\b\b\b\b\b\b\b\b\b\b\b\b\b\b\b\b\b\b\b\b\b\b\b\b\b\b\b\b\b\b\b\b\b\b\b\b\b\b\b\b\b\b\b\b\b\b\b\b\b\b\b\b\b\b\b\b\b\b\b\b\b\b\b\b\b\b\b\b\b\b\b\b\b\b\b\b\b\b\b\b\b\b\b\b\b\b\b\b\b\b\b\b\b\b\b\b\b\b\b\b\b\b\b\b\b\b\b\b\b\b\b\b\b\b\b\b\b\b\b\b\r6/6 [==============================] - 0s 18ms/step - loss: 151.1900 - classification_loss: 0.3346 - Regression_loss: 150.8554 - classification_accuracy: 0.8471 - Regression_mae: 6.1019\n",
            "Epoch 165/300\n",
            "5/6 [========================>.....] - ETA: 0s - loss: 157.0281 - classification_loss: 0.2923 - Regression_loss: 156.7357 - classification_accuracy: 0.8438 - Regression_mae: 6.2379"
          ]
        },
        {
          "output_type": "stream",
          "name": "stderr",
          "text": [
            "2024/03/09 05:28:30 WARNING mlflow.utils.checkpoint_utils: Checkpoint logging is skipped, because checkpoint 'save_best_only' config is True, it requires to compare the monitored metric value, but the provided monitored metric value is not available.\n"
          ]
        },
        {
          "output_type": "stream",
          "name": "stdout",
          "text": [
            "\b\b\b\b\b\b\b\b\b\b\b\b\b\b\b\b\b\b\b\b\b\b\b\b\b\b\b\b\b\b\b\b\b\b\b\b\b\b\b\b\b\b\b\b\b\b\b\b\b\b\b\b\b\b\b\b\b\b\b\b\b\b\b\b\b\b\b\b\b\b\b\b\b\b\b\b\b\b\b\b\b\b\b\b\b\b\b\b\b\b\b\b\b\b\b\b\b\b\b\b\b\b\b\b\b\b\b\b\b\b\b\b\b\b\b\b\b\b\b\b\b\b\b\b\b\b\b\b\b\b\b\b\b\b\b\b\b\b\b\b\b\b\b\b\b\b\b\b\b\b\b\b\b\b\b\b\b\b\b\b\b\b\b\b\b\b\b\b\b\b\b\b\b\b\b\b\b\b\b\b\r6/6 [==============================] - 0s 20ms/step - loss: 152.5113 - classification_loss: 0.2938 - Regression_loss: 152.2175 - classification_accuracy: 0.8412 - Regression_mae: 6.1519\n",
            "Epoch 166/300\n",
            "5/6 [========================>.....] - ETA: 0s - loss: 151.8171 - classification_loss: 0.3073 - Regression_loss: 151.5098 - classification_accuracy: 0.8375 - Regression_mae: 6.1623"
          ]
        },
        {
          "output_type": "stream",
          "name": "stderr",
          "text": [
            "2024/03/09 05:28:30 WARNING mlflow.utils.checkpoint_utils: Checkpoint logging is skipped, because checkpoint 'save_best_only' config is True, it requires to compare the monitored metric value, but the provided monitored metric value is not available.\n"
          ]
        },
        {
          "output_type": "stream",
          "name": "stdout",
          "text": [
            "\b\b\b\b\b\b\b\b\b\b\b\b\b\b\b\b\b\b\b\b\b\b\b\b\b\b\b\b\b\b\b\b\b\b\b\b\b\b\b\b\b\b\b\b\b\b\b\b\b\b\b\b\b\b\b\b\b\b\b\b\b\b\b\b\b\b\b\b\b\b\b\b\b\b\b\b\b\b\b\b\b\b\b\b\b\b\b\b\b\b\b\b\b\b\b\b\b\b\b\b\b\b\b\b\b\b\b\b\b\b\b\b\b\b\b\b\b\b\b\b\b\b\b\b\b\b\b\b\b\b\b\b\b\b\b\b\b\b\b\b\b\b\b\b\b\b\b\b\b\b\b\b\b\b\b\b\b\b\b\b\b\b\b\b\b\b\b\b\b\b\b\b\b\b\b\b\b\b\b\b\r6/6 [==============================] - 0s 17ms/step - loss: 150.2374 - classification_loss: 0.3067 - Regression_loss: 149.9307 - classification_accuracy: 0.8353 - Regression_mae: 6.1645\n",
            "Epoch 167/300\n",
            "5/6 [========================>.....] - ETA: 0s - loss: 141.2180 - classification_loss: 0.2928 - Regression_loss: 140.9252 - classification_accuracy: 0.8438 - Regression_mae: 5.8310"
          ]
        },
        {
          "output_type": "stream",
          "name": "stderr",
          "text": [
            "2024/03/09 05:28:30 WARNING mlflow.utils.checkpoint_utils: Checkpoint logging is skipped, because checkpoint 'save_best_only' config is True, it requires to compare the monitored metric value, but the provided monitored metric value is not available.\n"
          ]
        },
        {
          "output_type": "stream",
          "name": "stdout",
          "text": [
            "\b\b\b\b\b\b\b\b\b\b\b\b\b\b\b\b\b\b\b\b\b\b\b\b\b\b\b\b\b\b\b\b\b\b\b\b\b\b\b\b\b\b\b\b\b\b\b\b\b\b\b\b\b\b\b\b\b\b\b\b\b\b\b\b\b\b\b\b\b\b\b\b\b\b\b\b\b\b\b\b\b\b\b\b\b\b\b\b\b\b\b\b\b\b\b\b\b\b\b\b\b\b\b\b\b\b\b\b\b\b\b\b\b\b\b\b\b\b\b\b\b\b\b\b\b\b\b\b\b\b\b\b\b\b\b\b\b\b\b\b\b\b\b\b\b\b\b\b\b\b\b\b\b\b\b\b\b\b\b\b\b\b\b\b\b\b\b\b\b\b\b\b\b\b\b\b\b\b\b\b\r6/6 [==============================] - 0s 17ms/step - loss: 150.7086 - classification_loss: 0.3022 - Regression_loss: 150.4064 - classification_accuracy: 0.8412 - Regression_mae: 6.1530\n",
            "Epoch 168/300\n",
            "4/6 [===================>..........] - ETA: 0s - loss: 148.5158 - classification_loss: 0.2672 - Regression_loss: 148.2486 - classification_accuracy: 0.8594 - Regression_mae: 6.0989"
          ]
        },
        {
          "output_type": "stream",
          "name": "stderr",
          "text": [
            "2024/03/09 05:28:30 WARNING mlflow.utils.checkpoint_utils: Checkpoint logging is skipped, because checkpoint 'save_best_only' config is True, it requires to compare the monitored metric value, but the provided monitored metric value is not available.\n"
          ]
        },
        {
          "output_type": "stream",
          "name": "stdout",
          "text": [
            "\b\b\b\b\b\b\b\b\b\b\b\b\b\b\b\b\b\b\b\b\b\b\b\b\b\b\b\b\b\b\b\b\b\b\b\b\b\b\b\b\b\b\b\b\b\b\b\b\b\b\b\b\b\b\b\b\b\b\b\b\b\b\b\b\b\b\b\b\b\b\b\b\b\b\b\b\b\b\b\b\b\b\b\b\b\b\b\b\b\b\b\b\b\b\b\b\b\b\b\b\b\b\b\b\b\b\b\b\b\b\b\b\b\b\b\b\b\b\b\b\b\b\b\b\b\b\b\b\b\b\b\b\b\b\b\b\b\b\b\b\b\b\b\b\b\b\b\b\b\b\b\b\b\b\b\b\b\b\b\b\b\b\b\b\b\b\b\b\b\b\b\b\b\b\b\b\b\b\b\b\r6/6 [==============================] - 0s 20ms/step - loss: 155.4165 - classification_loss: 0.3019 - Regression_loss: 155.1145 - classification_accuracy: 0.8235 - Regression_mae: 6.5268\n",
            "Epoch 169/300\n",
            "4/6 [===================>..........] - ETA: 0s - loss: 155.1947 - classification_loss: 0.2902 - Regression_loss: 154.9045 - classification_accuracy: 0.8281 - Regression_mae: 6.5383"
          ]
        },
        {
          "output_type": "stream",
          "name": "stderr",
          "text": [
            "2024/03/09 05:28:30 WARNING mlflow.utils.checkpoint_utils: Checkpoint logging is skipped, because checkpoint 'save_best_only' config is True, it requires to compare the monitored metric value, but the provided monitored metric value is not available.\n"
          ]
        },
        {
          "output_type": "stream",
          "name": "stdout",
          "text": [
            "\b\b\b\b\b\b\b\b\b\b\b\b\b\b\b\b\b\b\b\b\b\b\b\b\b\b\b\b\b\b\b\b\b\b\b\b\b\b\b\b\b\b\b\b\b\b\b\b\b\b\b\b\b\b\b\b\b\b\b\b\b\b\b\b\b\b\b\b\b\b\b\b\b\b\b\b\b\b\b\b\b\b\b\b\b\b\b\b\b\b\b\b\b\b\b\b\b\b\b\b\b\b\b\b\b\b\b\b\b\b\b\b\b\b\b\b\b\b\b\b\b\b\b\b\b\b\b\b\b\b\b\b\b\b\b\b\b\b\b\b\b\b\b\b\b\b\b\b\b\b\b\b\b\b\b\b\b\b\b\b\b\b\b\b\b\b\b\b\b\b\b\b\b\b\b\b\b\b\b\b\r6/6 [==============================] - 0s 18ms/step - loss: 151.9196 - classification_loss: 0.3229 - Regression_loss: 151.5967 - classification_accuracy: 0.8235 - Regression_mae: 6.3873\n",
            "Epoch 170/300\n",
            "5/6 [========================>.....] - ETA: 0s - loss: 146.8238 - classification_loss: 0.2940 - Regression_loss: 146.5299 - classification_accuracy: 0.8438 - Regression_mae: 6.0564"
          ]
        },
        {
          "output_type": "stream",
          "name": "stderr",
          "text": [
            "2024/03/09 05:28:30 WARNING mlflow.utils.checkpoint_utils: Checkpoint logging is skipped, because checkpoint 'save_best_only' config is True, it requires to compare the monitored metric value, but the provided monitored metric value is not available.\n"
          ]
        },
        {
          "output_type": "stream",
          "name": "stdout",
          "text": [
            "\b\b\b\b\b\b\b\b\b\b\b\b\b\b\b\b\b\b\b\b\b\b\b\b\b\b\b\b\b\b\b\b\b\b\b\b\b\b\b\b\b\b\b\b\b\b\b\b\b\b\b\b\b\b\b\b\b\b\b\b\b\b\b\b\b\b\b\b\b\b\b\b\b\b\b\b\b\b\b\b\b\b\b\b\b\b\b\b\b\b\b\b\b\b\b\b\b\b\b\b\b\b\b\b\b\b\b\b\b\b\b\b\b\b\b\b\b\b\b\b\b\b\b\b\b\b\b\b\b\b\b\b\b\b\b\b\b\b\b\b\b\b\b\b\b\b\b\b\b\b\b\b\b\b\b\b\b\b\b\b\b\b\b\b\b\b\b\b\b\b\b\b\b\b\b\b\b\b\b\b\r6/6 [==============================] - 0s 18ms/step - loss: 150.0118 - classification_loss: 0.2947 - Regression_loss: 149.7171 - classification_accuracy: 0.8353 - Regression_mae: 6.1302\n",
            "Epoch 171/300\n",
            "5/6 [========================>.....] - ETA: 0s - loss: 145.1066 - classification_loss: 0.3094 - Regression_loss: 144.7971 - classification_accuracy: 0.8438 - Regression_mae: 5.9753"
          ]
        },
        {
          "output_type": "stream",
          "name": "stderr",
          "text": [
            "2024/03/09 05:28:31 WARNING mlflow.utils.checkpoint_utils: Checkpoint logging is skipped, because checkpoint 'save_best_only' config is True, it requires to compare the monitored metric value, but the provided monitored metric value is not available.\n"
          ]
        },
        {
          "output_type": "stream",
          "name": "stdout",
          "text": [
            "\b\b\b\b\b\b\b\b\b\b\b\b\b\b\b\b\b\b\b\b\b\b\b\b\b\b\b\b\b\b\b\b\b\b\b\b\b\b\b\b\b\b\b\b\b\b\b\b\b\b\b\b\b\b\b\b\b\b\b\b\b\b\b\b\b\b\b\b\b\b\b\b\b\b\b\b\b\b\b\b\b\b\b\b\b\b\b\b\b\b\b\b\b\b\b\b\b\b\b\b\b\b\b\b\b\b\b\b\b\b\b\b\b\b\b\b\b\b\b\b\b\b\b\b\b\b\b\b\b\b\b\b\b\b\b\b\b\b\b\b\b\b\b\b\b\b\b\b\b\b\b\b\b\b\b\b\b\b\b\b\b\b\b\b\b\b\b\b\b\b\b\b\b\b\b\b\b\b\b\b\r6/6 [==============================] - 0s 18ms/step - loss: 149.6836 - classification_loss: 0.3108 - Regression_loss: 149.3728 - classification_accuracy: 0.8412 - Regression_mae: 6.1135\n",
            "Epoch 172/300\n",
            "5/6 [========================>.....] - ETA: 0s - loss: 146.7634 - classification_loss: 0.2822 - Regression_loss: 146.4813 - classification_accuracy: 0.8375 - Regression_mae: 5.7710"
          ]
        },
        {
          "output_type": "stream",
          "name": "stderr",
          "text": [
            "2024/03/09 05:28:31 WARNING mlflow.utils.checkpoint_utils: Checkpoint logging is skipped, because checkpoint 'save_best_only' config is True, it requires to compare the monitored metric value, but the provided monitored metric value is not available.\n"
          ]
        },
        {
          "output_type": "stream",
          "name": "stdout",
          "text": [
            "\b\b\b\b\b\b\b\b\b\b\b\b\b\b\b\b\b\b\b\b\b\b\b\b\b\b\b\b\b\b\b\b\b\b\b\b\b\b\b\b\b\b\b\b\b\b\b\b\b\b\b\b\b\b\b\b\b\b\b\b\b\b\b\b\b\b\b\b\b\b\b\b\b\b\b\b\b\b\b\b\b\b\b\b\b\b\b\b\b\b\b\b\b\b\b\b\b\b\b\b\b\b\b\b\b\b\b\b\b\b\b\b\b\b\b\b\b\b\b\b\b\b\b\b\b\b\b\b\b\b\b\b\b\b\b\b\b\b\b\b\b\b\b\b\b\b\b\b\b\b\b\b\b\b\b\b\b\b\b\b\b\b\b\b\b\b\b\b\b\b\b\b\b\b\b\b\b\b\b\b\r6/6 [==============================] - 0s 18ms/step - loss: 149.4292 - classification_loss: 0.2858 - Regression_loss: 149.1434 - classification_accuracy: 0.8353 - Regression_mae: 5.9541\n",
            "Epoch 173/300\n",
            "5/6 [========================>.....] - ETA: 0s - loss: 154.7228 - classification_loss: 0.3001 - Regression_loss: 154.4227 - classification_accuracy: 0.8438 - Regression_mae: 6.6680"
          ]
        },
        {
          "output_type": "stream",
          "name": "stderr",
          "text": [
            "2024/03/09 05:28:31 WARNING mlflow.utils.checkpoint_utils: Checkpoint logging is skipped, because checkpoint 'save_best_only' config is True, it requires to compare the monitored metric value, but the provided monitored metric value is not available.\n"
          ]
        },
        {
          "output_type": "stream",
          "name": "stdout",
          "text": [
            "\b\b\b\b\b\b\b\b\b\b\b\b\b\b\b\b\b\b\b\b\b\b\b\b\b\b\b\b\b\b\b\b\b\b\b\b\b\b\b\b\b\b\b\b\b\b\b\b\b\b\b\b\b\b\b\b\b\b\b\b\b\b\b\b\b\b\b\b\b\b\b\b\b\b\b\b\b\b\b\b\b\b\b\b\b\b\b\b\b\b\b\b\b\b\b\b\b\b\b\b\b\b\b\b\b\b\b\b\b\b\b\b\b\b\b\b\b\b\b\b\b\b\b\b\b\b\b\b\b\b\b\b\b\b\b\b\b\b\b\b\b\b\b\b\b\b\b\b\b\b\b\b\b\b\b\b\b\b\b\b\b\b\b\b\b\b\b\b\b\b\b\b\b\b\b\b\b\b\b\b\r6/6 [==============================] - 0s 18ms/step - loss: 156.2197 - classification_loss: 0.3245 - Regression_loss: 155.8952 - classification_accuracy: 0.8353 - Regression_mae: 6.7605\n",
            "Epoch 174/300\n",
            "5/6 [========================>.....] - ETA: 0s - loss: 160.0630 - classification_loss: 0.3120 - Regression_loss: 159.7510 - classification_accuracy: 0.8438 - Regression_mae: 6.7616"
          ]
        },
        {
          "output_type": "stream",
          "name": "stderr",
          "text": [
            "2024/03/09 05:28:31 WARNING mlflow.utils.checkpoint_utils: Checkpoint logging is skipped, because checkpoint 'save_best_only' config is True, it requires to compare the monitored metric value, but the provided monitored metric value is not available.\n"
          ]
        },
        {
          "output_type": "stream",
          "name": "stdout",
          "text": [
            "\b\b\b\b\b\b\b\b\b\b\b\b\b\b\b\b\b\b\b\b\b\b\b\b\b\b\b\b\b\b\b\b\b\b\b\b\b\b\b\b\b\b\b\b\b\b\b\b\b\b\b\b\b\b\b\b\b\b\b\b\b\b\b\b\b\b\b\b\b\b\b\b\b\b\b\b\b\b\b\b\b\b\b\b\b\b\b\b\b\b\b\b\b\b\b\b\b\b\b\b\b\b\b\b\b\b\b\b\b\b\b\b\b\b\b\b\b\b\b\b\b\b\b\b\b\b\b\b\b\b\b\b\b\b\b\b\b\b\b\b\b\b\b\b\b\b\b\b\b\b\b\b\b\b\b\b\b\b\b\b\b\b\b\b\b\b\b\b\b\b\b\b\b\b\b\b\b\b\b\b\r6/6 [==============================] - 0s 18ms/step - loss: 152.8709 - classification_loss: 0.3151 - Regression_loss: 152.5558 - classification_accuracy: 0.8412 - Regression_mae: 6.5659\n",
            "Epoch 175/300\n",
            "5/6 [========================>.....] - ETA: 0s - loss: 150.6188 - classification_loss: 0.3152 - Regression_loss: 150.3036 - classification_accuracy: 0.8500 - Regression_mae: 6.1756"
          ]
        },
        {
          "output_type": "stream",
          "name": "stderr",
          "text": [
            "2024/03/09 05:28:31 WARNING mlflow.utils.checkpoint_utils: Checkpoint logging is skipped, because checkpoint 'save_best_only' config is True, it requires to compare the monitored metric value, but the provided monitored metric value is not available.\n"
          ]
        },
        {
          "output_type": "stream",
          "name": "stdout",
          "text": [
            "\b\b\b\b\b\b\b\b\b\b\b\b\b\b\b\b\b\b\b\b\b\b\b\b\b\b\b\b\b\b\b\b\b\b\b\b\b\b\b\b\b\b\b\b\b\b\b\b\b\b\b\b\b\b\b\b\b\b\b\b\b\b\b\b\b\b\b\b\b\b\b\b\b\b\b\b\b\b\b\b\b\b\b\b\b\b\b\b\b\b\b\b\b\b\b\b\b\b\b\b\b\b\b\b\b\b\b\b\b\b\b\b\b\b\b\b\b\b\b\b\b\b\b\b\b\b\b\b\b\b\b\b\b\b\b\b\b\b\b\b\b\b\b\b\b\b\b\b\b\b\b\b\b\b\b\b\b\b\b\b\b\b\b\b\b\b\b\b\b\b\b\b\b\b\b\b\b\b\b\b\r6/6 [==============================] - 0s 18ms/step - loss: 151.8592 - classification_loss: 0.3250 - Regression_loss: 151.5343 - classification_accuracy: 0.8412 - Regression_mae: 6.2611\n",
            "Epoch 176/300\n",
            "5/6 [========================>.....] - ETA: 0s - loss: 155.6802 - classification_loss: 0.3279 - Regression_loss: 155.3523 - classification_accuracy: 0.8313 - Regression_mae: 6.3772"
          ]
        },
        {
          "output_type": "stream",
          "name": "stderr",
          "text": [
            "2024/03/09 05:28:31 WARNING mlflow.utils.checkpoint_utils: Checkpoint logging is skipped, because checkpoint 'save_best_only' config is True, it requires to compare the monitored metric value, but the provided monitored metric value is not available.\n"
          ]
        },
        {
          "output_type": "stream",
          "name": "stdout",
          "text": [
            "\b\b\b\b\b\b\b\b\b\b\b\b\b\b\b\b\b\b\b\b\b\b\b\b\b\b\b\b\b\b\b\b\b\b\b\b\b\b\b\b\b\b\b\b\b\b\b\b\b\b\b\b\b\b\b\b\b\b\b\b\b\b\b\b\b\b\b\b\b\b\b\b\b\b\b\b\b\b\b\b\b\b\b\b\b\b\b\b\b\b\b\b\b\b\b\b\b\b\b\b\b\b\b\b\b\b\b\b\b\b\b\b\b\b\b\b\b\b\b\b\b\b\b\b\b\b\b\b\b\b\b\b\b\b\b\b\b\b\b\b\b\b\b\b\b\b\b\b\b\b\b\b\b\b\b\b\b\b\b\b\b\b\b\b\b\b\b\b\b\b\b\b\b\b\b\b\b\b\b\b\r6/6 [==============================] - 0s 20ms/step - loss: 153.7009 - classification_loss: 0.3188 - Regression_loss: 153.3821 - classification_accuracy: 0.8353 - Regression_mae: 6.3419\n",
            "Epoch 177/300\n",
            "5/6 [========================>.....] - ETA: 0s - loss: 158.7970 - classification_loss: 0.3600 - Regression_loss: 158.4369 - classification_accuracy: 0.8313 - Regression_mae: 6.3385"
          ]
        },
        {
          "output_type": "stream",
          "name": "stderr",
          "text": [
            "2024/03/09 05:28:31 WARNING mlflow.utils.checkpoint_utils: Checkpoint logging is skipped, because checkpoint 'save_best_only' config is True, it requires to compare the monitored metric value, but the provided monitored metric value is not available.\n"
          ]
        },
        {
          "output_type": "stream",
          "name": "stdout",
          "text": [
            "\b\b\b\b\b\b\b\b\b\b\b\b\b\b\b\b\b\b\b\b\b\b\b\b\b\b\b\b\b\b\b\b\b\b\b\b\b\b\b\b\b\b\b\b\b\b\b\b\b\b\b\b\b\b\b\b\b\b\b\b\b\b\b\b\b\b\b\b\b\b\b\b\b\b\b\b\b\b\b\b\b\b\b\b\b\b\b\b\b\b\b\b\b\b\b\b\b\b\b\b\b\b\b\b\b\b\b\b\b\b\b\b\b\b\b\b\b\b\b\b\b\b\b\b\b\b\b\b\b\b\b\b\b\b\b\b\b\b\b\b\b\b\b\b\b\b\b\b\b\b\b\b\b\b\b\b\b\b\b\b\b\b\b\b\b\b\b\b\b\b\b\b\b\b\b\b\b\b\b\b\r6/6 [==============================] - 0s 19ms/step - loss: 149.6056 - classification_loss: 0.3393 - Regression_loss: 149.2662 - classification_accuracy: 0.8412 - Regression_mae: 6.0374\n",
            "Epoch 178/300\n",
            "5/6 [========================>.....] - ETA: 0s - loss: 153.9059 - classification_loss: 0.2928 - Regression_loss: 153.6131 - classification_accuracy: 0.8375 - Regression_mae: 6.1259"
          ]
        },
        {
          "output_type": "stream",
          "name": "stderr",
          "text": [
            "2024/03/09 05:28:31 WARNING mlflow.utils.checkpoint_utils: Checkpoint logging is skipped, because checkpoint 'save_best_only' config is True, it requires to compare the monitored metric value, but the provided monitored metric value is not available.\n"
          ]
        },
        {
          "output_type": "stream",
          "name": "stdout",
          "text": [
            "\b\b\b\b\b\b\b\b\b\b\b\b\b\b\b\b\b\b\b\b\b\b\b\b\b\b\b\b\b\b\b\b\b\b\b\b\b\b\b\b\b\b\b\b\b\b\b\b\b\b\b\b\b\b\b\b\b\b\b\b\b\b\b\b\b\b\b\b\b\b\b\b\b\b\b\b\b\b\b\b\b\b\b\b\b\b\b\b\b\b\b\b\b\b\b\b\b\b\b\b\b\b\b\b\b\b\b\b\b\b\b\b\b\b\b\b\b\b\b\b\b\b\b\b\b\b\b\b\b\b\b\b\b\b\b\b\b\b\b\b\b\b\b\b\b\b\b\b\b\b\b\b\b\b\b\b\b\b\b\b\b\b\b\b\b\b\b\b\b\b\b\b\b\b\b\b\b\b\b\b\r6/6 [==============================] - 0s 19ms/step - loss: 148.6293 - classification_loss: 0.2836 - Regression_loss: 148.3458 - classification_accuracy: 0.8471 - Regression_mae: 5.9882\n",
            "Epoch 179/300\n",
            "4/6 [===================>..........] - ETA: 0s - loss: 134.3807 - classification_loss: 0.2903 - Regression_loss: 134.0905 - classification_accuracy: 0.8281 - Regression_mae: 6.0732"
          ]
        },
        {
          "output_type": "stream",
          "name": "stderr",
          "text": [
            "2024/03/09 05:28:32 WARNING mlflow.utils.checkpoint_utils: Checkpoint logging is skipped, because checkpoint 'save_best_only' config is True, it requires to compare the monitored metric value, but the provided monitored metric value is not available.\n"
          ]
        },
        {
          "output_type": "stream",
          "name": "stdout",
          "text": [
            "\b\b\b\b\b\b\b\b\b\b\b\b\b\b\b\b\b\b\b\b\b\b\b\b\b\b\b\b\b\b\b\b\b\b\b\b\b\b\b\b\b\b\b\b\b\b\b\b\b\b\b\b\b\b\b\b\b\b\b\b\b\b\b\b\b\b\b\b\b\b\b\b\b\b\b\b\b\b\b\b\b\b\b\b\b\b\b\b\b\b\b\b\b\b\b\b\b\b\b\b\b\b\b\b\b\b\b\b\b\b\b\b\b\b\b\b\b\b\b\b\b\b\b\b\b\b\b\b\b\b\b\b\b\b\b\b\b\b\b\b\b\b\b\b\b\b\b\b\b\b\b\b\b\b\b\b\b\b\b\b\b\b\b\b\b\b\b\b\b\b\b\b\b\b\b\b\b\b\b\b\r6/6 [==============================] - 0s 18ms/step - loss: 151.1997 - classification_loss: 0.3039 - Regression_loss: 150.8958 - classification_accuracy: 0.8412 - Regression_mae: 6.3799\n",
            "Epoch 180/300\n",
            "5/6 [========================>.....] - ETA: 0s - loss: 167.0286 - classification_loss: 0.2868 - Regression_loss: 166.7418 - classification_accuracy: 0.8500 - Regression_mae: 7.7914"
          ]
        },
        {
          "output_type": "stream",
          "name": "stderr",
          "text": [
            "2024/03/09 05:28:32 WARNING mlflow.utils.checkpoint_utils: Checkpoint logging is skipped, because checkpoint 'save_best_only' config is True, it requires to compare the monitored metric value, but the provided monitored metric value is not available.\n"
          ]
        },
        {
          "output_type": "stream",
          "name": "stdout",
          "text": [
            "\b\b\b\b\b\b\b\b\b\b\b\b\b\b\b\b\b\b\b\b\b\b\b\b\b\b\b\b\b\b\b\b\b\b\b\b\b\b\b\b\b\b\b\b\b\b\b\b\b\b\b\b\b\b\b\b\b\b\b\b\b\b\b\b\b\b\b\b\b\b\b\b\b\b\b\b\b\b\b\b\b\b\b\b\b\b\b\b\b\b\b\b\b\b\b\b\b\b\b\b\b\b\b\b\b\b\b\b\b\b\b\b\b\b\b\b\b\b\b\b\b\b\b\b\b\b\b\b\b\b\b\b\b\b\b\b\b\b\b\b\b\b\b\b\b\b\b\b\b\b\b\b\b\b\b\b\b\b\b\b\b\b\b\b\b\b\b\b\b\b\b\b\b\b\b\b\b\b\b\b\r6/6 [==============================] - 0s 17ms/step - loss: 162.9099 - classification_loss: 0.2830 - Regression_loss: 162.6269 - classification_accuracy: 0.8529 - Regression_mae: 7.6703\n",
            "Epoch 181/300\n",
            "5/6 [========================>.....] - ETA: 0s - loss: 156.4021 - classification_loss: 0.3062 - Regression_loss: 156.0959 - classification_accuracy: 0.8438 - Regression_mae: 6.9048"
          ]
        },
        {
          "output_type": "stream",
          "name": "stderr",
          "text": [
            "2024/03/09 05:28:32 WARNING mlflow.utils.checkpoint_utils: Checkpoint logging is skipped, because checkpoint 'save_best_only' config is True, it requires to compare the monitored metric value, but the provided monitored metric value is not available.\n"
          ]
        },
        {
          "output_type": "stream",
          "name": "stdout",
          "text": [
            "\b\b\b\b\b\b\b\b\b\b\b\b\b\b\b\b\b\b\b\b\b\b\b\b\b\b\b\b\b\b\b\b\b\b\b\b\b\b\b\b\b\b\b\b\b\b\b\b\b\b\b\b\b\b\b\b\b\b\b\b\b\b\b\b\b\b\b\b\b\b\b\b\b\b\b\b\b\b\b\b\b\b\b\b\b\b\b\b\b\b\b\b\b\b\b\b\b\b\b\b\b\b\b\b\b\b\b\b\b\b\b\b\b\b\b\b\b\b\b\b\b\b\b\b\b\b\b\b\b\b\b\b\b\b\b\b\b\b\b\b\b\b\b\b\b\b\b\b\b\b\b\b\b\b\b\b\b\b\b\b\b\b\b\b\b\b\b\b\b\b\b\b\b\b\b\b\b\b\b\b\r6/6 [==============================] - 0s 18ms/step - loss: 159.1356 - classification_loss: 0.3151 - Regression_loss: 158.8205 - classification_accuracy: 0.8353 - Regression_mae: 6.9767\n",
            "Epoch 182/300\n",
            "4/6 [===================>..........] - ETA: 0s - loss: 144.8992 - classification_loss: 0.2810 - Regression_loss: 144.6182 - classification_accuracy: 0.8516 - Regression_mae: 5.9028"
          ]
        },
        {
          "output_type": "stream",
          "name": "stderr",
          "text": [
            "2024/03/09 05:28:32 WARNING mlflow.utils.checkpoint_utils: Checkpoint logging is skipped, because checkpoint 'save_best_only' config is True, it requires to compare the monitored metric value, but the provided monitored metric value is not available.\n"
          ]
        },
        {
          "output_type": "stream",
          "name": "stdout",
          "text": [
            "\b\b\b\b\b\b\b\b\b\b\b\b\b\b\b\b\b\b\b\b\b\b\b\b\b\b\b\b\b\b\b\b\b\b\b\b\b\b\b\b\b\b\b\b\b\b\b\b\b\b\b\b\b\b\b\b\b\b\b\b\b\b\b\b\b\b\b\b\b\b\b\b\b\b\b\b\b\b\b\b\b\b\b\b\b\b\b\b\b\b\b\b\b\b\b\b\b\b\b\b\b\b\b\b\b\b\b\b\b\b\b\b\b\b\b\b\b\b\b\b\b\b\b\b\b\b\b\b\b\b\b\b\b\b\b\b\b\b\b\b\b\b\b\b\b\b\b\b\b\b\b\b\b\b\b\b\b\b\b\b\b\b\b\b\b\b\b\b\b\b\b\b\b\b\b\b\b\b\b\b\r6/6 [==============================] - 0s 19ms/step - loss: 150.1137 - classification_loss: 0.2827 - Regression_loss: 149.8310 - classification_accuracy: 0.8294 - Regression_mae: 6.1138\n",
            "Epoch 183/300\n",
            "4/6 [===================>..........] - ETA: 0s - loss: 140.5508 - classification_loss: 0.2473 - Regression_loss: 140.3035 - classification_accuracy: 0.8672 - Regression_mae: 5.7789"
          ]
        },
        {
          "output_type": "stream",
          "name": "stderr",
          "text": [
            "2024/03/09 05:28:32 WARNING mlflow.utils.checkpoint_utils: Checkpoint logging is skipped, because checkpoint 'save_best_only' config is True, it requires to compare the monitored metric value, but the provided monitored metric value is not available.\n"
          ]
        },
        {
          "output_type": "stream",
          "name": "stdout",
          "text": [
            "\b\b\b\b\b\b\b\b\b\b\b\b\b\b\b\b\b\b\b\b\b\b\b\b\b\b\b\b\b\b\b\b\b\b\b\b\b\b\b\b\b\b\b\b\b\b\b\b\b\b\b\b\b\b\b\b\b\b\b\b\b\b\b\b\b\b\b\b\b\b\b\b\b\b\b\b\b\b\b\b\b\b\b\b\b\b\b\b\b\b\b\b\b\b\b\b\b\b\b\b\b\b\b\b\b\b\b\b\b\b\b\b\b\b\b\b\b\b\b\b\b\b\b\b\b\b\b\b\b\b\b\b\b\b\b\b\b\b\b\b\b\b\b\b\b\b\b\b\b\b\b\b\b\b\b\b\b\b\b\b\b\b\b\b\b\b\b\b\b\b\b\b\b\b\b\b\b\b\b\b\r6/6 [==============================] - 0s 20ms/step - loss: 152.9810 - classification_loss: 0.3031 - Regression_loss: 152.6779 - classification_accuracy: 0.8294 - Regression_mae: 6.4638\n",
            "Epoch 184/300\n",
            "5/6 [========================>.....] - ETA: 0s - loss: 151.3666 - classification_loss: 0.3256 - Regression_loss: 151.0411 - classification_accuracy: 0.8438 - Regression_mae: 6.8230"
          ]
        },
        {
          "output_type": "stream",
          "name": "stderr",
          "text": [
            "2024/03/09 05:28:32 WARNING mlflow.utils.checkpoint_utils: Checkpoint logging is skipped, because checkpoint 'save_best_only' config is True, it requires to compare the monitored metric value, but the provided monitored metric value is not available.\n"
          ]
        },
        {
          "output_type": "stream",
          "name": "stdout",
          "text": [
            "\b\b\b\b\b\b\b\b\b\b\b\b\b\b\b\b\b\b\b\b\b\b\b\b\b\b\b\b\b\b\b\b\b\b\b\b\b\b\b\b\b\b\b\b\b\b\b\b\b\b\b\b\b\b\b\b\b\b\b\b\b\b\b\b\b\b\b\b\b\b\b\b\b\b\b\b\b\b\b\b\b\b\b\b\b\b\b\b\b\b\b\b\b\b\b\b\b\b\b\b\b\b\b\b\b\b\b\b\b\b\b\b\b\b\b\b\b\b\b\b\b\b\b\b\b\b\b\b\b\b\b\b\b\b\b\b\b\b\b\b\b\b\b\b\b\b\b\b\b\b\b\b\b\b\b\b\b\b\b\b\b\b\b\b\b\b\b\b\b\b\b\b\b\b\b\b\b\b\b\b\r6/6 [==============================] - 0s 19ms/step - loss: 154.5288 - classification_loss: 0.3172 - Regression_loss: 154.2116 - classification_accuracy: 0.8471 - Regression_mae: 6.7603\n",
            "Epoch 185/300\n",
            "4/6 [===================>..........] - ETA: 0s - loss: 153.0239 - classification_loss: 0.3439 - Regression_loss: 152.6799 - classification_accuracy: 0.8281 - Regression_mae: 6.4161"
          ]
        },
        {
          "output_type": "stream",
          "name": "stderr",
          "text": [
            "2024/03/09 05:28:32 WARNING mlflow.utils.checkpoint_utils: Checkpoint logging is skipped, because checkpoint 'save_best_only' config is True, it requires to compare the monitored metric value, but the provided monitored metric value is not available.\n"
          ]
        },
        {
          "output_type": "stream",
          "name": "stdout",
          "text": [
            "\b\b\b\b\b\b\b\b\b\b\b\b\b\b\b\b\b\b\b\b\b\b\b\b\b\b\b\b\b\b\b\b\b\b\b\b\b\b\b\b\b\b\b\b\b\b\b\b\b\b\b\b\b\b\b\b\b\b\b\b\b\b\b\b\b\b\b\b\b\b\b\b\b\b\b\b\b\b\b\b\b\b\b\b\b\b\b\b\b\b\b\b\b\b\b\b\b\b\b\b\b\b\b\b\b\b\b\b\b\b\b\b\b\b\b\b\b\b\b\b\b\b\b\b\b\b\b\b\b\b\b\b\b\b\b\b\b\b\b\b\b\b\b\b\b\b\b\b\b\b\b\b\b\b\b\b\b\b\b\b\b\b\b\b\b\b\b\b\b\b\b\b\b\b\b\b\b\b\b\b\r6/6 [==============================] - 0s 22ms/step - loss: 148.9837 - classification_loss: 0.3173 - Regression_loss: 148.6664 - classification_accuracy: 0.8353 - Regression_mae: 6.2021\n",
            "Epoch 186/300\n",
            "4/6 [===================>..........] - ETA: 0s - loss: 168.1694 - classification_loss: 0.3630 - Regression_loss: 167.8065 - classification_accuracy: 0.8047 - Regression_mae: 7.1168"
          ]
        },
        {
          "output_type": "stream",
          "name": "stderr",
          "text": [
            "2024/03/09 05:28:32 WARNING mlflow.utils.checkpoint_utils: Checkpoint logging is skipped, because checkpoint 'save_best_only' config is True, it requires to compare the monitored metric value, but the provided monitored metric value is not available.\n"
          ]
        },
        {
          "output_type": "stream",
          "name": "stdout",
          "text": [
            "\b\b\b\b\b\b\b\b\b\b\b\b\b\b\b\b\b\b\b\b\b\b\b\b\b\b\b\b\b\b\b\b\b\b\b\b\b\b\b\b\b\b\b\b\b\b\b\b\b\b\b\b\b\b\b\b\b\b\b\b\b\b\b\b\b\b\b\b\b\b\b\b\b\b\b\b\b\b\b\b\b\b\b\b\b\b\b\b\b\b\b\b\b\b\b\b\b\b\b\b\b\b\b\b\b\b\b\b\b\b\b\b\b\b\b\b\b\b\b\b\b\b\b\b\b\b\b\b\b\b\b\b\b\b\b\b\b\b\b\b\b\b\b\b\b\b\b\b\b\b\b\b\b\b\b\b\b\b\b\b\b\b\b\b\b\b\b\b\b\b\b\b\b\b\b\b\b\b\b\b\r6/6 [==============================] - 0s 19ms/step - loss: 151.4418 - classification_loss: 0.3212 - Regression_loss: 151.1206 - classification_accuracy: 0.8294 - Regression_mae: 6.4470\n",
            "Epoch 187/300\n",
            "4/6 [===================>..........] - ETA: 0s - loss: 168.4826 - classification_loss: 0.3301 - Regression_loss: 168.1526 - classification_accuracy: 0.7969 - Regression_mae: 6.8705"
          ]
        },
        {
          "output_type": "stream",
          "name": "stderr",
          "text": [
            "2024/03/09 05:28:33 WARNING mlflow.utils.checkpoint_utils: Checkpoint logging is skipped, because checkpoint 'save_best_only' config is True, it requires to compare the monitored metric value, but the provided monitored metric value is not available.\n"
          ]
        },
        {
          "output_type": "stream",
          "name": "stdout",
          "text": [
            "\b\b\b\b\b\b\b\b\b\b\b\b\b\b\b\b\b\b\b\b\b\b\b\b\b\b\b\b\b\b\b\b\b\b\b\b\b\b\b\b\b\b\b\b\b\b\b\b\b\b\b\b\b\b\b\b\b\b\b\b\b\b\b\b\b\b\b\b\b\b\b\b\b\b\b\b\b\b\b\b\b\b\b\b\b\b\b\b\b\b\b\b\b\b\b\b\b\b\b\b\b\b\b\b\b\b\b\b\b\b\b\b\b\b\b\b\b\b\b\b\b\b\b\b\b\b\b\b\b\b\b\b\b\b\b\b\b\b\b\b\b\b\b\b\b\b\b\b\b\b\b\b\b\b\b\b\b\b\b\b\b\b\b\b\b\b\b\b\b\b\b\b\b\b\b\b\b\b\b\b\r6/6 [==============================] - 0s 19ms/step - loss: 148.5159 - classification_loss: 0.2980 - Regression_loss: 148.2179 - classification_accuracy: 0.8235 - Regression_mae: 6.0934\n",
            "Epoch 188/300\n",
            "5/6 [========================>.....] - ETA: 0s - loss: 154.2686 - classification_loss: 0.3035 - Regression_loss: 153.9651 - classification_accuracy: 0.8375 - Regression_mae: 6.1914"
          ]
        },
        {
          "output_type": "stream",
          "name": "stderr",
          "text": [
            "2024/03/09 05:28:33 WARNING mlflow.utils.checkpoint_utils: Checkpoint logging is skipped, because checkpoint 'save_best_only' config is True, it requires to compare the monitored metric value, but the provided monitored metric value is not available.\n"
          ]
        },
        {
          "output_type": "stream",
          "name": "stdout",
          "text": [
            "\b\b\b\b\b\b\b\b\b\b\b\b\b\b\b\b\b\b\b\b\b\b\b\b\b\b\b\b\b\b\b\b\b\b\b\b\b\b\b\b\b\b\b\b\b\b\b\b\b\b\b\b\b\b\b\b\b\b\b\b\b\b\b\b\b\b\b\b\b\b\b\b\b\b\b\b\b\b\b\b\b\b\b\b\b\b\b\b\b\b\b\b\b\b\b\b\b\b\b\b\b\b\b\b\b\b\b\b\b\b\b\b\b\b\b\b\b\b\b\b\b\b\b\b\b\b\b\b\b\b\b\b\b\b\b\b\b\b\b\b\b\b\b\b\b\b\b\b\b\b\b\b\b\b\b\b\b\b\b\b\b\b\b\b\b\b\b\b\b\b\b\b\b\b\b\b\b\b\b\b\r6/6 [==============================] - 0s 19ms/step - loss: 150.4540 - classification_loss: 0.2972 - Regression_loss: 150.1568 - classification_accuracy: 0.8412 - Regression_mae: 6.1025\n",
            "Epoch 189/300\n",
            "4/6 [===================>..........] - ETA: 0s - loss: 144.9179 - classification_loss: 0.2761 - Regression_loss: 144.6418 - classification_accuracy: 0.8438 - Regression_mae: 6.2070"
          ]
        },
        {
          "output_type": "stream",
          "name": "stderr",
          "text": [
            "2024/03/09 05:28:33 WARNING mlflow.utils.checkpoint_utils: Checkpoint logging is skipped, because checkpoint 'save_best_only' config is True, it requires to compare the monitored metric value, but the provided monitored metric value is not available.\n"
          ]
        },
        {
          "output_type": "stream",
          "name": "stdout",
          "text": [
            "\b\b\b\b\b\b\b\b\b\b\b\b\b\b\b\b\b\b\b\b\b\b\b\b\b\b\b\b\b\b\b\b\b\b\b\b\b\b\b\b\b\b\b\b\b\b\b\b\b\b\b\b\b\b\b\b\b\b\b\b\b\b\b\b\b\b\b\b\b\b\b\b\b\b\b\b\b\b\b\b\b\b\b\b\b\b\b\b\b\b\b\b\b\b\b\b\b\b\b\b\b\b\b\b\b\b\b\b\b\b\b\b\b\b\b\b\b\b\b\b\b\b\b\b\b\b\b\b\b\b\b\b\b\b\b\b\b\b\b\b\b\b\b\b\b\b\b\b\b\b\b\b\b\b\b\b\b\b\b\b\b\b\b\b\b\b\b\b\b\b\b\b\b\b\b\b\b\b\b\b\r6/6 [==============================] - 0s 18ms/step - loss: 154.2881 - classification_loss: 0.2939 - Regression_loss: 153.9942 - classification_accuracy: 0.8294 - Regression_mae: 6.4850\n",
            "Epoch 190/300\n",
            "4/6 [===================>..........] - ETA: 0s - loss: 178.3114 - classification_loss: 0.2972 - Regression_loss: 178.0142 - classification_accuracy: 0.8672 - Regression_mae: 8.0192"
          ]
        },
        {
          "output_type": "stream",
          "name": "stderr",
          "text": [
            "2024/03/09 05:28:33 WARNING mlflow.utils.checkpoint_utils: Checkpoint logging is skipped, because checkpoint 'save_best_only' config is True, it requires to compare the monitored metric value, but the provided monitored metric value is not available.\n"
          ]
        },
        {
          "output_type": "stream",
          "name": "stdout",
          "text": [
            "\b\b\b\b\b\b\b\b\b\b\b\b\b\b\b\b\b\b\b\b\b\b\b\b\b\b\b\b\b\b\b\b\b\b\b\b\b\b\b\b\b\b\b\b\b\b\b\b\b\b\b\b\b\b\b\b\b\b\b\b\b\b\b\b\b\b\b\b\b\b\b\b\b\b\b\b\b\b\b\b\b\b\b\b\b\b\b\b\b\b\b\b\b\b\b\b\b\b\b\b\b\b\b\b\b\b\b\b\b\b\b\b\b\b\b\b\b\b\b\b\b\b\b\b\b\b\b\b\b\b\b\b\b\b\b\b\b\b\b\b\b\b\b\b\b\b\b\b\b\b\b\b\b\b\b\b\b\b\b\b\b\b\b\b\b\b\b\b\b\b\b\b\b\b\b\b\b\b\b\b\r6/6 [==============================] - 0s 19ms/step - loss: 158.8765 - classification_loss: 0.2950 - Regression_loss: 158.5816 - classification_accuracy: 0.8471 - Regression_mae: 7.3552\n",
            "Epoch 191/300\n",
            "4/6 [===================>..........] - ETA: 0s - loss: 144.9350 - classification_loss: 0.2791 - Regression_loss: 144.6559 - classification_accuracy: 0.8516 - Regression_mae: 6.9155"
          ]
        },
        {
          "output_type": "stream",
          "name": "stderr",
          "text": [
            "2024/03/09 05:28:33 WARNING mlflow.utils.checkpoint_utils: Checkpoint logging is skipped, because checkpoint 'save_best_only' config is True, it requires to compare the monitored metric value, but the provided monitored metric value is not available.\n"
          ]
        },
        {
          "output_type": "stream",
          "name": "stdout",
          "text": [
            "\b\b\b\b\b\b\b\b\b\b\b\b\b\b\b\b\b\b\b\b\b\b\b\b\b\b\b\b\b\b\b\b\b\b\b\b\b\b\b\b\b\b\b\b\b\b\b\b\b\b\b\b\b\b\b\b\b\b\b\b\b\b\b\b\b\b\b\b\b\b\b\b\b\b\b\b\b\b\b\b\b\b\b\b\b\b\b\b\b\b\b\b\b\b\b\b\b\b\b\b\b\b\b\b\b\b\b\b\b\b\b\b\b\b\b\b\b\b\b\b\b\b\b\b\b\b\b\b\b\b\b\b\b\b\b\b\b\b\b\b\b\b\b\b\b\b\b\b\b\b\b\b\b\b\b\b\b\b\b\b\b\b\b\b\b\b\b\b\b\b\b\b\b\b\b\b\b\b\b\b\r6/6 [==============================] - 0s 19ms/step - loss: 156.3759 - classification_loss: 0.2899 - Regression_loss: 156.0859 - classification_accuracy: 0.8353 - Regression_mae: 6.9424\n",
            "Epoch 192/300\n",
            "4/6 [===================>..........] - ETA: 0s - loss: 127.4549 - classification_loss: 0.2419 - Regression_loss: 127.2130 - classification_accuracy: 0.8672 - Regression_mae: 5.6330"
          ]
        },
        {
          "output_type": "stream",
          "name": "stderr",
          "text": [
            "2024/03/09 05:28:33 WARNING mlflow.utils.checkpoint_utils: Checkpoint logging is skipped, because checkpoint 'save_best_only' config is True, it requires to compare the monitored metric value, but the provided monitored metric value is not available.\n"
          ]
        },
        {
          "output_type": "stream",
          "name": "stdout",
          "text": [
            "\b\b\b\b\b\b\b\b\b\b\b\b\b\b\b\b\b\b\b\b\b\b\b\b\b\b\b\b\b\b\b\b\b\b\b\b\b\b\b\b\b\b\b\b\b\b\b\b\b\b\b\b\b\b\b\b\b\b\b\b\b\b\b\b\b\b\b\b\b\b\b\b\b\b\b\b\b\b\b\b\b\b\b\b\b\b\b\b\b\b\b\b\b\b\b\b\b\b\b\b\b\b\b\b\b\b\b\b\b\b\b\b\b\b\b\b\b\b\b\b\b\b\b\b\b\b\b\b\b\b\b\b\b\b\b\b\b\b\b\b\b\b\b\b\b\b\b\b\b\b\b\b\b\b\b\b\b\b\b\b\b\b\b\b\b\b\b\b\b\b\b\b\b\b\b\b\b\b\b\b\r6/6 [==============================] - 0s 20ms/step - loss: 151.8770 - classification_loss: 0.2972 - Regression_loss: 151.5798 - classification_accuracy: 0.8294 - Regression_mae: 6.5775\n",
            "Epoch 193/300\n",
            "4/6 [===================>..........] - ETA: 0s - loss: 149.3980 - classification_loss: 0.2987 - Regression_loss: 149.0993 - classification_accuracy: 0.8359 - Regression_mae: 6.4154"
          ]
        },
        {
          "output_type": "stream",
          "name": "stderr",
          "text": [
            "2024/03/09 05:28:33 WARNING mlflow.utils.checkpoint_utils: Checkpoint logging is skipped, because checkpoint 'save_best_only' config is True, it requires to compare the monitored metric value, but the provided monitored metric value is not available.\n"
          ]
        },
        {
          "output_type": "stream",
          "name": "stdout",
          "text": [
            "\b\b\b\b\b\b\b\b\b\b\b\b\b\b\b\b\b\b\b\b\b\b\b\b\b\b\b\b\b\b\b\b\b\b\b\b\b\b\b\b\b\b\b\b\b\b\b\b\b\b\b\b\b\b\b\b\b\b\b\b\b\b\b\b\b\b\b\b\b\b\b\b\b\b\b\b\b\b\b\b\b\b\b\b\b\b\b\b\b\b\b\b\b\b\b\b\b\b\b\b\b\b\b\b\b\b\b\b\b\b\b\b\b\b\b\b\b\b\b\b\b\b\b\b\b\b\b\b\b\b\b\b\b\b\b\b\b\b\b\b\b\b\b\b\b\b\b\b\b\b\b\b\b\b\b\b\b\b\b\b\b\b\b\b\b\b\b\b\b\b\b\b\b\b\b\b\b\b\b\b\r6/6 [==============================] - 0s 19ms/step - loss: 153.3770 - classification_loss: 0.3131 - Regression_loss: 153.0639 - classification_accuracy: 0.8176 - Regression_mae: 6.6797\n",
            "Epoch 194/300\n",
            "5/6 [========================>.....] - ETA: 0s - loss: 148.4503 - classification_loss: 0.3165 - Regression_loss: 148.1338 - classification_accuracy: 0.8313 - Regression_mae: 6.3796"
          ]
        },
        {
          "output_type": "stream",
          "name": "stderr",
          "text": [
            "2024/03/09 05:28:33 WARNING mlflow.utils.checkpoint_utils: Checkpoint logging is skipped, because checkpoint 'save_best_only' config is True, it requires to compare the monitored metric value, but the provided monitored metric value is not available.\n"
          ]
        },
        {
          "output_type": "stream",
          "name": "stdout",
          "text": [
            "\b\b\b\b\b\b\b\b\b\b\b\b\b\b\b\b\b\b\b\b\b\b\b\b\b\b\b\b\b\b\b\b\b\b\b\b\b\b\b\b\b\b\b\b\b\b\b\b\b\b\b\b\b\b\b\b\b\b\b\b\b\b\b\b\b\b\b\b\b\b\b\b\b\b\b\b\b\b\b\b\b\b\b\b\b\b\b\b\b\b\b\b\b\b\b\b\b\b\b\b\b\b\b\b\b\b\b\b\b\b\b\b\b\b\b\b\b\b\b\b\b\b\b\b\b\b\b\b\b\b\b\b\b\b\b\b\b\b\b\b\b\b\b\b\b\b\b\b\b\b\b\b\b\b\b\b\b\b\b\b\b\b\b\b\b\b\b\b\b\b\b\b\b\b\b\b\b\b\b\b\r6/6 [==============================] - 0s 19ms/step - loss: 152.4795 - classification_loss: 0.3154 - Regression_loss: 152.1642 - classification_accuracy: 0.8294 - Regression_mae: 6.4206\n",
            "Epoch 195/300\n",
            "4/6 [===================>..........] - ETA: 0s - loss: 145.5439 - classification_loss: 0.2649 - Regression_loss: 145.2790 - classification_accuracy: 0.8672 - Regression_mae: 6.6379"
          ]
        },
        {
          "output_type": "stream",
          "name": "stderr",
          "text": [
            "2024/03/09 05:28:34 WARNING mlflow.utils.checkpoint_utils: Checkpoint logging is skipped, because checkpoint 'save_best_only' config is True, it requires to compare the monitored metric value, but the provided monitored metric value is not available.\n"
          ]
        },
        {
          "output_type": "stream",
          "name": "stdout",
          "text": [
            "\b\b\b\b\b\b\b\b\b\b\b\b\b\b\b\b\b\b\b\b\b\b\b\b\b\b\b\b\b\b\b\b\b\b\b\b\b\b\b\b\b\b\b\b\b\b\b\b\b\b\b\b\b\b\b\b\b\b\b\b\b\b\b\b\b\b\b\b\b\b\b\b\b\b\b\b\b\b\b\b\b\b\b\b\b\b\b\b\b\b\b\b\b\b\b\b\b\b\b\b\b\b\b\b\b\b\b\b\b\b\b\b\b\b\b\b\b\b\b\b\b\b\b\b\b\b\b\b\b\b\b\b\b\b\b\b\b\b\b\b\b\b\b\b\b\b\b\b\b\b\b\b\b\b\b\b\b\b\b\b\b\b\b\b\b\b\b\b\b\b\b\b\b\b\b\b\b\b\b\b\r6/6 [==============================] - 0s 20ms/step - loss: 155.8940 - classification_loss: 0.2961 - Regression_loss: 155.5979 - classification_accuracy: 0.8412 - Regression_mae: 6.9031\n",
            "Epoch 196/300\n",
            "5/6 [========================>.....] - ETA: 0s - loss: 152.4706 - classification_loss: 0.2877 - Regression_loss: 152.1828 - classification_accuracy: 0.8562 - Regression_mae: 6.7674"
          ]
        },
        {
          "output_type": "stream",
          "name": "stderr",
          "text": [
            "2024/03/09 05:28:34 WARNING mlflow.utils.checkpoint_utils: Checkpoint logging is skipped, because checkpoint 'save_best_only' config is True, it requires to compare the monitored metric value, but the provided monitored metric value is not available.\n"
          ]
        },
        {
          "output_type": "stream",
          "name": "stdout",
          "text": [
            "\b\b\b\b\b\b\b\b\b\b\b\b\b\b\b\b\b\b\b\b\b\b\b\b\b\b\b\b\b\b\b\b\b\b\b\b\b\b\b\b\b\b\b\b\b\b\b\b\b\b\b\b\b\b\b\b\b\b\b\b\b\b\b\b\b\b\b\b\b\b\b\b\b\b\b\b\b\b\b\b\b\b\b\b\b\b\b\b\b\b\b\b\b\b\b\b\b\b\b\b\b\b\b\b\b\b\b\b\b\b\b\b\b\b\b\b\b\b\b\b\b\b\b\b\b\b\b\b\b\b\b\b\b\b\b\b\b\b\b\b\b\b\b\b\b\b\b\b\b\b\b\b\b\b\b\b\b\b\b\b\b\b\b\b\b\b\b\b\b\b\b\b\b\b\b\b\b\b\b\b\r6/6 [==============================] - 0s 17ms/step - loss: 154.0113 - classification_loss: 0.2975 - Regression_loss: 153.7138 - classification_accuracy: 0.8471 - Regression_mae: 6.8107\n",
            "Epoch 197/300\n",
            "4/6 [===================>..........] - ETA: 0s - loss: 151.7845 - classification_loss: 0.2740 - Regression_loss: 151.5106 - classification_accuracy: 0.8359 - Regression_mae: 6.2205"
          ]
        },
        {
          "output_type": "stream",
          "name": "stderr",
          "text": [
            "2024/03/09 05:28:34 WARNING mlflow.utils.checkpoint_utils: Checkpoint logging is skipped, because checkpoint 'save_best_only' config is True, it requires to compare the monitored metric value, but the provided monitored metric value is not available.\n"
          ]
        },
        {
          "output_type": "stream",
          "name": "stdout",
          "text": [
            "\b\b\b\b\b\b\b\b\b\b\b\b\b\b\b\b\b\b\b\b\b\b\b\b\b\b\b\b\b\b\b\b\b\b\b\b\b\b\b\b\b\b\b\b\b\b\b\b\b\b\b\b\b\b\b\b\b\b\b\b\b\b\b\b\b\b\b\b\b\b\b\b\b\b\b\b\b\b\b\b\b\b\b\b\b\b\b\b\b\b\b\b\b\b\b\b\b\b\b\b\b\b\b\b\b\b\b\b\b\b\b\b\b\b\b\b\b\b\b\b\b\b\b\b\b\b\b\b\b\b\b\b\b\b\b\b\b\b\b\b\b\b\b\b\b\b\b\b\b\b\b\b\b\b\b\b\b\b\b\b\b\b\b\b\b\b\b\b\b\b\b\b\b\b\b\b\b\b\b\b\r6/6 [==============================] - 0s 18ms/step - loss: 150.1274 - classification_loss: 0.3039 - Regression_loss: 149.8235 - classification_accuracy: 0.8235 - Regression_mae: 6.3014\n",
            "Epoch 198/300\n",
            "4/6 [===================>..........] - ETA: 0s - loss: 166.2655 - classification_loss: 0.2970 - Regression_loss: 165.9685 - classification_accuracy: 0.8359 - Regression_mae: 6.4578"
          ]
        },
        {
          "output_type": "stream",
          "name": "stderr",
          "text": [
            "2024/03/09 05:28:34 WARNING mlflow.utils.checkpoint_utils: Checkpoint logging is skipped, because checkpoint 'save_best_only' config is True, it requires to compare the monitored metric value, but the provided monitored metric value is not available.\n"
          ]
        },
        {
          "output_type": "stream",
          "name": "stdout",
          "text": [
            "\b\b\b\b\b\b\b\b\b\b\b\b\b\b\b\b\b\b\b\b\b\b\b\b\b\b\b\b\b\b\b\b\b\b\b\b\b\b\b\b\b\b\b\b\b\b\b\b\b\b\b\b\b\b\b\b\b\b\b\b\b\b\b\b\b\b\b\b\b\b\b\b\b\b\b\b\b\b\b\b\b\b\b\b\b\b\b\b\b\b\b\b\b\b\b\b\b\b\b\b\b\b\b\b\b\b\b\b\b\b\b\b\b\b\b\b\b\b\b\b\b\b\b\b\b\b\b\b\b\b\b\b\b\b\b\b\b\b\b\b\b\b\b\b\b\b\b\b\b\b\b\b\b\b\b\b\b\b\b\b\b\b\b\b\b\b\b\b\b\b\b\b\b\b\b\b\b\b\b\b\r6/6 [==============================] - 0s 17ms/step - loss: 150.5569 - classification_loss: 0.2998 - Regression_loss: 150.2571 - classification_accuracy: 0.8294 - Regression_mae: 6.2016\n",
            "Epoch 199/300\n",
            "5/6 [========================>.....] - ETA: 0s - loss: 149.8612 - classification_loss: 0.2928 - Regression_loss: 149.5683 - classification_accuracy: 0.8313 - Regression_mae: 6.1870"
          ]
        },
        {
          "output_type": "stream",
          "name": "stderr",
          "text": [
            "2024/03/09 05:28:34 WARNING mlflow.utils.checkpoint_utils: Checkpoint logging is skipped, because checkpoint 'save_best_only' config is True, it requires to compare the monitored metric value, but the provided monitored metric value is not available.\n"
          ]
        },
        {
          "output_type": "stream",
          "name": "stdout",
          "text": [
            "\b\b\b\b\b\b\b\b\b\b\b\b\b\b\b\b\b\b\b\b\b\b\b\b\b\b\b\b\b\b\b\b\b\b\b\b\b\b\b\b\b\b\b\b\b\b\b\b\b\b\b\b\b\b\b\b\b\b\b\b\b\b\b\b\b\b\b\b\b\b\b\b\b\b\b\b\b\b\b\b\b\b\b\b\b\b\b\b\b\b\b\b\b\b\b\b\b\b\b\b\b\b\b\b\b\b\b\b\b\b\b\b\b\b\b\b\b\b\b\b\b\b\b\b\b\b\b\b\b\b\b\b\b\b\b\b\b\b\b\b\b\b\b\b\b\b\b\b\b\b\b\b\b\b\b\b\b\b\b\b\b\b\b\b\b\b\b\b\b\b\b\b\b\b\b\b\b\b\b\b\r6/6 [==============================] - 0s 18ms/step - loss: 152.4305 - classification_loss: 0.3120 - Regression_loss: 152.1186 - classification_accuracy: 0.8176 - Regression_mae: 6.3157\n",
            "Epoch 200/300\n",
            "5/6 [========================>.....] - ETA: 0s - loss: 148.5856 - classification_loss: 0.2930 - Regression_loss: 148.2926 - classification_accuracy: 0.8438 - Regression_mae: 6.2854"
          ]
        },
        {
          "output_type": "stream",
          "name": "stderr",
          "text": [
            "2024/03/09 05:28:34 WARNING mlflow.utils.checkpoint_utils: Checkpoint logging is skipped, because checkpoint 'save_best_only' config is True, it requires to compare the monitored metric value, but the provided monitored metric value is not available.\n"
          ]
        },
        {
          "output_type": "stream",
          "name": "stdout",
          "text": [
            "\b\b\b\b\b\b\b\b\b\b\b\b\b\b\b\b\b\b\b\b\b\b\b\b\b\b\b\b\b\b\b\b\b\b\b\b\b\b\b\b\b\b\b\b\b\b\b\b\b\b\b\b\b\b\b\b\b\b\b\b\b\b\b\b\b\b\b\b\b\b\b\b\b\b\b\b\b\b\b\b\b\b\b\b\b\b\b\b\b\b\b\b\b\b\b\b\b\b\b\b\b\b\b\b\b\b\b\b\b\b\b\b\b\b\b\b\b\b\b\b\b\b\b\b\b\b\b\b\b\b\b\b\b\b\b\b\b\b\b\b\b\b\b\b\b\b\b\b\b\b\b\b\b\b\b\b\b\b\b\b\b\b\b\b\b\b\b\b\b\b\b\b\b\b\b\b\b\b\b\b\r6/6 [==============================] - 0s 20ms/step - loss: 151.4324 - classification_loss: 0.2940 - Regression_loss: 151.1384 - classification_accuracy: 0.8471 - Regression_mae: 6.3270\n",
            "Epoch 201/300\n",
            "5/6 [========================>.....] - ETA: 0s - loss: 148.5598 - classification_loss: 0.2764 - Regression_loss: 148.2833 - classification_accuracy: 0.8438 - Regression_mae: 5.9839"
          ]
        },
        {
          "output_type": "stream",
          "name": "stderr",
          "text": [
            "2024/03/09 05:28:34 WARNING mlflow.utils.checkpoint_utils: Checkpoint logging is skipped, because checkpoint 'save_best_only' config is True, it requires to compare the monitored metric value, but the provided monitored metric value is not available.\n"
          ]
        },
        {
          "output_type": "stream",
          "name": "stdout",
          "text": [
            "\b\b\b\b\b\b\b\b\b\b\b\b\b\b\b\b\b\b\b\b\b\b\b\b\b\b\b\b\b\b\b\b\b\b\b\b\b\b\b\b\b\b\b\b\b\b\b\b\b\b\b\b\b\b\b\b\b\b\b\b\b\b\b\b\b\b\b\b\b\b\b\b\b\b\b\b\b\b\b\b\b\b\b\b\b\b\b\b\b\b\b\b\b\b\b\b\b\b\b\b\b\b\b\b\b\b\b\b\b\b\b\b\b\b\b\b\b\b\b\b\b\b\b\b\b\b\b\b\b\b\b\b\b\b\b\b\b\b\b\b\b\b\b\b\b\b\b\b\b\b\b\b\b\b\b\b\b\b\b\b\b\b\b\b\b\b\b\b\b\b\b\b\b\b\b\b\b\b\b\b\r6/6 [==============================] - 0s 21ms/step - loss: 148.9533 - classification_loss: 0.2879 - Regression_loss: 148.6654 - classification_accuracy: 0.8353 - Regression_mae: 6.0799\n",
            "Epoch 202/300\n",
            "5/6 [========================>.....] - ETA: 0s - loss: 162.3569 - classification_loss: 0.3193 - Regression_loss: 162.0376 - classification_accuracy: 0.8438 - Regression_mae: 6.7112"
          ]
        },
        {
          "output_type": "stream",
          "name": "stderr",
          "text": [
            "2024/03/09 05:28:34 WARNING mlflow.utils.checkpoint_utils: Checkpoint logging is skipped, because checkpoint 'save_best_only' config is True, it requires to compare the monitored metric value, but the provided monitored metric value is not available.\n"
          ]
        },
        {
          "output_type": "stream",
          "name": "stdout",
          "text": [
            "\b\b\b\b\b\b\b\b\b\b\b\b\b\b\b\b\b\b\b\b\b\b\b\b\b\b\b\b\b\b\b\b\b\b\b\b\b\b\b\b\b\b\b\b\b\b\b\b\b\b\b\b\b\b\b\b\b\b\b\b\b\b\b\b\b\b\b\b\b\b\b\b\b\b\b\b\b\b\b\b\b\b\b\b\b\b\b\b\b\b\b\b\b\b\b\b\b\b\b\b\b\b\b\b\b\b\b\b\b\b\b\b\b\b\b\b\b\b\b\b\b\b\b\b\b\b\b\b\b\b\b\b\b\b\b\b\b\b\b\b\b\b\b\b\b\b\b\b\b\b\b\b\b\b\b\b\b\b\b\b\b\b\b\b\b\b\b\b\b\b\b\b\b\b\b\b\b\b\b\b\r6/6 [==============================] - 0s 18ms/step - loss: 154.1876 - classification_loss: 0.3090 - Regression_loss: 153.8786 - classification_accuracy: 0.8471 - Regression_mae: 6.4392\n",
            "Epoch 203/300\n",
            "5/6 [========================>.....] - ETA: 0s - loss: 156.7119 - classification_loss: 0.3061 - Regression_loss: 156.4058 - classification_accuracy: 0.8438 - Regression_mae: 6.7351"
          ]
        },
        {
          "output_type": "stream",
          "name": "stderr",
          "text": [
            "2024/03/09 05:28:35 WARNING mlflow.utils.checkpoint_utils: Checkpoint logging is skipped, because checkpoint 'save_best_only' config is True, it requires to compare the monitored metric value, but the provided monitored metric value is not available.\n"
          ]
        },
        {
          "output_type": "stream",
          "name": "stdout",
          "text": [
            "\b\b\b\b\b\b\b\b\b\b\b\b\b\b\b\b\b\b\b\b\b\b\b\b\b\b\b\b\b\b\b\b\b\b\b\b\b\b\b\b\b\b\b\b\b\b\b\b\b\b\b\b\b\b\b\b\b\b\b\b\b\b\b\b\b\b\b\b\b\b\b\b\b\b\b\b\b\b\b\b\b\b\b\b\b\b\b\b\b\b\b\b\b\b\b\b\b\b\b\b\b\b\b\b\b\b\b\b\b\b\b\b\b\b\b\b\b\b\b\b\b\b\b\b\b\b\b\b\b\b\b\b\b\b\b\b\b\b\b\b\b\b\b\b\b\b\b\b\b\b\b\b\b\b\b\b\b\b\b\b\b\b\b\b\b\b\b\b\b\b\b\b\b\b\b\b\b\b\b\b\r6/6 [==============================] - 0s 18ms/step - loss: 152.6792 - classification_loss: 0.3126 - Regression_loss: 152.3666 - classification_accuracy: 0.8412 - Regression_mae: 6.6418\n",
            "Epoch 204/300\n",
            "5/6 [========================>.....] - ETA: 0s - loss: 166.9314 - classification_loss: 0.3168 - Regression_loss: 166.6145 - classification_accuracy: 0.8125 - Regression_mae: 7.2976"
          ]
        },
        {
          "output_type": "stream",
          "name": "stderr",
          "text": [
            "2024/03/09 05:28:35 WARNING mlflow.utils.checkpoint_utils: Checkpoint logging is skipped, because checkpoint 'save_best_only' config is True, it requires to compare the monitored metric value, but the provided monitored metric value is not available.\n"
          ]
        },
        {
          "output_type": "stream",
          "name": "stdout",
          "text": [
            "\b\b\b\b\b\b\b\b\b\b\b\b\b\b\b\b\b\b\b\b\b\b\b\b\b\b\b\b\b\b\b\b\b\b\b\b\b\b\b\b\b\b\b\b\b\b\b\b\b\b\b\b\b\b\b\b\b\b\b\b\b\b\b\b\b\b\b\b\b\b\b\b\b\b\b\b\b\b\b\b\b\b\b\b\b\b\b\b\b\b\b\b\b\b\b\b\b\b\b\b\b\b\b\b\b\b\b\b\b\b\b\b\b\b\b\b\b\b\b\b\b\b\b\b\b\b\b\b\b\b\b\b\b\b\b\b\b\b\b\b\b\b\b\b\b\b\b\b\b\b\b\b\b\b\b\b\b\b\b\b\b\b\b\b\b\b\b\b\b\b\b\b\b\b\b\b\b\b\b\b\r6/6 [==============================] - 0s 18ms/step - loss: 158.4631 - classification_loss: 0.2986 - Regression_loss: 158.1645 - classification_accuracy: 0.8235 - Regression_mae: 7.0407\n",
            "Epoch 205/300\n",
            "5/6 [========================>.....] - ETA: 0s - loss: 158.1969 - classification_loss: 0.3067 - Regression_loss: 157.8902 - classification_accuracy: 0.8250 - Regression_mae: 6.6173"
          ]
        },
        {
          "output_type": "stream",
          "name": "stderr",
          "text": [
            "2024/03/09 05:28:35 WARNING mlflow.utils.checkpoint_utils: Checkpoint logging is skipped, because checkpoint 'save_best_only' config is True, it requires to compare the monitored metric value, but the provided monitored metric value is not available.\n"
          ]
        },
        {
          "output_type": "stream",
          "name": "stdout",
          "text": [
            "\b\b\b\b\b\b\b\b\b\b\b\b\b\b\b\b\b\b\b\b\b\b\b\b\b\b\b\b\b\b\b\b\b\b\b\b\b\b\b\b\b\b\b\b\b\b\b\b\b\b\b\b\b\b\b\b\b\b\b\b\b\b\b\b\b\b\b\b\b\b\b\b\b\b\b\b\b\b\b\b\b\b\b\b\b\b\b\b\b\b\b\b\b\b\b\b\b\b\b\b\b\b\b\b\b\b\b\b\b\b\b\b\b\b\b\b\b\b\b\b\b\b\b\b\b\b\b\b\b\b\b\b\b\b\b\b\b\b\b\b\b\b\b\b\b\b\b\b\b\b\b\b\b\b\b\b\b\b\b\b\b\b\b\b\b\b\b\b\b\b\b\b\b\b\b\b\b\b\b\b\r6/6 [==============================] - 0s 17ms/step - loss: 154.8772 - classification_loss: 0.3020 - Regression_loss: 154.5752 - classification_accuracy: 0.8294 - Regression_mae: 6.4736\n",
            "Epoch 206/300\n",
            "5/6 [========================>.....] - ETA: 0s - loss: 142.8453 - classification_loss: 0.2819 - Regression_loss: 142.5634 - classification_accuracy: 0.8313 - Regression_mae: 6.3165"
          ]
        },
        {
          "output_type": "stream",
          "name": "stderr",
          "text": [
            "2024/03/09 05:28:35 WARNING mlflow.utils.checkpoint_utils: Checkpoint logging is skipped, because checkpoint 'save_best_only' config is True, it requires to compare the monitored metric value, but the provided monitored metric value is not available.\n"
          ]
        },
        {
          "output_type": "stream",
          "name": "stdout",
          "text": [
            "\b\b\b\b\b\b\b\b\b\b\b\b\b\b\b\b\b\b\b\b\b\b\b\b\b\b\b\b\b\b\b\b\b\b\b\b\b\b\b\b\b\b\b\b\b\b\b\b\b\b\b\b\b\b\b\b\b\b\b\b\b\b\b\b\b\b\b\b\b\b\b\b\b\b\b\b\b\b\b\b\b\b\b\b\b\b\b\b\b\b\b\b\b\b\b\b\b\b\b\b\b\b\b\b\b\b\b\b\b\b\b\b\b\b\b\b\b\b\b\b\b\b\b\b\b\b\b\b\b\b\b\b\b\b\b\b\b\b\b\b\b\b\b\b\b\b\b\b\b\b\b\b\b\b\b\b\b\b\b\b\b\b\b\b\b\b\b\b\b\b\b\b\b\b\b\b\b\b\b\b\r6/6 [==============================] - 0s 18ms/step - loss: 152.3304 - classification_loss: 0.2870 - Regression_loss: 152.0435 - classification_accuracy: 0.8294 - Regression_mae: 6.4518\n",
            "Epoch 207/300\n",
            "5/6 [========================>.....] - ETA: 0s - loss: 135.5357 - classification_loss: 0.2801 - Regression_loss: 135.2556 - classification_accuracy: 0.8313 - Regression_mae: 5.8408"
          ]
        },
        {
          "output_type": "stream",
          "name": "stderr",
          "text": [
            "2024/03/09 05:28:35 WARNING mlflow.utils.checkpoint_utils: Checkpoint logging is skipped, because checkpoint 'save_best_only' config is True, it requires to compare the monitored metric value, but the provided monitored metric value is not available.\n"
          ]
        },
        {
          "output_type": "stream",
          "name": "stdout",
          "text": [
            "\b\b\b\b\b\b\b\b\b\b\b\b\b\b\b\b\b\b\b\b\b\b\b\b\b\b\b\b\b\b\b\b\b\b\b\b\b\b\b\b\b\b\b\b\b\b\b\b\b\b\b\b\b\b\b\b\b\b\b\b\b\b\b\b\b\b\b\b\b\b\b\b\b\b\b\b\b\b\b\b\b\b\b\b\b\b\b\b\b\b\b\b\b\b\b\b\b\b\b\b\b\b\b\b\b\b\b\b\b\b\b\b\b\b\b\b\b\b\b\b\b\b\b\b\b\b\b\b\b\b\b\b\b\b\b\b\b\b\b\b\b\b\b\b\b\b\b\b\b\b\b\b\b\b\b\b\b\b\b\b\b\b\b\b\b\b\b\b\b\b\b\b\b\b\b\b\b\b\b\b\r6/6 [==============================] - 0s 18ms/step - loss: 149.0440 - classification_loss: 0.2986 - Regression_loss: 148.7455 - classification_accuracy: 0.8235 - Regression_mae: 6.2081\n",
            "Epoch 208/300\n",
            "5/6 [========================>.....] - ETA: 0s - loss: 157.3716 - classification_loss: 0.3189 - Regression_loss: 157.0527 - classification_accuracy: 0.8250 - Regression_mae: 6.5051"
          ]
        },
        {
          "output_type": "stream",
          "name": "stderr",
          "text": [
            "2024/03/09 05:28:35 WARNING mlflow.utils.checkpoint_utils: Checkpoint logging is skipped, because checkpoint 'save_best_only' config is True, it requires to compare the monitored metric value, but the provided monitored metric value is not available.\n"
          ]
        },
        {
          "output_type": "stream",
          "name": "stdout",
          "text": [
            "\b\b\b\b\b\b\b\b\b\b\b\b\b\b\b\b\b\b\b\b\b\b\b\b\b\b\b\b\b\b\b\b\b\b\b\b\b\b\b\b\b\b\b\b\b\b\b\b\b\b\b\b\b\b\b\b\b\b\b\b\b\b\b\b\b\b\b\b\b\b\b\b\b\b\b\b\b\b\b\b\b\b\b\b\b\b\b\b\b\b\b\b\b\b\b\b\b\b\b\b\b\b\b\b\b\b\b\b\b\b\b\b\b\b\b\b\b\b\b\b\b\b\b\b\b\b\b\b\b\b\b\b\b\b\b\b\b\b\b\b\b\b\b\b\b\b\b\b\b\b\b\b\b\b\b\b\b\b\b\b\b\b\b\b\b\b\b\b\b\b\b\b\b\b\b\b\b\b\b\b\r6/6 [==============================] - 0s 17ms/step - loss: 149.6710 - classification_loss: 0.3097 - Regression_loss: 149.3614 - classification_accuracy: 0.8294 - Regression_mae: 6.2863\n",
            "Epoch 209/300\n",
            "5/6 [========================>.....] - ETA: 0s - loss: 144.9258 - classification_loss: 0.2899 - Regression_loss: 144.6359 - classification_accuracy: 0.8313 - Regression_mae: 6.4025"
          ]
        },
        {
          "output_type": "stream",
          "name": "stderr",
          "text": [
            "2024/03/09 05:28:35 WARNING mlflow.utils.checkpoint_utils: Checkpoint logging is skipped, because checkpoint 'save_best_only' config is True, it requires to compare the monitored metric value, but the provided monitored metric value is not available.\n"
          ]
        },
        {
          "output_type": "stream",
          "name": "stdout",
          "text": [
            "\b\b\b\b\b\b\b\b\b\b\b\b\b\b\b\b\b\b\b\b\b\b\b\b\b\b\b\b\b\b\b\b\b\b\b\b\b\b\b\b\b\b\b\b\b\b\b\b\b\b\b\b\b\b\b\b\b\b\b\b\b\b\b\b\b\b\b\b\b\b\b\b\b\b\b\b\b\b\b\b\b\b\b\b\b\b\b\b\b\b\b\b\b\b\b\b\b\b\b\b\b\b\b\b\b\b\b\b\b\b\b\b\b\b\b\b\b\b\b\b\b\b\b\b\b\b\b\b\b\b\b\b\b\b\b\b\b\b\b\b\b\b\b\b\b\b\b\b\b\b\b\b\b\b\b\b\b\b\b\b\b\b\b\b\b\b\b\b\b\b\b\b\b\b\b\b\b\b\b\b\r6/6 [==============================] - 0s 18ms/step - loss: 153.8315 - classification_loss: 0.3044 - Regression_loss: 153.5271 - classification_accuracy: 0.8235 - Regression_mae: 6.5116\n",
            "Epoch 210/300\n",
            "4/6 [===================>..........] - ETA: 0s - loss: 177.4635 - classification_loss: 0.3643 - Regression_loss: 177.0992 - classification_accuracy: 0.7969 - Regression_mae: 7.1491"
          ]
        },
        {
          "output_type": "stream",
          "name": "stderr",
          "text": [
            "2024/03/09 05:28:35 WARNING mlflow.utils.checkpoint_utils: Checkpoint logging is skipped, because checkpoint 'save_best_only' config is True, it requires to compare the monitored metric value, but the provided monitored metric value is not available.\n"
          ]
        },
        {
          "output_type": "stream",
          "name": "stdout",
          "text": [
            "\b\b\b\b\b\b\b\b\b\b\b\b\b\b\b\b\b\b\b\b\b\b\b\b\b\b\b\b\b\b\b\b\b\b\b\b\b\b\b\b\b\b\b\b\b\b\b\b\b\b\b\b\b\b\b\b\b\b\b\b\b\b\b\b\b\b\b\b\b\b\b\b\b\b\b\b\b\b\b\b\b\b\b\b\b\b\b\b\b\b\b\b\b\b\b\b\b\b\b\b\b\b\b\b\b\b\b\b\b\b\b\b\b\b\b\b\b\b\b\b\b\b\b\b\b\b\b\b\b\b\b\b\b\b\b\b\b\b\b\b\b\b\b\b\b\b\b\b\b\b\b\b\b\b\b\b\b\b\b\b\b\b\b\b\b\b\b\b\b\b\b\b\b\b\b\b\b\b\b\b\r6/6 [==============================] - 0s 19ms/step - loss: 149.8450 - classification_loss: 0.3106 - Regression_loss: 149.5344 - classification_accuracy: 0.8235 - Regression_mae: 6.2589\n",
            "Epoch 211/300\n",
            "4/6 [===================>..........] - ETA: 0s - loss: 152.8418 - classification_loss: 0.2973 - Regression_loss: 152.5445 - classification_accuracy: 0.8438 - Regression_mae: 6.3202"
          ]
        },
        {
          "output_type": "stream",
          "name": "stderr",
          "text": [
            "2024/03/09 05:28:36 WARNING mlflow.utils.checkpoint_utils: Checkpoint logging is skipped, because checkpoint 'save_best_only' config is True, it requires to compare the monitored metric value, but the provided monitored metric value is not available.\n"
          ]
        },
        {
          "output_type": "stream",
          "name": "stdout",
          "text": [
            "\b\b\b\b\b\b\b\b\b\b\b\b\b\b\b\b\b\b\b\b\b\b\b\b\b\b\b\b\b\b\b\b\b\b\b\b\b\b\b\b\b\b\b\b\b\b\b\b\b\b\b\b\b\b\b\b\b\b\b\b\b\b\b\b\b\b\b\b\b\b\b\b\b\b\b\b\b\b\b\b\b\b\b\b\b\b\b\b\b\b\b\b\b\b\b\b\b\b\b\b\b\b\b\b\b\b\b\b\b\b\b\b\b\b\b\b\b\b\b\b\b\b\b\b\b\b\b\b\b\b\b\b\b\b\b\b\b\b\b\b\b\b\b\b\b\b\b\b\b\b\b\b\b\b\b\b\b\b\b\b\b\b\b\b\b\b\b\b\b\b\b\b\b\b\b\b\b\b\b\b\r6/6 [==============================] - 0s 20ms/step - loss: 150.0932 - classification_loss: 0.2959 - Regression_loss: 149.7973 - classification_accuracy: 0.8471 - Regression_mae: 6.1722\n",
            "Epoch 212/300\n",
            "4/6 [===================>..........] - ETA: 0s - loss: 153.2065 - classification_loss: 0.2986 - Regression_loss: 152.9079 - classification_accuracy: 0.8359 - Regression_mae: 6.3762"
          ]
        },
        {
          "output_type": "stream",
          "name": "stderr",
          "text": [
            "2024/03/09 05:28:36 WARNING mlflow.utils.checkpoint_utils: Checkpoint logging is skipped, because checkpoint 'save_best_only' config is True, it requires to compare the monitored metric value, but the provided monitored metric value is not available.\n"
          ]
        },
        {
          "output_type": "stream",
          "name": "stdout",
          "text": [
            "\b\b\b\b\b\b\b\b\b\b\b\b\b\b\b\b\b\b\b\b\b\b\b\b\b\b\b\b\b\b\b\b\b\b\b\b\b\b\b\b\b\b\b\b\b\b\b\b\b\b\b\b\b\b\b\b\b\b\b\b\b\b\b\b\b\b\b\b\b\b\b\b\b\b\b\b\b\b\b\b\b\b\b\b\b\b\b\b\b\b\b\b\b\b\b\b\b\b\b\b\b\b\b\b\b\b\b\b\b\b\b\b\b\b\b\b\b\b\b\b\b\b\b\b\b\b\b\b\b\b\b\b\b\b\b\b\b\b\b\b\b\b\b\b\b\b\b\b\b\b\b\b\b\b\b\b\b\b\b\b\b\b\b\b\b\b\b\b\b\b\b\b\b\b\b\b\b\b\b\b\r6/6 [==============================] - 0s 19ms/step - loss: 149.7887 - classification_loss: 0.2865 - Regression_loss: 149.5023 - classification_accuracy: 0.8412 - Regression_mae: 6.1474\n",
            "Epoch 213/300\n",
            "4/6 [===================>..........] - ETA: 0s - loss: 145.5998 - classification_loss: 0.2759 - Regression_loss: 145.3239 - classification_accuracy: 0.8672 - Regression_mae: 5.8526"
          ]
        },
        {
          "output_type": "stream",
          "name": "stderr",
          "text": [
            "2024/03/09 05:28:36 WARNING mlflow.utils.checkpoint_utils: Checkpoint logging is skipped, because checkpoint 'save_best_only' config is True, it requires to compare the monitored metric value, but the provided monitored metric value is not available.\n"
          ]
        },
        {
          "output_type": "stream",
          "name": "stdout",
          "text": [
            "\b\b\b\b\b\b\b\b\b\b\b\b\b\b\b\b\b\b\b\b\b\b\b\b\b\b\b\b\b\b\b\b\b\b\b\b\b\b\b\b\b\b\b\b\b\b\b\b\b\b\b\b\b\b\b\b\b\b\b\b\b\b\b\b\b\b\b\b\b\b\b\b\b\b\b\b\b\b\b\b\b\b\b\b\b\b\b\b\b\b\b\b\b\b\b\b\b\b\b\b\b\b\b\b\b\b\b\b\b\b\b\b\b\b\b\b\b\b\b\b\b\b\b\b\b\b\b\b\b\b\b\b\b\b\b\b\b\b\b\b\b\b\b\b\b\b\b\b\b\b\b\b\b\b\b\b\b\b\b\b\b\b\b\b\b\b\b\b\b\b\b\b\b\b\b\b\b\b\b\b\r6/6 [==============================] - 0s 19ms/step - loss: 149.4303 - classification_loss: 0.3245 - Regression_loss: 149.1058 - classification_accuracy: 0.8471 - Regression_mae: 6.0442\n",
            "Epoch 214/300\n",
            "5/6 [========================>.....] - ETA: 0s - loss: 152.8105 - classification_loss: 0.3118 - Regression_loss: 152.4987 - classification_accuracy: 0.8375 - Regression_mae: 6.2572"
          ]
        },
        {
          "output_type": "stream",
          "name": "stderr",
          "text": [
            "2024/03/09 05:28:36 WARNING mlflow.utils.checkpoint_utils: Checkpoint logging is skipped, because checkpoint 'save_best_only' config is True, it requires to compare the monitored metric value, but the provided monitored metric value is not available.\n"
          ]
        },
        {
          "output_type": "stream",
          "name": "stdout",
          "text": [
            "\b\b\b\b\b\b\b\b\b\b\b\b\b\b\b\b\b\b\b\b\b\b\b\b\b\b\b\b\b\b\b\b\b\b\b\b\b\b\b\b\b\b\b\b\b\b\b\b\b\b\b\b\b\b\b\b\b\b\b\b\b\b\b\b\b\b\b\b\b\b\b\b\b\b\b\b\b\b\b\b\b\b\b\b\b\b\b\b\b\b\b\b\b\b\b\b\b\b\b\b\b\b\b\b\b\b\b\b\b\b\b\b\b\b\b\b\b\b\b\b\b\b\b\b\b\b\b\b\b\b\b\b\b\b\b\b\b\b\b\b\b\b\b\b\b\b\b\b\b\b\b\b\b\b\b\b\b\b\b\b\b\b\b\b\b\b\b\b\b\b\b\b\b\b\b\b\b\b\b\b\r6/6 [==============================] - 0s 19ms/step - loss: 149.7404 - classification_loss: 0.3266 - Regression_loss: 149.4138 - classification_accuracy: 0.8294 - Regression_mae: 6.2818\n",
            "Epoch 215/300\n",
            "5/6 [========================>.....] - ETA: 0s - loss: 148.2009 - classification_loss: 0.2956 - Regression_loss: 147.9053 - classification_accuracy: 0.8625 - Regression_mae: 6.1960"
          ]
        },
        {
          "output_type": "stream",
          "name": "stderr",
          "text": [
            "2024/03/09 05:28:36 WARNING mlflow.utils.checkpoint_utils: Checkpoint logging is skipped, because checkpoint 'save_best_only' config is True, it requires to compare the monitored metric value, but the provided monitored metric value is not available.\n"
          ]
        },
        {
          "output_type": "stream",
          "name": "stdout",
          "text": [
            "\b\b\b\b\b\b\b\b\b\b\b\b\b\b\b\b\b\b\b\b\b\b\b\b\b\b\b\b\b\b\b\b\b\b\b\b\b\b\b\b\b\b\b\b\b\b\b\b\b\b\b\b\b\b\b\b\b\b\b\b\b\b\b\b\b\b\b\b\b\b\b\b\b\b\b\b\b\b\b\b\b\b\b\b\b\b\b\b\b\b\b\b\b\b\b\b\b\b\b\b\b\b\b\b\b\b\b\b\b\b\b\b\b\b\b\b\b\b\b\b\b\b\b\b\b\b\b\b\b\b\b\b\b\b\b\b\b\b\b\b\b\b\b\b\b\b\b\b\b\b\b\b\b\b\b\b\b\b\b\b\b\b\b\b\b\b\b\b\b\b\b\b\b\b\b\b\b\b\b\b\r6/6 [==============================] - 0s 18ms/step - loss: 151.2776 - classification_loss: 0.2874 - Regression_loss: 150.9902 - classification_accuracy: 0.8706 - Regression_mae: 6.2098\n",
            "Epoch 216/300\n",
            "5/6 [========================>.....] - ETA: 0s - loss: 147.8313 - classification_loss: 0.3325 - Regression_loss: 147.4988 - classification_accuracy: 0.8500 - Regression_mae: 6.1367"
          ]
        },
        {
          "output_type": "stream",
          "name": "stderr",
          "text": [
            "2024/03/09 05:28:36 WARNING mlflow.utils.checkpoint_utils: Checkpoint logging is skipped, because checkpoint 'save_best_only' config is True, it requires to compare the monitored metric value, but the provided monitored metric value is not available.\n"
          ]
        },
        {
          "output_type": "stream",
          "name": "stdout",
          "text": [
            "\b\b\b\b\b\b\b\b\b\b\b\b\b\b\b\b\b\b\b\b\b\b\b\b\b\b\b\b\b\b\b\b\b\b\b\b\b\b\b\b\b\b\b\b\b\b\b\b\b\b\b\b\b\b\b\b\b\b\b\b\b\b\b\b\b\b\b\b\b\b\b\b\b\b\b\b\b\b\b\b\b\b\b\b\b\b\b\b\b\b\b\b\b\b\b\b\b\b\b\b\b\b\b\b\b\b\b\b\b\b\b\b\b\b\b\b\b\b\b\b\b\b\b\b\b\b\b\b\b\b\b\b\b\b\b\b\b\b\b\b\b\b\b\b\b\b\b\b\b\b\b\b\b\b\b\b\b\b\b\b\b\b\b\b\b\b\b\b\b\b\b\b\b\b\b\b\b\b\b\b\r6/6 [==============================] - 0s 18ms/step - loss: 150.2838 - classification_loss: 0.3475 - Regression_loss: 149.9363 - classification_accuracy: 0.8412 - Regression_mae: 6.2484\n",
            "Epoch 217/300\n",
            "4/6 [===================>..........] - ETA: 0s - loss: 177.6694 - classification_loss: 0.3532 - Regression_loss: 177.3163 - classification_accuracy: 0.8281 - Regression_mae: 7.1766"
          ]
        },
        {
          "output_type": "stream",
          "name": "stderr",
          "text": [
            "2024/03/09 05:28:36 WARNING mlflow.utils.checkpoint_utils: Checkpoint logging is skipped, because checkpoint 'save_best_only' config is True, it requires to compare the monitored metric value, but the provided monitored metric value is not available.\n"
          ]
        },
        {
          "output_type": "stream",
          "name": "stdout",
          "text": [
            "\b\b\b\b\b\b\b\b\b\b\b\b\b\b\b\b\b\b\b\b\b\b\b\b\b\b\b\b\b\b\b\b\b\b\b\b\b\b\b\b\b\b\b\b\b\b\b\b\b\b\b\b\b\b\b\b\b\b\b\b\b\b\b\b\b\b\b\b\b\b\b\b\b\b\b\b\b\b\b\b\b\b\b\b\b\b\b\b\b\b\b\b\b\b\b\b\b\b\b\b\b\b\b\b\b\b\b\b\b\b\b\b\b\b\b\b\b\b\b\b\b\b\b\b\b\b\b\b\b\b\b\b\b\b\b\b\b\b\b\b\b\b\b\b\b\b\b\b\b\b\b\b\b\b\b\b\b\b\b\b\b\b\b\b\b\b\b\b\b\b\b\b\b\b\b\b\b\b\b\b\r6/6 [==============================] - 0s 20ms/step - loss: 150.0330 - classification_loss: 0.3182 - Regression_loss: 149.7149 - classification_accuracy: 0.8471 - Regression_mae: 6.4102\n",
            "Epoch 218/300\n",
            "4/6 [===================>..........] - ETA: 0s - loss: 159.2951 - classification_loss: 0.3741 - Regression_loss: 158.9211 - classification_accuracy: 0.8281 - Regression_mae: 6.6665"
          ]
        },
        {
          "output_type": "stream",
          "name": "stderr",
          "text": [
            "2024/03/09 05:28:36 WARNING mlflow.utils.checkpoint_utils: Checkpoint logging is skipped, because checkpoint 'save_best_only' config is True, it requires to compare the monitored metric value, but the provided monitored metric value is not available.\n"
          ]
        },
        {
          "output_type": "stream",
          "name": "stdout",
          "text": [
            "\b\b\b\b\b\b\b\b\b\b\b\b\b\b\b\b\b\b\b\b\b\b\b\b\b\b\b\b\b\b\b\b\b\b\b\b\b\b\b\b\b\b\b\b\b\b\b\b\b\b\b\b\b\b\b\b\b\b\b\b\b\b\b\b\b\b\b\b\b\b\b\b\b\b\b\b\b\b\b\b\b\b\b\b\b\b\b\b\b\b\b\b\b\b\b\b\b\b\b\b\b\b\b\b\b\b\b\b\b\b\b\b\b\b\b\b\b\b\b\b\b\b\b\b\b\b\b\b\b\b\b\b\b\b\b\b\b\b\b\b\b\b\b\b\b\b\b\b\b\b\b\b\b\b\b\b\b\b\b\b\b\b\b\b\b\b\b\b\b\b\b\b\b\b\b\b\b\b\b\b\r6/6 [==============================] - 0s 20ms/step - loss: 152.7461 - classification_loss: 0.3533 - Regression_loss: 152.3928 - classification_accuracy: 0.8412 - Regression_mae: 6.5577\n",
            "Epoch 219/300\n",
            "4/6 [===================>..........] - ETA: 0s - loss: 167.7352 - classification_loss: 0.3508 - Regression_loss: 167.3844 - classification_accuracy: 0.8125 - Regression_mae: 6.9595"
          ]
        },
        {
          "output_type": "stream",
          "name": "stderr",
          "text": [
            "2024/03/09 05:28:37 WARNING mlflow.utils.checkpoint_utils: Checkpoint logging is skipped, because checkpoint 'save_best_only' config is True, it requires to compare the monitored metric value, but the provided monitored metric value is not available.\n"
          ]
        },
        {
          "output_type": "stream",
          "name": "stdout",
          "text": [
            "\b\b\b\b\b\b\b\b\b\b\b\b\b\b\b\b\b\b\b\b\b\b\b\b\b\b\b\b\b\b\b\b\b\b\b\b\b\b\b\b\b\b\b\b\b\b\b\b\b\b\b\b\b\b\b\b\b\b\b\b\b\b\b\b\b\b\b\b\b\b\b\b\b\b\b\b\b\b\b\b\b\b\b\b\b\b\b\b\b\b\b\b\b\b\b\b\b\b\b\b\b\b\b\b\b\b\b\b\b\b\b\b\b\b\b\b\b\b\b\b\b\b\b\b\b\b\b\b\b\b\b\b\b\b\b\b\b\b\b\b\b\b\b\b\b\b\b\b\b\b\b\b\b\b\b\b\b\b\b\b\b\b\b\b\b\b\b\b\b\b\b\b\b\b\b\b\b\b\b\b\r6/6 [==============================] - 0s 18ms/step - loss: 152.8862 - classification_loss: 0.3201 - Regression_loss: 152.5661 - classification_accuracy: 0.8294 - Regression_mae: 6.5645\n",
            "Epoch 220/300\n",
            "4/6 [===================>..........] - ETA: 0s - loss: 174.2311 - classification_loss: 0.3320 - Regression_loss: 173.8991 - classification_accuracy: 0.8125 - Regression_mae: 7.0974"
          ]
        },
        {
          "output_type": "stream",
          "name": "stderr",
          "text": [
            "2024/03/09 05:28:37 WARNING mlflow.utils.checkpoint_utils: Checkpoint logging is skipped, because checkpoint 'save_best_only' config is True, it requires to compare the monitored metric value, but the provided monitored metric value is not available.\n"
          ]
        },
        {
          "output_type": "stream",
          "name": "stdout",
          "text": [
            "\b\b\b\b\b\b\b\b\b\b\b\b\b\b\b\b\b\b\b\b\b\b\b\b\b\b\b\b\b\b\b\b\b\b\b\b\b\b\b\b\b\b\b\b\b\b\b\b\b\b\b\b\b\b\b\b\b\b\b\b\b\b\b\b\b\b\b\b\b\b\b\b\b\b\b\b\b\b\b\b\b\b\b\b\b\b\b\b\b\b\b\b\b\b\b\b\b\b\b\b\b\b\b\b\b\b\b\b\b\b\b\b\b\b\b\b\b\b\b\b\b\b\b\b\b\b\b\b\b\b\b\b\b\b\b\b\b\b\b\b\b\b\b\b\b\b\b\b\b\b\b\b\b\b\b\b\b\b\b\b\b\b\b\b\b\b\b\b\b\b\b\b\b\b\b\b\b\b\b\b\r6/6 [==============================] - 0s 19ms/step - loss: 148.7954 - classification_loss: 0.2964 - Regression_loss: 148.4989 - classification_accuracy: 0.8353 - Regression_mae: 6.3734\n",
            "Epoch 221/300\n",
            "5/6 [========================>.....] - ETA: 0s - loss: 160.4406 - classification_loss: 0.2956 - Regression_loss: 160.1450 - classification_accuracy: 0.8313 - Regression_mae: 7.0160"
          ]
        },
        {
          "output_type": "stream",
          "name": "stderr",
          "text": [
            "2024/03/09 05:28:37 WARNING mlflow.utils.checkpoint_utils: Checkpoint logging is skipped, because checkpoint 'save_best_only' config is True, it requires to compare the monitored metric value, but the provided monitored metric value is not available.\n"
          ]
        },
        {
          "output_type": "stream",
          "name": "stdout",
          "text": [
            "\b\b\b\b\b\b\b\b\b\b\b\b\b\b\b\b\b\b\b\b\b\b\b\b\b\b\b\b\b\b\b\b\b\b\b\b\b\b\b\b\b\b\b\b\b\b\b\b\b\b\b\b\b\b\b\b\b\b\b\b\b\b\b\b\b\b\b\b\b\b\b\b\b\b\b\b\b\b\b\b\b\b\b\b\b\b\b\b\b\b\b\b\b\b\b\b\b\b\b\b\b\b\b\b\b\b\b\b\b\b\b\b\b\b\b\b\b\b\b\b\b\b\b\b\b\b\b\b\b\b\b\b\b\b\b\b\b\b\b\b\b\b\b\b\b\b\b\b\b\b\b\b\b\b\b\b\b\b\b\b\b\b\b\b\b\b\b\b\b\b\b\b\b\b\b\b\b\b\b\b\r6/6 [==============================] - 0s 19ms/step - loss: 154.9608 - classification_loss: 0.2990 - Regression_loss: 154.6618 - classification_accuracy: 0.8235 - Regression_mae: 6.8891\n",
            "Epoch 222/300\n",
            "4/6 [===================>..........] - ETA: 0s - loss: 166.8618 - classification_loss: 0.2738 - Regression_loss: 166.5880 - classification_accuracy: 0.8516 - Regression_mae: 8.0135"
          ]
        },
        {
          "output_type": "stream",
          "name": "stderr",
          "text": [
            "2024/03/09 05:28:37 WARNING mlflow.utils.checkpoint_utils: Checkpoint logging is skipped, because checkpoint 'save_best_only' config is True, it requires to compare the monitored metric value, but the provided monitored metric value is not available.\n"
          ]
        },
        {
          "output_type": "stream",
          "name": "stdout",
          "text": [
            "\b\b\b\b\b\b\b\b\b\b\b\b\b\b\b\b\b\b\b\b\b\b\b\b\b\b\b\b\b\b\b\b\b\b\b\b\b\b\b\b\b\b\b\b\b\b\b\b\b\b\b\b\b\b\b\b\b\b\b\b\b\b\b\b\b\b\b\b\b\b\b\b\b\b\b\b\b\b\b\b\b\b\b\b\b\b\b\b\b\b\b\b\b\b\b\b\b\b\b\b\b\b\b\b\b\b\b\b\b\b\b\b\b\b\b\b\b\b\b\b\b\b\b\b\b\b\b\b\b\b\b\b\b\b\b\b\b\b\b\b\b\b\b\b\b\b\b\b\b\b\b\b\b\b\b\b\b\b\b\b\b\b\b\b\b\b\b\b\b\b\b\b\b\b\b\b\b\b\b\b\r6/6 [==============================] - 0s 18ms/step - loss: 159.0648 - classification_loss: 0.2876 - Regression_loss: 158.7772 - classification_accuracy: 0.8412 - Regression_mae: 7.5222\n",
            "Epoch 223/300\n",
            "5/6 [========================>.....] - ETA: 0s - loss: 163.4511 - classification_loss: 0.2941 - Regression_loss: 163.1570 - classification_accuracy: 0.8438 - Regression_mae: 8.0597"
          ]
        },
        {
          "output_type": "stream",
          "name": "stderr",
          "text": [
            "2024/03/09 05:28:37 WARNING mlflow.utils.checkpoint_utils: Checkpoint logging is skipped, because checkpoint 'save_best_only' config is True, it requires to compare the monitored metric value, but the provided monitored metric value is not available.\n"
          ]
        },
        {
          "output_type": "stream",
          "name": "stdout",
          "text": [
            "\b\b\b\b\b\b\b\b\b\b\b\b\b\b\b\b\b\b\b\b\b\b\b\b\b\b\b\b\b\b\b\b\b\b\b\b\b\b\b\b\b\b\b\b\b\b\b\b\b\b\b\b\b\b\b\b\b\b\b\b\b\b\b\b\b\b\b\b\b\b\b\b\b\b\b\b\b\b\b\b\b\b\b\b\b\b\b\b\b\b\b\b\b\b\b\b\b\b\b\b\b\b\b\b\b\b\b\b\b\b\b\b\b\b\b\b\b\b\b\b\b\b\b\b\b\b\b\b\b\b\b\b\b\b\b\b\b\b\b\b\b\b\b\b\b\b\b\b\b\b\b\b\b\b\b\b\b\b\b\b\b\b\b\b\b\b\b\b\b\b\b\b\b\b\b\b\b\b\b\b\r6/6 [==============================] - 0s 18ms/step - loss: 163.6370 - classification_loss: 0.2912 - Regression_loss: 163.3458 - classification_accuracy: 0.8471 - Regression_mae: 8.0146\n",
            "Epoch 224/300\n",
            "5/6 [========================>.....] - ETA: 0s - loss: 168.9711 - classification_loss: 0.3274 - Regression_loss: 168.6437 - classification_accuracy: 0.8250 - Regression_mae: 7.8124"
          ]
        },
        {
          "output_type": "stream",
          "name": "stderr",
          "text": [
            "2024/03/09 05:28:37 WARNING mlflow.utils.checkpoint_utils: Checkpoint logging is skipped, because checkpoint 'save_best_only' config is True, it requires to compare the monitored metric value, but the provided monitored metric value is not available.\n"
          ]
        },
        {
          "output_type": "stream",
          "name": "stdout",
          "text": [
            "\b\b\b\b\b\b\b\b\b\b\b\b\b\b\b\b\b\b\b\b\b\b\b\b\b\b\b\b\b\b\b\b\b\b\b\b\b\b\b\b\b\b\b\b\b\b\b\b\b\b\b\b\b\b\b\b\b\b\b\b\b\b\b\b\b\b\b\b\b\b\b\b\b\b\b\b\b\b\b\b\b\b\b\b\b\b\b\b\b\b\b\b\b\b\b\b\b\b\b\b\b\b\b\b\b\b\b\b\b\b\b\b\b\b\b\b\b\b\b\b\b\b\b\b\b\b\b\b\b\b\b\b\b\b\b\b\b\b\b\b\b\b\b\b\b\b\b\b\b\b\b\b\b\b\b\b\b\b\b\b\b\b\b\b\b\b\b\b\b\b\b\b\b\b\b\b\b\b\b\b\r6/6 [==============================] - 0s 19ms/step - loss: 165.0209 - classification_loss: 0.3126 - Regression_loss: 164.7084 - classification_accuracy: 0.8353 - Regression_mae: 7.6773\n",
            "Epoch 225/300\n",
            "4/6 [===================>..........] - ETA: 0s - loss: 177.0217 - classification_loss: 0.3257 - Regression_loss: 176.6960 - classification_accuracy: 0.8203 - Regression_mae: 7.3822"
          ]
        },
        {
          "output_type": "stream",
          "name": "stderr",
          "text": [
            "2024/03/09 05:28:37 WARNING mlflow.utils.checkpoint_utils: Checkpoint logging is skipped, because checkpoint 'save_best_only' config is True, it requires to compare the monitored metric value, but the provided monitored metric value is not available.\n"
          ]
        },
        {
          "output_type": "stream",
          "name": "stdout",
          "text": [
            "\b\b\b\b\b\b\b\b\b\b\b\b\b\b\b\b\b\b\b\b\b\b\b\b\b\b\b\b\b\b\b\b\b\b\b\b\b\b\b\b\b\b\b\b\b\b\b\b\b\b\b\b\b\b\b\b\b\b\b\b\b\b\b\b\b\b\b\b\b\b\b\b\b\b\b\b\b\b\b\b\b\b\b\b\b\b\b\b\b\b\b\b\b\b\b\b\b\b\b\b\b\b\b\b\b\b\b\b\b\b\b\b\b\b\b\b\b\b\b\b\b\b\b\b\b\b\b\b\b\b\b\b\b\b\b\b\b\b\b\b\b\b\b\b\b\b\b\b\b\b\b\b\b\b\b\b\b\b\b\b\b\b\b\b\b\b\b\b\b\b\b\b\b\b\b\b\b\b\b\b\r6/6 [==============================] - 0s 19ms/step - loss: 157.9442 - classification_loss: 0.3021 - Regression_loss: 157.6421 - classification_accuracy: 0.8353 - Regression_mae: 7.0406\n",
            "Epoch 226/300\n",
            "4/6 [===================>..........] - ETA: 0s - loss: 167.7367 - classification_loss: 0.2943 - Regression_loss: 167.4424 - classification_accuracy: 0.8438 - Regression_mae: 6.8958"
          ]
        },
        {
          "output_type": "stream",
          "name": "stderr",
          "text": [
            "2024/03/09 05:28:37 WARNING mlflow.utils.checkpoint_utils: Checkpoint logging is skipped, because checkpoint 'save_best_only' config is True, it requires to compare the monitored metric value, but the provided monitored metric value is not available.\n"
          ]
        },
        {
          "output_type": "stream",
          "name": "stdout",
          "text": [
            "\b\b\b\b\b\b\b\b\b\b\b\b\b\b\b\b\b\b\b\b\b\b\b\b\b\b\b\b\b\b\b\b\b\b\b\b\b\b\b\b\b\b\b\b\b\b\b\b\b\b\b\b\b\b\b\b\b\b\b\b\b\b\b\b\b\b\b\b\b\b\b\b\b\b\b\b\b\b\b\b\b\b\b\b\b\b\b\b\b\b\b\b\b\b\b\b\b\b\b\b\b\b\b\b\b\b\b\b\b\b\b\b\b\b\b\b\b\b\b\b\b\b\b\b\b\b\b\b\b\b\b\b\b\b\b\b\b\b\b\b\b\b\b\b\b\b\b\b\b\b\b\b\b\b\b\b\b\b\b\b\b\b\b\b\b\b\b\b\b\b\b\b\b\b\b\b\b\b\b\b\r6/6 [==============================] - 0s 21ms/step - loss: 154.7815 - classification_loss: 0.2970 - Regression_loss: 154.4845 - classification_accuracy: 0.8412 - Regression_mae: 6.6319\n",
            "Epoch 227/300\n",
            "5/6 [========================>.....] - ETA: 0s - loss: 141.8860 - classification_loss: 0.2802 - Regression_loss: 141.6058 - classification_accuracy: 0.8438 - Regression_mae: 6.1854"
          ]
        },
        {
          "output_type": "stream",
          "name": "stderr",
          "text": [
            "2024/03/09 05:28:38 WARNING mlflow.utils.checkpoint_utils: Checkpoint logging is skipped, because checkpoint 'save_best_only' config is True, it requires to compare the monitored metric value, but the provided monitored metric value is not available.\n"
          ]
        },
        {
          "output_type": "stream",
          "name": "stdout",
          "text": [
            "\b\b\b\b\b\b\b\b\b\b\b\b\b\b\b\b\b\b\b\b\b\b\b\b\b\b\b\b\b\b\b\b\b\b\b\b\b\b\b\b\b\b\b\b\b\b\b\b\b\b\b\b\b\b\b\b\b\b\b\b\b\b\b\b\b\b\b\b\b\b\b\b\b\b\b\b\b\b\b\b\b\b\b\b\b\b\b\b\b\b\b\b\b\b\b\b\b\b\b\b\b\b\b\b\b\b\b\b\b\b\b\b\b\b\b\b\b\b\b\b\b\b\b\b\b\b\b\b\b\b\b\b\b\b\b\b\b\b\b\b\b\b\b\b\b\b\b\b\b\b\b\b\b\b\b\b\b\b\b\b\b\b\b\b\b\b\b\b\b\b\b\b\b\b\b\b\b\b\b\b\r6/6 [==============================] - 0s 20ms/step - loss: 151.4422 - classification_loss: 0.2942 - Regression_loss: 151.1480 - classification_accuracy: 0.8294 - Regression_mae: 6.3760\n",
            "Epoch 228/300\n",
            "4/6 [===================>..........] - ETA: 0s - loss: 177.9465 - classification_loss: 0.3171 - Regression_loss: 177.6293 - classification_accuracy: 0.8047 - Regression_mae: 7.5186"
          ]
        },
        {
          "output_type": "stream",
          "name": "stderr",
          "text": [
            "2024/03/09 05:28:38 WARNING mlflow.utils.checkpoint_utils: Checkpoint logging is skipped, because checkpoint 'save_best_only' config is True, it requires to compare the monitored metric value, but the provided monitored metric value is not available.\n"
          ]
        },
        {
          "output_type": "stream",
          "name": "stdout",
          "text": [
            "\b\b\b\b\b\b\b\b\b\b\b\b\b\b\b\b\b\b\b\b\b\b\b\b\b\b\b\b\b\b\b\b\b\b\b\b\b\b\b\b\b\b\b\b\b\b\b\b\b\b\b\b\b\b\b\b\b\b\b\b\b\b\b\b\b\b\b\b\b\b\b\b\b\b\b\b\b\b\b\b\b\b\b\b\b\b\b\b\b\b\b\b\b\b\b\b\b\b\b\b\b\b\b\b\b\b\b\b\b\b\b\b\b\b\b\b\b\b\b\b\b\b\b\b\b\b\b\b\b\b\b\b\b\b\b\b\b\b\b\b\b\b\b\b\b\b\b\b\b\b\b\b\b\b\b\b\b\b\b\b\b\b\b\b\b\b\b\b\b\b\b\b\b\b\b\b\b\b\b\b\r6/6 [==============================] - 0s 22ms/step - loss: 152.9010 - classification_loss: 0.2849 - Regression_loss: 152.6160 - classification_accuracy: 0.8294 - Regression_mae: 6.6663\n",
            "Epoch 229/300\n",
            "4/6 [===================>..........] - ETA: 0s - loss: 192.4548 - classification_loss: 0.3380 - Regression_loss: 192.1168 - classification_accuracy: 0.8203 - Regression_mae: 8.1277"
          ]
        },
        {
          "output_type": "stream",
          "name": "stderr",
          "text": [
            "2024/03/09 05:28:38 WARNING mlflow.utils.checkpoint_utils: Checkpoint logging is skipped, because checkpoint 'save_best_only' config is True, it requires to compare the monitored metric value, but the provided monitored metric value is not available.\n"
          ]
        },
        {
          "output_type": "stream",
          "name": "stdout",
          "text": [
            "\b\b\b\b\b\b\b\b\b\b\b\b\b\b\b\b\b\b\b\b\b\b\b\b\b\b\b\b\b\b\b\b\b\b\b\b\b\b\b\b\b\b\b\b\b\b\b\b\b\b\b\b\b\b\b\b\b\b\b\b\b\b\b\b\b\b\b\b\b\b\b\b\b\b\b\b\b\b\b\b\b\b\b\b\b\b\b\b\b\b\b\b\b\b\b\b\b\b\b\b\b\b\b\b\b\b\b\b\b\b\b\b\b\b\b\b\b\b\b\b\b\b\b\b\b\b\b\b\b\b\b\b\b\b\b\b\b\b\b\b\b\b\b\b\b\b\b\b\b\b\b\b\b\b\b\b\b\b\b\b\b\b\b\b\b\b\b\b\b\b\b\b\b\b\b\b\b\b\b\b\r6/6 [==============================] - 0s 24ms/step - loss: 158.3714 - classification_loss: 0.3059 - Regression_loss: 158.0656 - classification_accuracy: 0.8353 - Regression_mae: 7.0659\n",
            "Epoch 230/300\n",
            "4/6 [===================>..........] - ETA: 0s - loss: 170.8087 - classification_loss: 0.2968 - Regression_loss: 170.5119 - classification_accuracy: 0.8203 - Regression_mae: 8.5945"
          ]
        },
        {
          "output_type": "stream",
          "name": "stderr",
          "text": [
            "2024/03/09 05:28:38 WARNING mlflow.utils.checkpoint_utils: Checkpoint logging is skipped, because checkpoint 'save_best_only' config is True, it requires to compare the monitored metric value, but the provided monitored metric value is not available.\n"
          ]
        },
        {
          "output_type": "stream",
          "name": "stdout",
          "text": [
            "\b\b\b\b\b\b\b\b\b\b\b\b\b\b\b\b\b\b\b\b\b\b\b\b\b\b\b\b\b\b\b\b\b\b\b\b\b\b\b\b\b\b\b\b\b\b\b\b\b\b\b\b\b\b\b\b\b\b\b\b\b\b\b\b\b\b\b\b\b\b\b\b\b\b\b\b\b\b\b\b\b\b\b\b\b\b\b\b\b\b\b\b\b\b\b\b\b\b\b\b\b\b\b\b\b\b\b\b\b\b\b\b\b\b\b\b\b\b\b\b\b\b\b\b\b\b\b\b\b\b\b\b\b\b\b\b\b\b\b\b\b\b\b\b\b\b\b\b\b\b\b\b\b\b\b\b\b\b\b\b\b\b\b\b\b\b\b\b\b\b\b\b\b\b\b\b\b\b\b\b\r6/6 [==============================] - 0s 25ms/step - loss: 165.2773 - classification_loss: 0.2997 - Regression_loss: 164.9776 - classification_accuracy: 0.8294 - Regression_mae: 7.9618\n",
            "Epoch 231/300\n",
            "4/6 [===================>..........] - ETA: 0s - loss: 146.8823 - classification_loss: 0.2898 - Regression_loss: 146.5925 - classification_accuracy: 0.8516 - Regression_mae: 8.3989"
          ]
        },
        {
          "output_type": "stream",
          "name": "stderr",
          "text": [
            "2024/03/09 05:28:38 WARNING mlflow.utils.checkpoint_utils: Checkpoint logging is skipped, because checkpoint 'save_best_only' config is True, it requires to compare the monitored metric value, but the provided monitored metric value is not available.\n"
          ]
        },
        {
          "output_type": "stream",
          "name": "stdout",
          "text": [
            "\b\b\b\b\b\b\b\b\b\b\b\b\b\b\b\b\b\b\b\b\b\b\b\b\b\b\b\b\b\b\b\b\b\b\b\b\b\b\b\b\b\b\b\b\b\b\b\b\b\b\b\b\b\b\b\b\b\b\b\b\b\b\b\b\b\b\b\b\b\b\b\b\b\b\b\b\b\b\b\b\b\b\b\b\b\b\b\b\b\b\b\b\b\b\b\b\b\b\b\b\b\b\b\b\b\b\b\b\b\b\b\b\b\b\b\b\b\b\b\b\b\b\b\b\b\b\b\b\b\b\b\b\b\b\b\b\b\b\b\b\b\b\b\b\b\b\b\b\b\b\b\b\b\b\b\b\b\b\b\b\b\b\b\b\b\b\b\b\b\b\b\b\b\b\b\b\b\b\b\b\r6/6 [==============================] - 0s 22ms/step - loss: 164.5471 - classification_loss: 0.3055 - Regression_loss: 164.2416 - classification_accuracy: 0.8235 - Regression_mae: 8.2810\n",
            "Epoch 232/300\n",
            "4/6 [===================>..........] - ETA: 0s - loss: 155.6912 - classification_loss: 0.3286 - Regression_loss: 155.3625 - classification_accuracy: 0.8516 - Regression_mae: 8.3997"
          ]
        },
        {
          "output_type": "stream",
          "name": "stderr",
          "text": [
            "2024/03/09 05:28:38 WARNING mlflow.utils.checkpoint_utils: Checkpoint logging is skipped, because checkpoint 'save_best_only' config is True, it requires to compare the monitored metric value, but the provided monitored metric value is not available.\n"
          ]
        },
        {
          "output_type": "stream",
          "name": "stdout",
          "text": [
            "\b\b\b\b\b\b\b\b\b\b\b\b\b\b\b\b\b\b\b\b\b\b\b\b\b\b\b\b\b\b\b\b\b\b\b\b\b\b\b\b\b\b\b\b\b\b\b\b\b\b\b\b\b\b\b\b\b\b\b\b\b\b\b\b\b\b\b\b\b\b\b\b\b\b\b\b\b\b\b\b\b\b\b\b\b\b\b\b\b\b\b\b\b\b\b\b\b\b\b\b\b\b\b\b\b\b\b\b\b\b\b\b\b\b\b\b\b\b\b\b\b\b\b\b\b\b\b\b\b\b\b\b\b\b\b\b\b\b\b\b\b\b\b\b\b\b\b\b\b\b\b\b\b\b\b\b\b\b\b\b\b\b\b\b\b\b\b\b\b\b\b\b\b\b\b\b\b\b\b\b\r6/6 [==============================] - 0s 24ms/step - loss: 179.2269 - classification_loss: 0.3639 - Regression_loss: 178.8630 - classification_accuracy: 0.8294 - Regression_mae: 8.6392\n",
            "Epoch 233/300\n",
            "4/6 [===================>..........] - ETA: 0s - loss: 158.5873 - classification_loss: 0.3452 - Regression_loss: 158.2421 - classification_accuracy: 0.8047 - Regression_mae: 7.4971 "
          ]
        },
        {
          "output_type": "stream",
          "name": "stderr",
          "text": [
            "2024/03/09 05:28:38 WARNING mlflow.utils.checkpoint_utils: Checkpoint logging is skipped, because checkpoint 'save_best_only' config is True, it requires to compare the monitored metric value, but the provided monitored metric value is not available.\n"
          ]
        },
        {
          "output_type": "stream",
          "name": "stdout",
          "text": [
            "\b\b\b\b\b\b\b\b\b\b\b\b\b\b\b\b\b\b\b\b\b\b\b\b\b\b\b\b\b\b\b\b\b\b\b\b\b\b\b\b\b\b\b\b\b\b\b\b\b\b\b\b\b\b\b\b\b\b\b\b\b\b\b\b\b\b\b\b\b\b\b\b\b\b\b\b\b\b\b\b\b\b\b\b\b\b\b\b\b\b\b\b\b\b\b\b\b\b\b\b\b\b\b\b\b\b\b\b\b\b\b\b\b\b\b\b\b\b\b\b\b\b\b\b\b\b\b\b\b\b\b\b\b\b\b\b\b\b\b\b\b\b\b\b\b\b\b\b\b\b\b\b\b\b\b\b\b\b\b\b\b\b\b\b\b\b\b\b\b\b\b\b\b\b\b\b\b\b\b\b\r6/6 [==============================] - 0s 25ms/step - loss: 163.1798 - classification_loss: 0.3500 - Regression_loss: 162.8298 - classification_accuracy: 0.8118 - Regression_mae: 7.5139\n",
            "Epoch 234/300\n",
            "4/6 [===================>..........] - ETA: 0s - loss: 170.0383 - classification_loss: 0.3250 - Regression_loss: 169.7133 - classification_accuracy: 0.8125 - Regression_mae: 7.1928"
          ]
        },
        {
          "output_type": "stream",
          "name": "stderr",
          "text": [
            "2024/03/09 05:28:39 WARNING mlflow.utils.checkpoint_utils: Checkpoint logging is skipped, because checkpoint 'save_best_only' config is True, it requires to compare the monitored metric value, but the provided monitored metric value is not available.\n"
          ]
        },
        {
          "output_type": "stream",
          "name": "stdout",
          "text": [
            "\b\b\b\b\b\b\b\b\b\b\b\b\b\b\b\b\b\b\b\b\b\b\b\b\b\b\b\b\b\b\b\b\b\b\b\b\b\b\b\b\b\b\b\b\b\b\b\b\b\b\b\b\b\b\b\b\b\b\b\b\b\b\b\b\b\b\b\b\b\b\b\b\b\b\b\b\b\b\b\b\b\b\b\b\b\b\b\b\b\b\b\b\b\b\b\b\b\b\b\b\b\b\b\b\b\b\b\b\b\b\b\b\b\b\b\b\b\b\b\b\b\b\b\b\b\b\b\b\b\b\b\b\b\b\b\b\b\b\b\b\b\b\b\b\b\b\b\b\b\b\b\b\b\b\b\b\b\b\b\b\b\b\b\b\b\b\b\b\b\b\b\b\b\b\b\b\b\b\b\b\r6/6 [==============================] - 0s 24ms/step - loss: 157.2061 - classification_loss: 0.3307 - Regression_loss: 156.8754 - classification_accuracy: 0.8059 - Regression_mae: 7.1262\n",
            "Epoch 235/300\n",
            "4/6 [===================>..........] - ETA: 0s - loss: 165.7232 - classification_loss: 0.2864 - Regression_loss: 165.4368 - classification_accuracy: 0.8281 - Regression_mae: 6.9810"
          ]
        },
        {
          "output_type": "stream",
          "name": "stderr",
          "text": [
            "2024/03/09 05:28:39 WARNING mlflow.utils.checkpoint_utils: Checkpoint logging is skipped, because checkpoint 'save_best_only' config is True, it requires to compare the monitored metric value, but the provided monitored metric value is not available.\n"
          ]
        },
        {
          "output_type": "stream",
          "name": "stdout",
          "text": [
            "\b\b\b\b\b\b\b\b\b\b\b\b\b\b\b\b\b\b\b\b\b\b\b\b\b\b\b\b\b\b\b\b\b\b\b\b\b\b\b\b\b\b\b\b\b\b\b\b\b\b\b\b\b\b\b\b\b\b\b\b\b\b\b\b\b\b\b\b\b\b\b\b\b\b\b\b\b\b\b\b\b\b\b\b\b\b\b\b\b\b\b\b\b\b\b\b\b\b\b\b\b\b\b\b\b\b\b\b\b\b\b\b\b\b\b\b\b\b\b\b\b\b\b\b\b\b\b\b\b\b\b\b\b\b\b\b\b\b\b\b\b\b\b\b\b\b\b\b\b\b\b\b\b\b\b\b\b\b\b\b\b\b\b\b\b\b\b\b\b\b\b\b\b\b\b\b\b\b\b\b\r6/6 [==============================] - 0s 22ms/step - loss: 152.0502 - classification_loss: 0.2910 - Regression_loss: 151.7592 - classification_accuracy: 0.8118 - Regression_mae: 6.6864\n",
            "Epoch 236/300\n",
            "6/6 [==============================] - ETA: 0s - loss: 153.8373 - classification_loss: 0.3054 - Regression_loss: 153.5319 - classification_accuracy: 0.8176 - Regression_mae: 6.8295"
          ]
        },
        {
          "output_type": "stream",
          "name": "stderr",
          "text": [
            "2024/03/09 05:28:39 WARNING mlflow.utils.checkpoint_utils: Checkpoint logging is skipped, because checkpoint 'save_best_only' config is True, it requires to compare the monitored metric value, but the provided monitored metric value is not available.\n"
          ]
        },
        {
          "output_type": "stream",
          "name": "stdout",
          "text": [
            "\b\b\b\b\b\b\b\b\b\b\b\b\b\b\b\b\b\b\b\b\b\b\b\b\b\b\b\b\b\b\b\b\b\b\b\b\b\b\b\b\b\b\b\b\b\b\b\b\b\b\b\b\b\b\b\b\b\b\b\b\b\b\b\b\b\b\b\b\b\b\b\b\b\b\b\b\b\b\b\b\b\b\b\b\b\b\b\b\b\b\b\b\b\b\b\b\b\b\b\b\b\b\b\b\b\b\b\b\b\b\b\b\b\b\b\b\b\b\b\b\b\b\b\b\b\b\b\b\b\b\b\b\b\b\b\b\b\b\b\b\b\b\b\b\b\b\b\b\b\b\b\b\b\b\b\b\b\b\b\b\b\b\b\b\b\b\b\b\b\b\b\b\b\b\b\b\b\b\b\b\r6/6 [==============================] - 0s 27ms/step - loss: 153.8373 - classification_loss: 0.3054 - Regression_loss: 153.5319 - classification_accuracy: 0.8176 - Regression_mae: 6.8295\n",
            "Epoch 237/300\n",
            "4/6 [===================>..........] - ETA: 0s - loss: 137.7745 - classification_loss: 0.2671 - Regression_loss: 137.5074 - classification_accuracy: 0.8594 - Regression_mae: 6.4133"
          ]
        },
        {
          "output_type": "stream",
          "name": "stderr",
          "text": [
            "2024/03/09 05:28:39 WARNING mlflow.utils.checkpoint_utils: Checkpoint logging is skipped, because checkpoint 'save_best_only' config is True, it requires to compare the monitored metric value, but the provided monitored metric value is not available.\n"
          ]
        },
        {
          "output_type": "stream",
          "name": "stdout",
          "text": [
            "\b\b\b\b\b\b\b\b\b\b\b\b\b\b\b\b\b\b\b\b\b\b\b\b\b\b\b\b\b\b\b\b\b\b\b\b\b\b\b\b\b\b\b\b\b\b\b\b\b\b\b\b\b\b\b\b\b\b\b\b\b\b\b\b\b\b\b\b\b\b\b\b\b\b\b\b\b\b\b\b\b\b\b\b\b\b\b\b\b\b\b\b\b\b\b\b\b\b\b\b\b\b\b\b\b\b\b\b\b\b\b\b\b\b\b\b\b\b\b\b\b\b\b\b\b\b\b\b\b\b\b\b\b\b\b\b\b\b\b\b\b\b\b\b\b\b\b\b\b\b\b\b\b\b\b\b\b\b\b\b\b\b\b\b\b\b\b\b\b\b\b\b\b\b\b\b\b\b\b\b\r6/6 [==============================] - 0s 20ms/step - loss: 153.9900 - classification_loss: 0.3017 - Regression_loss: 153.6883 - classification_accuracy: 0.8353 - Regression_mae: 6.7737\n",
            "Epoch 238/300\n",
            "4/6 [===================>..........] - ETA: 0s - loss: 127.6150 - classification_loss: 0.2961 - Regression_loss: 127.3189 - classification_accuracy: 0.8516 - Regression_mae: 5.5334"
          ]
        },
        {
          "output_type": "stream",
          "name": "stderr",
          "text": [
            "2024/03/09 05:28:39 WARNING mlflow.utils.checkpoint_utils: Checkpoint logging is skipped, because checkpoint 'save_best_only' config is True, it requires to compare the monitored metric value, but the provided monitored metric value is not available.\n"
          ]
        },
        {
          "output_type": "stream",
          "name": "stdout",
          "text": [
            "\b\b\b\b\b\b\b\b\b\b\b\b\b\b\b\b\b\b\b\b\b\b\b\b\b\b\b\b\b\b\b\b\b\b\b\b\b\b\b\b\b\b\b\b\b\b\b\b\b\b\b\b\b\b\b\b\b\b\b\b\b\b\b\b\b\b\b\b\b\b\b\b\b\b\b\b\b\b\b\b\b\b\b\b\b\b\b\b\b\b\b\b\b\b\b\b\b\b\b\b\b\b\b\b\b\b\b\b\b\b\b\b\b\b\b\b\b\b\b\b\b\b\b\b\b\b\b\b\b\b\b\b\b\b\b\b\b\b\b\b\b\b\b\b\b\b\b\b\b\b\b\b\b\b\b\b\b\b\b\b\b\b\b\b\b\b\b\b\b\b\b\b\b\b\b\b\b\b\b\b\r6/6 [==============================] - 0s 23ms/step - loss: 149.2480 - classification_loss: 0.3027 - Regression_loss: 148.9454 - classification_accuracy: 0.8412 - Regression_mae: 6.0992\n",
            "Epoch 239/300\n",
            "4/6 [===================>..........] - ETA: 0s - loss: 135.2675 - classification_loss: 0.2697 - Regression_loss: 134.9978 - classification_accuracy: 0.8438 - Regression_mae: 5.7925"
          ]
        },
        {
          "output_type": "stream",
          "name": "stderr",
          "text": [
            "2024/03/09 05:28:39 WARNING mlflow.utils.checkpoint_utils: Checkpoint logging is skipped, because checkpoint 'save_best_only' config is True, it requires to compare the monitored metric value, but the provided monitored metric value is not available.\n"
          ]
        },
        {
          "output_type": "stream",
          "name": "stdout",
          "text": [
            "\b\b\b\b\b\b\b\b\b\b\b\b\b\b\b\b\b\b\b\b\b\b\b\b\b\b\b\b\b\b\b\b\b\b\b\b\b\b\b\b\b\b\b\b\b\b\b\b\b\b\b\b\b\b\b\b\b\b\b\b\b\b\b\b\b\b\b\b\b\b\b\b\b\b\b\b\b\b\b\b\b\b\b\b\b\b\b\b\b\b\b\b\b\b\b\b\b\b\b\b\b\b\b\b\b\b\b\b\b\b\b\b\b\b\b\b\b\b\b\b\b\b\b\b\b\b\b\b\b\b\b\b\b\b\b\b\b\b\b\b\b\b\b\b\b\b\b\b\b\b\b\b\b\b\b\b\b\b\b\b\b\b\b\b\b\b\b\b\b\b\b\b\b\b\b\b\b\b\b\b\r6/6 [==============================] - 0s 25ms/step - loss: 150.1319 - classification_loss: 0.2998 - Regression_loss: 149.8321 - classification_accuracy: 0.8294 - Regression_mae: 6.1767\n",
            "Epoch 240/300\n",
            "5/6 [========================>.....] - ETA: 0s - loss: 159.2655 - classification_loss: 0.2998 - Regression_loss: 158.9657 - classification_accuracy: 0.8250 - Regression_mae: 6.4645"
          ]
        },
        {
          "output_type": "stream",
          "name": "stderr",
          "text": [
            "2024/03/09 05:28:40 WARNING mlflow.utils.checkpoint_utils: Checkpoint logging is skipped, because checkpoint 'save_best_only' config is True, it requires to compare the monitored metric value, but the provided monitored metric value is not available.\n"
          ]
        },
        {
          "output_type": "stream",
          "name": "stdout",
          "text": [
            "\b\b\b\b\b\b\b\b\b\b\b\b\b\b\b\b\b\b\b\b\b\b\b\b\b\b\b\b\b\b\b\b\b\b\b\b\b\b\b\b\b\b\b\b\b\b\b\b\b\b\b\b\b\b\b\b\b\b\b\b\b\b\b\b\b\b\b\b\b\b\b\b\b\b\b\b\b\b\b\b\b\b\b\b\b\b\b\b\b\b\b\b\b\b\b\b\b\b\b\b\b\b\b\b\b\b\b\b\b\b\b\b\b\b\b\b\b\b\b\b\b\b\b\b\b\b\b\b\b\b\b\b\b\b\b\b\b\b\b\b\b\b\b\b\b\b\b\b\b\b\b\b\b\b\b\b\b\b\b\b\b\b\b\b\b\b\b\b\b\b\b\b\b\b\b\b\b\b\b\b\r6/6 [==============================] - 0s 35ms/step - loss: 154.9997 - classification_loss: 0.2932 - Regression_loss: 154.7065 - classification_accuracy: 0.8294 - Regression_mae: 6.3639\n",
            "Epoch 241/300\n",
            "5/6 [========================>.....] - ETA: 0s - loss: 154.4762 - classification_loss: 0.2878 - Regression_loss: 154.1884 - classification_accuracy: 0.8375 - Regression_mae: 6.6508"
          ]
        },
        {
          "output_type": "stream",
          "name": "stderr",
          "text": [
            "2024/03/09 05:28:40 WARNING mlflow.utils.checkpoint_utils: Checkpoint logging is skipped, because checkpoint 'save_best_only' config is True, it requires to compare the monitored metric value, but the provided monitored metric value is not available.\n"
          ]
        },
        {
          "output_type": "stream",
          "name": "stdout",
          "text": [
            "\b\b\b\b\b\b\b\b\b\b\b\b\b\b\b\b\b\b\b\b\b\b\b\b\b\b\b\b\b\b\b\b\b\b\b\b\b\b\b\b\b\b\b\b\b\b\b\b\b\b\b\b\b\b\b\b\b\b\b\b\b\b\b\b\b\b\b\b\b\b\b\b\b\b\b\b\b\b\b\b\b\b\b\b\b\b\b\b\b\b\b\b\b\b\b\b\b\b\b\b\b\b\b\b\b\b\b\b\b\b\b\b\b\b\b\b\b\b\b\b\b\b\b\b\b\b\b\b\b\b\b\b\b\b\b\b\b\b\b\b\b\b\b\b\b\b\b\b\b\b\b\b\b\b\b\b\b\b\b\b\b\b\b\b\b\b\b\b\b\b\b\b\b\b\b\b\b\b\b\b\r6/6 [==============================] - 0s 33ms/step - loss: 152.0050 - classification_loss: 0.2955 - Regression_loss: 151.7096 - classification_accuracy: 0.8353 - Regression_mae: 6.6115\n",
            "Epoch 242/300\n",
            "5/6 [========================>.....] - ETA: 0s - loss: 135.3359 - classification_loss: 0.2734 - Regression_loss: 135.0625 - classification_accuracy: 0.8375 - Regression_mae: 6.3548"
          ]
        },
        {
          "output_type": "stream",
          "name": "stderr",
          "text": [
            "2024/03/09 05:28:40 WARNING mlflow.utils.checkpoint_utils: Checkpoint logging is skipped, because checkpoint 'save_best_only' config is True, it requires to compare the monitored metric value, but the provided monitored metric value is not available.\n"
          ]
        },
        {
          "output_type": "stream",
          "name": "stdout",
          "text": [
            "\b\b\b\b\b\b\b\b\b\b\b\b\b\b\b\b\b\b\b\b\b\b\b\b\b\b\b\b\b\b\b\b\b\b\b\b\b\b\b\b\b\b\b\b\b\b\b\b\b\b\b\b\b\b\b\b\b\b\b\b\b\b\b\b\b\b\b\b\b\b\b\b\b\b\b\b\b\b\b\b\b\b\b\b\b\b\b\b\b\b\b\b\b\b\b\b\b\b\b\b\b\b\b\b\b\b\b\b\b\b\b\b\b\b\b\b\b\b\b\b\b\b\b\b\b\b\b\b\b\b\b\b\b\b\b\b\b\b\b\b\b\b\b\b\b\b\b\b\b\b\b\b\b\b\b\b\b\b\b\b\b\b\b\b\b\b\b\b\b\b\b\b\b\b\b\b\b\b\b\b\r6/6 [==============================] - 0s 32ms/step - loss: 152.7797 - classification_loss: 0.2903 - Regression_loss: 152.4894 - classification_accuracy: 0.8294 - Regression_mae: 6.6699\n",
            "Epoch 243/300\n",
            "6/6 [==============================] - ETA: 0s - loss: 153.7418 - classification_loss: 0.3043 - Regression_loss: 153.4375 - classification_accuracy: 0.8412 - Regression_mae: 6.7302"
          ]
        },
        {
          "output_type": "stream",
          "name": "stderr",
          "text": [
            "2024/03/09 05:28:40 WARNING mlflow.utils.checkpoint_utils: Checkpoint logging is skipped, because checkpoint 'save_best_only' config is True, it requires to compare the monitored metric value, but the provided monitored metric value is not available.\n"
          ]
        },
        {
          "output_type": "stream",
          "name": "stdout",
          "text": [
            "\b\b\b\b\b\b\b\b\b\b\b\b\b\b\b\b\b\b\b\b\b\b\b\b\b\b\b\b\b\b\b\b\b\b\b\b\b\b\b\b\b\b\b\b\b\b\b\b\b\b\b\b\b\b\b\b\b\b\b\b\b\b\b\b\b\b\b\b\b\b\b\b\b\b\b\b\b\b\b\b\b\b\b\b\b\b\b\b\b\b\b\b\b\b\b\b\b\b\b\b\b\b\b\b\b\b\b\b\b\b\b\b\b\b\b\b\b\b\b\b\b\b\b\b\b\b\b\b\b\b\b\b\b\b\b\b\b\b\b\b\b\b\b\b\b\b\b\b\b\b\b\b\b\b\b\b\b\b\b\b\b\b\b\b\b\b\b\b\b\b\b\b\b\b\b\b\b\b\b\b\r6/6 [==============================] - 0s 27ms/step - loss: 153.7418 - classification_loss: 0.3043 - Regression_loss: 153.4375 - classification_accuracy: 0.8412 - Regression_mae: 6.7302\n",
            "Epoch 244/300\n",
            "4/6 [===================>..........] - ETA: 0s - loss: 141.8267 - classification_loss: 0.2709 - Regression_loss: 141.5557 - classification_accuracy: 0.8750 - Regression_mae: 5.9238"
          ]
        },
        {
          "output_type": "stream",
          "name": "stderr",
          "text": [
            "2024/03/09 05:28:40 WARNING mlflow.utils.checkpoint_utils: Checkpoint logging is skipped, because checkpoint 'save_best_only' config is True, it requires to compare the monitored metric value, but the provided monitored metric value is not available.\n"
          ]
        },
        {
          "output_type": "stream",
          "name": "stdout",
          "text": [
            "\b\b\b\b\b\b\b\b\b\b\b\b\b\b\b\b\b\b\b\b\b\b\b\b\b\b\b\b\b\b\b\b\b\b\b\b\b\b\b\b\b\b\b\b\b\b\b\b\b\b\b\b\b\b\b\b\b\b\b\b\b\b\b\b\b\b\b\b\b\b\b\b\b\b\b\b\b\b\b\b\b\b\b\b\b\b\b\b\b\b\b\b\b\b\b\b\b\b\b\b\b\b\b\b\b\b\b\b\b\b\b\b\b\b\b\b\b\b\b\b\b\b\b\b\b\b\b\b\b\b\b\b\b\b\b\b\b\b\b\b\b\b\b\b\b\b\b\b\b\b\b\b\b\b\b\b\b\b\b\b\b\b\b\b\b\b\b\b\b\b\b\b\b\b\b\b\b\b\b\b\r6/6 [==============================] - 0s 24ms/step - loss: 152.0528 - classification_loss: 0.2942 - Regression_loss: 151.7586 - classification_accuracy: 0.8588 - Regression_mae: 6.2860\n",
            "Epoch 245/300\n",
            "5/6 [========================>.....] - ETA: 0s - loss: 155.7575 - classification_loss: 0.2980 - Regression_loss: 155.4595 - classification_accuracy: 0.8375 - Regression_mae: 6.3404"
          ]
        },
        {
          "output_type": "stream",
          "name": "stderr",
          "text": [
            "2024/03/09 05:28:41 WARNING mlflow.utils.checkpoint_utils: Checkpoint logging is skipped, because checkpoint 'save_best_only' config is True, it requires to compare the monitored metric value, but the provided monitored metric value is not available.\n"
          ]
        },
        {
          "output_type": "stream",
          "name": "stdout",
          "text": [
            "\b\b\b\b\b\b\b\b\b\b\b\b\b\b\b\b\b\b\b\b\b\b\b\b\b\b\b\b\b\b\b\b\b\b\b\b\b\b\b\b\b\b\b\b\b\b\b\b\b\b\b\b\b\b\b\b\b\b\b\b\b\b\b\b\b\b\b\b\b\b\b\b\b\b\b\b\b\b\b\b\b\b\b\b\b\b\b\b\b\b\b\b\b\b\b\b\b\b\b\b\b\b\b\b\b\b\b\b\b\b\b\b\b\b\b\b\b\b\b\b\b\b\b\b\b\b\b\b\b\b\b\b\b\b\b\b\b\b\b\b\b\b\b\b\b\b\b\b\b\b\b\b\b\b\b\b\b\b\b\b\b\b\b\b\b\b\b\b\b\b\b\b\b\b\b\b\b\b\b\b\r6/6 [==============================] - 0s 34ms/step - loss: 150.1920 - classification_loss: 0.2927 - Regression_loss: 149.8993 - classification_accuracy: 0.8353 - Regression_mae: 6.1911\n",
            "Epoch 246/300\n",
            "5/6 [========================>.....] - ETA: 0s - loss: 161.2778 - classification_loss: 0.2985 - Regression_loss: 160.9793 - classification_accuracy: 0.8250 - Regression_mae: 6.7774"
          ]
        },
        {
          "output_type": "stream",
          "name": "stderr",
          "text": [
            "2024/03/09 05:28:41 WARNING mlflow.utils.checkpoint_utils: Checkpoint logging is skipped, because checkpoint 'save_best_only' config is True, it requires to compare the monitored metric value, but the provided monitored metric value is not available.\n"
          ]
        },
        {
          "output_type": "stream",
          "name": "stdout",
          "text": [
            "\b\b\b\b\b\b\b\b\b\b\b\b\b\b\b\b\b\b\b\b\b\b\b\b\b\b\b\b\b\b\b\b\b\b\b\b\b\b\b\b\b\b\b\b\b\b\b\b\b\b\b\b\b\b\b\b\b\b\b\b\b\b\b\b\b\b\b\b\b\b\b\b\b\b\b\b\b\b\b\b\b\b\b\b\b\b\b\b\b\b\b\b\b\b\b\b\b\b\b\b\b\b\b\b\b\b\b\b\b\b\b\b\b\b\b\b\b\b\b\b\b\b\b\b\b\b\b\b\b\b\b\b\b\b\b\b\b\b\b\b\b\b\b\b\b\b\b\b\b\b\b\b\b\b\b\b\b\b\b\b\b\b\b\b\b\b\b\b\b\b\b\b\b\b\b\b\b\b\b\b\r6/6 [==============================] - 0s 32ms/step - loss: 153.0045 - classification_loss: 0.2883 - Regression_loss: 152.7163 - classification_accuracy: 0.8294 - Regression_mae: 6.4837\n",
            "Epoch 247/300\n",
            "5/6 [========================>.....] - ETA: 0s - loss: 146.4565 - classification_loss: 0.2808 - Regression_loss: 146.1757 - classification_accuracy: 0.8375 - Regression_mae: 6.6564"
          ]
        },
        {
          "output_type": "stream",
          "name": "stderr",
          "text": [
            "2024/03/09 05:28:41 WARNING mlflow.utils.checkpoint_utils: Checkpoint logging is skipped, because checkpoint 'save_best_only' config is True, it requires to compare the monitored metric value, but the provided monitored metric value is not available.\n"
          ]
        },
        {
          "output_type": "stream",
          "name": "stdout",
          "text": [
            "\b\b\b\b\b\b\b\b\b\b\b\b\b\b\b\b\b\b\b\b\b\b\b\b\b\b\b\b\b\b\b\b\b\b\b\b\b\b\b\b\b\b\b\b\b\b\b\b\b\b\b\b\b\b\b\b\b\b\b\b\b\b\b\b\b\b\b\b\b\b\b\b\b\b\b\b\b\b\b\b\b\b\b\b\b\b\b\b\b\b\b\b\b\b\b\b\b\b\b\b\b\b\b\b\b\b\b\b\b\b\b\b\b\b\b\b\b\b\b\b\b\b\b\b\b\b\b\b\b\b\b\b\b\b\b\b\b\b\b\b\b\b\b\b\b\b\b\b\b\b\b\b\b\b\b\b\b\b\b\b\b\b\b\b\b\b\b\b\b\b\b\b\b\b\b\b\b\b\b\b\r6/6 [==============================] - 0s 33ms/step - loss: 152.3980 - classification_loss: 0.2855 - Regression_loss: 152.1125 - classification_accuracy: 0.8294 - Regression_mae: 6.6813\n",
            "Epoch 248/300\n",
            "6/6 [==============================] - ETA: 0s - loss: 152.0318 - classification_loss: 0.2830 - Regression_loss: 151.7487 - classification_accuracy: 0.8353 - Regression_mae: 6.6304"
          ]
        },
        {
          "output_type": "stream",
          "name": "stderr",
          "text": [
            "2024/03/09 05:28:41 WARNING mlflow.utils.checkpoint_utils: Checkpoint logging is skipped, because checkpoint 'save_best_only' config is True, it requires to compare the monitored metric value, but the provided monitored metric value is not available.\n"
          ]
        },
        {
          "output_type": "stream",
          "name": "stdout",
          "text": [
            "\b\b\b\b\b\b\b\b\b\b\b\b\b\b\b\b\b\b\b\b\b\b\b\b\b\b\b\b\b\b\b\b\b\b\b\b\b\b\b\b\b\b\b\b\b\b\b\b\b\b\b\b\b\b\b\b\b\b\b\b\b\b\b\b\b\b\b\b\b\b\b\b\b\b\b\b\b\b\b\b\b\b\b\b\b\b\b\b\b\b\b\b\b\b\b\b\b\b\b\b\b\b\b\b\b\b\b\b\b\b\b\b\b\b\b\b\b\b\b\b\b\b\b\b\b\b\b\b\b\b\b\b\b\b\b\b\b\b\b\b\b\b\b\b\b\b\b\b\b\b\b\b\b\b\b\b\b\b\b\b\b\b\b\b\b\b\b\b\b\b\b\b\b\b\b\b\b\b\b\b\r6/6 [==============================] - 0s 32ms/step - loss: 152.0318 - classification_loss: 0.2830 - Regression_loss: 151.7487 - classification_accuracy: 0.8353 - Regression_mae: 6.6304\n",
            "Epoch 249/300\n",
            "5/6 [========================>.....] - ETA: 0s - loss: 151.7928 - classification_loss: 0.2820 - Regression_loss: 151.5108 - classification_accuracy: 0.8375 - Regression_mae: 6.2122"
          ]
        },
        {
          "output_type": "stream",
          "name": "stderr",
          "text": [
            "2024/03/09 05:28:41 WARNING mlflow.utils.checkpoint_utils: Checkpoint logging is skipped, because checkpoint 'save_best_only' config is True, it requires to compare the monitored metric value, but the provided monitored metric value is not available.\n"
          ]
        },
        {
          "output_type": "stream",
          "name": "stdout",
          "text": [
            "\b\b\b\b\b\b\b\b\b\b\b\b\b\b\b\b\b\b\b\b\b\b\b\b\b\b\b\b\b\b\b\b\b\b\b\b\b\b\b\b\b\b\b\b\b\b\b\b\b\b\b\b\b\b\b\b\b\b\b\b\b\b\b\b\b\b\b\b\b\b\b\b\b\b\b\b\b\b\b\b\b\b\b\b\b\b\b\b\b\b\b\b\b\b\b\b\b\b\b\b\b\b\b\b\b\b\b\b\b\b\b\b\b\b\b\b\b\b\b\b\b\b\b\b\b\b\b\b\b\b\b\b\b\b\b\b\b\b\b\b\b\b\b\b\b\b\b\b\b\b\b\b\b\b\b\b\b\b\b\b\b\b\b\b\b\b\b\b\b\b\b\b\b\b\b\b\b\b\b\b\r6/6 [==============================] - 0s 31ms/step - loss: 152.4356 - classification_loss: 0.2826 - Regression_loss: 152.1530 - classification_accuracy: 0.8412 - Regression_mae: 6.3444\n",
            "Epoch 250/300\n",
            "4/6 [===================>..........] - ETA: 0s - loss: 138.9450 - classification_loss: 0.2850 - Regression_loss: 138.6600 - classification_accuracy: 0.8125 - Regression_mae: 6.2803"
          ]
        },
        {
          "output_type": "stream",
          "name": "stderr",
          "text": [
            "2024/03/09 05:28:42 WARNING mlflow.utils.checkpoint_utils: Checkpoint logging is skipped, because checkpoint 'save_best_only' config is True, it requires to compare the monitored metric value, but the provided monitored metric value is not available.\n"
          ]
        },
        {
          "output_type": "stream",
          "name": "stdout",
          "text": [
            "\b\b\b\b\b\b\b\b\b\b\b\b\b\b\b\b\b\b\b\b\b\b\b\b\b\b\b\b\b\b\b\b\b\b\b\b\b\b\b\b\b\b\b\b\b\b\b\b\b\b\b\b\b\b\b\b\b\b\b\b\b\b\b\b\b\b\b\b\b\b\b\b\b\b\b\b\b\b\b\b\b\b\b\b\b\b\b\b\b\b\b\b\b\b\b\b\b\b\b\b\b\b\b\b\b\b\b\b\b\b\b\b\b\b\b\b\b\b\b\b\b\b\b\b\b\b\b\b\b\b\b\b\b\b\b\b\b\b\b\b\b\b\b\b\b\b\b\b\b\b\b\b\b\b\b\b\b\b\b\b\b\b\b\b\b\b\b\b\b\b\b\b\b\b\b\b\b\b\b\b\r6/6 [==============================] - 0s 25ms/step - loss: 153.4014 - classification_loss: 0.2806 - Regression_loss: 153.1208 - classification_accuracy: 0.8176 - Regression_mae: 6.6139\n",
            "Epoch 251/300\n",
            "4/6 [===================>..........] - ETA: 0s - loss: 177.4743 - classification_loss: 0.3239 - Regression_loss: 177.1504 - classification_accuracy: 0.8281 - Regression_mae: 7.1307"
          ]
        },
        {
          "output_type": "stream",
          "name": "stderr",
          "text": [
            "2024/03/09 05:28:42 WARNING mlflow.utils.checkpoint_utils: Checkpoint logging is skipped, because checkpoint 'save_best_only' config is True, it requires to compare the monitored metric value, but the provided monitored metric value is not available.\n"
          ]
        },
        {
          "output_type": "stream",
          "name": "stdout",
          "text": [
            "\b\b\b\b\b\b\b\b\b\b\b\b\b\b\b\b\b\b\b\b\b\b\b\b\b\b\b\b\b\b\b\b\b\b\b\b\b\b\b\b\b\b\b\b\b\b\b\b\b\b\b\b\b\b\b\b\b\b\b\b\b\b\b\b\b\b\b\b\b\b\b\b\b\b\b\b\b\b\b\b\b\b\b\b\b\b\b\b\b\b\b\b\b\b\b\b\b\b\b\b\b\b\b\b\b\b\b\b\b\b\b\b\b\b\b\b\b\b\b\b\b\b\b\b\b\b\b\b\b\b\b\b\b\b\b\b\b\b\b\b\b\b\b\b\b\b\b\b\b\b\b\b\b\b\b\b\b\b\b\b\b\b\b\b\b\b\b\b\b\b\b\b\b\b\b\b\b\b\b\b\r6/6 [==============================] - 0s 25ms/step - loss: 150.6899 - classification_loss: 0.2933 - Regression_loss: 150.3966 - classification_accuracy: 0.8412 - Regression_mae: 6.2430\n",
            "Epoch 252/300\n",
            "4/6 [===================>..........] - ETA: 0s - loss: 128.4517 - classification_loss: 0.2462 - Regression_loss: 128.2056 - classification_accuracy: 0.8359 - Regression_mae: 5.2248"
          ]
        },
        {
          "output_type": "stream",
          "name": "stderr",
          "text": [
            "2024/03/09 05:28:42 WARNING mlflow.utils.checkpoint_utils: Checkpoint logging is skipped, because checkpoint 'save_best_only' config is True, it requires to compare the monitored metric value, but the provided monitored metric value is not available.\n"
          ]
        },
        {
          "output_type": "stream",
          "name": "stdout",
          "text": [
            "\b\b\b\b\b\b\b\b\b\b\b\b\b\b\b\b\b\b\b\b\b\b\b\b\b\b\b\b\b\b\b\b\b\b\b\b\b\b\b\b\b\b\b\b\b\b\b\b\b\b\b\b\b\b\b\b\b\b\b\b\b\b\b\b\b\b\b\b\b\b\b\b\b\b\b\b\b\b\b\b\b\b\b\b\b\b\b\b\b\b\b\b\b\b\b\b\b\b\b\b\b\b\b\b\b\b\b\b\b\b\b\b\b\b\b\b\b\b\b\b\b\b\b\b\b\b\b\b\b\b\b\b\b\b\b\b\b\b\b\b\b\b\b\b\b\b\b\b\b\b\b\b\b\b\b\b\b\b\b\b\b\b\b\b\b\b\b\b\b\b\b\b\b\b\b\b\b\b\b\b\r6/6 [==============================] - 0s 27ms/step - loss: 149.1791 - classification_loss: 0.2905 - Regression_loss: 148.8887 - classification_accuracy: 0.8235 - Regression_mae: 5.8641\n",
            "Epoch 253/300\n",
            "4/6 [===================>..........] - ETA: 0s - loss: 136.9791 - classification_loss: 0.2793 - Regression_loss: 136.6999 - classification_accuracy: 0.8516 - Regression_mae: 5.9621"
          ]
        },
        {
          "output_type": "stream",
          "name": "stderr",
          "text": [
            "2024/03/09 05:28:42 WARNING mlflow.utils.checkpoint_utils: Checkpoint logging is skipped, because checkpoint 'save_best_only' config is True, it requires to compare the monitored metric value, but the provided monitored metric value is not available.\n"
          ]
        },
        {
          "output_type": "stream",
          "name": "stdout",
          "text": [
            "\b\b\b\b\b\b\b\b\b\b\b\b\b\b\b\b\b\b\b\b\b\b\b\b\b\b\b\b\b\b\b\b\b\b\b\b\b\b\b\b\b\b\b\b\b\b\b\b\b\b\b\b\b\b\b\b\b\b\b\b\b\b\b\b\b\b\b\b\b\b\b\b\b\b\b\b\b\b\b\b\b\b\b\b\b\b\b\b\b\b\b\b\b\b\b\b\b\b\b\b\b\b\b\b\b\b\b\b\b\b\b\b\b\b\b\b\b\b\b\b\b\b\b\b\b\b\b\b\b\b\b\b\b\b\b\b\b\b\b\b\b\b\b\b\b\b\b\b\b\b\b\b\b\b\b\b\b\b\b\b\b\b\b\b\b\b\b\b\b\b\b\b\b\b\b\b\b\b\b\b\r6/6 [==============================] - 0s 24ms/step - loss: 149.9414 - classification_loss: 0.3007 - Regression_loss: 149.6407 - classification_accuracy: 0.8412 - Regression_mae: 6.1862\n",
            "Epoch 254/300\n",
            "4/6 [===================>..........] - ETA: 0s - loss: 140.1205 - classification_loss: 0.2915 - Regression_loss: 139.8291 - classification_accuracy: 0.8672 - Regression_mae: 6.4606"
          ]
        },
        {
          "output_type": "stream",
          "name": "stderr",
          "text": [
            "2024/03/09 05:28:42 WARNING mlflow.utils.checkpoint_utils: Checkpoint logging is skipped, because checkpoint 'save_best_only' config is True, it requires to compare the monitored metric value, but the provided monitored metric value is not available.\n"
          ]
        },
        {
          "output_type": "stream",
          "name": "stdout",
          "text": [
            "\b\b\b\b\b\b\b\b\b\b\b\b\b\b\b\b\b\b\b\b\b\b\b\b\b\b\b\b\b\b\b\b\b\b\b\b\b\b\b\b\b\b\b\b\b\b\b\b\b\b\b\b\b\b\b\b\b\b\b\b\b\b\b\b\b\b\b\b\b\b\b\b\b\b\b\b\b\b\b\b\b\b\b\b\b\b\b\b\b\b\b\b\b\b\b\b\b\b\b\b\b\b\b\b\b\b\b\b\b\b\b\b\b\b\b\b\b\b\b\b\b\b\b\b\b\b\b\b\b\b\b\b\b\b\b\b\b\b\b\b\b\b\b\b\b\b\b\b\b\b\b\b\b\b\b\b\b\b\b\b\b\b\b\b\b\b\b\b\b\b\b\b\b\b\b\b\b\b\b\b\r6/6 [==============================] - 0s 25ms/step - loss: 155.2196 - classification_loss: 0.3637 - Regression_loss: 154.8559 - classification_accuracy: 0.8412 - Regression_mae: 7.0670\n",
            "Epoch 255/300\n",
            "6/6 [==============================] - ETA: 0s - loss: 153.9693 - classification_loss: 0.3520 - Regression_loss: 153.6172 - classification_accuracy: 0.8471 - Regression_mae: 6.7254"
          ]
        },
        {
          "output_type": "stream",
          "name": "stderr",
          "text": [
            "2024/03/09 05:28:42 WARNING mlflow.utils.checkpoint_utils: Checkpoint logging is skipped, because checkpoint 'save_best_only' config is True, it requires to compare the monitored metric value, but the provided monitored metric value is not available.\n"
          ]
        },
        {
          "output_type": "stream",
          "name": "stdout",
          "text": [
            "\b\b\b\b\b\b\b\b\b\b\b\b\b\b\b\b\b\b\b\b\b\b\b\b\b\b\b\b\b\b\b\b\b\b\b\b\b\b\b\b\b\b\b\b\b\b\b\b\b\b\b\b\b\b\b\b\b\b\b\b\b\b\b\b\b\b\b\b\b\b\b\b\b\b\b\b\b\b\b\b\b\b\b\b\b\b\b\b\b\b\b\b\b\b\b\b\b\b\b\b\b\b\b\b\b\b\b\b\b\b\b\b\b\b\b\b\b\b\b\b\b\b\b\b\b\b\b\b\b\b\b\b\b\b\b\b\b\b\b\b\b\b\b\b\b\b\b\b\b\b\b\b\b\b\b\b\b\b\b\b\b\b\b\b\b\b\b\b\b\b\b\b\b\b\b\b\b\b\b\b\r6/6 [==============================] - 0s 28ms/step - loss: 153.9693 - classification_loss: 0.3520 - Regression_loss: 153.6172 - classification_accuracy: 0.8471 - Regression_mae: 6.7254\n",
            "Epoch 256/300\n",
            "5/6 [========================>.....] - ETA: 0s - loss: 143.6712 - classification_loss: 0.2838 - Regression_loss: 143.3873 - classification_accuracy: 0.8687 - Regression_mae: 5.9621"
          ]
        },
        {
          "output_type": "stream",
          "name": "stderr",
          "text": [
            "2024/03/09 05:28:43 WARNING mlflow.utils.checkpoint_utils: Checkpoint logging is skipped, because checkpoint 'save_best_only' config is True, it requires to compare the monitored metric value, but the provided monitored metric value is not available.\n"
          ]
        },
        {
          "output_type": "stream",
          "name": "stdout",
          "text": [
            "\b\b\b\b\b\b\b\b\b\b\b\b\b\b\b\b\b\b\b\b\b\b\b\b\b\b\b\b\b\b\b\b\b\b\b\b\b\b\b\b\b\b\b\b\b\b\b\b\b\b\b\b\b\b\b\b\b\b\b\b\b\b\b\b\b\b\b\b\b\b\b\b\b\b\b\b\b\b\b\b\b\b\b\b\b\b\b\b\b\b\b\b\b\b\b\b\b\b\b\b\b\b\b\b\b\b\b\b\b\b\b\b\b\b\b\b\b\b\b\b\b\b\b\b\b\b\b\b\b\b\b\b\b\b\b\b\b\b\b\b\b\b\b\b\b\b\b\b\b\b\b\b\b\b\b\b\b\b\b\b\b\b\b\b\b\b\b\b\b\b\b\b\b\b\b\b\b\b\b\b\r6/6 [==============================] - 0s 32ms/step - loss: 150.8105 - classification_loss: 0.3092 - Regression_loss: 150.5013 - classification_accuracy: 0.8412 - Regression_mae: 6.2611\n",
            "Epoch 257/300\n",
            "6/6 [==============================] - ETA: 0s - loss: 148.9204 - classification_loss: 0.3048 - Regression_loss: 148.6156 - classification_accuracy: 0.8353 - Regression_mae: 5.9907"
          ]
        },
        {
          "output_type": "stream",
          "name": "stderr",
          "text": [
            "2024/03/09 05:28:43 WARNING mlflow.utils.checkpoint_utils: Checkpoint logging is skipped, because checkpoint 'save_best_only' config is True, it requires to compare the monitored metric value, but the provided monitored metric value is not available.\n"
          ]
        },
        {
          "output_type": "stream",
          "name": "stdout",
          "text": [
            "\b\b\b\b\b\b\b\b\b\b\b\b\b\b\b\b\b\b\b\b\b\b\b\b\b\b\b\b\b\b\b\b\b\b\b\b\b\b\b\b\b\b\b\b\b\b\b\b\b\b\b\b\b\b\b\b\b\b\b\b\b\b\b\b\b\b\b\b\b\b\b\b\b\b\b\b\b\b\b\b\b\b\b\b\b\b\b\b\b\b\b\b\b\b\b\b\b\b\b\b\b\b\b\b\b\b\b\b\b\b\b\b\b\b\b\b\b\b\b\b\b\b\b\b\b\b\b\b\b\b\b\b\b\b\b\b\b\b\b\b\b\b\b\b\b\b\b\b\b\b\b\b\b\b\b\b\b\b\b\b\b\b\b\b\b\b\b\b\b\b\b\b\b\b\b\b\b\b\b\b\r6/6 [==============================] - 0s 31ms/step - loss: 148.9204 - classification_loss: 0.3048 - Regression_loss: 148.6156 - classification_accuracy: 0.8353 - Regression_mae: 5.9907\n",
            "Epoch 258/300\n",
            "5/6 [========================>.....] - ETA: 0s - loss: 149.0542 - classification_loss: 0.2899 - Regression_loss: 148.7643 - classification_accuracy: 0.8250 - Regression_mae: 6.0835"
          ]
        },
        {
          "output_type": "stream",
          "name": "stderr",
          "text": [
            "2024/03/09 05:28:43 WARNING mlflow.utils.checkpoint_utils: Checkpoint logging is skipped, because checkpoint 'save_best_only' config is True, it requires to compare the monitored metric value, but the provided monitored metric value is not available.\n"
          ]
        },
        {
          "output_type": "stream",
          "name": "stdout",
          "text": [
            "\b\b\b\b\b\b\b\b\b\b\b\b\b\b\b\b\b\b\b\b\b\b\b\b\b\b\b\b\b\b\b\b\b\b\b\b\b\b\b\b\b\b\b\b\b\b\b\b\b\b\b\b\b\b\b\b\b\b\b\b\b\b\b\b\b\b\b\b\b\b\b\b\b\b\b\b\b\b\b\b\b\b\b\b\b\b\b\b\b\b\b\b\b\b\b\b\b\b\b\b\b\b\b\b\b\b\b\b\b\b\b\b\b\b\b\b\b\b\b\b\b\b\b\b\b\b\b\b\b\b\b\b\b\b\b\b\b\b\b\b\b\b\b\b\b\b\b\b\b\b\b\b\b\b\b\b\b\b\b\b\b\b\b\b\b\b\b\b\b\b\b\b\b\b\b\b\b\b\b\b\r6/6 [==============================] - 0s 34ms/step - loss: 149.8593 - classification_loss: 0.2869 - Regression_loss: 149.5723 - classification_accuracy: 0.8235 - Regression_mae: 6.0934\n",
            "Epoch 259/300\n",
            "4/6 [===================>..........] - ETA: 0s - loss: 142.3910 - classification_loss: 0.2641 - Regression_loss: 142.1269 - classification_accuracy: 0.8359 - Regression_mae: 6.9760"
          ]
        },
        {
          "output_type": "stream",
          "name": "stderr",
          "text": [
            "2024/03/09 05:28:43 WARNING mlflow.utils.checkpoint_utils: Checkpoint logging is skipped, because checkpoint 'save_best_only' config is True, it requires to compare the monitored metric value, but the provided monitored metric value is not available.\n"
          ]
        },
        {
          "output_type": "stream",
          "name": "stdout",
          "text": [
            "\b\b\b\b\b\b\b\b\b\b\b\b\b\b\b\b\b\b\b\b\b\b\b\b\b\b\b\b\b\b\b\b\b\b\b\b\b\b\b\b\b\b\b\b\b\b\b\b\b\b\b\b\b\b\b\b\b\b\b\b\b\b\b\b\b\b\b\b\b\b\b\b\b\b\b\b\b\b\b\b\b\b\b\b\b\b\b\b\b\b\b\b\b\b\b\b\b\b\b\b\b\b\b\b\b\b\b\b\b\b\b\b\b\b\b\b\b\b\b\b\b\b\b\b\b\b\b\b\b\b\b\b\b\b\b\b\b\b\b\b\b\b\b\b\b\b\b\b\b\b\b\b\b\b\b\b\b\b\b\b\b\b\b\b\b\b\b\b\b\b\b\b\b\b\b\b\b\b\b\b\r6/6 [==============================] - 0s 24ms/step - loss: 156.2935 - classification_loss: 0.2834 - Regression_loss: 156.0101 - classification_accuracy: 0.8176 - Regression_mae: 7.0050\n",
            "Epoch 260/300\n",
            "4/6 [===================>..........] - ETA: 0s - loss: 162.0008 - classification_loss: 0.3112 - Regression_loss: 161.6897 - classification_accuracy: 0.8047 - Regression_mae: 7.0698"
          ]
        },
        {
          "output_type": "stream",
          "name": "stderr",
          "text": [
            "2024/03/09 05:28:43 WARNING mlflow.utils.checkpoint_utils: Checkpoint logging is skipped, because checkpoint 'save_best_only' config is True, it requires to compare the monitored metric value, but the provided monitored metric value is not available.\n"
          ]
        },
        {
          "output_type": "stream",
          "name": "stdout",
          "text": [
            "\b\b\b\b\b\b\b\b\b\b\b\b\b\b\b\b\b\b\b\b\b\b\b\b\b\b\b\b\b\b\b\b\b\b\b\b\b\b\b\b\b\b\b\b\b\b\b\b\b\b\b\b\b\b\b\b\b\b\b\b\b\b\b\b\b\b\b\b\b\b\b\b\b\b\b\b\b\b\b\b\b\b\b\b\b\b\b\b\b\b\b\b\b\b\b\b\b\b\b\b\b\b\b\b\b\b\b\b\b\b\b\b\b\b\b\b\b\b\b\b\b\b\b\b\b\b\b\b\b\b\b\b\b\b\b\b\b\b\b\b\b\b\b\b\b\b\b\b\b\b\b\b\b\b\b\b\b\b\b\b\b\b\b\b\b\b\b\b\b\b\b\b\b\b\b\b\b\b\b\b\r6/6 [==============================] - 0s 21ms/step - loss: 150.6540 - classification_loss: 0.2858 - Regression_loss: 150.3682 - classification_accuracy: 0.8294 - Regression_mae: 6.4732\n",
            "Epoch 261/300\n",
            "4/6 [===================>..........] - ETA: 0s - loss: 172.8921 - classification_loss: 0.3161 - Regression_loss: 172.5760 - classification_accuracy: 0.8281 - Regression_mae: 6.9300"
          ]
        },
        {
          "output_type": "stream",
          "name": "stderr",
          "text": [
            "2024/03/09 05:28:43 WARNING mlflow.utils.checkpoint_utils: Checkpoint logging is skipped, because checkpoint 'save_best_only' config is True, it requires to compare the monitored metric value, but the provided monitored metric value is not available.\n"
          ]
        },
        {
          "output_type": "stream",
          "name": "stdout",
          "text": [
            "\b\b\b\b\b\b\b\b\b\b\b\b\b\b\b\b\b\b\b\b\b\b\b\b\b\b\b\b\b\b\b\b\b\b\b\b\b\b\b\b\b\b\b\b\b\b\b\b\b\b\b\b\b\b\b\b\b\b\b\b\b\b\b\b\b\b\b\b\b\b\b\b\b\b\b\b\b\b\b\b\b\b\b\b\b\b\b\b\b\b\b\b\b\b\b\b\b\b\b\b\b\b\b\b\b\b\b\b\b\b\b\b\b\b\b\b\b\b\b\b\b\b\b\b\b\b\b\b\b\b\b\b\b\b\b\b\b\b\b\b\b\b\b\b\b\b\b\b\b\b\b\b\b\b\b\b\b\b\b\b\b\b\b\b\b\b\b\b\b\b\b\b\b\b\b\b\b\b\b\b\r6/6 [==============================] - 0s 23ms/step - loss: 150.9888 - classification_loss: 0.2866 - Regression_loss: 150.7023 - classification_accuracy: 0.8353 - Regression_mae: 6.2483\n",
            "Epoch 262/300\n",
            "4/6 [===================>..........] - ETA: 0s - loss: 128.5044 - classification_loss: 0.2414 - Regression_loss: 128.2630 - classification_accuracy: 0.8594 - Regression_mae: 5.3968"
          ]
        },
        {
          "output_type": "stream",
          "name": "stderr",
          "text": [
            "2024/03/09 05:28:44 WARNING mlflow.utils.checkpoint_utils: Checkpoint logging is skipped, because checkpoint 'save_best_only' config is True, it requires to compare the monitored metric value, but the provided monitored metric value is not available.\n"
          ]
        },
        {
          "output_type": "stream",
          "name": "stdout",
          "text": [
            "\b\b\b\b\b\b\b\b\b\b\b\b\b\b\b\b\b\b\b\b\b\b\b\b\b\b\b\b\b\b\b\b\b\b\b\b\b\b\b\b\b\b\b\b\b\b\b\b\b\b\b\b\b\b\b\b\b\b\b\b\b\b\b\b\b\b\b\b\b\b\b\b\b\b\b\b\b\b\b\b\b\b\b\b\b\b\b\b\b\b\b\b\b\b\b\b\b\b\b\b\b\b\b\b\b\b\b\b\b\b\b\b\b\b\b\b\b\b\b\b\b\b\b\b\b\b\b\b\b\b\b\b\b\b\b\b\b\b\b\b\b\b\b\b\b\b\b\b\b\b\b\b\b\b\b\b\b\b\b\b\b\b\b\b\b\b\b\b\b\b\b\b\b\b\b\b\b\b\b\b\r6/6 [==============================] - 0s 23ms/step - loss: 149.3732 - classification_loss: 0.2841 - Regression_loss: 149.0891 - classification_accuracy: 0.8294 - Regression_mae: 6.1465\n",
            "Epoch 263/300\n",
            "4/6 [===================>..........] - ETA: 0s - loss: 168.6953 - classification_loss: 0.3010 - Regression_loss: 168.3942 - classification_accuracy: 0.8125 - Regression_mae: 6.7962"
          ]
        },
        {
          "output_type": "stream",
          "name": "stderr",
          "text": [
            "2024/03/09 05:28:44 WARNING mlflow.utils.checkpoint_utils: Checkpoint logging is skipped, because checkpoint 'save_best_only' config is True, it requires to compare the monitored metric value, but the provided monitored metric value is not available.\n"
          ]
        },
        {
          "output_type": "stream",
          "name": "stdout",
          "text": [
            "\b\b\b\b\b\b\b\b\b\b\b\b\b\b\b\b\b\b\b\b\b\b\b\b\b\b\b\b\b\b\b\b\b\b\b\b\b\b\b\b\b\b\b\b\b\b\b\b\b\b\b\b\b\b\b\b\b\b\b\b\b\b\b\b\b\b\b\b\b\b\b\b\b\b\b\b\b\b\b\b\b\b\b\b\b\b\b\b\b\b\b\b\b\b\b\b\b\b\b\b\b\b\b\b\b\b\b\b\b\b\b\b\b\b\b\b\b\b\b\b\b\b\b\b\b\b\b\b\b\b\b\b\b\b\b\b\b\b\b\b\b\b\b\b\b\b\b\b\b\b\b\b\b\b\b\b\b\b\b\b\b\b\b\b\b\b\b\b\b\b\b\b\b\b\b\b\b\b\b\b\r6/6 [==============================] - 0s 26ms/step - loss: 150.2324 - classification_loss: 0.2789 - Regression_loss: 149.9535 - classification_accuracy: 0.8353 - Regression_mae: 6.3339\n",
            "Epoch 264/300\n",
            "4/6 [===================>..........] - ETA: 0s - loss: 176.2684 - classification_loss: 0.3163 - Regression_loss: 175.9521 - classification_accuracy: 0.8203 - Regression_mae: 6.9742"
          ]
        },
        {
          "output_type": "stream",
          "name": "stderr",
          "text": [
            "2024/03/09 05:28:44 WARNING mlflow.utils.checkpoint_utils: Checkpoint logging is skipped, because checkpoint 'save_best_only' config is True, it requires to compare the monitored metric value, but the provided monitored metric value is not available.\n"
          ]
        },
        {
          "output_type": "stream",
          "name": "stdout",
          "text": [
            "\b\b\b\b\b\b\b\b\b\b\b\b\b\b\b\b\b\b\b\b\b\b\b\b\b\b\b\b\b\b\b\b\b\b\b\b\b\b\b\b\b\b\b\b\b\b\b\b\b\b\b\b\b\b\b\b\b\b\b\b\b\b\b\b\b\b\b\b\b\b\b\b\b\b\b\b\b\b\b\b\b\b\b\b\b\b\b\b\b\b\b\b\b\b\b\b\b\b\b\b\b\b\b\b\b\b\b\b\b\b\b\b\b\b\b\b\b\b\b\b\b\b\b\b\b\b\b\b\b\b\b\b\b\b\b\b\b\b\b\b\b\b\b\b\b\b\b\b\b\b\b\b\b\b\b\b\b\b\b\b\b\b\b\b\b\b\b\b\b\b\b\b\b\b\b\b\b\b\b\b\r6/6 [==============================] - 0s 25ms/step - loss: 152.4769 - classification_loss: 0.2811 - Regression_loss: 152.1958 - classification_accuracy: 0.8412 - Regression_mae: 6.3931\n",
            "Epoch 265/300\n",
            "4/6 [===================>..........] - ETA: 0s - loss: 157.1992 - classification_loss: 0.2857 - Regression_loss: 156.9136 - classification_accuracy: 0.8047 - Regression_mae: 6.3580"
          ]
        },
        {
          "output_type": "stream",
          "name": "stderr",
          "text": [
            "2024/03/09 05:28:44 WARNING mlflow.utils.checkpoint_utils: Checkpoint logging is skipped, because checkpoint 'save_best_only' config is True, it requires to compare the monitored metric value, but the provided monitored metric value is not available.\n"
          ]
        },
        {
          "output_type": "stream",
          "name": "stdout",
          "text": [
            "\b\b\b\b\b\b\b\b\b\b\b\b\b\b\b\b\b\b\b\b\b\b\b\b\b\b\b\b\b\b\b\b\b\b\b\b\b\b\b\b\b\b\b\b\b\b\b\b\b\b\b\b\b\b\b\b\b\b\b\b\b\b\b\b\b\b\b\b\b\b\b\b\b\b\b\b\b\b\b\b\b\b\b\b\b\b\b\b\b\b\b\b\b\b\b\b\b\b\b\b\b\b\b\b\b\b\b\b\b\b\b\b\b\b\b\b\b\b\b\b\b\b\b\b\b\b\b\b\b\b\b\b\b\b\b\b\b\b\b\b\b\b\b\b\b\b\b\b\b\b\b\b\b\b\b\b\b\b\b\b\b\b\b\b\b\b\b\b\b\b\b\b\b\b\b\b\b\b\b\b\r6/6 [==============================] - 0s 24ms/step - loss: 148.6687 - classification_loss: 0.2820 - Regression_loss: 148.3867 - classification_accuracy: 0.8118 - Regression_mae: 6.1746\n",
            "Epoch 266/300\n",
            "4/6 [===================>..........] - ETA: 0s - loss: 178.5764 - classification_loss: 0.3110 - Regression_loss: 178.2654 - classification_accuracy: 0.7969 - Regression_mae: 7.1313"
          ]
        },
        {
          "output_type": "stream",
          "name": "stderr",
          "text": [
            "2024/03/09 05:28:44 WARNING mlflow.utils.checkpoint_utils: Checkpoint logging is skipped, because checkpoint 'save_best_only' config is True, it requires to compare the monitored metric value, but the provided monitored metric value is not available.\n"
          ]
        },
        {
          "output_type": "stream",
          "name": "stdout",
          "text": [
            "\b\b\b\b\b\b\b\b\b\b\b\b\b\b\b\b\b\b\b\b\b\b\b\b\b\b\b\b\b\b\b\b\b\b\b\b\b\b\b\b\b\b\b\b\b\b\b\b\b\b\b\b\b\b\b\b\b\b\b\b\b\b\b\b\b\b\b\b\b\b\b\b\b\b\b\b\b\b\b\b\b\b\b\b\b\b\b\b\b\b\b\b\b\b\b\b\b\b\b\b\b\b\b\b\b\b\b\b\b\b\b\b\b\b\b\b\b\b\b\b\b\b\b\b\b\b\b\b\b\b\b\b\b\b\b\b\b\b\b\b\b\b\b\b\b\b\b\b\b\b\b\b\b\b\b\b\b\b\b\b\b\b\b\b\b\b\b\b\b\b\b\b\b\b\b\b\b\b\b\b\r6/6 [==============================] - 0s 21ms/step - loss: 151.9412 - classification_loss: 0.2817 - Regression_loss: 151.6595 - classification_accuracy: 0.8176 - Regression_mae: 6.4223\n",
            "Epoch 267/300\n",
            "4/6 [===================>..........] - ETA: 0s - loss: 125.7388 - classification_loss: 0.2374 - Regression_loss: 125.5014 - classification_accuracy: 0.8672 - Regression_mae: 5.3239"
          ]
        },
        {
          "output_type": "stream",
          "name": "stderr",
          "text": [
            "2024/03/09 05:28:44 WARNING mlflow.utils.checkpoint_utils: Checkpoint logging is skipped, because checkpoint 'save_best_only' config is True, it requires to compare the monitored metric value, but the provided monitored metric value is not available.\n"
          ]
        },
        {
          "output_type": "stream",
          "name": "stdout",
          "text": [
            "\b\b\b\b\b\b\b\b\b\b\b\b\b\b\b\b\b\b\b\b\b\b\b\b\b\b\b\b\b\b\b\b\b\b\b\b\b\b\b\b\b\b\b\b\b\b\b\b\b\b\b\b\b\b\b\b\b\b\b\b\b\b\b\b\b\b\b\b\b\b\b\b\b\b\b\b\b\b\b\b\b\b\b\b\b\b\b\b\b\b\b\b\b\b\b\b\b\b\b\b\b\b\b\b\b\b\b\b\b\b\b\b\b\b\b\b\b\b\b\b\b\b\b\b\b\b\b\b\b\b\b\b\b\b\b\b\b\b\b\b\b\b\b\b\b\b\b\b\b\b\b\b\b\b\b\b\b\b\b\b\b\b\b\b\b\b\b\b\b\b\b\b\b\b\b\b\b\b\b\b\r6/6 [==============================] - 0s 24ms/step - loss: 149.6099 - classification_loss: 0.2869 - Regression_loss: 149.3229 - classification_accuracy: 0.8471 - Regression_mae: 6.2219\n",
            "Epoch 268/300\n",
            "4/6 [===================>..........] - ETA: 0s - loss: 144.9314 - classification_loss: 0.2853 - Regression_loss: 144.6461 - classification_accuracy: 0.8359 - Regression_mae: 6.0377"
          ]
        },
        {
          "output_type": "stream",
          "name": "stderr",
          "text": [
            "2024/03/09 05:28:45 WARNING mlflow.utils.checkpoint_utils: Checkpoint logging is skipped, because checkpoint 'save_best_only' config is True, it requires to compare the monitored metric value, but the provided monitored metric value is not available.\n"
          ]
        },
        {
          "output_type": "stream",
          "name": "stdout",
          "text": [
            "\b\b\b\b\b\b\b\b\b\b\b\b\b\b\b\b\b\b\b\b\b\b\b\b\b\b\b\b\b\b\b\b\b\b\b\b\b\b\b\b\b\b\b\b\b\b\b\b\b\b\b\b\b\b\b\b\b\b\b\b\b\b\b\b\b\b\b\b\b\b\b\b\b\b\b\b\b\b\b\b\b\b\b\b\b\b\b\b\b\b\b\b\b\b\b\b\b\b\b\b\b\b\b\b\b\b\b\b\b\b\b\b\b\b\b\b\b\b\b\b\b\b\b\b\b\b\b\b\b\b\b\b\b\b\b\b\b\b\b\b\b\b\b\b\b\b\b\b\b\b\b\b\b\b\b\b\b\b\b\b\b\b\b\b\b\b\b\b\b\b\b\b\b\b\b\b\b\b\b\b\r6/6 [==============================] - 0s 26ms/step - loss: 150.0917 - classification_loss: 0.2867 - Regression_loss: 149.8049 - classification_accuracy: 0.8353 - Regression_mae: 6.1240\n",
            "Epoch 269/300\n",
            "6/6 [==============================] - ETA: 0s - loss: 151.2936 - classification_loss: 0.2932 - Regression_loss: 151.0004 - classification_accuracy: 0.8353 - Regression_mae: 6.5019"
          ]
        },
        {
          "output_type": "stream",
          "name": "stderr",
          "text": [
            "2024/03/09 05:28:45 WARNING mlflow.utils.checkpoint_utils: Checkpoint logging is skipped, because checkpoint 'save_best_only' config is True, it requires to compare the monitored metric value, but the provided monitored metric value is not available.\n"
          ]
        },
        {
          "output_type": "stream",
          "name": "stdout",
          "text": [
            "\b\b\b\b\b\b\b\b\b\b\b\b\b\b\b\b\b\b\b\b\b\b\b\b\b\b\b\b\b\b\b\b\b\b\b\b\b\b\b\b\b\b\b\b\b\b\b\b\b\b\b\b\b\b\b\b\b\b\b\b\b\b\b\b\b\b\b\b\b\b\b\b\b\b\b\b\b\b\b\b\b\b\b\b\b\b\b\b\b\b\b\b\b\b\b\b\b\b\b\b\b\b\b\b\b\b\b\b\b\b\b\b\b\b\b\b\b\b\b\b\b\b\b\b\b\b\b\b\b\b\b\b\b\b\b\b\b\b\b\b\b\b\b\b\b\b\b\b\b\b\b\b\b\b\b\b\b\b\b\b\b\b\b\b\b\b\b\b\b\b\b\b\b\b\b\b\b\b\b\b\r6/6 [==============================] - 0s 27ms/step - loss: 151.2936 - classification_loss: 0.2932 - Regression_loss: 151.0004 - classification_accuracy: 0.8353 - Regression_mae: 6.5019\n",
            "Epoch 270/300\n",
            "4/6 [===================>..........] - ETA: 0s - loss: 148.3143 - classification_loss: 0.3044 - Regression_loss: 148.0100 - classification_accuracy: 0.8203 - Regression_mae: 7.0483"
          ]
        },
        {
          "output_type": "stream",
          "name": "stderr",
          "text": [
            "2024/03/09 05:28:45 WARNING mlflow.utils.checkpoint_utils: Checkpoint logging is skipped, because checkpoint 'save_best_only' config is True, it requires to compare the monitored metric value, but the provided monitored metric value is not available.\n"
          ]
        },
        {
          "output_type": "stream",
          "name": "stdout",
          "text": [
            "\b\b\b\b\b\b\b\b\b\b\b\b\b\b\b\b\b\b\b\b\b\b\b\b\b\b\b\b\b\b\b\b\b\b\b\b\b\b\b\b\b\b\b\b\b\b\b\b\b\b\b\b\b\b\b\b\b\b\b\b\b\b\b\b\b\b\b\b\b\b\b\b\b\b\b\b\b\b\b\b\b\b\b\b\b\b\b\b\b\b\b\b\b\b\b\b\b\b\b\b\b\b\b\b\b\b\b\b\b\b\b\b\b\b\b\b\b\b\b\b\b\b\b\b\b\b\b\b\b\b\b\b\b\b\b\b\b\b\b\b\b\b\b\b\b\b\b\b\b\b\b\b\b\b\b\b\b\b\b\b\b\b\b\b\b\b\b\b\b\b\b\b\b\b\b\b\b\b\b\b\r6/6 [==============================] - 0s 26ms/step - loss: 156.9924 - classification_loss: 0.3051 - Regression_loss: 156.6872 - classification_accuracy: 0.8294 - Regression_mae: 6.9454\n",
            "Epoch 271/300\n",
            "3/6 [==============>...............] - ETA: 0s - loss: 142.8901 - classification_loss: 0.2588 - Regression_loss: 142.6314 - classification_accuracy: 0.8646 - Regression_mae: 6.1037"
          ]
        },
        {
          "output_type": "stream",
          "name": "stderr",
          "text": [
            "2024/03/09 05:28:45 WARNING mlflow.utils.checkpoint_utils: Checkpoint logging is skipped, because checkpoint 'save_best_only' config is True, it requires to compare the monitored metric value, but the provided monitored metric value is not available.\n"
          ]
        },
        {
          "output_type": "stream",
          "name": "stdout",
          "text": [
            "\b\b\b\b\b\b\b\b\b\b\b\b\b\b\b\b\b\b\b\b\b\b\b\b\b\b\b\b\b\b\b\b\b\b\b\b\b\b\b\b\b\b\b\b\b\b\b\b\b\b\b\b\b\b\b\b\b\b\b\b\b\b\b\b\b\b\b\b\b\b\b\b\b\b\b\b\b\b\b\b\b\b\b\b\b\b\b\b\b\b\b\b\b\b\b\b\b\b\b\b\b\b\b\b\b\b\b\b\b\b\b\b\b\b\b\b\b\b\b\b\b\b\b\b\b\b\b\b\b\b\b\b\b\b\b\b\b\b\b\b\b\b\b\b\b\b\b\b\b\b\b\b\b\b\b\b\b\b\b\b\b\b\b\b\b\b\b\b\b\b\b\b\b\b\b\b\b\b\b\b\r6/6 [==============================] - 0s 22ms/step - loss: 150.1876 - classification_loss: 0.2819 - Regression_loss: 149.9058 - classification_accuracy: 0.8471 - Regression_mae: 6.1170\n",
            "Epoch 272/300\n",
            "4/6 [===================>..........] - ETA: 0s - loss: 160.5979 - classification_loss: 0.3132 - Regression_loss: 160.2846 - classification_accuracy: 0.8359 - Regression_mae: 6.4089"
          ]
        },
        {
          "output_type": "stream",
          "name": "stderr",
          "text": [
            "2024/03/09 05:28:45 WARNING mlflow.utils.checkpoint_utils: Checkpoint logging is skipped, because checkpoint 'save_best_only' config is True, it requires to compare the monitored metric value, but the provided monitored metric value is not available.\n"
          ]
        },
        {
          "output_type": "stream",
          "name": "stdout",
          "text": [
            "\b\b\b\b\b\b\b\b\b\b\b\b\b\b\b\b\b\b\b\b\b\b\b\b\b\b\b\b\b\b\b\b\b\b\b\b\b\b\b\b\b\b\b\b\b\b\b\b\b\b\b\b\b\b\b\b\b\b\b\b\b\b\b\b\b\b\b\b\b\b\b\b\b\b\b\b\b\b\b\b\b\b\b\b\b\b\b\b\b\b\b\b\b\b\b\b\b\b\b\b\b\b\b\b\b\b\b\b\b\b\b\b\b\b\b\b\b\b\b\b\b\b\b\b\b\b\b\b\b\b\b\b\b\b\b\b\b\b\b\b\b\b\b\b\b\b\b\b\b\b\b\b\b\b\b\b\b\b\b\b\b\b\b\b\b\b\b\b\b\b\b\b\b\b\b\b\b\b\b\b\r6/6 [==============================] - 0s 18ms/step - loss: 151.7439 - classification_loss: 0.2922 - Regression_loss: 151.4517 - classification_accuracy: 0.8471 - Regression_mae: 6.1733\n",
            "Epoch 273/300\n",
            "5/6 [========================>.....] - ETA: 0s - loss: 152.1704 - classification_loss: 0.3043 - Regression_loss: 151.8661 - classification_accuracy: 0.8188 - Regression_mae: 6.7021"
          ]
        },
        {
          "output_type": "stream",
          "name": "stderr",
          "text": [
            "2024/03/09 05:28:45 WARNING mlflow.utils.checkpoint_utils: Checkpoint logging is skipped, because checkpoint 'save_best_only' config is True, it requires to compare the monitored metric value, but the provided monitored metric value is not available.\n"
          ]
        },
        {
          "output_type": "stream",
          "name": "stdout",
          "text": [
            "\b\b\b\b\b\b\b\b\b\b\b\b\b\b\b\b\b\b\b\b\b\b\b\b\b\b\b\b\b\b\b\b\b\b\b\b\b\b\b\b\b\b\b\b\b\b\b\b\b\b\b\b\b\b\b\b\b\b\b\b\b\b\b\b\b\b\b\b\b\b\b\b\b\b\b\b\b\b\b\b\b\b\b\b\b\b\b\b\b\b\b\b\b\b\b\b\b\b\b\b\b\b\b\b\b\b\b\b\b\b\b\b\b\b\b\b\b\b\b\b\b\b\b\b\b\b\b\b\b\b\b\b\b\b\b\b\b\b\b\b\b\b\b\b\b\b\b\b\b\b\b\b\b\b\b\b\b\b\b\b\b\b\b\b\b\b\b\b\b\b\b\b\b\b\b\b\b\b\b\b\r6/6 [==============================] - 0s 18ms/step - loss: 151.6399 - classification_loss: 0.3043 - Regression_loss: 151.3355 - classification_accuracy: 0.8176 - Regression_mae: 6.6443\n",
            "Epoch 274/300\n",
            "5/6 [========================>.....] - ETA: 0s - loss: 143.2477 - classification_loss: 0.2983 - Regression_loss: 142.9493 - classification_accuracy: 0.8375 - Regression_mae: 6.0691"
          ]
        },
        {
          "output_type": "stream",
          "name": "stderr",
          "text": [
            "2024/03/09 05:28:45 WARNING mlflow.utils.checkpoint_utils: Checkpoint logging is skipped, because checkpoint 'save_best_only' config is True, it requires to compare the monitored metric value, but the provided monitored metric value is not available.\n"
          ]
        },
        {
          "output_type": "stream",
          "name": "stdout",
          "text": [
            "\b\b\b\b\b\b\b\b\b\b\b\b\b\b\b\b\b\b\b\b\b\b\b\b\b\b\b\b\b\b\b\b\b\b\b\b\b\b\b\b\b\b\b\b\b\b\b\b\b\b\b\b\b\b\b\b\b\b\b\b\b\b\b\b\b\b\b\b\b\b\b\b\b\b\b\b\b\b\b\b\b\b\b\b\b\b\b\b\b\b\b\b\b\b\b\b\b\b\b\b\b\b\b\b\b\b\b\b\b\b\b\b\b\b\b\b\b\b\b\b\b\b\b\b\b\b\b\b\b\b\b\b\b\b\b\b\b\b\b\b\b\b\b\b\b\b\b\b\b\b\b\b\b\b\b\b\b\b\b\b\b\b\b\b\b\b\b\b\b\b\b\b\b\b\b\b\b\b\b\b\r6/6 [==============================] - 0s 19ms/step - loss: 150.4946 - classification_loss: 0.3116 - Regression_loss: 150.1830 - classification_accuracy: 0.8294 - Regression_mae: 6.2796\n",
            "Epoch 275/300\n",
            "4/6 [===================>..........] - ETA: 0s - loss: 147.8796 - classification_loss: 0.2914 - Regression_loss: 147.5882 - classification_accuracy: 0.8281 - Regression_mae: 5.9751"
          ]
        },
        {
          "output_type": "stream",
          "name": "stderr",
          "text": [
            "2024/03/09 05:28:45 WARNING mlflow.utils.checkpoint_utils: Checkpoint logging is skipped, because checkpoint 'save_best_only' config is True, it requires to compare the monitored metric value, but the provided monitored metric value is not available.\n"
          ]
        },
        {
          "output_type": "stream",
          "name": "stdout",
          "text": [
            "\b\b\b\b\b\b\b\b\b\b\b\b\b\b\b\b\b\b\b\b\b\b\b\b\b\b\b\b\b\b\b\b\b\b\b\b\b\b\b\b\b\b\b\b\b\b\b\b\b\b\b\b\b\b\b\b\b\b\b\b\b\b\b\b\b\b\b\b\b\b\b\b\b\b\b\b\b\b\b\b\b\b\b\b\b\b\b\b\b\b\b\b\b\b\b\b\b\b\b\b\b\b\b\b\b\b\b\b\b\b\b\b\b\b\b\b\b\b\b\b\b\b\b\b\b\b\b\b\b\b\b\b\b\b\b\b\b\b\b\b\b\b\b\b\b\b\b\b\b\b\b\b\b\b\b\b\b\b\b\b\b\b\b\b\b\b\b\b\b\b\b\b\b\b\b\b\b\b\b\b\r6/6 [==============================] - 0s 19ms/step - loss: 149.2335 - classification_loss: 0.2951 - Regression_loss: 148.9384 - classification_accuracy: 0.8412 - Regression_mae: 6.0006\n",
            "Epoch 276/300\n",
            "5/6 [========================>.....] - ETA: 0s - loss: 153.4030 - classification_loss: 0.3067 - Regression_loss: 153.0963 - classification_accuracy: 0.8188 - Regression_mae: 6.0832"
          ]
        },
        {
          "output_type": "stream",
          "name": "stderr",
          "text": [
            "2024/03/09 05:28:46 WARNING mlflow.utils.checkpoint_utils: Checkpoint logging is skipped, because checkpoint 'save_best_only' config is True, it requires to compare the monitored metric value, but the provided monitored metric value is not available.\n"
          ]
        },
        {
          "output_type": "stream",
          "name": "stdout",
          "text": [
            "\b\b\b\b\b\b\b\b\b\b\b\b\b\b\b\b\b\b\b\b\b\b\b\b\b\b\b\b\b\b\b\b\b\b\b\b\b\b\b\b\b\b\b\b\b\b\b\b\b\b\b\b\b\b\b\b\b\b\b\b\b\b\b\b\b\b\b\b\b\b\b\b\b\b\b\b\b\b\b\b\b\b\b\b\b\b\b\b\b\b\b\b\b\b\b\b\b\b\b\b\b\b\b\b\b\b\b\b\b\b\b\b\b\b\b\b\b\b\b\b\b\b\b\b\b\b\b\b\b\b\b\b\b\b\b\b\b\b\b\b\b\b\b\b\b\b\b\b\b\b\b\b\b\b\b\b\b\b\b\b\b\b\b\b\b\b\b\b\b\b\b\b\b\b\b\b\b\b\b\b\r6/6 [==============================] - 0s 18ms/step - loss: 149.6552 - classification_loss: 0.3052 - Regression_loss: 149.3500 - classification_accuracy: 0.8176 - Regression_mae: 5.9764\n",
            "Epoch 277/300\n",
            "4/6 [===================>..........] - ETA: 0s - loss: 151.0556 - classification_loss: 0.2561 - Regression_loss: 150.7995 - classification_accuracy: 0.8438 - Regression_mae: 6.0186"
          ]
        },
        {
          "output_type": "stream",
          "name": "stderr",
          "text": [
            "2024/03/09 05:28:46 WARNING mlflow.utils.checkpoint_utils: Checkpoint logging is skipped, because checkpoint 'save_best_only' config is True, it requires to compare the monitored metric value, but the provided monitored metric value is not available.\n"
          ]
        },
        {
          "output_type": "stream",
          "name": "stdout",
          "text": [
            "\b\b\b\b\b\b\b\b\b\b\b\b\b\b\b\b\b\b\b\b\b\b\b\b\b\b\b\b\b\b\b\b\b\b\b\b\b\b\b\b\b\b\b\b\b\b\b\b\b\b\b\b\b\b\b\b\b\b\b\b\b\b\b\b\b\b\b\b\b\b\b\b\b\b\b\b\b\b\b\b\b\b\b\b\b\b\b\b\b\b\b\b\b\b\b\b\b\b\b\b\b\b\b\b\b\b\b\b\b\b\b\b\b\b\b\b\b\b\b\b\b\b\b\b\b\b\b\b\b\b\b\b\b\b\b\b\b\b\b\b\b\b\b\b\b\b\b\b\b\b\b\b\b\b\b\b\b\b\b\b\b\b\b\b\b\b\b\b\b\b\b\b\b\b\b\b\b\b\b\b\r6/6 [==============================] - 0s 18ms/step - loss: 149.8845 - classification_loss: 0.2789 - Regression_loss: 149.6056 - classification_accuracy: 0.8353 - Regression_mae: 6.1358\n",
            "Epoch 278/300\n",
            "4/6 [===================>..........] - ETA: 0s - loss: 157.7998 - classification_loss: 0.2743 - Regression_loss: 157.5255 - classification_accuracy: 0.8438 - Regression_mae: 6.0894"
          ]
        },
        {
          "output_type": "stream",
          "name": "stderr",
          "text": [
            "2024/03/09 05:28:46 WARNING mlflow.utils.checkpoint_utils: Checkpoint logging is skipped, because checkpoint 'save_best_only' config is True, it requires to compare the monitored metric value, but the provided monitored metric value is not available.\n"
          ]
        },
        {
          "output_type": "stream",
          "name": "stdout",
          "text": [
            "\b\b\b\b\b\b\b\b\b\b\b\b\b\b\b\b\b\b\b\b\b\b\b\b\b\b\b\b\b\b\b\b\b\b\b\b\b\b\b\b\b\b\b\b\b\b\b\b\b\b\b\b\b\b\b\b\b\b\b\b\b\b\b\b\b\b\b\b\b\b\b\b\b\b\b\b\b\b\b\b\b\b\b\b\b\b\b\b\b\b\b\b\b\b\b\b\b\b\b\b\b\b\b\b\b\b\b\b\b\b\b\b\b\b\b\b\b\b\b\b\b\b\b\b\b\b\b\b\b\b\b\b\b\b\b\b\b\b\b\b\b\b\b\b\b\b\b\b\b\b\b\b\b\b\b\b\b\b\b\b\b\b\b\b\b\b\b\b\b\b\b\b\b\b\b\b\b\b\b\b\r6/6 [==============================] - 0s 19ms/step - loss: 149.8839 - classification_loss: 0.2859 - Regression_loss: 149.5981 - classification_accuracy: 0.8353 - Regression_mae: 6.0650\n",
            "Epoch 279/300\n",
            "5/6 [========================>.....] - ETA: 0s - loss: 156.7074 - classification_loss: 0.2725 - Regression_loss: 156.4348 - classification_accuracy: 0.8250 - Regression_mae: 7.2368"
          ]
        },
        {
          "output_type": "stream",
          "name": "stderr",
          "text": [
            "2024/03/09 05:28:46 WARNING mlflow.utils.checkpoint_utils: Checkpoint logging is skipped, because checkpoint 'save_best_only' config is True, it requires to compare the monitored metric value, but the provided monitored metric value is not available.\n"
          ]
        },
        {
          "output_type": "stream",
          "name": "stdout",
          "text": [
            "\b\b\b\b\b\b\b\b\b\b\b\b\b\b\b\b\b\b\b\b\b\b\b\b\b\b\b\b\b\b\b\b\b\b\b\b\b\b\b\b\b\b\b\b\b\b\b\b\b\b\b\b\b\b\b\b\b\b\b\b\b\b\b\b\b\b\b\b\b\b\b\b\b\b\b\b\b\b\b\b\b\b\b\b\b\b\b\b\b\b\b\b\b\b\b\b\b\b\b\b\b\b\b\b\b\b\b\b\b\b\b\b\b\b\b\b\b\b\b\b\b\b\b\b\b\b\b\b\b\b\b\b\b\b\b\b\b\b\b\b\b\b\b\b\b\b\b\b\b\b\b\b\b\b\b\b\b\b\b\b\b\b\b\b\b\b\b\b\b\b\b\b\b\b\b\b\b\b\b\b\r6/6 [==============================] - 0s 21ms/step - loss: 158.0918 - classification_loss: 0.2797 - Regression_loss: 157.8121 - classification_accuracy: 0.8235 - Regression_mae: 7.2191\n",
            "Epoch 280/300\n",
            "4/6 [===================>..........] - ETA: 0s - loss: 171.2461 - classification_loss: 0.2837 - Regression_loss: 170.9624 - classification_accuracy: 0.8516 - Regression_mae: 8.1545"
          ]
        },
        {
          "output_type": "stream",
          "name": "stderr",
          "text": [
            "2024/03/09 05:28:46 WARNING mlflow.utils.checkpoint_utils: Checkpoint logging is skipped, because checkpoint 'save_best_only' config is True, it requires to compare the monitored metric value, but the provided monitored metric value is not available.\n"
          ]
        },
        {
          "output_type": "stream",
          "name": "stdout",
          "text": [
            "\b\b\b\b\b\b\b\b\b\b\b\b\b\b\b\b\b\b\b\b\b\b\b\b\b\b\b\b\b\b\b\b\b\b\b\b\b\b\b\b\b\b\b\b\b\b\b\b\b\b\b\b\b\b\b\b\b\b\b\b\b\b\b\b\b\b\b\b\b\b\b\b\b\b\b\b\b\b\b\b\b\b\b\b\b\b\b\b\b\b\b\b\b\b\b\b\b\b\b\b\b\b\b\b\b\b\b\b\b\b\b\b\b\b\b\b\b\b\b\b\b\b\b\b\b\b\b\b\b\b\b\b\b\b\b\b\b\b\b\b\b\b\b\b\b\b\b\b\b\b\b\b\b\b\b\b\b\b\b\b\b\b\b\b\b\b\b\b\b\b\b\b\b\b\b\b\b\b\b\b\r6/6 [==============================] - 0s 20ms/step - loss: 158.8009 - classification_loss: 0.2869 - Regression_loss: 158.5141 - classification_accuracy: 0.8412 - Regression_mae: 7.6726\n",
            "Epoch 281/300\n",
            "4/6 [===================>..........] - ETA: 0s - loss: 138.2102 - classification_loss: 0.2618 - Regression_loss: 137.9484 - classification_accuracy: 0.8438 - Regression_mae: 6.3464"
          ]
        },
        {
          "output_type": "stream",
          "name": "stderr",
          "text": [
            "2024/03/09 05:28:46 WARNING mlflow.utils.checkpoint_utils: Checkpoint logging is skipped, because checkpoint 'save_best_only' config is True, it requires to compare the monitored metric value, but the provided monitored metric value is not available.\n"
          ]
        },
        {
          "output_type": "stream",
          "name": "stdout",
          "text": [
            "\b\b\b\b\b\b\b\b\b\b\b\b\b\b\b\b\b\b\b\b\b\b\b\b\b\b\b\b\b\b\b\b\b\b\b\b\b\b\b\b\b\b\b\b\b\b\b\b\b\b\b\b\b\b\b\b\b\b\b\b\b\b\b\b\b\b\b\b\b\b\b\b\b\b\b\b\b\b\b\b\b\b\b\b\b\b\b\b\b\b\b\b\b\b\b\b\b\b\b\b\b\b\b\b\b\b\b\b\b\b\b\b\b\b\b\b\b\b\b\b\b\b\b\b\b\b\b\b\b\b\b\b\b\b\b\b\b\b\b\b\b\b\b\b\b\b\b\b\b\b\b\b\b\b\b\b\b\b\b\b\b\b\b\b\b\b\b\b\b\b\b\b\b\b\b\b\b\b\b\b\r6/6 [==============================] - 0s 18ms/step - loss: 153.8744 - classification_loss: 0.2972 - Regression_loss: 153.5772 - classification_accuracy: 0.8294 - Regression_mae: 6.7060\n",
            "Epoch 282/300\n",
            "5/6 [========================>.....] - ETA: 0s - loss: 136.1681 - classification_loss: 0.2776 - Regression_loss: 135.8905 - classification_accuracy: 0.8562 - Regression_mae: 5.9512"
          ]
        },
        {
          "output_type": "stream",
          "name": "stderr",
          "text": [
            "2024/03/09 05:28:46 WARNING mlflow.utils.checkpoint_utils: Checkpoint logging is skipped, because checkpoint 'save_best_only' config is True, it requires to compare the monitored metric value, but the provided monitored metric value is not available.\n"
          ]
        },
        {
          "output_type": "stream",
          "name": "stdout",
          "text": [
            "\b\b\b\b\b\b\b\b\b\b\b\b\b\b\b\b\b\b\b\b\b\b\b\b\b\b\b\b\b\b\b\b\b\b\b\b\b\b\b\b\b\b\b\b\b\b\b\b\b\b\b\b\b\b\b\b\b\b\b\b\b\b\b\b\b\b\b\b\b\b\b\b\b\b\b\b\b\b\b\b\b\b\b\b\b\b\b\b\b\b\b\b\b\b\b\b\b\b\b\b\b\b\b\b\b\b\b\b\b\b\b\b\b\b\b\b\b\b\b\b\b\b\b\b\b\b\b\b\b\b\b\b\b\b\b\b\b\b\b\b\b\b\b\b\b\b\b\b\b\b\b\b\b\b\b\b\b\b\b\b\b\b\b\b\b\b\b\b\b\b\b\b\b\b\b\b\b\b\b\b\r6/6 [==============================] - 0s 18ms/step - loss: 150.6564 - classification_loss: 0.2851 - Regression_loss: 150.3713 - classification_accuracy: 0.8529 - Regression_mae: 6.2502\n",
            "Epoch 283/300\n",
            "4/6 [===================>..........] - ETA: 0s - loss: 160.9344 - classification_loss: 0.3094 - Regression_loss: 160.6250 - classification_accuracy: 0.8281 - Regression_mae: 6.6970"
          ]
        },
        {
          "output_type": "stream",
          "name": "stderr",
          "text": [
            "2024/03/09 05:28:47 WARNING mlflow.utils.checkpoint_utils: Checkpoint logging is skipped, because checkpoint 'save_best_only' config is True, it requires to compare the monitored metric value, but the provided monitored metric value is not available.\n"
          ]
        },
        {
          "output_type": "stream",
          "name": "stdout",
          "text": [
            "\b\b\b\b\b\b\b\b\b\b\b\b\b\b\b\b\b\b\b\b\b\b\b\b\b\b\b\b\b\b\b\b\b\b\b\b\b\b\b\b\b\b\b\b\b\b\b\b\b\b\b\b\b\b\b\b\b\b\b\b\b\b\b\b\b\b\b\b\b\b\b\b\b\b\b\b\b\b\b\b\b\b\b\b\b\b\b\b\b\b\b\b\b\b\b\b\b\b\b\b\b\b\b\b\b\b\b\b\b\b\b\b\b\b\b\b\b\b\b\b\b\b\b\b\b\b\b\b\b\b\b\b\b\b\b\b\b\b\b\b\b\b\b\b\b\b\b\b\b\b\b\b\b\b\b\b\b\b\b\b\b\b\b\b\b\b\b\b\b\b\b\b\b\b\b\b\b\b\b\b\r6/6 [==============================] - 0s 20ms/step - loss: 151.7635 - classification_loss: 0.3077 - Regression_loss: 151.4558 - classification_accuracy: 0.8353 - Regression_mae: 6.4005\n",
            "Epoch 284/300\n",
            "4/6 [===================>..........] - ETA: 0s - loss: 168.9100 - classification_loss: 0.3235 - Regression_loss: 168.5865 - classification_accuracy: 0.8281 - Regression_mae: 7.3285"
          ]
        },
        {
          "output_type": "stream",
          "name": "stderr",
          "text": [
            "2024/03/09 05:28:47 WARNING mlflow.utils.checkpoint_utils: Checkpoint logging is skipped, because checkpoint 'save_best_only' config is True, it requires to compare the monitored metric value, but the provided monitored metric value is not available.\n"
          ]
        },
        {
          "output_type": "stream",
          "name": "stdout",
          "text": [
            "\b\b\b\b\b\b\b\b\b\b\b\b\b\b\b\b\b\b\b\b\b\b\b\b\b\b\b\b\b\b\b\b\b\b\b\b\b\b\b\b\b\b\b\b\b\b\b\b\b\b\b\b\b\b\b\b\b\b\b\b\b\b\b\b\b\b\b\b\b\b\b\b\b\b\b\b\b\b\b\b\b\b\b\b\b\b\b\b\b\b\b\b\b\b\b\b\b\b\b\b\b\b\b\b\b\b\b\b\b\b\b\b\b\b\b\b\b\b\b\b\b\b\b\b\b\b\b\b\b\b\b\b\b\b\b\b\b\b\b\b\b\b\b\b\b\b\b\b\b\b\b\b\b\b\b\b\b\b\b\b\b\b\b\b\b\b\b\b\b\b\b\b\b\b\b\b\b\b\b\b\r6/6 [==============================] - 0s 18ms/step - loss: 153.3399 - classification_loss: 0.3053 - Regression_loss: 153.0346 - classification_accuracy: 0.8353 - Regression_mae: 6.7445\n",
            "Epoch 285/300\n",
            "5/6 [========================>.....] - ETA: 0s - loss: 153.4881 - classification_loss: 0.2709 - Regression_loss: 153.2172 - classification_accuracy: 0.8438 - Regression_mae: 7.1751"
          ]
        },
        {
          "output_type": "stream",
          "name": "stderr",
          "text": [
            "2024/03/09 05:28:47 WARNING mlflow.utils.checkpoint_utils: Checkpoint logging is skipped, because checkpoint 'save_best_only' config is True, it requires to compare the monitored metric value, but the provided monitored metric value is not available.\n"
          ]
        },
        {
          "output_type": "stream",
          "name": "stdout",
          "text": [
            "\b\b\b\b\b\b\b\b\b\b\b\b\b\b\b\b\b\b\b\b\b\b\b\b\b\b\b\b\b\b\b\b\b\b\b\b\b\b\b\b\b\b\b\b\b\b\b\b\b\b\b\b\b\b\b\b\b\b\b\b\b\b\b\b\b\b\b\b\b\b\b\b\b\b\b\b\b\b\b\b\b\b\b\b\b\b\b\b\b\b\b\b\b\b\b\b\b\b\b\b\b\b\b\b\b\b\b\b\b\b\b\b\b\b\b\b\b\b\b\b\b\b\b\b\b\b\b\b\b\b\b\b\b\b\b\b\b\b\b\b\b\b\b\b\b\b\b\b\b\b\b\b\b\b\b\b\b\b\b\b\b\b\b\b\b\b\b\b\b\b\b\b\b\b\b\b\b\b\b\b\r6/6 [==============================] - 0s 20ms/step - loss: 156.3551 - classification_loss: 0.2741 - Regression_loss: 156.0809 - classification_accuracy: 0.8471 - Regression_mae: 7.3006\n",
            "Epoch 286/300\n",
            "4/6 [===================>..........] - ETA: 0s - loss: 158.0119 - classification_loss: 0.2761 - Regression_loss: 157.7359 - classification_accuracy: 0.8516 - Regression_mae: 7.9374"
          ]
        },
        {
          "output_type": "stream",
          "name": "stderr",
          "text": [
            "2024/03/09 05:28:47 WARNING mlflow.utils.checkpoint_utils: Checkpoint logging is skipped, because checkpoint 'save_best_only' config is True, it requires to compare the monitored metric value, but the provided monitored metric value is not available.\n"
          ]
        },
        {
          "output_type": "stream",
          "name": "stdout",
          "text": [
            "\b\b\b\b\b\b\b\b\b\b\b\b\b\b\b\b\b\b\b\b\b\b\b\b\b\b\b\b\b\b\b\b\b\b\b\b\b\b\b\b\b\b\b\b\b\b\b\b\b\b\b\b\b\b\b\b\b\b\b\b\b\b\b\b\b\b\b\b\b\b\b\b\b\b\b\b\b\b\b\b\b\b\b\b\b\b\b\b\b\b\b\b\b\b\b\b\b\b\b\b\b\b\b\b\b\b\b\b\b\b\b\b\b\b\b\b\b\b\b\b\b\b\b\b\b\b\b\b\b\b\b\b\b\b\b\b\b\b\b\b\b\b\b\b\b\b\b\b\b\b\b\b\b\b\b\b\b\b\b\b\b\b\b\b\b\b\b\b\b\b\b\b\b\b\b\b\b\b\b\b\r6/6 [==============================] - 0s 20ms/step - loss: 159.8513 - classification_loss: 0.2893 - Regression_loss: 159.5621 - classification_accuracy: 0.8353 - Regression_mae: 7.6654\n",
            "Epoch 287/300\n",
            "4/6 [===================>..........] - ETA: 0s - loss: 177.9508 - classification_loss: 0.3169 - Regression_loss: 177.6339 - classification_accuracy: 0.8281 - Regression_mae: 8.3403"
          ]
        },
        {
          "output_type": "stream",
          "name": "stderr",
          "text": [
            "2024/03/09 05:28:47 WARNING mlflow.utils.checkpoint_utils: Checkpoint logging is skipped, because checkpoint 'save_best_only' config is True, it requires to compare the monitored metric value, but the provided monitored metric value is not available.\n"
          ]
        },
        {
          "output_type": "stream",
          "name": "stdout",
          "text": [
            "\b\b\b\b\b\b\b\b\b\b\b\b\b\b\b\b\b\b\b\b\b\b\b\b\b\b\b\b\b\b\b\b\b\b\b\b\b\b\b\b\b\b\b\b\b\b\b\b\b\b\b\b\b\b\b\b\b\b\b\b\b\b\b\b\b\b\b\b\b\b\b\b\b\b\b\b\b\b\b\b\b\b\b\b\b\b\b\b\b\b\b\b\b\b\b\b\b\b\b\b\b\b\b\b\b\b\b\b\b\b\b\b\b\b\b\b\b\b\b\b\b\b\b\b\b\b\b\b\b\b\b\b\b\b\b\b\b\b\b\b\b\b\b\b\b\b\b\b\b\b\b\b\b\b\b\b\b\b\b\b\b\b\b\b\b\b\b\b\b\b\b\b\b\b\b\b\b\b\b\b\r6/6 [==============================] - 0s 21ms/step - loss: 162.0934 - classification_loss: 0.3164 - Regression_loss: 161.7769 - classification_accuracy: 0.8235 - Regression_mae: 7.7503\n",
            "Epoch 288/300\n",
            "5/6 [========================>.....] - ETA: 0s - loss: 161.6421 - classification_loss: 0.2928 - Regression_loss: 161.3493 - classification_accuracy: 0.8313 - Regression_mae: 7.3417"
          ]
        },
        {
          "output_type": "stream",
          "name": "stderr",
          "text": [
            "2024/03/09 05:28:47 WARNING mlflow.utils.checkpoint_utils: Checkpoint logging is skipped, because checkpoint 'save_best_only' config is True, it requires to compare the monitored metric value, but the provided monitored metric value is not available.\n"
          ]
        },
        {
          "output_type": "stream",
          "name": "stdout",
          "text": [
            "\b\b\b\b\b\b\b\b\b\b\b\b\b\b\b\b\b\b\b\b\b\b\b\b\b\b\b\b\b\b\b\b\b\b\b\b\b\b\b\b\b\b\b\b\b\b\b\b\b\b\b\b\b\b\b\b\b\b\b\b\b\b\b\b\b\b\b\b\b\b\b\b\b\b\b\b\b\b\b\b\b\b\b\b\b\b\b\b\b\b\b\b\b\b\b\b\b\b\b\b\b\b\b\b\b\b\b\b\b\b\b\b\b\b\b\b\b\b\b\b\b\b\b\b\b\b\b\b\b\b\b\b\b\b\b\b\b\b\b\b\b\b\b\b\b\b\b\b\b\b\b\b\b\b\b\b\b\b\b\b\b\b\b\b\b\b\b\b\b\b\b\b\b\b\b\b\b\b\b\b\r6/6 [==============================] - 0s 19ms/step - loss: 157.6105 - classification_loss: 0.2891 - Regression_loss: 157.3214 - classification_accuracy: 0.8353 - Regression_mae: 7.2093\n",
            "Epoch 289/300\n",
            "4/6 [===================>..........] - ETA: 0s - loss: 169.6481 - classification_loss: 0.2907 - Regression_loss: 169.3575 - classification_accuracy: 0.8438 - Regression_mae: 7.2704"
          ]
        },
        {
          "output_type": "stream",
          "name": "stderr",
          "text": [
            "2024/03/09 05:28:47 WARNING mlflow.utils.checkpoint_utils: Checkpoint logging is skipped, because checkpoint 'save_best_only' config is True, it requires to compare the monitored metric value, but the provided monitored metric value is not available.\n"
          ]
        },
        {
          "output_type": "stream",
          "name": "stdout",
          "text": [
            "\b\b\b\b\b\b\b\b\b\b\b\b\b\b\b\b\b\b\b\b\b\b\b\b\b\b\b\b\b\b\b\b\b\b\b\b\b\b\b\b\b\b\b\b\b\b\b\b\b\b\b\b\b\b\b\b\b\b\b\b\b\b\b\b\b\b\b\b\b\b\b\b\b\b\b\b\b\b\b\b\b\b\b\b\b\b\b\b\b\b\b\b\b\b\b\b\b\b\b\b\b\b\b\b\b\b\b\b\b\b\b\b\b\b\b\b\b\b\b\b\b\b\b\b\b\b\b\b\b\b\b\b\b\b\b\b\b\b\b\b\b\b\b\b\b\b\b\b\b\b\b\b\b\b\b\b\b\b\b\b\b\b\b\b\b\b\b\b\b\b\b\b\b\b\b\b\b\b\b\b\r6/6 [==============================] - 0s 19ms/step - loss: 154.9072 - classification_loss: 0.2970 - Regression_loss: 154.6101 - classification_accuracy: 0.8294 - Regression_mae: 6.9435\n",
            "Epoch 290/300\n",
            "5/6 [========================>.....] - ETA: 0s - loss: 152.6756 - classification_loss: 0.2833 - Regression_loss: 152.3922 - classification_accuracy: 0.8313 - Regression_mae: 6.3942"
          ]
        },
        {
          "output_type": "stream",
          "name": "stderr",
          "text": [
            "2024/03/09 05:28:47 WARNING mlflow.utils.checkpoint_utils: Checkpoint logging is skipped, because checkpoint 'save_best_only' config is True, it requires to compare the monitored metric value, but the provided monitored metric value is not available.\n"
          ]
        },
        {
          "output_type": "stream",
          "name": "stdout",
          "text": [
            "\b\b\b\b\b\b\b\b\b\b\b\b\b\b\b\b\b\b\b\b\b\b\b\b\b\b\b\b\b\b\b\b\b\b\b\b\b\b\b\b\b\b\b\b\b\b\b\b\b\b\b\b\b\b\b\b\b\b\b\b\b\b\b\b\b\b\b\b\b\b\b\b\b\b\b\b\b\b\b\b\b\b\b\b\b\b\b\b\b\b\b\b\b\b\b\b\b\b\b\b\b\b\b\b\b\b\b\b\b\b\b\b\b\b\b\b\b\b\b\b\b\b\b\b\b\b\b\b\b\b\b\b\b\b\b\b\b\b\b\b\b\b\b\b\b\b\b\b\b\b\b\b\b\b\b\b\b\b\b\b\b\b\b\b\b\b\b\b\b\b\b\b\b\b\b\b\b\b\b\b\r6/6 [==============================] - 0s 18ms/step - loss: 152.2643 - classification_loss: 0.2937 - Regression_loss: 151.9706 - classification_accuracy: 0.8353 - Regression_mae: 6.4828\n",
            "Epoch 291/300\n",
            "4/6 [===================>..........] - ETA: 0s - loss: 134.9614 - classification_loss: 0.2651 - Regression_loss: 134.6963 - classification_accuracy: 0.8203 - Regression_mae: 5.9757"
          ]
        },
        {
          "output_type": "stream",
          "name": "stderr",
          "text": [
            "2024/03/09 05:28:48 WARNING mlflow.utils.checkpoint_utils: Checkpoint logging is skipped, because checkpoint 'save_best_only' config is True, it requires to compare the monitored metric value, but the provided monitored metric value is not available.\n"
          ]
        },
        {
          "output_type": "stream",
          "name": "stdout",
          "text": [
            "\b\b\b\b\b\b\b\b\b\b\b\b\b\b\b\b\b\b\b\b\b\b\b\b\b\b\b\b\b\b\b\b\b\b\b\b\b\b\b\b\b\b\b\b\b\b\b\b\b\b\b\b\b\b\b\b\b\b\b\b\b\b\b\b\b\b\b\b\b\b\b\b\b\b\b\b\b\b\b\b\b\b\b\b\b\b\b\b\b\b\b\b\b\b\b\b\b\b\b\b\b\b\b\b\b\b\b\b\b\b\b\b\b\b\b\b\b\b\b\b\b\b\b\b\b\b\b\b\b\b\b\b\b\b\b\b\b\b\b\b\b\b\b\b\b\b\b\b\b\b\b\b\b\b\b\b\b\b\b\b\b\b\b\b\b\b\b\b\b\b\b\b\b\b\b\b\b\b\b\b\r6/6 [==============================] - 0s 20ms/step - loss: 150.8014 - classification_loss: 0.2817 - Regression_loss: 150.5197 - classification_accuracy: 0.8176 - Regression_mae: 6.3253\n",
            "Epoch 292/300\n",
            "4/6 [===================>..........] - ETA: 0s - loss: 150.7492 - classification_loss: 0.2937 - Regression_loss: 150.4556 - classification_accuracy: 0.8516 - Regression_mae: 6.6130"
          ]
        },
        {
          "output_type": "stream",
          "name": "stderr",
          "text": [
            "2024/03/09 05:28:48 WARNING mlflow.utils.checkpoint_utils: Checkpoint logging is skipped, because checkpoint 'save_best_only' config is True, it requires to compare the monitored metric value, but the provided monitored metric value is not available.\n"
          ]
        },
        {
          "output_type": "stream",
          "name": "stdout",
          "text": [
            "\b\b\b\b\b\b\b\b\b\b\b\b\b\b\b\b\b\b\b\b\b\b\b\b\b\b\b\b\b\b\b\b\b\b\b\b\b\b\b\b\b\b\b\b\b\b\b\b\b\b\b\b\b\b\b\b\b\b\b\b\b\b\b\b\b\b\b\b\b\b\b\b\b\b\b\b\b\b\b\b\b\b\b\b\b\b\b\b\b\b\b\b\b\b\b\b\b\b\b\b\b\b\b\b\b\b\b\b\b\b\b\b\b\b\b\b\b\b\b\b\b\b\b\b\b\b\b\b\b\b\b\b\b\b\b\b\b\b\b\b\b\b\b\b\b\b\b\b\b\b\b\b\b\b\b\b\b\b\b\b\b\b\b\b\b\b\b\b\b\b\b\b\b\b\b\b\b\b\b\b\r6/6 [==============================] - 0s 19ms/step - loss: 150.0292 - classification_loss: 0.2855 - Regression_loss: 149.7437 - classification_accuracy: 0.8471 - Regression_mae: 6.3758\n",
            "Epoch 293/300\n",
            "4/6 [===================>..........] - ETA: 0s - loss: 156.3145 - classification_loss: 0.2845 - Regression_loss: 156.0299 - classification_accuracy: 0.8281 - Regression_mae: 6.4915"
          ]
        },
        {
          "output_type": "stream",
          "name": "stderr",
          "text": [
            "2024/03/09 05:28:48 WARNING mlflow.utils.checkpoint_utils: Checkpoint logging is skipped, because checkpoint 'save_best_only' config is True, it requires to compare the monitored metric value, but the provided monitored metric value is not available.\n"
          ]
        },
        {
          "output_type": "stream",
          "name": "stdout",
          "text": [
            "\b\b\b\b\b\b\b\b\b\b\b\b\b\b\b\b\b\b\b\b\b\b\b\b\b\b\b\b\b\b\b\b\b\b\b\b\b\b\b\b\b\b\b\b\b\b\b\b\b\b\b\b\b\b\b\b\b\b\b\b\b\b\b\b\b\b\b\b\b\b\b\b\b\b\b\b\b\b\b\b\b\b\b\b\b\b\b\b\b\b\b\b\b\b\b\b\b\b\b\b\b\b\b\b\b\b\b\b\b\b\b\b\b\b\b\b\b\b\b\b\b\b\b\b\b\b\b\b\b\b\b\b\b\b\b\b\b\b\b\b\b\b\b\b\b\b\b\b\b\b\b\b\b\b\b\b\b\b\b\b\b\b\b\b\b\b\b\b\b\b\b\b\b\b\b\b\b\b\b\b\r6/6 [==============================] - 0s 18ms/step - loss: 148.8571 - classification_loss: 0.2768 - Regression_loss: 148.5803 - classification_accuracy: 0.8353 - Regression_mae: 6.2715\n",
            "Epoch 294/300\n",
            "5/6 [========================>.....] - ETA: 0s - loss: 151.0322 - classification_loss: 0.2786 - Regression_loss: 150.7536 - classification_accuracy: 0.8562 - Regression_mae: 6.2556"
          ]
        },
        {
          "output_type": "stream",
          "name": "stderr",
          "text": [
            "2024/03/09 05:28:48 WARNING mlflow.utils.checkpoint_utils: Checkpoint logging is skipped, because checkpoint 'save_best_only' config is True, it requires to compare the monitored metric value, but the provided monitored metric value is not available.\n"
          ]
        },
        {
          "output_type": "stream",
          "name": "stdout",
          "text": [
            "\b\b\b\b\b\b\b\b\b\b\b\b\b\b\b\b\b\b\b\b\b\b\b\b\b\b\b\b\b\b\b\b\b\b\b\b\b\b\b\b\b\b\b\b\b\b\b\b\b\b\b\b\b\b\b\b\b\b\b\b\b\b\b\b\b\b\b\b\b\b\b\b\b\b\b\b\b\b\b\b\b\b\b\b\b\b\b\b\b\b\b\b\b\b\b\b\b\b\b\b\b\b\b\b\b\b\b\b\b\b\b\b\b\b\b\b\b\b\b\b\b\b\b\b\b\b\b\b\b\b\b\b\b\b\b\b\b\b\b\b\b\b\b\b\b\b\b\b\b\b\b\b\b\b\b\b\b\b\b\b\b\b\b\b\b\b\b\b\b\b\b\b\b\b\b\b\b\b\b\b\r6/6 [==============================] - 0s 19ms/step - loss: 150.1670 - classification_loss: 0.2772 - Regression_loss: 149.8899 - classification_accuracy: 0.8529 - Regression_mae: 6.2015\n",
            "Epoch 295/300\n",
            "5/6 [========================>.....] - ETA: 0s - loss: 153.7200 - classification_loss: 0.2911 - Regression_loss: 153.4289 - classification_accuracy: 0.8375 - Regression_mae: 6.3853"
          ]
        },
        {
          "output_type": "stream",
          "name": "stderr",
          "text": [
            "2024/03/09 05:28:48 WARNING mlflow.utils.checkpoint_utils: Checkpoint logging is skipped, because checkpoint 'save_best_only' config is True, it requires to compare the monitored metric value, but the provided monitored metric value is not available.\n"
          ]
        },
        {
          "output_type": "stream",
          "name": "stdout",
          "text": [
            "\b\b\b\b\b\b\b\b\b\b\b\b\b\b\b\b\b\b\b\b\b\b\b\b\b\b\b\b\b\b\b\b\b\b\b\b\b\b\b\b\b\b\b\b\b\b\b\b\b\b\b\b\b\b\b\b\b\b\b\b\b\b\b\b\b\b\b\b\b\b\b\b\b\b\b\b\b\b\b\b\b\b\b\b\b\b\b\b\b\b\b\b\b\b\b\b\b\b\b\b\b\b\b\b\b\b\b\b\b\b\b\b\b\b\b\b\b\b\b\b\b\b\b\b\b\b\b\b\b\b\b\b\b\b\b\b\b\b\b\b\b\b\b\b\b\b\b\b\b\b\b\b\b\b\b\b\b\b\b\b\b\b\b\b\b\b\b\b\b\b\b\b\b\b\b\b\b\b\b\b\r6/6 [==============================] - 0s 21ms/step - loss: 149.0259 - classification_loss: 0.2870 - Regression_loss: 148.7390 - classification_accuracy: 0.8412 - Regression_mae: 6.2726\n",
            "Epoch 296/300\n",
            "4/6 [===================>..........] - ETA: 0s - loss: 147.7549 - classification_loss: 0.2840 - Regression_loss: 147.4709 - classification_accuracy: 0.8438 - Regression_mae: 6.0793"
          ]
        },
        {
          "output_type": "stream",
          "name": "stderr",
          "text": [
            "2024/03/09 05:28:48 WARNING mlflow.utils.checkpoint_utils: Checkpoint logging is skipped, because checkpoint 'save_best_only' config is True, it requires to compare the monitored metric value, but the provided monitored metric value is not available.\n"
          ]
        },
        {
          "output_type": "stream",
          "name": "stdout",
          "text": [
            "\b\b\b\b\b\b\b\b\b\b\b\b\b\b\b\b\b\b\b\b\b\b\b\b\b\b\b\b\b\b\b\b\b\b\b\b\b\b\b\b\b\b\b\b\b\b\b\b\b\b\b\b\b\b\b\b\b\b\b\b\b\b\b\b\b\b\b\b\b\b\b\b\b\b\b\b\b\b\b\b\b\b\b\b\b\b\b\b\b\b\b\b\b\b\b\b\b\b\b\b\b\b\b\b\b\b\b\b\b\b\b\b\b\b\b\b\b\b\b\b\b\b\b\b\b\b\b\b\b\b\b\b\b\b\b\b\b\b\b\b\b\b\b\b\b\b\b\b\b\b\b\b\b\b\b\b\b\b\b\b\b\b\b\b\b\b\b\b\b\b\b\b\b\b\b\b\b\b\b\b\r6/6 [==============================] - 0s 19ms/step - loss: 148.3661 - classification_loss: 0.2756 - Regression_loss: 148.0905 - classification_accuracy: 0.8412 - Regression_mae: 5.8684\n",
            "Epoch 297/300\n",
            "5/6 [========================>.....] - ETA: 0s - loss: 153.2812 - classification_loss: 0.2951 - Regression_loss: 152.9861 - classification_accuracy: 0.8375 - Regression_mae: 6.1388"
          ]
        },
        {
          "output_type": "stream",
          "name": "stderr",
          "text": [
            "2024/03/09 05:28:48 WARNING mlflow.utils.checkpoint_utils: Checkpoint logging is skipped, because checkpoint 'save_best_only' config is True, it requires to compare the monitored metric value, but the provided monitored metric value is not available.\n"
          ]
        },
        {
          "output_type": "stream",
          "name": "stdout",
          "text": [
            "\b\b\b\b\b\b\b\b\b\b\b\b\b\b\b\b\b\b\b\b\b\b\b\b\b\b\b\b\b\b\b\b\b\b\b\b\b\b\b\b\b\b\b\b\b\b\b\b\b\b\b\b\b\b\b\b\b\b\b\b\b\b\b\b\b\b\b\b\b\b\b\b\b\b\b\b\b\b\b\b\b\b\b\b\b\b\b\b\b\b\b\b\b\b\b\b\b\b\b\b\b\b\b\b\b\b\b\b\b\b\b\b\b\b\b\b\b\b\b\b\b\b\b\b\b\b\b\b\b\b\b\b\b\b\b\b\b\b\b\b\b\b\b\b\b\b\b\b\b\b\b\b\b\b\b\b\b\b\b\b\b\b\b\b\b\b\b\b\b\b\b\b\b\b\b\b\b\b\b\b\r6/6 [==============================] - 0s 18ms/step - loss: 148.4062 - classification_loss: 0.2873 - Regression_loss: 148.1189 - classification_accuracy: 0.8412 - Regression_mae: 6.0306\n",
            "Epoch 298/300\n",
            "4/6 [===================>..........] - ETA: 0s - loss: 133.3287 - classification_loss: 0.2600 - Regression_loss: 133.0687 - classification_accuracy: 0.8359 - Regression_mae: 5.5903"
          ]
        },
        {
          "output_type": "stream",
          "name": "stderr",
          "text": [
            "2024/03/09 05:28:48 WARNING mlflow.utils.checkpoint_utils: Checkpoint logging is skipped, because checkpoint 'save_best_only' config is True, it requires to compare the monitored metric value, but the provided monitored metric value is not available.\n"
          ]
        },
        {
          "output_type": "stream",
          "name": "stdout",
          "text": [
            "\b\b\b\b\b\b\b\b\b\b\b\b\b\b\b\b\b\b\b\b\b\b\b\b\b\b\b\b\b\b\b\b\b\b\b\b\b\b\b\b\b\b\b\b\b\b\b\b\b\b\b\b\b\b\b\b\b\b\b\b\b\b\b\b\b\b\b\b\b\b\b\b\b\b\b\b\b\b\b\b\b\b\b\b\b\b\b\b\b\b\b\b\b\b\b\b\b\b\b\b\b\b\b\b\b\b\b\b\b\b\b\b\b\b\b\b\b\b\b\b\b\b\b\b\b\b\b\b\b\b\b\b\b\b\b\b\b\b\b\b\b\b\b\b\b\b\b\b\b\b\b\b\b\b\b\b\b\b\b\b\b\b\b\b\b\b\b\b\b\b\b\b\b\b\b\b\b\b\b\b\r6/6 [==============================] - 0s 19ms/step - loss: 148.8775 - classification_loss: 0.2778 - Regression_loss: 148.5996 - classification_accuracy: 0.8353 - Regression_mae: 6.0331\n",
            "Epoch 299/300\n",
            "4/6 [===================>..........] - ETA: 0s - loss: 136.8545 - classification_loss: 0.2849 - Regression_loss: 136.5695 - classification_accuracy: 0.8281 - Regression_mae: 5.7811"
          ]
        },
        {
          "output_type": "stream",
          "name": "stderr",
          "text": [
            "2024/03/09 05:28:49 WARNING mlflow.utils.checkpoint_utils: Checkpoint logging is skipped, because checkpoint 'save_best_only' config is True, it requires to compare the monitored metric value, but the provided monitored metric value is not available.\n"
          ]
        },
        {
          "output_type": "stream",
          "name": "stdout",
          "text": [
            "\b\b\b\b\b\b\b\b\b\b\b\b\b\b\b\b\b\b\b\b\b\b\b\b\b\b\b\b\b\b\b\b\b\b\b\b\b\b\b\b\b\b\b\b\b\b\b\b\b\b\b\b\b\b\b\b\b\b\b\b\b\b\b\b\b\b\b\b\b\b\b\b\b\b\b\b\b\b\b\b\b\b\b\b\b\b\b\b\b\b\b\b\b\b\b\b\b\b\b\b\b\b\b\b\b\b\b\b\b\b\b\b\b\b\b\b\b\b\b\b\b\b\b\b\b\b\b\b\b\b\b\b\b\b\b\b\b\b\b\b\b\b\b\b\b\b\b\b\b\b\b\b\b\b\b\b\b\b\b\b\b\b\b\b\b\b\b\b\b\b\b\b\b\b\b\b\b\b\b\b\r6/6 [==============================] - 0s 20ms/step - loss: 147.6058 - classification_loss: 0.2995 - Regression_loss: 147.3063 - classification_accuracy: 0.8294 - Regression_mae: 5.9373\n",
            "Epoch 300/300\n",
            "4/6 [===================>..........] - ETA: 0s - loss: 145.2716 - classification_loss: 0.2898 - Regression_loss: 144.9819 - classification_accuracy: 0.8125 - Regression_mae: 6.0803"
          ]
        },
        {
          "output_type": "stream",
          "name": "stderr",
          "text": [
            "2024/03/09 05:28:49 WARNING mlflow.utils.checkpoint_utils: Checkpoint logging is skipped, because checkpoint 'save_best_only' config is True, it requires to compare the monitored metric value, but the provided monitored metric value is not available.\n"
          ]
        },
        {
          "output_type": "stream",
          "name": "stdout",
          "text": [
            "6/6 [==============================] - 0s 18ms/step - loss: 150.9142 - classification_loss: 0.2835 - Regression_loss: 150.6308 - classification_accuracy: 0.8235 - Regression_mae: 6.2381\n",
            "1/1 [==============================] - 1s 538ms/step\n"
          ]
        },
        {
          "output_type": "stream",
          "name": "stderr",
          "text": [
            "2024/03/09 05:30:19 WARNING mlflow.models.model: Logging model metadata to the tracking server has failed. The model artifacts have been logged successfully under mlflow-artifacts:/c35d186ea07a4bc78e4e332912bd338b/5c113e331f324955bb862bfe82fdb391/artifacts. Set logging level to DEBUG via `logging.getLogger(\"mlflow\").setLevel(logging.DEBUG)` to see the full traceback.\n"
          ]
        }
      ]
    },
    {
      "cell_type": "code",
      "source": [
        "!git init"
      ],
      "metadata": {
        "id": "FIyf_uK-WCTm",
        "colab": {
          "base_uri": "https://localhost:8080/"
        },
        "outputId": "8f7792d5-1f88-46f2-947e-a7ba73c972ff"
      },
      "execution_count": 61,
      "outputs": [
        {
          "output_type": "stream",
          "name": "stdout",
          "text": [
            "\u001b[33mhint: Using 'master' as the name for the initial branch. This default branch name\u001b[m\n",
            "\u001b[33mhint: is subject to change. To configure the initial branch name to use in all\u001b[m\n",
            "\u001b[33mhint: of your new repositories, which will suppress this warning, call:\u001b[m\n",
            "\u001b[33mhint: \u001b[m\n",
            "\u001b[33mhint: \tgit config --global init.defaultBranch <name>\u001b[m\n",
            "\u001b[33mhint: \u001b[m\n",
            "\u001b[33mhint: Names commonly chosen instead of 'master' are 'main', 'trunk' and\u001b[m\n",
            "\u001b[33mhint: 'development'. The just-created branch can be renamed via this command:\u001b[m\n",
            "\u001b[33mhint: \u001b[m\n",
            "\u001b[33mhint: \tgit branch -m <name>\u001b[m\n",
            "Initialized empty Git repository in /content/.git/\n"
          ]
        }
      ]
    },
    {
      "cell_type": "code",
      "source": [
        "!git status"
      ],
      "metadata": {
        "colab": {
          "base_uri": "https://localhost:8080/"
        },
        "id": "79b1T7ePhSMq",
        "outputId": "0791bcfb-d3b1-4c87-9160-e8f3921ab570"
      },
      "execution_count": 62,
      "outputs": [
        {
          "output_type": "stream",
          "name": "stdout",
          "text": [
            "On branch master\n",
            "\n",
            "No commits yet\n",
            "\n",
            "Untracked files:\n",
            "  (use \"git add <file>...\" to include in what will be committed)\n",
            "\t\u001b[31m.config/\u001b[m\n",
            "\t\u001b[31mMicrocontroller Detection/\u001b[m\n",
            "\t\u001b[31mkaggle.json\u001b[m\n",
            "\t\u001b[31mmicrocontroller-detection.zip\u001b[m\n",
            "\t\u001b[31mmlruns/\u001b[m\n",
            "\t\u001b[31mmodel.png\u001b[m\n",
            "\t\u001b[31msample_data/\u001b[m\n",
            "\n",
            "nothing added to commit but untracked files present (use \"git add\" to track)\n"
          ]
        }
      ]
    },
    {
      "cell_type": "code",
      "source": [
        "!git remote"
      ],
      "metadata": {
        "id": "8Pg-ezjLhUsf"
      },
      "execution_count": 63,
      "outputs": []
    },
    {
      "cell_type": "code",
      "source": [
        "!git remote add origin https://github.com/naimurborno/Microcontroller-detection.git"
      ],
      "metadata": {
        "id": "ka7fhzlChjY7"
      },
      "execution_count": 64,
      "outputs": []
    },
    {
      "cell_type": "code",
      "source": [
        "! git remote"
      ],
      "metadata": {
        "colab": {
          "base_uri": "https://localhost:8080/"
        },
        "id": "IMiRancghtK5",
        "outputId": "7d58f66e-07f7-461f-9a87-9433bc2a86bc"
      },
      "execution_count": 65,
      "outputs": [
        {
          "output_type": "stream",
          "name": "stdout",
          "text": [
            "origin\n"
          ]
        }
      ]
    },
    {
      "cell_type": "code",
      "source": [
        "!git status"
      ],
      "metadata": {
        "colab": {
          "base_uri": "https://localhost:8080/"
        },
        "id": "Aj8PAnyFhvV1",
        "outputId": "66498c4f-d67f-45a4-bcd1-cca80f319022"
      },
      "execution_count": 82,
      "outputs": [
        {
          "output_type": "stream",
          "name": "stdout",
          "text": [
            "On branch master\n",
            "\n",
            "No commits yet\n",
            "\n",
            "Untracked files:\n",
            "  (use \"git add <file>...\" to include in what will be committed)\n",
            "\t\u001b[31m.config/\u001b[m\n",
            "\t\u001b[31mMicrocontroller Detection/\u001b[m\n",
            "\t\u001b[31mkaggle.json\u001b[m\n",
            "\t\u001b[31mmicrocontroller-detection.zip\u001b[m\n",
            "\t\u001b[31mmlruns/\u001b[m\n",
            "\t\u001b[31mmodel.png\u001b[m\n",
            "\t\u001b[31msample_data/\u001b[m\n",
            "\n",
            "nothing added to commit but untracked files present (use \"git add\" to track)\n"
          ]
        }
      ]
    },
    {
      "cell_type": "code",
      "source": [
        "!pip list > requirements.txt"
      ],
      "metadata": {
        "id": "vNcKWk-Zhx5b"
      },
      "execution_count": 84,
      "outputs": []
    },
    {
      "cell_type": "code",
      "source": [
        "!git add requirements.txt"
      ],
      "metadata": {
        "id": "0YzExmEtpkyG"
      },
      "execution_count": 85,
      "outputs": []
    },
    {
      "cell_type": "code",
      "source": [
        "!git status\n"
      ],
      "metadata": {
        "colab": {
          "base_uri": "https://localhost:8080/"
        },
        "id": "17Hq8aD4qbPT",
        "outputId": "17949389-3986-4eb3-acb3-58b9252b87ad"
      },
      "execution_count": 86,
      "outputs": [
        {
          "output_type": "stream",
          "name": "stdout",
          "text": [
            "On branch master\n",
            "\n",
            "No commits yet\n",
            "\n",
            "Changes to be committed:\n",
            "  (use \"git rm --cached <file>...\" to unstage)\n",
            "\t\u001b[32mnew file:   requirements.txt\u001b[m\n",
            "\n",
            "Untracked files:\n",
            "  (use \"git add <file>...\" to include in what will be committed)\n",
            "\t\u001b[31m.config/\u001b[m\n",
            "\t\u001b[31mMicrocontroller Detection/\u001b[m\n",
            "\t\u001b[31mkaggle.json\u001b[m\n",
            "\t\u001b[31mmicrocontroller-detection.zip\u001b[m\n",
            "\t\u001b[31mmlruns/\u001b[m\n",
            "\t\u001b[31mmodel.png\u001b[m\n",
            "\t\u001b[31msample_data/\u001b[m\n",
            "\n"
          ]
        }
      ]
    },
    {
      "cell_type": "code",
      "source": [
        "!git config --global user.email \"naimurborno@gmail.com\"\n",
        "!git config --global user.name \"naimur asif borno\""
      ],
      "metadata": {
        "id": "1RRCUWwbqkIE"
      },
      "execution_count": 88,
      "outputs": []
    },
    {
      "cell_type": "code",
      "source": [
        "!git commit -m \"requirements.txt files included\""
      ],
      "metadata": {
        "colab": {
          "base_uri": "https://localhost:8080/"
        },
        "id": "jZVKKGtOqci8",
        "outputId": "538616b6-8486-4acd-ebef-a9fc63e43267"
      },
      "execution_count": 89,
      "outputs": [
        {
          "output_type": "stream",
          "name": "stdout",
          "text": [
            "[master (root-commit) 5260470] requirements.txt files included\n",
            " 1 file changed, 495 insertions(+)\n",
            " create mode 100644 requirements.txt\n"
          ]
        }
      ]
    },
    {
      "cell_type": "code",
      "source": [
        "!git push -u origin main"
      ],
      "metadata": {
        "colab": {
          "base_uri": "https://localhost:8080/"
        },
        "id": "AHVEjO2mqiCF",
        "outputId": "34ec3296-5759-476b-bab8-08bc8d296233"
      },
      "execution_count": 91,
      "outputs": [
        {
          "output_type": "stream",
          "name": "stdout",
          "text": [
            "error: src refspec main does not match any\n",
            "\u001b[31merror: failed to push some refs to 'https://github.com/naimurborno/Microcontroller-detection.git'\n",
            "\u001b[m"
          ]
        }
      ]
    },
    {
      "cell_type": "code",
      "source": [
        "from google.colab import drive\n",
        "drive.mount('/content/drive')"
      ],
      "metadata": {
        "colab": {
          "base_uri": "https://localhost:8080/"
        },
        "id": "KpnOqENZrRSA",
        "outputId": "875d9ecb-5caa-4e02-cd03-48795d481a54"
      },
      "execution_count": 92,
      "outputs": [
        {
          "output_type": "stream",
          "name": "stdout",
          "text": [
            "Mounted at /content/drive\n"
          ]
        }
      ]
    },
    {
      "cell_type": "code",
      "source": [
        "os.makedirs(\"/content/drive/MyDrive/Model\")"
      ],
      "metadata": {
        "id": "FdzE-cmftgIA"
      },
      "execution_count": 100,
      "outputs": []
    },
    {
      "cell_type": "code",
      "source": [
        "tf.keras.models.save_model(model1,\"/content/drive/MyDrive/Model\")"
      ],
      "metadata": {
        "id": "L9oJC2Qpqy8X"
      },
      "execution_count": 101,
      "outputs": []
    },
    {
      "cell_type": "code",
      "source": [
        "model1.save(\"/content/drive/MyDrive/Model\")"
      ],
      "metadata": {
        "id": "fN97KVNTtOuI"
      },
      "execution_count": 102,
      "outputs": []
    },
    {
      "cell_type": "code",
      "source": [
        "model1.save(\"/content/model.h5\")"
      ],
      "metadata": {
        "colab": {
          "base_uri": "https://localhost:8080/"
        },
        "id": "mGWREVusuc93",
        "outputId": "626e8f68-09e9-4a66-8d37-4eda6be8042f"
      },
      "execution_count": 104,
      "outputs": [
        {
          "output_type": "stream",
          "name": "stderr",
          "text": [
            "/usr/local/lib/python3.10/dist-packages/keras/src/engine/training.py:3103: UserWarning: You are saving your model as an HDF5 file via `model.save()`. This file format is considered legacy. We recommend using instead the native Keras format, e.g. `model.save('my_model.keras')`.\n",
            "  saving_api.save_model(\n"
          ]
        }
      ]
    },
    {
      "cell_type": "code",
      "source": [],
      "metadata": {
        "id": "2GzSLE4eurKy"
      },
      "execution_count": null,
      "outputs": []
    }
  ]
}